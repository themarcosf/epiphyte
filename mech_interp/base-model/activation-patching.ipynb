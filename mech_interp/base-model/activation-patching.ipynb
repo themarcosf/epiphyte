{
 "cells": [
  {
   "cell_type": "code",
   "execution_count": 1,
   "id": "320a47c4",
   "metadata": {},
   "outputs": [],
   "source": [
    "import warnings\n",
    "warnings.filterwarnings('ignore')\n",
    "\n",
    "import os\n",
    "os.chdir('..')"
   ]
  },
  {
   "cell_type": "code",
   "execution_count": null,
   "id": "86c10e4c",
   "metadata": {},
   "outputs": [],
   "source": [
    "import os\n",
    "\n",
    "import circuitsvis as cv\n",
    "import numpy as np\n",
    "import torch\n",
    "from IPython.display import HTML\n",
    "from transformer_lens import HookedTransformer, patching, utils\n",
    "\n",
    "from plotly_utils import imshow"
   ]
  },
  {
   "cell_type": "code",
   "execution_count": 3,
   "id": "f77c681f",
   "metadata": {},
   "outputs": [
    {
     "name": "stdout",
     "output_type": "stream",
     "text": [
      "Changed working directory to parent directory\n",
      "Hugging Face token loaded: hf_...\n",
      "Using device: mps\n"
     ]
    }
   ],
   "source": [
    "os.chdir('..')\n",
    "print('Changed working directory to parent directory')\n",
    "\n",
    "with open(os.path.expanduser('~/.huggingface/token')) as f:\n",
    "    os.environ['HF_TOKEN'] = f.read().strip()\n",
    "    print(f'Hugging Face token loaded: {os.environ['HF_TOKEN'][:3]}...')\n",
    "\n",
    "torch.set_grad_enabled(False)\n",
    "\n",
    "if hasattr(torch.backends, 'mps') and torch.backends.mps.is_available():\n",
    "    device = torch.device('mps')\n",
    "else:\n",
    "    device = torch.device('cuda' if torch.cuda.is_available() else 'cpu')\n",
    "print(f'Using device: {device}')"
   ]
  },
  {
   "cell_type": "code",
   "execution_count": 4,
   "id": "8a26a501",
   "metadata": {},
   "outputs": [
    {
     "name": "stdout",
     "output_type": "stream",
     "text": [
      "Loaded pretrained model gpt2-small into HookedTransformer\n"
     ]
    }
   ],
   "source": [
    "model = HookedTransformer.from_pretrained(\n",
    "    'gpt2-small',\n",
    "    center_unembed=True,\n",
    "    center_writing_weights=True,\n",
    "    fold_ln=True,\n",
    "    refactor_factored_attn_matrices=True,\n",
    "    device=device,\n",
    ")"
   ]
  },
  {
   "cell_type": "code",
   "execution_count": 5,
   "id": "4c99cbc5",
   "metadata": {},
   "outputs": [],
   "source": [
    "prompt_format = [\n",
    "    'When John and Mary went to the shops, {} gave the bag to',\n",
    "    'When Tom and James went to the park, {} gave the ball to',\n",
    "    'When Dan and Sid went to the shops, {} gave an apple to',\n",
    "    'After Martin and Amy went to the park, {} gave a drink to',\n",
    "]"
   ]
  },
  {
   "cell_type": "code",
   "execution_count": 6,
   "id": "725f1ac8",
   "metadata": {},
   "outputs": [],
   "source": [
    "name_pairs = [\n",
    "    (' Mary', ' John'),\n",
    "    (' Tom', ' James'),\n",
    "    (' Dan', ' Sid'),\n",
    "    (' Martin', ' Amy'),\n",
    "]\n",
    "\n",
    "prompts = [prompt.format(name) for (prompt, names) in zip(prompt_format, name_pairs) for name in names[::-1]]\n",
    "answers = [names[::i] for names in name_pairs for i in (1, -1)]\n",
    "answer_tokens = torch.concat([model.to_tokens(names, prepend_bos=False).T for names in answers])"
   ]
  },
  {
   "cell_type": "code",
   "execution_count": 7,
   "id": "5e71d3c8",
   "metadata": {},
   "outputs": [],
   "source": [
    "tokens = model.to_tokens(prompts, prepend_bos=True)\n",
    "tokens = tokens.to(device)"
   ]
  },
  {
   "cell_type": "code",
   "execution_count": 8,
   "id": "7b93b25d",
   "metadata": {},
   "outputs": [],
   "source": [
    "def logits_to_ave_logit_diff(\n",
    "    logits,\n",
    "    answer_tokens = answer_tokens,\n",
    "    per_prompt = False,\n",
    "):\n",
    "    final_logits = logits[:, -1, :]\n",
    "    answer_logits = final_logits.gather(dim=-1, index=answer_tokens)\n",
    "    correct_logits, incorrect_logits = answer_logits.unbind(dim=-1)\n",
    "    answer_logit_diff = correct_logits - incorrect_logits\n",
    "    return answer_logit_diff if per_prompt else answer_logit_diff.mean()"
   ]
  },
  {
   "cell_type": "markdown",
   "id": "64e0f020",
   "metadata": {},
   "source": [
    "# 1. Introduction\n",
    "\n",
    "The setup of activation patching is to take two runs of the model on two different inputs, the clean run and the corrupted run. The clean run outputs the correct answer and the corrupted run does not. The key idea is that we give the model the corrupted input, but then intervene on a specific activation and patch in the corresponding activation from the clean run (i.e., replace the corrupted activation with the clean activation), and then continue the run. And we then measure how much the output has updated towards the correct answer.\n",
    "\n",
    "We can then iterate over many possible activations and look at how much they affect the corrupted run. If patching in an activation significantly increases the probability of the correct answer, this allows us to localise which activations matter.\n",
    "\n",
    "The ability to localise is a key move in mechanistic interpretability - if the computation is diffuse and spread across the entire model, it is likely much harder to form a clean mechanistic story for what's going on. But if we can identify precisely which parts of the model matter, we can then zoom in and determine what they represent and how they connect up with each other, and ultimately reverse engineer the underlying circuit that they represent.\n",
    "\n",
    "One natural thing to patch in is the residual stream at a specific layer and specific position. For example, the model is likely initially doing some processing on the initial tokens and only after using attention to move that information to the end token. So patching in the residual stream at the end token will likely matter a lot in later layers but not at all in early layers.\n",
    "\n",
    "### 1.1. Noising vs. denoising\n",
    "\n",
    "We might call this algorithm a type of noising, since we're running the model on a clean input and adding noise by patching in from the corrupted input. We can also consider the opposite algorithm, denoising, where we run the model on a corrupted input and remove noise by patching in from the clean input.\n",
    "\n",
    "When would you use noising vs denoising? It depends on your goals. The results of denoising are much stronger, because showing that a component or set of components is sufficient for a task is a big deal. On the other hand, the complexity of transformers and interdependence of components means that noising a model can have unpredictable consequences. If loss goes up when we ablate a component, it doesn't necessarily mean that this component was necessary for the task. As an example, ablating `MLP0` in **gpt2-small** seems to make performance much worse on basically any task, but only because it acts as a kind of extended embedding. In fact, it's not doing anything important which is specfic for the IOI task.\n",
    "\n",
    "Here our clean input will be the original sentences (e.g. `\"When Mary and John went to the store, John gave a drink to\"`) and our corrupted input will have the subject token flipped (e.g. `\"When Mary and John went to the store, Mary gave a drink to\"`). Patching by replacing corrupted residual stream values with clean values is a causal intervention which will allow us to understand precisely which parts of the network are identifying the indirect object. If a component is sufficient to recover performance, rather than necessary, then patching in (replacing that component's corrupted output with its clean output) will reverse the signal that this component produces, hence making performance much better.\n",
    "\n",
    "On this note, we could instead have our corrupted sentence be `\"When John and Mary went to the store, Mary gave a drink to\"` (i.e. flip all 3 occurrences of names in the sentence). We don't do this here, because the model could point to the indirect object `Mary` in two different ways:\n",
    "1. via **token information**, i.e. the model has learned that `Mary` is the indirect object, and\n",
    "2. via **position information**, i.e. the model has learned that the indirect object is the fourth token in the sentence.\n",
    "\n",
    "If we patch in the clean value for `Mary` from the original sentence, we will be patching in the token information, but not the position information. This means that the model will still have to rely on position information to identify `Mary` as the indirect object, which is not what we want. We want to patch in both token and position information, so we only flip the subject token.\n",
    "\n",
    "# 2. Defining a metric\n",
    "\n",
    "Using as a metric a linear function of the logit difference between the correct answer and the incorrect answer allows the measurement of how much the model's output has changed towards the correct answer after patching. Therefore:\n",
    "\n",
    "- a value of zero means no change (from the performance on the corrupted prompt)\n",
    "- a value of one means clean performance has been completely recovered\n",
    "\n",
    "This is because we're performing a **denoising algorithm**; we're looking for activations which are sufficient for recovering a model's performance (i.e. activations which have enough information to recover the correct answer from the corrupted input). Our \"null hypothesis\" is that the component isn't sufficient, and so patching it by replacing corrupted with clean values doesn't recover any performance."
   ]
  },
  {
   "cell_type": "code",
   "execution_count": 9,
   "id": "fb8de97e",
   "metadata": {},
   "outputs": [
    {
     "name": "stdout",
     "output_type": "stream",
     "text": [
      "Clean string 0:     <|endoftext|>When John and Mary went to the shops,  John gave the bag to \n",
      "Corrupted string 0: <|endoftext|>When John and Mary went to the shops,  Mary gave the bag to\n",
      "Clean logit diff: 2.7098\n",
      "Corrupted logit diff: -2.7098\n"
     ]
    }
   ],
   "source": [
    "clean_tokens = tokens\n",
    "\n",
    "# wwap each adjacent pair to get corrupted tokens\n",
    "indices = [i + 1 if i % 2 == 0 else i - 1 for i in range(len(tokens))]\n",
    "corrupted_tokens = clean_tokens[indices]\n",
    "\n",
    "print(\n",
    "    \"Clean string 0:    \",\n",
    "    model.to_string(clean_tokens[0]),\n",
    "    \"\\nCorrupted string 0:\",\n",
    "    model.to_string(corrupted_tokens[0]),\n",
    ")\n",
    "\n",
    "clean_logits, clean_cache = model.run_with_cache(clean_tokens)\n",
    "corrupted_logits, corrupted_cache = model.run_with_cache(corrupted_tokens)\n",
    "\n",
    "clean_logit_diff = logits_to_ave_logit_diff(clean_logits, answer_tokens)\n",
    "print(f\"Clean logit diff: {clean_logit_diff:.4f}\")\n",
    "\n",
    "corrupted_logit_diff = logits_to_ave_logit_diff(corrupted_logits, answer_tokens)\n",
    "print(f\"Corrupted logit diff: {corrupted_logit_diff:.4f}\")"
   ]
  },
  {
   "cell_type": "code",
   "execution_count": 10,
   "id": "5292423b",
   "metadata": {},
   "outputs": [],
   "source": [
    "def ioi_metric(\n",
    "    logits,\n",
    "    answer_tokens = answer_tokens,\n",
    "    corrupted_logit_diff: float = corrupted_logit_diff,\n",
    "    clean_logit_diff: float = clean_logit_diff,\n",
    "):\n",
    "    patched_logit_diff = logits_to_ave_logit_diff(logits, answer_tokens)\n",
    "    return (patched_logit_diff - corrupted_logit_diff) / (clean_logit_diff - corrupted_logit_diff)\n",
    "\n",
    "torch.testing.assert_close(ioi_metric(clean_logits).item(), 1.0)\n",
    "torch.testing.assert_close(ioi_metric(corrupted_logits).item(), 0.0)\n",
    "torch.testing.assert_close(ioi_metric((clean_logits + corrupted_logits) / 2).item(), 0.5)"
   ]
  },
  {
   "cell_type": "markdown",
   "id": "00d9ec87",
   "metadata": {},
   "source": [
    "# 3. Residual stream patching\n",
    "\n",
    "Patch in the residual stream at the start of each layer and for each token position. Tokens and their indexes from the first prompt are on the x-axis. In an abuse of notation, the difference is averaged over all 8 prompts, while the labels only come from the first prompt.\n",
    "\n",
    "It is striking that the computation is highly localized - the relevant information for choosing the correct indirect object over the subject is initially stored in the second subject token and then moved to END token without taking any detours. The model is basically done after layer 8, and the rest of the layers actually slightly impede performance on this particular task."
   ]
  },
  {
   "cell_type": "code",
   "execution_count": 11,
   "id": "e9eef3cc",
   "metadata": {},
   "outputs": [
    {
     "name": "stderr",
     "output_type": "stream",
     "text": [
      "  0%|          | 0/192 [00:00<?, ?it/s]huggingface/tokenizers: The current process just got forked, after parallelism has already been used. Disabling parallelism to avoid deadlocks...\n",
      "To disable this warning, you can either:\n",
      "\t- Avoid using `tokenizers` before the fork if possible\n",
      "\t- Explicitly set the environment variable TOKENIZERS_PARALLELISM=(true | false)\n",
      "100%|██████████| 192/192 [00:11<00:00, 17.39it/s]\n"
     ]
    },
    {
     "data": {
      "application/vnd.plotly.v1+json": {
       "config": {
        "plotlyServerURL": "https://plot.ly",
        "staticPlot": false
       },
       "data": [
        {
         "coloraxis": "coloraxis",
         "hovertemplate": "Position: %{x}<br>Layer: %{y}<br>color: %{z}<extra></extra>",
         "name": "0",
         "type": "heatmap",
         "x": [
          "<|endoftext|> 0",
          "When 1",
          " John 2",
          " and 3",
          " Mary 4",
          " went 5",
          " to 6",
          " the 7",
          " shops 8",
          ", 9",
          "  10",
          " John 11",
          " gave 12",
          " the 13",
          " bag 14",
          " to 15"
         ],
         "xaxis": "x",
         "yaxis": "y",
         "z": {
          "bdata": "AAAAAAAAAAAAAAAAAAAAAAAAAAAAAAAAAAAAAAAAAAAAAAAAAAAAAAAAAAAAAIA/AAAAAAAAAAAAAAAAAAAAAAAAAAAAAAAAAAAAAAAAAAAAAAAAAAAAAAAAAAAAAAAAAAAAAAAAAAAAAAAAeyeAPz2eo7kLh6C3nG5Xuv+JJ7gAAAAAAAAAAAAAAAAAAAAAAAAAAAAAAAAAAAAAAAAAAAAAAAAAAAAAAAAAAK82gD8b5T84GY9zt52RU7rXcnG6AAAAAAAAAAAAAAAAAAAAAAAAAAAAAAAAAAAAAAAAAAAAAAAAAAAAAAAAAAASA4A/oammOq2WWTonS5+6w5yjugAAAAAAAAAAAAAAAAAAAAAAAAAAAAAAAAAAAAAAAAAAAAAAAAAAAAAAAAAAiUx+P0Dv5ztYYhQ7nW5eugEzGrsAAAAAAAAAAAAAAAAAAAAAAAAAAAAAAAAAAAAAAAAAAAAAAAAAAAAAAAAAAD13cz/MckI9VqddO0lk7Lorv1+6AAAAAAAAAAAAAAAAAAAAAAAAAAAAAAAAAAAAAAAAAAAAAAAAAAAAAAAAAADmUnM/ra8+PekbETsA/lK6edjhOQAAAAAAAAAAAAAAAAAAAAAAAAAAAAAAAAAAAAAAAAAAAAAAAAAAAAAAAAAA9uNnPyz8kD0lEOU7ojWJOqvIRDwAAAAAAAAAAAAAAAAAAAAAAAAAAAAAAAAAAAAAAAAAAAAAAAAAAAAAAAAAAIqoJj9qPf48m8teO5UzejnqhKI+AAAAAAAAAAAAAAAAAAAAAAAAAAAAAAAAAAAAAAAAAAAAAAAAAAAAAAAAAAAqQzY9wNoOPaf/Dju8J606CGVqPwAAAAAAAAAAAAAAAAAAAAAAAAAAAAAAAAAAAAAAAAAAAAAAAAAAAAAAAAAAYqpJvOoTtTxdiag6aDTYORgNfT8AAAAAAAAAAAAAAAAAAAAAAAAAAAAAAAAAAAAAAAAAAAAAAAAAAAAAAAAAAOC9MDpcUmM8fBsNOv1uh7hzQXw/",
          "dtype": "f4",
          "shape": "12, 16"
         }
        }
       ],
       "layout": {
        "coloraxis": {
         "cmid": 0,
         "colorscale": [
          [
           0,
           "rgb(103,0,31)"
          ],
          [
           0.1,
           "rgb(178,24,43)"
          ],
          [
           0.2,
           "rgb(214,96,77)"
          ],
          [
           0.3,
           "rgb(244,165,130)"
          ],
          [
           0.4,
           "rgb(253,219,199)"
          ],
          [
           0.5,
           "rgb(247,247,247)"
          ],
          [
           0.6,
           "rgb(209,229,240)"
          ],
          [
           0.7,
           "rgb(146,197,222)"
          ],
          [
           0.8,
           "rgb(67,147,195)"
          ],
          [
           0.9,
           "rgb(33,102,172)"
          ],
          [
           1,
           "rgb(5,48,97)"
          ]
         ]
        },
        "template": {
         "data": {
          "bar": [
           {
            "error_x": {
             "color": "#2a3f5f"
            },
            "error_y": {
             "color": "#2a3f5f"
            },
            "marker": {
             "line": {
              "color": "#E5ECF6",
              "width": 0.5
             },
             "pattern": {
              "fillmode": "overlay",
              "size": 10,
              "solidity": 0.2
             }
            },
            "type": "bar"
           }
          ],
          "barpolar": [
           {
            "marker": {
             "line": {
              "color": "#E5ECF6",
              "width": 0.5
             },
             "pattern": {
              "fillmode": "overlay",
              "size": 10,
              "solidity": 0.2
             }
            },
            "type": "barpolar"
           }
          ],
          "carpet": [
           {
            "aaxis": {
             "endlinecolor": "#2a3f5f",
             "gridcolor": "white",
             "linecolor": "white",
             "minorgridcolor": "white",
             "startlinecolor": "#2a3f5f"
            },
            "baxis": {
             "endlinecolor": "#2a3f5f",
             "gridcolor": "white",
             "linecolor": "white",
             "minorgridcolor": "white",
             "startlinecolor": "#2a3f5f"
            },
            "type": "carpet"
           }
          ],
          "choropleth": [
           {
            "colorbar": {
             "outlinewidth": 0,
             "ticks": ""
            },
            "type": "choropleth"
           }
          ],
          "contour": [
           {
            "colorbar": {
             "outlinewidth": 0,
             "ticks": ""
            },
            "colorscale": [
             [
              0,
              "#0d0887"
             ],
             [
              0.1111111111111111,
              "#46039f"
             ],
             [
              0.2222222222222222,
              "#7201a8"
             ],
             [
              0.3333333333333333,
              "#9c179e"
             ],
             [
              0.4444444444444444,
              "#bd3786"
             ],
             [
              0.5555555555555556,
              "#d8576b"
             ],
             [
              0.6666666666666666,
              "#ed7953"
             ],
             [
              0.7777777777777778,
              "#fb9f3a"
             ],
             [
              0.8888888888888888,
              "#fdca26"
             ],
             [
              1,
              "#f0f921"
             ]
            ],
            "type": "contour"
           }
          ],
          "contourcarpet": [
           {
            "colorbar": {
             "outlinewidth": 0,
             "ticks": ""
            },
            "type": "contourcarpet"
           }
          ],
          "heatmap": [
           {
            "colorbar": {
             "outlinewidth": 0,
             "ticks": ""
            },
            "colorscale": [
             [
              0,
              "#0d0887"
             ],
             [
              0.1111111111111111,
              "#46039f"
             ],
             [
              0.2222222222222222,
              "#7201a8"
             ],
             [
              0.3333333333333333,
              "#9c179e"
             ],
             [
              0.4444444444444444,
              "#bd3786"
             ],
             [
              0.5555555555555556,
              "#d8576b"
             ],
             [
              0.6666666666666666,
              "#ed7953"
             ],
             [
              0.7777777777777778,
              "#fb9f3a"
             ],
             [
              0.8888888888888888,
              "#fdca26"
             ],
             [
              1,
              "#f0f921"
             ]
            ],
            "type": "heatmap"
           }
          ],
          "histogram": [
           {
            "marker": {
             "pattern": {
              "fillmode": "overlay",
              "size": 10,
              "solidity": 0.2
             }
            },
            "type": "histogram"
           }
          ],
          "histogram2d": [
           {
            "colorbar": {
             "outlinewidth": 0,
             "ticks": ""
            },
            "colorscale": [
             [
              0,
              "#0d0887"
             ],
             [
              0.1111111111111111,
              "#46039f"
             ],
             [
              0.2222222222222222,
              "#7201a8"
             ],
             [
              0.3333333333333333,
              "#9c179e"
             ],
             [
              0.4444444444444444,
              "#bd3786"
             ],
             [
              0.5555555555555556,
              "#d8576b"
             ],
             [
              0.6666666666666666,
              "#ed7953"
             ],
             [
              0.7777777777777778,
              "#fb9f3a"
             ],
             [
              0.8888888888888888,
              "#fdca26"
             ],
             [
              1,
              "#f0f921"
             ]
            ],
            "type": "histogram2d"
           }
          ],
          "histogram2dcontour": [
           {
            "colorbar": {
             "outlinewidth": 0,
             "ticks": ""
            },
            "colorscale": [
             [
              0,
              "#0d0887"
             ],
             [
              0.1111111111111111,
              "#46039f"
             ],
             [
              0.2222222222222222,
              "#7201a8"
             ],
             [
              0.3333333333333333,
              "#9c179e"
             ],
             [
              0.4444444444444444,
              "#bd3786"
             ],
             [
              0.5555555555555556,
              "#d8576b"
             ],
             [
              0.6666666666666666,
              "#ed7953"
             ],
             [
              0.7777777777777778,
              "#fb9f3a"
             ],
             [
              0.8888888888888888,
              "#fdca26"
             ],
             [
              1,
              "#f0f921"
             ]
            ],
            "type": "histogram2dcontour"
           }
          ],
          "mesh3d": [
           {
            "colorbar": {
             "outlinewidth": 0,
             "ticks": ""
            },
            "type": "mesh3d"
           }
          ],
          "parcoords": [
           {
            "line": {
             "colorbar": {
              "outlinewidth": 0,
              "ticks": ""
             }
            },
            "type": "parcoords"
           }
          ],
          "pie": [
           {
            "automargin": true,
            "type": "pie"
           }
          ],
          "scatter": [
           {
            "fillpattern": {
             "fillmode": "overlay",
             "size": 10,
             "solidity": 0.2
            },
            "type": "scatter"
           }
          ],
          "scatter3d": [
           {
            "line": {
             "colorbar": {
              "outlinewidth": 0,
              "ticks": ""
             }
            },
            "marker": {
             "colorbar": {
              "outlinewidth": 0,
              "ticks": ""
             }
            },
            "type": "scatter3d"
           }
          ],
          "scattercarpet": [
           {
            "marker": {
             "colorbar": {
              "outlinewidth": 0,
              "ticks": ""
             }
            },
            "type": "scattercarpet"
           }
          ],
          "scattergeo": [
           {
            "marker": {
             "colorbar": {
              "outlinewidth": 0,
              "ticks": ""
             }
            },
            "type": "scattergeo"
           }
          ],
          "scattergl": [
           {
            "marker": {
             "colorbar": {
              "outlinewidth": 0,
              "ticks": ""
             }
            },
            "type": "scattergl"
           }
          ],
          "scattermap": [
           {
            "marker": {
             "colorbar": {
              "outlinewidth": 0,
              "ticks": ""
             }
            },
            "type": "scattermap"
           }
          ],
          "scattermapbox": [
           {
            "marker": {
             "colorbar": {
              "outlinewidth": 0,
              "ticks": ""
             }
            },
            "type": "scattermapbox"
           }
          ],
          "scatterpolar": [
           {
            "marker": {
             "colorbar": {
              "outlinewidth": 0,
              "ticks": ""
             }
            },
            "type": "scatterpolar"
           }
          ],
          "scatterpolargl": [
           {
            "marker": {
             "colorbar": {
              "outlinewidth": 0,
              "ticks": ""
             }
            },
            "type": "scatterpolargl"
           }
          ],
          "scatterternary": [
           {
            "marker": {
             "colorbar": {
              "outlinewidth": 0,
              "ticks": ""
             }
            },
            "type": "scatterternary"
           }
          ],
          "surface": [
           {
            "colorbar": {
             "outlinewidth": 0,
             "ticks": ""
            },
            "colorscale": [
             [
              0,
              "#0d0887"
             ],
             [
              0.1111111111111111,
              "#46039f"
             ],
             [
              0.2222222222222222,
              "#7201a8"
             ],
             [
              0.3333333333333333,
              "#9c179e"
             ],
             [
              0.4444444444444444,
              "#bd3786"
             ],
             [
              0.5555555555555556,
              "#d8576b"
             ],
             [
              0.6666666666666666,
              "#ed7953"
             ],
             [
              0.7777777777777778,
              "#fb9f3a"
             ],
             [
              0.8888888888888888,
              "#fdca26"
             ],
             [
              1,
              "#f0f921"
             ]
            ],
            "type": "surface"
           }
          ],
          "table": [
           {
            "cells": {
             "fill": {
              "color": "#EBF0F8"
             },
             "line": {
              "color": "white"
             }
            },
            "header": {
             "fill": {
              "color": "#C8D4E3"
             },
             "line": {
              "color": "white"
             }
            },
            "type": "table"
           }
          ]
         },
         "layout": {
          "annotationdefaults": {
           "arrowcolor": "#2a3f5f",
           "arrowhead": 0,
           "arrowwidth": 1
          },
          "autotypenumbers": "strict",
          "coloraxis": {
           "colorbar": {
            "outlinewidth": 0,
            "ticks": ""
           }
          },
          "colorscale": {
           "diverging": [
            [
             0,
             "#8e0152"
            ],
            [
             0.1,
             "#c51b7d"
            ],
            [
             0.2,
             "#de77ae"
            ],
            [
             0.3,
             "#f1b6da"
            ],
            [
             0.4,
             "#fde0ef"
            ],
            [
             0.5,
             "#f7f7f7"
            ],
            [
             0.6,
             "#e6f5d0"
            ],
            [
             0.7,
             "#b8e186"
            ],
            [
             0.8,
             "#7fbc41"
            ],
            [
             0.9,
             "#4d9221"
            ],
            [
             1,
             "#276419"
            ]
           ],
           "sequential": [
            [
             0,
             "#0d0887"
            ],
            [
             0.1111111111111111,
             "#46039f"
            ],
            [
             0.2222222222222222,
             "#7201a8"
            ],
            [
             0.3333333333333333,
             "#9c179e"
            ],
            [
             0.4444444444444444,
             "#bd3786"
            ],
            [
             0.5555555555555556,
             "#d8576b"
            ],
            [
             0.6666666666666666,
             "#ed7953"
            ],
            [
             0.7777777777777778,
             "#fb9f3a"
            ],
            [
             0.8888888888888888,
             "#fdca26"
            ],
            [
             1,
             "#f0f921"
            ]
           ],
           "sequentialminus": [
            [
             0,
             "#0d0887"
            ],
            [
             0.1111111111111111,
             "#46039f"
            ],
            [
             0.2222222222222222,
             "#7201a8"
            ],
            [
             0.3333333333333333,
             "#9c179e"
            ],
            [
             0.4444444444444444,
             "#bd3786"
            ],
            [
             0.5555555555555556,
             "#d8576b"
            ],
            [
             0.6666666666666666,
             "#ed7953"
            ],
            [
             0.7777777777777778,
             "#fb9f3a"
            ],
            [
             0.8888888888888888,
             "#fdca26"
            ],
            [
             1,
             "#f0f921"
            ]
           ]
          },
          "colorway": [
           "#636efa",
           "#EF553B",
           "#00cc96",
           "#ab63fa",
           "#FFA15A",
           "#19d3f3",
           "#FF6692",
           "#B6E880",
           "#FF97FF",
           "#FECB52"
          ],
          "font": {
           "color": "#2a3f5f"
          },
          "geo": {
           "bgcolor": "white",
           "lakecolor": "white",
           "landcolor": "#E5ECF6",
           "showlakes": true,
           "showland": true,
           "subunitcolor": "white"
          },
          "hoverlabel": {
           "align": "left"
          },
          "hovermode": "closest",
          "mapbox": {
           "style": "light"
          },
          "paper_bgcolor": "white",
          "plot_bgcolor": "#E5ECF6",
          "polar": {
           "angularaxis": {
            "gridcolor": "white",
            "linecolor": "white",
            "ticks": ""
           },
           "bgcolor": "#E5ECF6",
           "radialaxis": {
            "gridcolor": "white",
            "linecolor": "white",
            "ticks": ""
           }
          },
          "scene": {
           "xaxis": {
            "backgroundcolor": "#E5ECF6",
            "gridcolor": "white",
            "gridwidth": 2,
            "linecolor": "white",
            "showbackground": true,
            "ticks": "",
            "zerolinecolor": "white"
           },
           "yaxis": {
            "backgroundcolor": "#E5ECF6",
            "gridcolor": "white",
            "gridwidth": 2,
            "linecolor": "white",
            "showbackground": true,
            "ticks": "",
            "zerolinecolor": "white"
           },
           "zaxis": {
            "backgroundcolor": "#E5ECF6",
            "gridcolor": "white",
            "gridwidth": 2,
            "linecolor": "white",
            "showbackground": true,
            "ticks": "",
            "zerolinecolor": "white"
           }
          },
          "shapedefaults": {
           "line": {
            "color": "#2a3f5f"
           }
          },
          "ternary": {
           "aaxis": {
            "gridcolor": "white",
            "linecolor": "white",
            "ticks": ""
           },
           "baxis": {
            "gridcolor": "white",
            "linecolor": "white",
            "ticks": ""
           },
           "bgcolor": "#E5ECF6",
           "caxis": {
            "gridcolor": "white",
            "linecolor": "white",
            "ticks": ""
           }
          },
          "title": {
           "x": 0.05
          },
          "xaxis": {
           "automargin": true,
           "gridcolor": "white",
           "linecolor": "white",
           "ticks": "",
           "title": {
            "standoff": 15
           },
           "zerolinecolor": "white",
           "zerolinewidth": 2
          },
          "yaxis": {
           "automargin": true,
           "gridcolor": "white",
           "linecolor": "white",
           "ticks": "",
           "title": {
            "standoff": 15
           },
           "zerolinecolor": "white",
           "zerolinewidth": 2
          }
         }
        },
        "title": {
         "text": "resid_pre Activation Patching"
        },
        "width": 700,
        "xaxis": {
         "anchor": "y",
         "constrain": "domain",
         "domain": [
          0,
          1
         ],
         "scaleanchor": "y",
         "title": {
          "text": "Position"
         }
        },
        "yaxis": {
         "anchor": "x",
         "autorange": "reversed",
         "constrain": "domain",
         "domain": [
          0,
          1
         ],
         "title": {
          "text": "Layer"
         }
        }
       }
      }
     },
     "metadata": {},
     "output_type": "display_data"
    }
   ],
   "source": [
    "act_patch_resid_pre = patching.get_act_patch_resid_pre(\n",
    "    model=model, corrupted_tokens=corrupted_tokens, clean_cache=clean_cache, patching_metric=ioi_metric\n",
    ")\n",
    "\n",
    "labels = [f'{tok} {i}' for i, tok in enumerate(model.to_str_tokens(clean_tokens[0]))]\n",
    "\n",
    "imshow(\n",
    "    act_patch_resid_pre,\n",
    "    labels={'x': 'Position', 'y': 'Layer'},\n",
    "    x=labels,\n",
    "    title='resid_pre Activation Patching',\n",
    "    width=700,\n",
    ")"
   ]
  },
  {
   "cell_type": "markdown",
   "id": "f2ced7da",
   "metadata": {},
   "source": [
    "# 4. Patching in residual stream by block\n",
    "\n",
    "Rather than just patching to the residual stream in each layer, we can also patch just after the attention layer or just after the MLP. This gives is a slightly more refined view of which tokens matter and when.\n",
    "\n",
    "The function `patching.get_act_patch_block_every` works just like `get_act_patch_resid_pre`, but rather than just patching to the residual stream, it patches to `resid_pre`, `attn_out` and `mlp_out`, and returns a tensor of shape `(3, n_layers, seq_len)`. Also, it cycles through the `resid_pre`, `attn_out` and `mlp_out` and only patchs one of them at a time, rather than patching all three at once.\n",
    "\n",
    "We see that several attention layers are significant, but that early layers matter on the second subject and later layers matter on END, while all layers don't matter on any other token. This is extremely localized and consistent with the residual stream results.\n",
    "\n",
    "With respect to the attention heads, layer 9 is positive and layers 10 and 11 are not, suggesting that the late layers only matter for direct logit effects, but we also see that layers 7 and 8 matter significantly. Presumably these are the heads that move information about which name is duplicated from the subject to END.\n",
    "\n",
    "In contrast, the MLP layers do not matter much. This makes sense, since this is more a task about moving information than about processing it, and the MLP layers specialise in processing information. The one exception is MLP0, which matters a lot, but this is a generally true statement about MLP0 rather than being about the circuit on this task."
   ]
  },
  {
   "cell_type": "code",
   "execution_count": 12,
   "id": "8e6ac95d",
   "metadata": {},
   "outputs": [
    {
     "name": "stderr",
     "output_type": "stream",
     "text": [
      "100%|██████████| 192/192 [00:10<00:00, 18.81it/s]\n",
      "100%|██████████| 192/192 [00:10<00:00, 18.93it/s]\n",
      "100%|██████████| 192/192 [00:10<00:00, 18.92it/s]\n"
     ]
    },
    {
     "data": {
      "application/vnd.plotly.v1+json": {
       "config": {
        "plotlyServerURL": "https://plot.ly",
        "staticPlot": false
       },
       "data": [
        {
         "coloraxis": "coloraxis",
         "hovertemplate": "Sequence Position: %{x}<br>Layer: %{y}<br>color: %{z}<extra></extra>",
         "name": "0",
         "type": "heatmap",
         "x": [
          "<|endoftext|> 0",
          "When 1",
          " John 2",
          " and 3",
          " Mary 4",
          " went 5",
          " to 6",
          " the 7",
          " shops 8",
          ", 9",
          "  10",
          " John 11",
          " gave 12",
          " the 13",
          " bag 14",
          " to 15"
         ],
         "xaxis": "x",
         "yaxis": "y",
         "z": {
          "bdata": "AAAAAAAAAAAAAAAAAAAAAAAAAAAAAAAAAAAAAAAAAAAAAAAAAAAAAAAAAAAAAIA/AAAAAAAAAAAAAAAAAAAAAAAAAAAAAAAAAAAAAAAAAAAAAAAAAAAAAAAAAAAAAAAAAAAAAAAAAAAAAAAAeyeAPz2eo7kLh6C3nG5Xuv+JJ7gAAAAAAAAAAAAAAAAAAAAAAAAAAAAAAAAAAAAAAAAAAAAAAAAAAAAAAAAAAK82gD8b5T84GY9zt52RU7rXcnG6AAAAAAAAAAAAAAAAAAAAAAAAAAAAAAAAAAAAAAAAAAAAAAAAAAAAAAAAAAASA4A/oammOq2WWTonS5+6w5yjugAAAAAAAAAAAAAAAAAAAAAAAAAAAAAAAAAAAAAAAAAAAAAAAAAAAAAAAAAAiUx+P0Dv5ztYYhQ7nW5eugEzGrsAAAAAAAAAAAAAAAAAAAAAAAAAAAAAAAAAAAAAAAAAAAAAAAAAAAAAAAAAAD13cz/MckI9VqddO0lk7Lorv1+6AAAAAAAAAAAAAAAAAAAAAAAAAAAAAAAAAAAAAAAAAAAAAAAAAAAAAAAAAADmUnM/ra8+PekbETsA/lK6edjhOQAAAAAAAAAAAAAAAAAAAAAAAAAAAAAAAAAAAAAAAAAAAAAAAAAAAAAAAAAA9uNnPyz8kD0lEOU7ojWJOqvIRDwAAAAAAAAAAAAAAAAAAAAAAAAAAAAAAAAAAAAAAAAAAAAAAAAAAAAAAAAAAIqoJj9qPf48m8teO5UzejnqhKI+AAAAAAAAAAAAAAAAAAAAAAAAAAAAAAAAAAAAAAAAAAAAAAAAAAAAAAAAAAAqQzY9wNoOPaf/Dju8J606CGVqPwAAAAAAAAAAAAAAAAAAAAAAAAAAAAAAAAAAAAAAAAAAAAAAAAAAAAAAAAAAYqpJvOoTtTxdiag6aDTYORgNfT8AAAAAAAAAAAAAAAAAAAAAAAAAAAAAAAAAAAAAAAAAAAAAAAAAAAAAAAAAAOC9MDpcUmM8fBsNOv1uh7hzQXw/",
          "dtype": "f4",
          "shape": "12, 16"
         }
        },
        {
         "coloraxis": "coloraxis",
         "hovertemplate": "Sequence Position: %{x}<br>Layer: %{y}<br>color: %{z}<extra></extra>",
         "name": "1",
         "type": "heatmap",
         "x": [
          "<|endoftext|> 0",
          "When 1",
          " John 2",
          " and 3",
          " Mary 4",
          " went 5",
          " to 6",
          " the 7",
          " shops 8",
          ", 9",
          "  10",
          " John 11",
          " gave 12",
          " the 13",
          " bag 14",
          " to 15"
         ],
         "xaxis": "x2",
         "yaxis": "y2",
         "z": {
          "bdata": "AAAAAAAAAAAAAAAAAAAAAAAAAAAAAAAAAAAAAAAAAAAAAAAAAAAAAAAAAABgEaQ9PZ6juQuHoLecble6/4knuAAAAAAAAAAAAAAAAAAAAAAAAAAAAAAAAAAAAAAAAAAAAAAAAAAAAAAAAAAALQVfOt0WLjntCAU5XZWAOWbmdboAAAAAAAAAAAAAAAAAAAAAAAAAAAAAAAAAAAAAAAAAAAAAAAAAAAAAAAAAAMbetDvomnM6RpMkOiTSVronIMC5AAAAAAAAAAAAAAAAAAAAAAAAAAAAAAAAAAAAAAAAAAAAAAAAAAAAAAAAAAAXHho+GQyVO7EiUTrq+CK6FuWVugAAAAAAAAAAAAAAAAAAAAAAAAAAAAAAAAAAAAAAAAAAAAAAAAAAAAAAAAAACDm3uzN09jw2c4w6XfF0uY7SxToAAAAAAAAAAAAAAAAAAAAAAAAAAAAAAAAAAAAAAAAAAAAAAAAAAAAAAAAAAKVcrD7ne+U6R3C2OYHKADk2c4w6AAAAAAAAAAAAAAAAAAAAAAAAAAAAAAAAAAAAAAAAAAAAAAAAAAAAAAAAAACbDeU9Bo3OPJkekjuv9+M6AaBTPAAAAAAAAAAAAAAAAAAAAAAAAAAAAAAAAAAAAAAAAAAAAAAAAAAAAAAAAAAAyVS2PNUfbDzPcjI6sZOaOd2znD4AAAAAAAAAAAAAAAAAAAAAAAAAAAAAAAAAAAAAAAAAAAAAAAAAAAAAAAAAAFg/H7p48Io8v1IhOkLJpTr5hAk/AAAAAAAAAAAAAAAAAAAAAAAAAAAAAAAAAAAAAAAAAAAAAAAAAAAAAAAAAAAfYeq5R0zCOyH9IDnvwqg5c7drPgAAAAAAAAAAAAAAAAAAAAAAAAAAAAAAAAAAAAAAAAAAAAAAAAAAAAAAAAAAoHZdui1jADtyFrE5T2WwN39kIr4AAAAAAAAAAAAAAAAAAAAAAAAAAAAAAAAAAAAAAAAAAAAAAAAAAAAAAAAAAAAAAAAAAAAAAAAAAAAAAAAwXb6+",
          "dtype": "f4",
          "shape": "12, 16"
         }
        },
        {
         "coloraxis": "coloraxis",
         "hovertemplate": "Sequence Position: %{x}<br>Layer: %{y}<br>color: %{z}<extra></extra>",
         "name": "2",
         "type": "heatmap",
         "x": [
          "<|endoftext|> 0",
          "When 1",
          " John 2",
          " and 3",
          " Mary 4",
          " went 5",
          " to 6",
          " the 7",
          " shops 8",
          ", 9",
          "  10",
          " John 11",
          " gave 12",
          " the 13",
          " bag 14",
          " to 15"
         ],
         "xaxis": "x3",
         "yaxis": "y3",
         "z": {
          "bdata": "AAAAAAAAAAAAAAAAAAAAAAAAAAAAAAAAAAAAAAAAAAAAAAAAAAAAAAAAAACQr1Y/pXsPulXG1riYx0267QgFuQAAAAAAAAAAAAAAAAAAAAAAAAAAAAAAAAAAAAAAAAAAAAAAAAAAAAAAAAAAobqoPJ9InDh8qry4BwbuOHLzu7kAAAAAAAAAAAAAAAAAAAAAAAAAAAAAAAAAAAAAAAAAAAAAAAAAAAAAAAAAAOp8FD1WL8S5jivfufEAPrrdVDU6AAAAAAAAAAAAAAAAAAAAAAAAAAAAAAAAAAAAAAAAAAAAAAAAAAAAAAAAAABK7dE8fkHrOSyhgDnwqv85ojWJuQAAAAAAAAAAAAAAAAAAAAAAAAAAAAAAAAAAAAAAAAAAAAAAAAAAAAAAAAAAqKdnvHnY4Ts+Cmw5ezaRuADrqjoAAAAAAAAAAAAAAAAAAAAAAAAAAAAAAAAAAAAAAAAAAAAAAAAAAAAAAAAAAGlDkj07JWK7FuUVunTrZjrHHLw6AAAAAAAAAAAAAAAAAAAAAAAAAAAAAAAAAAAAAAAAAAAAAAAAAAAAAAAAAABbzfK8AZKYuQkmljm3ZZG524DjuwAAAAAAAAAAAAAAAAAAAAAAAAAAAAAAAAAAAAAAAAAAAAAAAAAAAAAAAAAAXewbvKrjfjurezk6kmanORVkEzwAAAAAAAAAAAAAAAAAAAAAAAAAAAAAAAAAAAAAAAAAAAAAAAAAAAAAAAAAAN6qWLznqrm5dsj/ufognjhtFSq9AAAAAAAAAAAAAAAAAAAAAAAAAAAAAAAAAAAAAAAAAAAAAAAAAAAAAAAAAAA6oWm7UZCWOnmPnLirNU85ww3SPAAAAAAAAAAAAAAAAAAAAAAAAAAAAAAAAAAAAAAAAAAAAAAAAAAAAAAAAAAAB0xYOnB3nzkPvWC4fj4QuaGYED0AAAAAAAAAAAAAAAAAAAAAAAAAAAAAAAAAAAAAAAAAAAAAAAAAAAAAAAAAAAAAAAAAAAAAAAAAAAAAAABwwRk9",
          "dtype": "f4",
          "shape": "12, 16"
         }
        }
       ],
       "layout": {
        "annotations": [
         {
          "font": {},
          "showarrow": false,
          "text": "Residual Stream",
          "x": 0.15999999999999998,
          "xanchor": "center",
          "xref": "paper",
          "y": 1,
          "yanchor": "bottom",
          "yref": "paper"
         },
         {
          "font": {},
          "showarrow": false,
          "text": "Attn Output",
          "x": 0.49999999999999994,
          "xanchor": "center",
          "xref": "paper",
          "y": 1,
          "yanchor": "bottom",
          "yref": "paper"
         },
         {
          "font": {},
          "showarrow": false,
          "text": "MLP Output",
          "x": 0.8399999999999999,
          "xanchor": "center",
          "xref": "paper",
          "y": 1,
          "yanchor": "bottom",
          "yref": "paper"
         }
        ],
        "coloraxis": {
         "cmid": 0,
         "colorscale": [
          [
           0,
           "rgb(103,0,31)"
          ],
          [
           0.1,
           "rgb(178,24,43)"
          ],
          [
           0.2,
           "rgb(214,96,77)"
          ],
          [
           0.3,
           "rgb(244,165,130)"
          ],
          [
           0.4,
           "rgb(253,219,199)"
          ],
          [
           0.5,
           "rgb(247,247,247)"
          ],
          [
           0.6,
           "rgb(209,229,240)"
          ],
          [
           0.7,
           "rgb(146,197,222)"
          ],
          [
           0.8,
           "rgb(67,147,195)"
          ],
          [
           0.9,
           "rgb(33,102,172)"
          ],
          [
           1,
           "rgb(5,48,97)"
          ]
         ]
        },
        "template": {
         "data": {
          "bar": [
           {
            "error_x": {
             "color": "#2a3f5f"
            },
            "error_y": {
             "color": "#2a3f5f"
            },
            "marker": {
             "line": {
              "color": "#E5ECF6",
              "width": 0.5
             },
             "pattern": {
              "fillmode": "overlay",
              "size": 10,
              "solidity": 0.2
             }
            },
            "type": "bar"
           }
          ],
          "barpolar": [
           {
            "marker": {
             "line": {
              "color": "#E5ECF6",
              "width": 0.5
             },
             "pattern": {
              "fillmode": "overlay",
              "size": 10,
              "solidity": 0.2
             }
            },
            "type": "barpolar"
           }
          ],
          "carpet": [
           {
            "aaxis": {
             "endlinecolor": "#2a3f5f",
             "gridcolor": "white",
             "linecolor": "white",
             "minorgridcolor": "white",
             "startlinecolor": "#2a3f5f"
            },
            "baxis": {
             "endlinecolor": "#2a3f5f",
             "gridcolor": "white",
             "linecolor": "white",
             "minorgridcolor": "white",
             "startlinecolor": "#2a3f5f"
            },
            "type": "carpet"
           }
          ],
          "choropleth": [
           {
            "colorbar": {
             "outlinewidth": 0,
             "ticks": ""
            },
            "type": "choropleth"
           }
          ],
          "contour": [
           {
            "colorbar": {
             "outlinewidth": 0,
             "ticks": ""
            },
            "colorscale": [
             [
              0,
              "#0d0887"
             ],
             [
              0.1111111111111111,
              "#46039f"
             ],
             [
              0.2222222222222222,
              "#7201a8"
             ],
             [
              0.3333333333333333,
              "#9c179e"
             ],
             [
              0.4444444444444444,
              "#bd3786"
             ],
             [
              0.5555555555555556,
              "#d8576b"
             ],
             [
              0.6666666666666666,
              "#ed7953"
             ],
             [
              0.7777777777777778,
              "#fb9f3a"
             ],
             [
              0.8888888888888888,
              "#fdca26"
             ],
             [
              1,
              "#f0f921"
             ]
            ],
            "type": "contour"
           }
          ],
          "contourcarpet": [
           {
            "colorbar": {
             "outlinewidth": 0,
             "ticks": ""
            },
            "type": "contourcarpet"
           }
          ],
          "heatmap": [
           {
            "colorbar": {
             "outlinewidth": 0,
             "ticks": ""
            },
            "colorscale": [
             [
              0,
              "#0d0887"
             ],
             [
              0.1111111111111111,
              "#46039f"
             ],
             [
              0.2222222222222222,
              "#7201a8"
             ],
             [
              0.3333333333333333,
              "#9c179e"
             ],
             [
              0.4444444444444444,
              "#bd3786"
             ],
             [
              0.5555555555555556,
              "#d8576b"
             ],
             [
              0.6666666666666666,
              "#ed7953"
             ],
             [
              0.7777777777777778,
              "#fb9f3a"
             ],
             [
              0.8888888888888888,
              "#fdca26"
             ],
             [
              1,
              "#f0f921"
             ]
            ],
            "type": "heatmap"
           }
          ],
          "histogram": [
           {
            "marker": {
             "pattern": {
              "fillmode": "overlay",
              "size": 10,
              "solidity": 0.2
             }
            },
            "type": "histogram"
           }
          ],
          "histogram2d": [
           {
            "colorbar": {
             "outlinewidth": 0,
             "ticks": ""
            },
            "colorscale": [
             [
              0,
              "#0d0887"
             ],
             [
              0.1111111111111111,
              "#46039f"
             ],
             [
              0.2222222222222222,
              "#7201a8"
             ],
             [
              0.3333333333333333,
              "#9c179e"
             ],
             [
              0.4444444444444444,
              "#bd3786"
             ],
             [
              0.5555555555555556,
              "#d8576b"
             ],
             [
              0.6666666666666666,
              "#ed7953"
             ],
             [
              0.7777777777777778,
              "#fb9f3a"
             ],
             [
              0.8888888888888888,
              "#fdca26"
             ],
             [
              1,
              "#f0f921"
             ]
            ],
            "type": "histogram2d"
           }
          ],
          "histogram2dcontour": [
           {
            "colorbar": {
             "outlinewidth": 0,
             "ticks": ""
            },
            "colorscale": [
             [
              0,
              "#0d0887"
             ],
             [
              0.1111111111111111,
              "#46039f"
             ],
             [
              0.2222222222222222,
              "#7201a8"
             ],
             [
              0.3333333333333333,
              "#9c179e"
             ],
             [
              0.4444444444444444,
              "#bd3786"
             ],
             [
              0.5555555555555556,
              "#d8576b"
             ],
             [
              0.6666666666666666,
              "#ed7953"
             ],
             [
              0.7777777777777778,
              "#fb9f3a"
             ],
             [
              0.8888888888888888,
              "#fdca26"
             ],
             [
              1,
              "#f0f921"
             ]
            ],
            "type": "histogram2dcontour"
           }
          ],
          "mesh3d": [
           {
            "colorbar": {
             "outlinewidth": 0,
             "ticks": ""
            },
            "type": "mesh3d"
           }
          ],
          "parcoords": [
           {
            "line": {
             "colorbar": {
              "outlinewidth": 0,
              "ticks": ""
             }
            },
            "type": "parcoords"
           }
          ],
          "pie": [
           {
            "automargin": true,
            "type": "pie"
           }
          ],
          "scatter": [
           {
            "fillpattern": {
             "fillmode": "overlay",
             "size": 10,
             "solidity": 0.2
            },
            "type": "scatter"
           }
          ],
          "scatter3d": [
           {
            "line": {
             "colorbar": {
              "outlinewidth": 0,
              "ticks": ""
             }
            },
            "marker": {
             "colorbar": {
              "outlinewidth": 0,
              "ticks": ""
             }
            },
            "type": "scatter3d"
           }
          ],
          "scattercarpet": [
           {
            "marker": {
             "colorbar": {
              "outlinewidth": 0,
              "ticks": ""
             }
            },
            "type": "scattercarpet"
           }
          ],
          "scattergeo": [
           {
            "marker": {
             "colorbar": {
              "outlinewidth": 0,
              "ticks": ""
             }
            },
            "type": "scattergeo"
           }
          ],
          "scattergl": [
           {
            "marker": {
             "colorbar": {
              "outlinewidth": 0,
              "ticks": ""
             }
            },
            "type": "scattergl"
           }
          ],
          "scattermap": [
           {
            "marker": {
             "colorbar": {
              "outlinewidth": 0,
              "ticks": ""
             }
            },
            "type": "scattermap"
           }
          ],
          "scattermapbox": [
           {
            "marker": {
             "colorbar": {
              "outlinewidth": 0,
              "ticks": ""
             }
            },
            "type": "scattermapbox"
           }
          ],
          "scatterpolar": [
           {
            "marker": {
             "colorbar": {
              "outlinewidth": 0,
              "ticks": ""
             }
            },
            "type": "scatterpolar"
           }
          ],
          "scatterpolargl": [
           {
            "marker": {
             "colorbar": {
              "outlinewidth": 0,
              "ticks": ""
             }
            },
            "type": "scatterpolargl"
           }
          ],
          "scatterternary": [
           {
            "marker": {
             "colorbar": {
              "outlinewidth": 0,
              "ticks": ""
             }
            },
            "type": "scatterternary"
           }
          ],
          "surface": [
           {
            "colorbar": {
             "outlinewidth": 0,
             "ticks": ""
            },
            "colorscale": [
             [
              0,
              "#0d0887"
             ],
             [
              0.1111111111111111,
              "#46039f"
             ],
             [
              0.2222222222222222,
              "#7201a8"
             ],
             [
              0.3333333333333333,
              "#9c179e"
             ],
             [
              0.4444444444444444,
              "#bd3786"
             ],
             [
              0.5555555555555556,
              "#d8576b"
             ],
             [
              0.6666666666666666,
              "#ed7953"
             ],
             [
              0.7777777777777778,
              "#fb9f3a"
             ],
             [
              0.8888888888888888,
              "#fdca26"
             ],
             [
              1,
              "#f0f921"
             ]
            ],
            "type": "surface"
           }
          ],
          "table": [
           {
            "cells": {
             "fill": {
              "color": "#EBF0F8"
             },
             "line": {
              "color": "white"
             }
            },
            "header": {
             "fill": {
              "color": "#C8D4E3"
             },
             "line": {
              "color": "white"
             }
            },
            "type": "table"
           }
          ]
         },
         "layout": {
          "annotationdefaults": {
           "arrowcolor": "#2a3f5f",
           "arrowhead": 0,
           "arrowwidth": 1
          },
          "autotypenumbers": "strict",
          "coloraxis": {
           "colorbar": {
            "outlinewidth": 0,
            "ticks": ""
           }
          },
          "colorscale": {
           "diverging": [
            [
             0,
             "#8e0152"
            ],
            [
             0.1,
             "#c51b7d"
            ],
            [
             0.2,
             "#de77ae"
            ],
            [
             0.3,
             "#f1b6da"
            ],
            [
             0.4,
             "#fde0ef"
            ],
            [
             0.5,
             "#f7f7f7"
            ],
            [
             0.6,
             "#e6f5d0"
            ],
            [
             0.7,
             "#b8e186"
            ],
            [
             0.8,
             "#7fbc41"
            ],
            [
             0.9,
             "#4d9221"
            ],
            [
             1,
             "#276419"
            ]
           ],
           "sequential": [
            [
             0,
             "#0d0887"
            ],
            [
             0.1111111111111111,
             "#46039f"
            ],
            [
             0.2222222222222222,
             "#7201a8"
            ],
            [
             0.3333333333333333,
             "#9c179e"
            ],
            [
             0.4444444444444444,
             "#bd3786"
            ],
            [
             0.5555555555555556,
             "#d8576b"
            ],
            [
             0.6666666666666666,
             "#ed7953"
            ],
            [
             0.7777777777777778,
             "#fb9f3a"
            ],
            [
             0.8888888888888888,
             "#fdca26"
            ],
            [
             1,
             "#f0f921"
            ]
           ],
           "sequentialminus": [
            [
             0,
             "#0d0887"
            ],
            [
             0.1111111111111111,
             "#46039f"
            ],
            [
             0.2222222222222222,
             "#7201a8"
            ],
            [
             0.3333333333333333,
             "#9c179e"
            ],
            [
             0.4444444444444444,
             "#bd3786"
            ],
            [
             0.5555555555555556,
             "#d8576b"
            ],
            [
             0.6666666666666666,
             "#ed7953"
            ],
            [
             0.7777777777777778,
             "#fb9f3a"
            ],
            [
             0.8888888888888888,
             "#fdca26"
            ],
            [
             1,
             "#f0f921"
            ]
           ]
          },
          "colorway": [
           "#636efa",
           "#EF553B",
           "#00cc96",
           "#ab63fa",
           "#FFA15A",
           "#19d3f3",
           "#FF6692",
           "#B6E880",
           "#FF97FF",
           "#FECB52"
          ],
          "font": {
           "color": "#2a3f5f"
          },
          "geo": {
           "bgcolor": "white",
           "lakecolor": "white",
           "landcolor": "#E5ECF6",
           "showlakes": true,
           "showland": true,
           "subunitcolor": "white"
          },
          "hoverlabel": {
           "align": "left"
          },
          "hovermode": "closest",
          "mapbox": {
           "style": "light"
          },
          "paper_bgcolor": "white",
          "plot_bgcolor": "#E5ECF6",
          "polar": {
           "angularaxis": {
            "gridcolor": "white",
            "linecolor": "white",
            "ticks": ""
           },
           "bgcolor": "#E5ECF6",
           "radialaxis": {
            "gridcolor": "white",
            "linecolor": "white",
            "ticks": ""
           }
          },
          "scene": {
           "xaxis": {
            "backgroundcolor": "#E5ECF6",
            "gridcolor": "white",
            "gridwidth": 2,
            "linecolor": "white",
            "showbackground": true,
            "ticks": "",
            "zerolinecolor": "white"
           },
           "yaxis": {
            "backgroundcolor": "#E5ECF6",
            "gridcolor": "white",
            "gridwidth": 2,
            "linecolor": "white",
            "showbackground": true,
            "ticks": "",
            "zerolinecolor": "white"
           },
           "zaxis": {
            "backgroundcolor": "#E5ECF6",
            "gridcolor": "white",
            "gridwidth": 2,
            "linecolor": "white",
            "showbackground": true,
            "ticks": "",
            "zerolinecolor": "white"
           }
          },
          "shapedefaults": {
           "line": {
            "color": "#2a3f5f"
           }
          },
          "ternary": {
           "aaxis": {
            "gridcolor": "white",
            "linecolor": "white",
            "ticks": ""
           },
           "baxis": {
            "gridcolor": "white",
            "linecolor": "white",
            "ticks": ""
           },
           "bgcolor": "#E5ECF6",
           "caxis": {
            "gridcolor": "white",
            "linecolor": "white",
            "ticks": ""
           }
          },
          "title": {
           "x": 0.05
          },
          "xaxis": {
           "automargin": true,
           "gridcolor": "white",
           "linecolor": "white",
           "ticks": "",
           "title": {
            "standoff": 15
           },
           "zerolinecolor": "white",
           "zerolinewidth": 2
          },
          "yaxis": {
           "automargin": true,
           "gridcolor": "white",
           "linecolor": "white",
           "ticks": "",
           "title": {
            "standoff": 15
           },
           "zerolinecolor": "white",
           "zerolinewidth": 2
          }
         }
        },
        "title": {
         "text": "Logit Difference From Patched Attn Head Output"
        },
        "width": 1200,
        "xaxis": {
         "anchor": "y",
         "constrain": "domain",
         "domain": [
          0,
          0.31999999999999995
         ],
         "scaleanchor": "y",
         "title": {
          "text": "Sequence Position"
         }
        },
        "xaxis2": {
         "anchor": "y2",
         "domain": [
          0.33999999999999997,
          0.6599999999999999
         ],
         "matches": "x",
         "title": {
          "text": "Sequence Position"
         }
        },
        "xaxis3": {
         "anchor": "y3",
         "domain": [
          0.6799999999999999,
          0.9999999999999999
         ],
         "matches": "x",
         "title": {
          "text": "Sequence Position"
         }
        },
        "yaxis": {
         "anchor": "x",
         "autorange": "reversed",
         "constrain": "domain",
         "domain": [
          0,
          1
         ],
         "title": {
          "text": "Layer"
         }
        },
        "yaxis2": {
         "anchor": "x2",
         "domain": [
          0,
          1
         ],
         "matches": "y",
         "showticklabels": false
        },
        "yaxis3": {
         "anchor": "x3",
         "domain": [
          0,
          1
         ],
         "matches": "y",
         "showticklabels": false
        }
       }
      }
     },
     "metadata": {},
     "output_type": "display_data"
    }
   ],
   "source": [
    "act_patch_block_every = patching.get_act_patch_block_every(model, corrupted_tokens, clean_cache, ioi_metric)\n",
    "\n",
    "imshow(\n",
    "    act_patch_block_every,\n",
    "    x=labels,\n",
    "    facet_col=0,\n",
    "    facet_labels=['Residual Stream', 'Attn Output', 'MLP Output'],\n",
    "    title='Logit Difference From Patched Attn Head Output',\n",
    "    labels={'x': 'Sequence Position', 'y': 'Layer'},\n",
    "    width=1200,\n",
    ")"
   ]
  },
  {
   "cell_type": "markdown",
   "id": "e8e0a199",
   "metadata": {},
   "source": [
    "### 4.1. Tied embeddings, or what is the MLP doing?\n",
    "\n",
    "It's often observed on GPT-2 Small that MLP0 matters a lot, and that ablating it utterly destroys performance. The current accepted hypothesis is that the first MLP layer is essentially acting as an **extension of the embedding**, and that when later layers want to access the input tokens they mostly read in the output of the first MLP layer, rather than the token embeddings. Within this frame, the first attention layer doesn't do much.\n",
    "\n",
    "In this framing, it makes sense that MLP0 matters on the second subject, because that's the one position with a different input token, i.e., it has a different extended embedding between the two prompt versions, and all other tokens will have basically the same extended embeddings.\n",
    "\n",
    "Why does this happen? It seems like most of the effect comes from the fact that **the embedding and unembedding matrices in GPT2-Small are tied**, i.e. the one equals the transpose of the other. On one hand this seems principled - if two words mean similar things (e.g. \"big\" and \"large\") then they should be substitutable, i.e. have similar embeddings and unembeddings. This would seem to suggest that the geometric structure of the embedding and unembedding spaces should be related. On the other hand, there's one major reason why this isn't as principled as it seems - the embedding and the unembedding together form the direct path (if we had no other components then the transformer would just be the linear map $x \\rightarrow x^T W_E W_U$), and we do not want this to be symmetric because bigram prediction is not symmetric. As an example, if $W_E = W^T_U$, then in order to predict \"Barack Obama\" as a probable bigram, we'd also have to predict \"Obama Barack\" with equally high probability, which obviously shouldn't happen. So it makes sense that the first MLP layer might be used in part to overcome this asymmetry: we now think of $MLP_0(x^T W_E)W_U$ as the direct path, which is no longer symmetric when $W_E$ and $W_U$ are tied.\n",
    "\n",
    "### 4.2. Knowledge storage in the MLP\n",
    "\n",
    "It is well established that \"facts\" and \"knowledge\" are stored in the MLP layers. If the prompt `The White House is where the` is fed to **GPT-2**, it is expected to guess `president` as the answer, as part of the completion `The White House is where the president lives`. And given the prompt `The Haunted House is where the`, the guess `ghosts` would be expected, as part of the completion `The Haunted House is where the ghosts live`.\n",
    "\n",
    "If this is the case, how does the model do this? Somewhere it has to have the association between White House/President and Haunted House/Ghosts."
   ]
  },
  {
   "cell_type": "code",
   "execution_count": 13,
   "id": "05c45d11",
   "metadata": {},
   "outputs": [],
   "source": [
    "clean_prompt, clean_answer = 'The White House is where the', ' president'\n",
    "corrupted_prompt, corrupted_answer = 'The Haunted House is where the', ' ghosts'\n",
    "\n",
    "clean_tokens_mlp = model.to_tokens(clean_prompt)\n",
    "corrupted_tokens_mlp = model.to_tokens(corrupted_prompt)\n",
    "\n",
    "assert clean_tokens_mlp.shape == corrupted_tokens_mlp.shape, 'Clean and corrupted tokens must have same shape.'"
   ]
  },
  {
   "cell_type": "code",
   "execution_count": 14,
   "id": "f822c90d",
   "metadata": {},
   "outputs": [
    {
     "name": "stdout",
     "output_type": "stream",
     "text": [
      "Tokenized prompt: ['<|endoftext|>', 'The', ' White', ' House', ' is', ' where', ' the']\n",
      "Tokenized answer: [' president']\n"
     ]
    },
    {
     "data": {
      "text/html": [
       "<pre style=\"white-space:pre;overflow-x:auto;line-height:normal;font-family:Menlo,'DejaVu Sans Mono',consolas,'Courier New',monospace\">Performance on answer token:\n",
       "<span style=\"font-weight: bold\">Rank: </span><span style=\"color: #008080; text-decoration-color: #008080; font-weight: bold\">0</span><span style=\"font-weight: bold\">        Logit: </span><span style=\"color: #008080; text-decoration-color: #008080; font-weight: bold\">13.75</span><span style=\"font-weight: bold\"> Prob:  </span><span style=\"color: #008080; text-decoration-color: #008080; font-weight: bold\">6.90</span><span style=\"font-weight: bold\">% Token: | president|</span>\n",
       "</pre>\n"
      ],
      "text/plain": [
       "Performance on answer token:\n",
       "\u001b[1mRank: \u001b[0m\u001b[1;36m0\u001b[0m\u001b[1m        Logit: \u001b[0m\u001b[1;36m13.75\u001b[0m\u001b[1m Prob:  \u001b[0m\u001b[1;36m6.90\u001b[0m\u001b[1m% Token: | president|\u001b[0m\n"
      ]
     },
     "metadata": {},
     "output_type": "display_data"
    },
    {
     "name": "stdout",
     "output_type": "stream",
     "text": [
      "Top 0th token. Logit: 13.75 Prob:  6.90% Token: | president|\n",
      "Top 1th token. Logit: 13.18 Prob:  3.90% Token: | most|\n",
      "Top 2th token. Logit: 12.61 Prob:  2.20% Token: | world|\n",
      "Top 3th token. Logit: 12.55 Prob:  2.09% Token: | real|\n",
      "Top 4th token. Logit: 12.10 Prob:  1.32% Token: | President|\n",
      "Top 5th token. Logit: 12.04 Prob:  1.25% Token: | nation|\n",
      "Top 6th token. Logit: 12.02 Prob:  1.22% Token: | biggest|\n",
      "Top 7th token. Logit: 11.91 Prob:  1.10% Token: | White|\n",
      "Top 8th token. Logit: 11.87 Prob:  1.06% Token: | Republican|\n",
      "Top 9th token. Logit: 11.82 Prob:  1.00% Token: | American|\n"
     ]
    },
    {
     "data": {
      "text/html": [
       "<pre style=\"white-space:pre;overflow-x:auto;line-height:normal;font-family:Menlo,'DejaVu Sans Mono',consolas,'Courier New',monospace\"><span style=\"font-weight: bold\">Ranks of the answer tokens:</span> <span style=\"font-weight: bold\">[(</span><span style=\"color: #008000; text-decoration-color: #008000\">' president'</span>, <span style=\"color: #008080; text-decoration-color: #008080; font-weight: bold\">0</span><span style=\"font-weight: bold\">)]</span>\n",
       "</pre>\n"
      ],
      "text/plain": [
       "\u001b[1mRanks of the answer tokens:\u001b[0m \u001b[1m[\u001b[0m\u001b[1m(\u001b[0m\u001b[32m' president'\u001b[0m, \u001b[1;36m0\u001b[0m\u001b[1m)\u001b[0m\u001b[1m]\u001b[0m\n"
      ]
     },
     "metadata": {},
     "output_type": "display_data"
    }
   ],
   "source": [
    "clean_token_mlp = model.to_single_token(clean_answer)\n",
    "utils.test_prompt(clean_prompt, clean_answer, model)"
   ]
  },
  {
   "cell_type": "code",
   "execution_count": 15,
   "id": "871028ab",
   "metadata": {},
   "outputs": [
    {
     "name": "stdout",
     "output_type": "stream",
     "text": [
      "Tokenized prompt: ['<|endoftext|>', 'The', ' Haunted', ' House', ' is', ' where', ' the']\n",
      "Tokenized answer: [' ghosts']\n"
     ]
    },
    {
     "data": {
      "text/html": [
       "<pre style=\"white-space:pre;overflow-x:auto;line-height:normal;font-family:Menlo,'DejaVu Sans Mono',consolas,'Courier New',monospace\">Performance on answer token:\n",
       "<span style=\"font-weight: bold\">Rank: </span><span style=\"color: #008080; text-decoration-color: #008080; font-weight: bold\">0</span><span style=\"font-weight: bold\">        Logit: </span><span style=\"color: #008080; text-decoration-color: #008080; font-weight: bold\">12.65</span><span style=\"font-weight: bold\"> Prob:  </span><span style=\"color: #008080; text-decoration-color: #008080; font-weight: bold\">6.63</span><span style=\"font-weight: bold\">% Token: | ghosts|</span>\n",
       "</pre>\n"
      ],
      "text/plain": [
       "Performance on answer token:\n",
       "\u001b[1mRank: \u001b[0m\u001b[1;36m0\u001b[0m\u001b[1m        Logit: \u001b[0m\u001b[1;36m12.65\u001b[0m\u001b[1m Prob:  \u001b[0m\u001b[1;36m6.63\u001b[0m\u001b[1m% Token: | ghosts|\u001b[0m\n"
      ]
     },
     "metadata": {},
     "output_type": "display_data"
    },
    {
     "name": "stdout",
     "output_type": "stream",
     "text": [
      "Top 0th token. Logit: 12.65 Prob:  6.63% Token: | ghosts|\n",
      "Top 1th token. Logit: 11.50 Prob:  2.10% Token: | ghost|\n",
      "Top 2th token. Logit: 11.41 Prob:  1.93% Token: | most|\n",
      "Top 3th token. Logit: 11.17 Prob:  1.51% Token: | story|\n",
      "Top 4th token. Logit: 10.96 Prob:  1.23% Token: | original|\n",
      "Top 5th token. Logit: 10.96 Prob:  1.22% Token: | real|\n",
      "Top 6th token. Logit: 10.87 Prob:  1.12% Token: | spirits|\n",
      "Top 7th token. Logit: 10.79 Prob:  1.04% Token: | world|\n",
      "Top 8th token. Logit: 10.70 Prob:  0.94% Token: | Haunted|\n",
      "Top 9th token. Logit: 10.67 Prob:  0.91% Token: | first|\n"
     ]
    },
    {
     "data": {
      "text/html": [
       "<pre style=\"white-space:pre;overflow-x:auto;line-height:normal;font-family:Menlo,'DejaVu Sans Mono',consolas,'Courier New',monospace\"><span style=\"font-weight: bold\">Ranks of the answer tokens:</span> <span style=\"font-weight: bold\">[(</span><span style=\"color: #008000; text-decoration-color: #008000\">' ghosts'</span>, <span style=\"color: #008080; text-decoration-color: #008080; font-weight: bold\">0</span><span style=\"font-weight: bold\">)]</span>\n",
       "</pre>\n"
      ],
      "text/plain": [
       "\u001b[1mRanks of the answer tokens:\u001b[0m \u001b[1m[\u001b[0m\u001b[1m(\u001b[0m\u001b[32m' ghosts'\u001b[0m, \u001b[1;36m0\u001b[0m\u001b[1m)\u001b[0m\u001b[1m]\u001b[0m\n"
      ]
     },
     "metadata": {},
     "output_type": "display_data"
    }
   ],
   "source": [
    "corrupted_token_mlp = model.to_single_token(corrupted_answer)\n",
    "utils.test_prompt(corrupted_prompt, corrupted_answer, model)"
   ]
  },
  {
   "cell_type": "code",
   "execution_count": 16,
   "id": "cca214f5",
   "metadata": {},
   "outputs": [
    {
     "name": "stderr",
     "output_type": "stream",
     "text": [
      "100%|██████████| 84/84 [00:03<00:00, 24.32it/s]\n",
      "100%|██████████| 84/84 [00:03<00:00, 25.15it/s]\n",
      "100%|██████████| 84/84 [00:03<00:00, 27.24it/s]\n"
     ]
    }
   ],
   "source": [
    "def answer_metric(\n",
    "    logits,\n",
    "    clean_token_mlp = clean_token_mlp,\n",
    "    corrupted_token_mlp = corrupted_token_mlp,\n",
    "):\n",
    "    return logits[:, -1, clean_token_mlp] - logits[:, -1, corrupted_token_mlp]\n",
    "\n",
    "clean_logits_mlp, clean_cache_mlp = model.run_with_cache(clean_tokens_mlp)\n",
    "act_patch_block_every = patching.get_act_patch_block_every(model, corrupted_tokens_mlp, clean_cache_mlp, answer_metric)"
   ]
  },
  {
   "cell_type": "code",
   "execution_count": 17,
   "id": "d5b55f5a",
   "metadata": {},
   "outputs": [
    {
     "data": {
      "application/vnd.plotly.v1+json": {
       "config": {
        "plotlyServerURL": "https://plot.ly",
        "staticPlot": false
       },
       "data": [
        {
         "coloraxis": "coloraxis",
         "hovertemplate": "Sequence Position: %{x}<br>Layer: %{y}<br>color: %{z}<extra></extra>",
         "name": "0",
         "type": "heatmap",
         "x": [
          "<endoftext>",
          "The",
          "White/Haunted",
          "House",
          "is",
          "where",
          "the"
         ],
         "xaxis": "x",
         "yaxis": "y",
         "z": {
          "bdata": "oo28wKKNvMBa97tAoo28wKKNvMCijbzAoo28wKKNvMCijbzA0ATHQATHicA5H7zAFcG8wNpavMCijbzAoo28wNz/q0Bk0G7Ak2m5wOT2t8A/mrXAoo28wKKNvMBI374/sKaJv/1jt8A5lrTAlVaswKKNvMCijbzAAGQePgCAkb1Vt7vAs5OwwJYiqsCijbzAoo28wKDQiL6AUCS/3JCvwG7bsMDksarAoo28wKKNvMAwryO/YAiTvx3zs8D9ArTAuBulwKKNvMCijbzAcFeMv7RiEsD73LLAaauywGJthsCijbzAoo28wNB5xL/MxhvAAWSywECjtMC4lnLAoo28wKKNvMBoIiHAbA52wP6QucDQXKnAgDTkv6KNvMCijbzA7V2IwNAPjMAb27nARN2uwPjA2D+ijbzAoo28wBW2n8CLaaDAJa+5wCIbscBcPEpA",
          "dtype": "f4",
          "shape": "12, 7"
         }
        },
        {
         "coloraxis": "coloraxis",
         "hovertemplate": "Sequence Position: %{x}<br>Layer: %{y}<br>color: %{z}<extra></extra>",
         "name": "1",
         "type": "heatmap",
         "x": [
          "<endoftext>",
          "The",
          "White/Haunted",
          "House",
          "is",
          "where",
          "the"
         ],
         "xaxis": "x2",
         "yaxis": "y2",
         "z": {
          "bdata": "oo28wKKNvMB7daHABMeJwDkfvMAVwbzA2lq8wKKNvMCijbzAeaO4wIA9t8AttrrA3lO4wIVvtsCijbzAoo28wAWJv8DWs7TA9Hm5wFK4usAbcLTAoo28wKKNvMBsPrvAP3O1wIV3wcDjTLfAV5+5wKKNvMCijbzAYUC8wND1u8B6jLrAvka7wC6Sv8CijbzAoo28wDu4vcBPb77AIxG9wE/4wsC5dLTAoo28wKKNvMCNWLvAQvy4wBHjucAjOLvA5oKowKKNvMCijbzAAXW8wEaCvcBfILzAq2C5wKPJr8CijbzAoo28wEvju8BR+bvA1+q7wF0HssDs94fAoo28wKKNvMCirbzA76y7wBUEu8C/h7TAbKh7wKKNvMCijbzAt2u8wFVEu8Dj7bvApa64wCvEtMCijbzAoo28wKKNvMCijbzAoo28wKKNvMDg34zA",
          "dtype": "f4",
          "shape": "12, 7"
         }
        },
        {
         "coloraxis": "coloraxis",
         "hovertemplate": "Sequence Position: %{x}<br>Layer: %{y}<br>color: %{z}<extra></extra>",
         "name": "2",
         "type": "heatmap",
         "x": [
          "<endoftext>",
          "The",
          "White/Haunted",
          "House",
          "is",
          "where",
          "the"
         ],
         "xaxis": "x3",
         "yaxis": "y3",
         "z": {
          "bdata": "oo28wKKNvMCiRcBApMKkwBNFvcALvb3AMnG9wKKNvMCijbzAV1uwwLORtsDYbrzAnci+wH5rvMCijbzAoo28wIu1qMAwp7jAx1y5wMH1uMDngrzAoo28wKKNvMBnJbrA2RSrwOF2v8BbqbbALHS9wKKNvMCijbzAa5G9wLk7vcBVj7rAj5O1wM20vcCijbzAoo28wKiAq8BZ86TARRC6wFgrtsDLSbvAoo28wKKNvMALuLbAUM61wI/IvcBrScbA/VbGwKKNvMCijbzAW7u5wDEYvcCqP7rACZzDwDvut8CijbzAoo28wCfvtMDuLsDAy668wAOMu8DNwZrAoo28wKKNvMBXprjAljy9wArxvMDrNLvAlLKHwKKNvMCijbzAnjG6wODkusDtm7vANuC5wPcEosCijbzAoo28wKKNvMCijbzAoo28wKKNvMAYyrPA",
          "dtype": "f4",
          "shape": "12, 7"
         }
        }
       ],
       "layout": {
        "annotations": [
         {
          "font": {},
          "showarrow": false,
          "text": "Residual Stream",
          "x": 0.15999999999999998,
          "xanchor": "center",
          "xref": "paper",
          "y": 1,
          "yanchor": "bottom",
          "yref": "paper"
         },
         {
          "font": {},
          "showarrow": false,
          "text": "Attn Output",
          "x": 0.49999999999999994,
          "xanchor": "center",
          "xref": "paper",
          "y": 1,
          "yanchor": "bottom",
          "yref": "paper"
         },
         {
          "font": {},
          "showarrow": false,
          "text": "MLP Output",
          "x": 0.8399999999999999,
          "xanchor": "center",
          "xref": "paper",
          "y": 1,
          "yanchor": "bottom",
          "yref": "paper"
         }
        ],
        "coloraxis": {
         "cmid": 0,
         "colorscale": [
          [
           0,
           "rgb(103,0,31)"
          ],
          [
           0.1,
           "rgb(178,24,43)"
          ],
          [
           0.2,
           "rgb(214,96,77)"
          ],
          [
           0.3,
           "rgb(244,165,130)"
          ],
          [
           0.4,
           "rgb(253,219,199)"
          ],
          [
           0.5,
           "rgb(247,247,247)"
          ],
          [
           0.6,
           "rgb(209,229,240)"
          ],
          [
           0.7,
           "rgb(146,197,222)"
          ],
          [
           0.8,
           "rgb(67,147,195)"
          ],
          [
           0.9,
           "rgb(33,102,172)"
          ],
          [
           1,
           "rgb(5,48,97)"
          ]
         ]
        },
        "template": {
         "data": {
          "bar": [
           {
            "error_x": {
             "color": "#2a3f5f"
            },
            "error_y": {
             "color": "#2a3f5f"
            },
            "marker": {
             "line": {
              "color": "#E5ECF6",
              "width": 0.5
             },
             "pattern": {
              "fillmode": "overlay",
              "size": 10,
              "solidity": 0.2
             }
            },
            "type": "bar"
           }
          ],
          "barpolar": [
           {
            "marker": {
             "line": {
              "color": "#E5ECF6",
              "width": 0.5
             },
             "pattern": {
              "fillmode": "overlay",
              "size": 10,
              "solidity": 0.2
             }
            },
            "type": "barpolar"
           }
          ],
          "carpet": [
           {
            "aaxis": {
             "endlinecolor": "#2a3f5f",
             "gridcolor": "white",
             "linecolor": "white",
             "minorgridcolor": "white",
             "startlinecolor": "#2a3f5f"
            },
            "baxis": {
             "endlinecolor": "#2a3f5f",
             "gridcolor": "white",
             "linecolor": "white",
             "minorgridcolor": "white",
             "startlinecolor": "#2a3f5f"
            },
            "type": "carpet"
           }
          ],
          "choropleth": [
           {
            "colorbar": {
             "outlinewidth": 0,
             "ticks": ""
            },
            "type": "choropleth"
           }
          ],
          "contour": [
           {
            "colorbar": {
             "outlinewidth": 0,
             "ticks": ""
            },
            "colorscale": [
             [
              0,
              "#0d0887"
             ],
             [
              0.1111111111111111,
              "#46039f"
             ],
             [
              0.2222222222222222,
              "#7201a8"
             ],
             [
              0.3333333333333333,
              "#9c179e"
             ],
             [
              0.4444444444444444,
              "#bd3786"
             ],
             [
              0.5555555555555556,
              "#d8576b"
             ],
             [
              0.6666666666666666,
              "#ed7953"
             ],
             [
              0.7777777777777778,
              "#fb9f3a"
             ],
             [
              0.8888888888888888,
              "#fdca26"
             ],
             [
              1,
              "#f0f921"
             ]
            ],
            "type": "contour"
           }
          ],
          "contourcarpet": [
           {
            "colorbar": {
             "outlinewidth": 0,
             "ticks": ""
            },
            "type": "contourcarpet"
           }
          ],
          "heatmap": [
           {
            "colorbar": {
             "outlinewidth": 0,
             "ticks": ""
            },
            "colorscale": [
             [
              0,
              "#0d0887"
             ],
             [
              0.1111111111111111,
              "#46039f"
             ],
             [
              0.2222222222222222,
              "#7201a8"
             ],
             [
              0.3333333333333333,
              "#9c179e"
             ],
             [
              0.4444444444444444,
              "#bd3786"
             ],
             [
              0.5555555555555556,
              "#d8576b"
             ],
             [
              0.6666666666666666,
              "#ed7953"
             ],
             [
              0.7777777777777778,
              "#fb9f3a"
             ],
             [
              0.8888888888888888,
              "#fdca26"
             ],
             [
              1,
              "#f0f921"
             ]
            ],
            "type": "heatmap"
           }
          ],
          "histogram": [
           {
            "marker": {
             "pattern": {
              "fillmode": "overlay",
              "size": 10,
              "solidity": 0.2
             }
            },
            "type": "histogram"
           }
          ],
          "histogram2d": [
           {
            "colorbar": {
             "outlinewidth": 0,
             "ticks": ""
            },
            "colorscale": [
             [
              0,
              "#0d0887"
             ],
             [
              0.1111111111111111,
              "#46039f"
             ],
             [
              0.2222222222222222,
              "#7201a8"
             ],
             [
              0.3333333333333333,
              "#9c179e"
             ],
             [
              0.4444444444444444,
              "#bd3786"
             ],
             [
              0.5555555555555556,
              "#d8576b"
             ],
             [
              0.6666666666666666,
              "#ed7953"
             ],
             [
              0.7777777777777778,
              "#fb9f3a"
             ],
             [
              0.8888888888888888,
              "#fdca26"
             ],
             [
              1,
              "#f0f921"
             ]
            ],
            "type": "histogram2d"
           }
          ],
          "histogram2dcontour": [
           {
            "colorbar": {
             "outlinewidth": 0,
             "ticks": ""
            },
            "colorscale": [
             [
              0,
              "#0d0887"
             ],
             [
              0.1111111111111111,
              "#46039f"
             ],
             [
              0.2222222222222222,
              "#7201a8"
             ],
             [
              0.3333333333333333,
              "#9c179e"
             ],
             [
              0.4444444444444444,
              "#bd3786"
             ],
             [
              0.5555555555555556,
              "#d8576b"
             ],
             [
              0.6666666666666666,
              "#ed7953"
             ],
             [
              0.7777777777777778,
              "#fb9f3a"
             ],
             [
              0.8888888888888888,
              "#fdca26"
             ],
             [
              1,
              "#f0f921"
             ]
            ],
            "type": "histogram2dcontour"
           }
          ],
          "mesh3d": [
           {
            "colorbar": {
             "outlinewidth": 0,
             "ticks": ""
            },
            "type": "mesh3d"
           }
          ],
          "parcoords": [
           {
            "line": {
             "colorbar": {
              "outlinewidth": 0,
              "ticks": ""
             }
            },
            "type": "parcoords"
           }
          ],
          "pie": [
           {
            "automargin": true,
            "type": "pie"
           }
          ],
          "scatter": [
           {
            "fillpattern": {
             "fillmode": "overlay",
             "size": 10,
             "solidity": 0.2
            },
            "type": "scatter"
           }
          ],
          "scatter3d": [
           {
            "line": {
             "colorbar": {
              "outlinewidth": 0,
              "ticks": ""
             }
            },
            "marker": {
             "colorbar": {
              "outlinewidth": 0,
              "ticks": ""
             }
            },
            "type": "scatter3d"
           }
          ],
          "scattercarpet": [
           {
            "marker": {
             "colorbar": {
              "outlinewidth": 0,
              "ticks": ""
             }
            },
            "type": "scattercarpet"
           }
          ],
          "scattergeo": [
           {
            "marker": {
             "colorbar": {
              "outlinewidth": 0,
              "ticks": ""
             }
            },
            "type": "scattergeo"
           }
          ],
          "scattergl": [
           {
            "marker": {
             "colorbar": {
              "outlinewidth": 0,
              "ticks": ""
             }
            },
            "type": "scattergl"
           }
          ],
          "scattermap": [
           {
            "marker": {
             "colorbar": {
              "outlinewidth": 0,
              "ticks": ""
             }
            },
            "type": "scattermap"
           }
          ],
          "scattermapbox": [
           {
            "marker": {
             "colorbar": {
              "outlinewidth": 0,
              "ticks": ""
             }
            },
            "type": "scattermapbox"
           }
          ],
          "scatterpolar": [
           {
            "marker": {
             "colorbar": {
              "outlinewidth": 0,
              "ticks": ""
             }
            },
            "type": "scatterpolar"
           }
          ],
          "scatterpolargl": [
           {
            "marker": {
             "colorbar": {
              "outlinewidth": 0,
              "ticks": ""
             }
            },
            "type": "scatterpolargl"
           }
          ],
          "scatterternary": [
           {
            "marker": {
             "colorbar": {
              "outlinewidth": 0,
              "ticks": ""
             }
            },
            "type": "scatterternary"
           }
          ],
          "surface": [
           {
            "colorbar": {
             "outlinewidth": 0,
             "ticks": ""
            },
            "colorscale": [
             [
              0,
              "#0d0887"
             ],
             [
              0.1111111111111111,
              "#46039f"
             ],
             [
              0.2222222222222222,
              "#7201a8"
             ],
             [
              0.3333333333333333,
              "#9c179e"
             ],
             [
              0.4444444444444444,
              "#bd3786"
             ],
             [
              0.5555555555555556,
              "#d8576b"
             ],
             [
              0.6666666666666666,
              "#ed7953"
             ],
             [
              0.7777777777777778,
              "#fb9f3a"
             ],
             [
              0.8888888888888888,
              "#fdca26"
             ],
             [
              1,
              "#f0f921"
             ]
            ],
            "type": "surface"
           }
          ],
          "table": [
           {
            "cells": {
             "fill": {
              "color": "#EBF0F8"
             },
             "line": {
              "color": "white"
             }
            },
            "header": {
             "fill": {
              "color": "#C8D4E3"
             },
             "line": {
              "color": "white"
             }
            },
            "type": "table"
           }
          ]
         },
         "layout": {
          "annotationdefaults": {
           "arrowcolor": "#2a3f5f",
           "arrowhead": 0,
           "arrowwidth": 1
          },
          "autotypenumbers": "strict",
          "coloraxis": {
           "colorbar": {
            "outlinewidth": 0,
            "ticks": ""
           }
          },
          "colorscale": {
           "diverging": [
            [
             0,
             "#8e0152"
            ],
            [
             0.1,
             "#c51b7d"
            ],
            [
             0.2,
             "#de77ae"
            ],
            [
             0.3,
             "#f1b6da"
            ],
            [
             0.4,
             "#fde0ef"
            ],
            [
             0.5,
             "#f7f7f7"
            ],
            [
             0.6,
             "#e6f5d0"
            ],
            [
             0.7,
             "#b8e186"
            ],
            [
             0.8,
             "#7fbc41"
            ],
            [
             0.9,
             "#4d9221"
            ],
            [
             1,
             "#276419"
            ]
           ],
           "sequential": [
            [
             0,
             "#0d0887"
            ],
            [
             0.1111111111111111,
             "#46039f"
            ],
            [
             0.2222222222222222,
             "#7201a8"
            ],
            [
             0.3333333333333333,
             "#9c179e"
            ],
            [
             0.4444444444444444,
             "#bd3786"
            ],
            [
             0.5555555555555556,
             "#d8576b"
            ],
            [
             0.6666666666666666,
             "#ed7953"
            ],
            [
             0.7777777777777778,
             "#fb9f3a"
            ],
            [
             0.8888888888888888,
             "#fdca26"
            ],
            [
             1,
             "#f0f921"
            ]
           ],
           "sequentialminus": [
            [
             0,
             "#0d0887"
            ],
            [
             0.1111111111111111,
             "#46039f"
            ],
            [
             0.2222222222222222,
             "#7201a8"
            ],
            [
             0.3333333333333333,
             "#9c179e"
            ],
            [
             0.4444444444444444,
             "#bd3786"
            ],
            [
             0.5555555555555556,
             "#d8576b"
            ],
            [
             0.6666666666666666,
             "#ed7953"
            ],
            [
             0.7777777777777778,
             "#fb9f3a"
            ],
            [
             0.8888888888888888,
             "#fdca26"
            ],
            [
             1,
             "#f0f921"
            ]
           ]
          },
          "colorway": [
           "#636efa",
           "#EF553B",
           "#00cc96",
           "#ab63fa",
           "#FFA15A",
           "#19d3f3",
           "#FF6692",
           "#B6E880",
           "#FF97FF",
           "#FECB52"
          ],
          "font": {
           "color": "#2a3f5f"
          },
          "geo": {
           "bgcolor": "white",
           "lakecolor": "white",
           "landcolor": "#E5ECF6",
           "showlakes": true,
           "showland": true,
           "subunitcolor": "white"
          },
          "hoverlabel": {
           "align": "left"
          },
          "hovermode": "closest",
          "mapbox": {
           "style": "light"
          },
          "paper_bgcolor": "white",
          "plot_bgcolor": "#E5ECF6",
          "polar": {
           "angularaxis": {
            "gridcolor": "white",
            "linecolor": "white",
            "ticks": ""
           },
           "bgcolor": "#E5ECF6",
           "radialaxis": {
            "gridcolor": "white",
            "linecolor": "white",
            "ticks": ""
           }
          },
          "scene": {
           "xaxis": {
            "backgroundcolor": "#E5ECF6",
            "gridcolor": "white",
            "gridwidth": 2,
            "linecolor": "white",
            "showbackground": true,
            "ticks": "",
            "zerolinecolor": "white"
           },
           "yaxis": {
            "backgroundcolor": "#E5ECF6",
            "gridcolor": "white",
            "gridwidth": 2,
            "linecolor": "white",
            "showbackground": true,
            "ticks": "",
            "zerolinecolor": "white"
           },
           "zaxis": {
            "backgroundcolor": "#E5ECF6",
            "gridcolor": "white",
            "gridwidth": 2,
            "linecolor": "white",
            "showbackground": true,
            "ticks": "",
            "zerolinecolor": "white"
           }
          },
          "shapedefaults": {
           "line": {
            "color": "#2a3f5f"
           }
          },
          "ternary": {
           "aaxis": {
            "gridcolor": "white",
            "linecolor": "white",
            "ticks": ""
           },
           "baxis": {
            "gridcolor": "white",
            "linecolor": "white",
            "ticks": ""
           },
           "bgcolor": "#E5ECF6",
           "caxis": {
            "gridcolor": "white",
            "linecolor": "white",
            "ticks": ""
           }
          },
          "title": {
           "x": 0.05
          },
          "xaxis": {
           "automargin": true,
           "gridcolor": "white",
           "linecolor": "white",
           "ticks": "",
           "title": {
            "standoff": 15
           },
           "zerolinecolor": "white",
           "zerolinewidth": 2
          },
          "yaxis": {
           "automargin": true,
           "gridcolor": "white",
           "linecolor": "white",
           "ticks": "",
           "title": {
            "standoff": 15
           },
           "zerolinecolor": "white",
           "zerolinewidth": 2
          }
         }
        },
        "title": {
         "text": "Logit Difference (president - ghosts)"
        },
        "width": 1200,
        "xaxis": {
         "anchor": "y",
         "constrain": "domain",
         "domain": [
          0,
          0.31999999999999995
         ],
         "scaleanchor": "y",
         "title": {
          "text": "Sequence Position"
         }
        },
        "xaxis2": {
         "anchor": "y2",
         "domain": [
          0.33999999999999997,
          0.6599999999999999
         ],
         "matches": "x",
         "title": {
          "text": "Sequence Position"
         }
        },
        "xaxis3": {
         "anchor": "y3",
         "domain": [
          0.6799999999999999,
          0.9999999999999999
         ],
         "matches": "x",
         "title": {
          "text": "Sequence Position"
         }
        },
        "yaxis": {
         "anchor": "x",
         "autorange": "reversed",
         "constrain": "domain",
         "domain": [
          0,
          1
         ],
         "title": {
          "text": "Layer"
         }
        },
        "yaxis2": {
         "anchor": "x2",
         "domain": [
          0,
          1
         ],
         "matches": "y",
         "showticklabels": false
        },
        "yaxis3": {
         "anchor": "x3",
         "domain": [
          0,
          1
         ],
         "matches": "y",
         "showticklabels": false
        }
       }
      }
     },
     "metadata": {},
     "output_type": "display_data"
    }
   ],
   "source": [
    "imshow(\n",
    "    act_patch_block_every,\n",
    "    x=['<endoftext>','The', 'White/Haunted', 'House', 'is', 'where', 'the'],\n",
    "    facet_col=0,\n",
    "    facet_labels=['Residual Stream', 'Attn Output', 'MLP Output'],\n",
    "    title='Logit Difference (president - ghosts)',\n",
    "    labels={'x': 'Sequence Position', 'y': 'Layer'},\n",
    "    width=1200,\n",
    ")"
   ]
  },
  {
   "cell_type": "markdown",
   "id": "ba2ab8c6",
   "metadata": {},
   "source": [
    "# 5. Head patching\n",
    "\n",
    "In order to properly patch in the attention heads, three dimensions are needed: the layer, the head and the position. The code below patches a head's output over all sequence positions, and returns the results (for each head in the model).\n",
    "\n",
    "In the plot, we see some of the heads that we observed in our attention plots at the end of last section (e.g. 9.9 having a large positive score, and 10.7 having a large negative score). But we can also see some other important heads, for instance:\n",
    "\n",
    "- in layers 7-8, there are several important heads. We might deduce that these are the ones responsible for moving information from the second subject to end.\n",
    "- in the earlier layers, there are some more important heads (e.g. 3.0 and 5.5). We might guess these are performing some primitive logic, e.g. causing the second \" John\" token to attend to previous instances of itself."
   ]
  },
  {
   "cell_type": "code",
   "execution_count": 18,
   "id": "c71a39b4",
   "metadata": {},
   "outputs": [
    {
     "name": "stderr",
     "output_type": "stream",
     "text": [
      "100%|██████████| 144/144 [00:08<00:00, 16.98it/s]\n"
     ]
    },
    {
     "data": {
      "application/vnd.plotly.v1+json": {
       "config": {
        "plotlyServerURL": "https://plot.ly",
        "staticPlot": false
       },
       "data": [
        {
         "coloraxis": "coloraxis",
         "hovertemplate": "Head: %{x}<br>Layer: %{y}<br>color: %{z}<extra></extra>",
         "name": "0",
         "type": "heatmap",
         "xaxis": "x",
         "yaxis": "y",
         "z": {
          "bdata": "zfn3Ojl3Fj23gKM62iVMO4oMPLvzVoo8DQM9u6uqDbtRCi67bBniO6P3CLu3TVq6KjAiuXXzV7oHit+58fEKO0P35rmOKIQ7tA++OrkH/roJh5K58QihOgS9jDlmZI+7UB/GOadUMzuGfM+5k1MGOvcIUrpUm3C4sdEhOBzagbpA7+c5r8ixO6Xci7g6OZ26X9DzPeVU7bomkQK6w/2fuh4Uojy9FAy6IrcHPC06H7vUDoW6IwkHu2Bqtrpjlao5csGTu3cPCztIzcS6QIo2PTMGI7xPMmc5727oO1u7QrwAkpG6Gj5LOZOcS7nRwpI7nYYVu/if+TpkEUA73FgcO9fu/7pJOqg+kXXTujCJ5TesrwG8r95PPMI2rDw95ou7J7o7Pdz6FTypNzi7LDQlO+/VULtrxDa7qkFWvPkxSDtvf4I6h8P1PSqssLlJ5Gg6a62ZuUhK5jzr5QE4bDoePjYVcrkodQa84DXDOpxbL7rqdye8JAw+PoGP1LZZhRA6inmQubHRITjCo2y6C1dUPP+JJzma3v+7sRCTPua/UTsF0EI7JbfSuMrKgz6X4lg7jwmEOorKRrrd2aU7NyC+PMW+J73lDIw8O4CXva7/mj04dvy5jBRkPuzdnjk6WJ26UbiwPfU9szyU6ZO8b/gTPMBlV7rlFuY5C2xEPWsvz74c9ZM559uEPBdNaT04sSg7QVrMOwAwlry+uPm9N5UQPNFHaDpr4705wW7AvJn+kjuZvg08Gf89vOmfZ74q6je6",
          "dtype": "f4",
          "shape": "12, 12"
         }
        }
       ],
       "layout": {
        "coloraxis": {
         "cmid": 0,
         "colorscale": [
          [
           0,
           "rgb(103,0,31)"
          ],
          [
           0.1,
           "rgb(178,24,43)"
          ],
          [
           0.2,
           "rgb(214,96,77)"
          ],
          [
           0.3,
           "rgb(244,165,130)"
          ],
          [
           0.4,
           "rgb(253,219,199)"
          ],
          [
           0.5,
           "rgb(247,247,247)"
          ],
          [
           0.6,
           "rgb(209,229,240)"
          ],
          [
           0.7,
           "rgb(146,197,222)"
          ],
          [
           0.8,
           "rgb(67,147,195)"
          ],
          [
           0.9,
           "rgb(33,102,172)"
          ],
          [
           1,
           "rgb(5,48,97)"
          ]
         ]
        },
        "template": {
         "data": {
          "bar": [
           {
            "error_x": {
             "color": "#2a3f5f"
            },
            "error_y": {
             "color": "#2a3f5f"
            },
            "marker": {
             "line": {
              "color": "#E5ECF6",
              "width": 0.5
             },
             "pattern": {
              "fillmode": "overlay",
              "size": 10,
              "solidity": 0.2
             }
            },
            "type": "bar"
           }
          ],
          "barpolar": [
           {
            "marker": {
             "line": {
              "color": "#E5ECF6",
              "width": 0.5
             },
             "pattern": {
              "fillmode": "overlay",
              "size": 10,
              "solidity": 0.2
             }
            },
            "type": "barpolar"
           }
          ],
          "carpet": [
           {
            "aaxis": {
             "endlinecolor": "#2a3f5f",
             "gridcolor": "white",
             "linecolor": "white",
             "minorgridcolor": "white",
             "startlinecolor": "#2a3f5f"
            },
            "baxis": {
             "endlinecolor": "#2a3f5f",
             "gridcolor": "white",
             "linecolor": "white",
             "minorgridcolor": "white",
             "startlinecolor": "#2a3f5f"
            },
            "type": "carpet"
           }
          ],
          "choropleth": [
           {
            "colorbar": {
             "outlinewidth": 0,
             "ticks": ""
            },
            "type": "choropleth"
           }
          ],
          "contour": [
           {
            "colorbar": {
             "outlinewidth": 0,
             "ticks": ""
            },
            "colorscale": [
             [
              0,
              "#0d0887"
             ],
             [
              0.1111111111111111,
              "#46039f"
             ],
             [
              0.2222222222222222,
              "#7201a8"
             ],
             [
              0.3333333333333333,
              "#9c179e"
             ],
             [
              0.4444444444444444,
              "#bd3786"
             ],
             [
              0.5555555555555556,
              "#d8576b"
             ],
             [
              0.6666666666666666,
              "#ed7953"
             ],
             [
              0.7777777777777778,
              "#fb9f3a"
             ],
             [
              0.8888888888888888,
              "#fdca26"
             ],
             [
              1,
              "#f0f921"
             ]
            ],
            "type": "contour"
           }
          ],
          "contourcarpet": [
           {
            "colorbar": {
             "outlinewidth": 0,
             "ticks": ""
            },
            "type": "contourcarpet"
           }
          ],
          "heatmap": [
           {
            "colorbar": {
             "outlinewidth": 0,
             "ticks": ""
            },
            "colorscale": [
             [
              0,
              "#0d0887"
             ],
             [
              0.1111111111111111,
              "#46039f"
             ],
             [
              0.2222222222222222,
              "#7201a8"
             ],
             [
              0.3333333333333333,
              "#9c179e"
             ],
             [
              0.4444444444444444,
              "#bd3786"
             ],
             [
              0.5555555555555556,
              "#d8576b"
             ],
             [
              0.6666666666666666,
              "#ed7953"
             ],
             [
              0.7777777777777778,
              "#fb9f3a"
             ],
             [
              0.8888888888888888,
              "#fdca26"
             ],
             [
              1,
              "#f0f921"
             ]
            ],
            "type": "heatmap"
           }
          ],
          "histogram": [
           {
            "marker": {
             "pattern": {
              "fillmode": "overlay",
              "size": 10,
              "solidity": 0.2
             }
            },
            "type": "histogram"
           }
          ],
          "histogram2d": [
           {
            "colorbar": {
             "outlinewidth": 0,
             "ticks": ""
            },
            "colorscale": [
             [
              0,
              "#0d0887"
             ],
             [
              0.1111111111111111,
              "#46039f"
             ],
             [
              0.2222222222222222,
              "#7201a8"
             ],
             [
              0.3333333333333333,
              "#9c179e"
             ],
             [
              0.4444444444444444,
              "#bd3786"
             ],
             [
              0.5555555555555556,
              "#d8576b"
             ],
             [
              0.6666666666666666,
              "#ed7953"
             ],
             [
              0.7777777777777778,
              "#fb9f3a"
             ],
             [
              0.8888888888888888,
              "#fdca26"
             ],
             [
              1,
              "#f0f921"
             ]
            ],
            "type": "histogram2d"
           }
          ],
          "histogram2dcontour": [
           {
            "colorbar": {
             "outlinewidth": 0,
             "ticks": ""
            },
            "colorscale": [
             [
              0,
              "#0d0887"
             ],
             [
              0.1111111111111111,
              "#46039f"
             ],
             [
              0.2222222222222222,
              "#7201a8"
             ],
             [
              0.3333333333333333,
              "#9c179e"
             ],
             [
              0.4444444444444444,
              "#bd3786"
             ],
             [
              0.5555555555555556,
              "#d8576b"
             ],
             [
              0.6666666666666666,
              "#ed7953"
             ],
             [
              0.7777777777777778,
              "#fb9f3a"
             ],
             [
              0.8888888888888888,
              "#fdca26"
             ],
             [
              1,
              "#f0f921"
             ]
            ],
            "type": "histogram2dcontour"
           }
          ],
          "mesh3d": [
           {
            "colorbar": {
             "outlinewidth": 0,
             "ticks": ""
            },
            "type": "mesh3d"
           }
          ],
          "parcoords": [
           {
            "line": {
             "colorbar": {
              "outlinewidth": 0,
              "ticks": ""
             }
            },
            "type": "parcoords"
           }
          ],
          "pie": [
           {
            "automargin": true,
            "type": "pie"
           }
          ],
          "scatter": [
           {
            "fillpattern": {
             "fillmode": "overlay",
             "size": 10,
             "solidity": 0.2
            },
            "type": "scatter"
           }
          ],
          "scatter3d": [
           {
            "line": {
             "colorbar": {
              "outlinewidth": 0,
              "ticks": ""
             }
            },
            "marker": {
             "colorbar": {
              "outlinewidth": 0,
              "ticks": ""
             }
            },
            "type": "scatter3d"
           }
          ],
          "scattercarpet": [
           {
            "marker": {
             "colorbar": {
              "outlinewidth": 0,
              "ticks": ""
             }
            },
            "type": "scattercarpet"
           }
          ],
          "scattergeo": [
           {
            "marker": {
             "colorbar": {
              "outlinewidth": 0,
              "ticks": ""
             }
            },
            "type": "scattergeo"
           }
          ],
          "scattergl": [
           {
            "marker": {
             "colorbar": {
              "outlinewidth": 0,
              "ticks": ""
             }
            },
            "type": "scattergl"
           }
          ],
          "scattermap": [
           {
            "marker": {
             "colorbar": {
              "outlinewidth": 0,
              "ticks": ""
             }
            },
            "type": "scattermap"
           }
          ],
          "scattermapbox": [
           {
            "marker": {
             "colorbar": {
              "outlinewidth": 0,
              "ticks": ""
             }
            },
            "type": "scattermapbox"
           }
          ],
          "scatterpolar": [
           {
            "marker": {
             "colorbar": {
              "outlinewidth": 0,
              "ticks": ""
             }
            },
            "type": "scatterpolar"
           }
          ],
          "scatterpolargl": [
           {
            "marker": {
             "colorbar": {
              "outlinewidth": 0,
              "ticks": ""
             }
            },
            "type": "scatterpolargl"
           }
          ],
          "scatterternary": [
           {
            "marker": {
             "colorbar": {
              "outlinewidth": 0,
              "ticks": ""
             }
            },
            "type": "scatterternary"
           }
          ],
          "surface": [
           {
            "colorbar": {
             "outlinewidth": 0,
             "ticks": ""
            },
            "colorscale": [
             [
              0,
              "#0d0887"
             ],
             [
              0.1111111111111111,
              "#46039f"
             ],
             [
              0.2222222222222222,
              "#7201a8"
             ],
             [
              0.3333333333333333,
              "#9c179e"
             ],
             [
              0.4444444444444444,
              "#bd3786"
             ],
             [
              0.5555555555555556,
              "#d8576b"
             ],
             [
              0.6666666666666666,
              "#ed7953"
             ],
             [
              0.7777777777777778,
              "#fb9f3a"
             ],
             [
              0.8888888888888888,
              "#fdca26"
             ],
             [
              1,
              "#f0f921"
             ]
            ],
            "type": "surface"
           }
          ],
          "table": [
           {
            "cells": {
             "fill": {
              "color": "#EBF0F8"
             },
             "line": {
              "color": "white"
             }
            },
            "header": {
             "fill": {
              "color": "#C8D4E3"
             },
             "line": {
              "color": "white"
             }
            },
            "type": "table"
           }
          ]
         },
         "layout": {
          "annotationdefaults": {
           "arrowcolor": "#2a3f5f",
           "arrowhead": 0,
           "arrowwidth": 1
          },
          "autotypenumbers": "strict",
          "coloraxis": {
           "colorbar": {
            "outlinewidth": 0,
            "ticks": ""
           }
          },
          "colorscale": {
           "diverging": [
            [
             0,
             "#8e0152"
            ],
            [
             0.1,
             "#c51b7d"
            ],
            [
             0.2,
             "#de77ae"
            ],
            [
             0.3,
             "#f1b6da"
            ],
            [
             0.4,
             "#fde0ef"
            ],
            [
             0.5,
             "#f7f7f7"
            ],
            [
             0.6,
             "#e6f5d0"
            ],
            [
             0.7,
             "#b8e186"
            ],
            [
             0.8,
             "#7fbc41"
            ],
            [
             0.9,
             "#4d9221"
            ],
            [
             1,
             "#276419"
            ]
           ],
           "sequential": [
            [
             0,
             "#0d0887"
            ],
            [
             0.1111111111111111,
             "#46039f"
            ],
            [
             0.2222222222222222,
             "#7201a8"
            ],
            [
             0.3333333333333333,
             "#9c179e"
            ],
            [
             0.4444444444444444,
             "#bd3786"
            ],
            [
             0.5555555555555556,
             "#d8576b"
            ],
            [
             0.6666666666666666,
             "#ed7953"
            ],
            [
             0.7777777777777778,
             "#fb9f3a"
            ],
            [
             0.8888888888888888,
             "#fdca26"
            ],
            [
             1,
             "#f0f921"
            ]
           ],
           "sequentialminus": [
            [
             0,
             "#0d0887"
            ],
            [
             0.1111111111111111,
             "#46039f"
            ],
            [
             0.2222222222222222,
             "#7201a8"
            ],
            [
             0.3333333333333333,
             "#9c179e"
            ],
            [
             0.4444444444444444,
             "#bd3786"
            ],
            [
             0.5555555555555556,
             "#d8576b"
            ],
            [
             0.6666666666666666,
             "#ed7953"
            ],
            [
             0.7777777777777778,
             "#fb9f3a"
            ],
            [
             0.8888888888888888,
             "#fdca26"
            ],
            [
             1,
             "#f0f921"
            ]
           ]
          },
          "colorway": [
           "#636efa",
           "#EF553B",
           "#00cc96",
           "#ab63fa",
           "#FFA15A",
           "#19d3f3",
           "#FF6692",
           "#B6E880",
           "#FF97FF",
           "#FECB52"
          ],
          "font": {
           "color": "#2a3f5f"
          },
          "geo": {
           "bgcolor": "white",
           "lakecolor": "white",
           "landcolor": "#E5ECF6",
           "showlakes": true,
           "showland": true,
           "subunitcolor": "white"
          },
          "hoverlabel": {
           "align": "left"
          },
          "hovermode": "closest",
          "mapbox": {
           "style": "light"
          },
          "paper_bgcolor": "white",
          "plot_bgcolor": "#E5ECF6",
          "polar": {
           "angularaxis": {
            "gridcolor": "white",
            "linecolor": "white",
            "ticks": ""
           },
           "bgcolor": "#E5ECF6",
           "radialaxis": {
            "gridcolor": "white",
            "linecolor": "white",
            "ticks": ""
           }
          },
          "scene": {
           "xaxis": {
            "backgroundcolor": "#E5ECF6",
            "gridcolor": "white",
            "gridwidth": 2,
            "linecolor": "white",
            "showbackground": true,
            "ticks": "",
            "zerolinecolor": "white"
           },
           "yaxis": {
            "backgroundcolor": "#E5ECF6",
            "gridcolor": "white",
            "gridwidth": 2,
            "linecolor": "white",
            "showbackground": true,
            "ticks": "",
            "zerolinecolor": "white"
           },
           "zaxis": {
            "backgroundcolor": "#E5ECF6",
            "gridcolor": "white",
            "gridwidth": 2,
            "linecolor": "white",
            "showbackground": true,
            "ticks": "",
            "zerolinecolor": "white"
           }
          },
          "shapedefaults": {
           "line": {
            "color": "#2a3f5f"
           }
          },
          "ternary": {
           "aaxis": {
            "gridcolor": "white",
            "linecolor": "white",
            "ticks": ""
           },
           "baxis": {
            "gridcolor": "white",
            "linecolor": "white",
            "ticks": ""
           },
           "bgcolor": "#E5ECF6",
           "caxis": {
            "gridcolor": "white",
            "linecolor": "white",
            "ticks": ""
           }
          },
          "title": {
           "x": 0.05
          },
          "xaxis": {
           "automargin": true,
           "gridcolor": "white",
           "linecolor": "white",
           "ticks": "",
           "title": {
            "standoff": 15
           },
           "zerolinecolor": "white",
           "zerolinewidth": 2
          },
          "yaxis": {
           "automargin": true,
           "gridcolor": "white",
           "linecolor": "white",
           "ticks": "",
           "title": {
            "standoff": 15
           },
           "zerolinecolor": "white",
           "zerolinewidth": 2
          }
         }
        },
        "title": {
         "text": "attn_head_out Activation Patching (All Pos)"
        },
        "width": 600,
        "xaxis": {
         "anchor": "y",
         "constrain": "domain",
         "domain": [
          0,
          1
         ],
         "scaleanchor": "y",
         "title": {
          "text": "Head"
         }
        },
        "yaxis": {
         "anchor": "x",
         "autorange": "reversed",
         "constrain": "domain",
         "domain": [
          0,
          1
         ],
         "title": {
          "text": "Layer"
         }
        }
       }
      }
     },
     "metadata": {},
     "output_type": "display_data"
    }
   ],
   "source": [
    "act_patch_attn_head_out_all_pos = patching.get_act_patch_attn_head_out_all_pos(\n",
    "    model, corrupted_tokens, clean_cache, ioi_metric\n",
    ")\n",
    "\n",
    "imshow(\n",
    "    act_patch_attn_head_out_all_pos,\n",
    "    labels={'y': 'Layer', 'x': 'Head'},\n",
    "    title='attn_head_out Activation Patching (All Pos)',\n",
    "    width=600,\n",
    ")"
   ]
  },
  {
   "cell_type": "markdown",
   "id": "66f1c5b7",
   "metadata": {},
   "source": [
    "# 6. Decomposing heads\n",
    "\n",
    "Decomposing attention layers into patching in individual heads has already helped us localize the behaviour a lot. But we can understand it further by decomposing heads. An attention head consists of two semi-independent operations - calculating where to move information from and to (represented by the attention pattern and implemented via the QK-circuit) and calculating what information to move (represented by the value vectors and implemented by the OV circuit). We can disentangle which of these is important by patching in just the attention pattern or the value vectors.\n",
    "\n",
    "Rather than just patching on head output, it patches on:\n",
    "\n",
    "- output, equivalent to patching the value the head writes to the residual stream\n",
    "- queries, without changing the key or value vectors\n",
    "- keys, without changing the query or value vectors\n",
    "- values, without changing the query or key vectors\n",
    "- attention patterns\n",
    "\n",
    "The plot below shows at least three different groups of heads:\n",
    "\n",
    "- earlier heads (3.0, 5.5, 6.9): matter only in relation to their query vectors and attention patterns.\n",
    "- middle heads (7.3, 7.9, 8.6, 8.10): matter only in relation to their value vectors.\n",
    "- later heads (9.9, 10.0): matter because of their query vectors, which improve the logit difference "
   ]
  },
  {
   "cell_type": "code",
   "execution_count": 19,
   "id": "9dcd25d0",
   "metadata": {},
   "outputs": [
    {
     "name": "stderr",
     "output_type": "stream",
     "text": [
      "100%|██████████| 144/144 [00:07<00:00, 18.11it/s]\n",
      "100%|██████████| 144/144 [00:08<00:00, 17.73it/s]\n",
      "100%|██████████| 144/144 [00:08<00:00, 17.72it/s]\n",
      "100%|██████████| 144/144 [00:08<00:00, 17.53it/s]\n",
      "100%|██████████| 144/144 [00:07<00:00, 18.00it/s]\n"
     ]
    },
    {
     "data": {
      "application/vnd.plotly.v1+json": {
       "config": {
        "plotlyServerURL": "https://plot.ly",
        "staticPlot": false
       },
       "data": [
        {
         "coloraxis": "coloraxis",
         "hovertemplate": "Head: %{x}<br>Layer: %{y}<br>color: %{z}<extra></extra>",
         "name": "0",
         "type": "heatmap",
         "xaxis": "x",
         "yaxis": "y",
         "z": {
          "bdata": "zfn3Ojl3Fj23gKM62iVMO4oMPLvzVoo8DQM9u6uqDbtRCi67bBniO6P3CLu3TVq6KjAiuXXzV7oHit+58fEKO0P35rmOKIQ7tA++OrkH/roJh5K58QihOgS9jDlmZI+7UB/GOadUMzuGfM+5k1MGOvcIUrpUm3C4sdEhOBzagbpA7+c5r8ixO6Xci7g6OZ26X9DzPeVU7bomkQK6w/2fuh4Uojy9FAy6IrcHPC06H7vUDoW6IwkHu2Bqtrpjlao5csGTu3cPCztIzcS6QIo2PTMGI7xPMmc5727oO1u7QrwAkpG6Gj5LOZOcS7nRwpI7nYYVu/if+TpkEUA73FgcO9fu/7pJOqg+kXXTujCJ5TesrwG8r95PPMI2rDw95ou7J7o7Pdz6FTypNzi7LDQlO+/VULtrxDa7qkFWvPkxSDtvf4I6h8P1PSqssLlJ5Gg6a62ZuUhK5jzr5QE4bDoePjYVcrkodQa84DXDOpxbL7rqdye8JAw+PoGP1LZZhRA6inmQubHRITjCo2y6C1dUPP+JJzma3v+7sRCTPua/UTsF0EI7JbfSuMrKgz6X4lg7jwmEOorKRrrd2aU7NyC+PMW+J73lDIw8O4CXva7/mj04dvy5jBRkPuzdnjk6WJ26UbiwPfU9szyU6ZO8b/gTPMBlV7rlFuY5C2xEPWsvz74c9ZM559uEPBdNaT04sSg7QVrMOwAwlry+uPm9N5UQPNFHaDpr4705wW7AvJn+kjuZvg08Gf89vOmfZ74q6je6",
          "dtype": "f4",
          "shape": "12, 12"
         }
        },
        {
         "coloraxis": "coloraxis",
         "hovertemplate": "Head: %{x}<br>Layer: %{y}<br>color: %{z}<extra></extra>",
         "name": "1",
         "type": "heatmap",
         "xaxis": "x2",
         "yaxis": "y2",
         "z": {
          "bdata": "NNfcOfPQfzwlt8s69Tg1PV7BwzuE8Gw8NkBKu7Vm4DvZyD27w32cuwKJvby5i++5N0wwO3CKTjoRWRc5cS1HO1Mf4rgUvR48/SCzOlqM7rpnT1y6kA0AOr1CRjnCQvC66IlCO/6DrTsWUqA8L4vcO66DODg96108+qgEO+VRkjg2WIG5D6FgPXOaMDpoesK6Hyf4PTZzE7utzPa6+qfquQIZ8zz+t9o6b063OyJMjzxacVw7tQ9FOTEKCjroota5EySAu+w+IjsgRl+6j5TMOtcdTbvXcvG6VelLu/IX4rqNHJ66RgdJuZBDJLqug7i2NY4Xu7oq+jo5Gg868RCLOp0odLpXNag+Ltkiu7KD1Lnk8gW8vf/RPLibhjx2Kha72lSZueLgMzof3A27z5kcOwL+YLt6Noo7YxE5uoC6LDveAY87EiD1PQhBITqsjmg6Fy5puUz67Dy7q5c4ilKtutmVezn+gTa6Ffg2Omj20Lky5xQ5U1KkutCCBjmpgw46ErqaOkyApjmKuvk65QUGPTYV8rcrZs26/yu1PBp80rngAxs7NS2bORvv6rzh1hU8/5MIO7784roVmAM88CsWOit/4byPeTo7nr+UvYwyhrzv64k78EqEPo15LLm0gIe5PrvpPY3HAD1o8iU86PyCPATzsDpCpjC6feRwPZHJAL/YtYc55BZfu9Zblz0cu4E7EMHcOiCCnjylPaO9sYLVuwtRg7qshSG7gNW3OtXbSbhpanw3zVn1u2KMrL5in4S7",
          "dtype": "f4",
          "shape": "12, 12"
         }
        },
        {
         "coloraxis": "coloraxis",
         "hovertemplate": "Head: %{x}<br>Layer: %{y}<br>color: %{z}<extra></extra>",
         "name": "2",
         "type": "heatmap",
         "xaxis": "x3",
         "yaxis": "y3",
         "z": {
          "bdata": "GJdWOX2QN7ytrpA6+CgOPSlTFzz0eYa6ni2DOiTJjzuYBVU5nDMXvDF61Lx7STm6Ln6ZO7ptkDql3As4huW1Ojlj2zlDAz87jJSwOXkTDjnbuP44ZLitOcCITDmIt4k7cSNmO3KtUbqM5bA8V/DEO354Iju8VDk8tOTeNxzV+bjtPim6ePpXPQ0eT7nIy5O5fBuNu3yqvLnXEg+7NrR1unEd+jtAaBs6c2fuO/p2ujwmIjA7ZD96uam9p7oGNbS6xfFVuZ7fLjmYv2o5OHOhuFXGVrqsroI511UDvD4t4TpZZXY6rsE/OSgFvLkqKD+4u6sXOKwt7LS5BKM5gumHuuOyADlwrcO4ptSouR66dTll5u45FDITPYUzAzqDqnS4gYfxOCU/MrudZnu5hZ+9ujuDgzo99zW7W6iauzoiALrawNq6N0BYuK+2AbmGM4q4QGgbuR/igLix2YQ27vBbuXZJFrprrRk6jiN8OZZeYLcxa4a4LwKSOjYVcrcKVFe59HEcOudkT7jIoLu63QzNO7pwazgKoqu64qA1vEIqIjqMlLC5ZtuwOZqm5LziA6k4SypoOaixQTlFcCg6QpOBOYGP1LejdnI6q/8xu33vBrxYDF04ttBMPOxZLbl+fBe5nUYQPC6dGTvzziO7rFDoOp7MBjrgf6k5HLkDOwKLNb7s3R450D4Tu+Kx3zqH5Ty5NpljucVSUjsSsLm7p4Ziu9XbyTiK7bu5i3G0uv6BtrlK2bE6Op6HupxIAr73Xom6",
          "dtype": "f4",
          "shape": "12, 12"
         }
        },
        {
         "coloraxis": "coloraxis",
         "hovertemplate": "Head: %{x}<br>Layer: %{y}<br>color: %{z}<extra></extra>",
         "name": "3",
         "type": "heatmap",
         "xaxis": "x4",
         "yaxis": "y4",
         "z": {
          "bdata": "k5zLuKX6QjwB8xQ63+9RO18FPrsmros79Ag9OvjCbjg3QFg65VESOsLhB7ydxBy6RgfJuPqn6rlZ5gy6fB5ouaSpQrnfeS+7j9q2OM/TLrn3OxQ6MSj3OQDASzkPe+u6C3+9OHHYorp/RAO7VLsKupzyz7r65XG4ivh5ujgaiLpaaow4rzVrOsLxOboOzSa6Xk+WOiVDJ7l7tfq5V7smuvyJi7okoCe7j2kIPIGni7rxRqg3ClTXuXqSfrqaYwS6SIAKuvGyabrt3Sy6EpQvPQI2F7x1mr45qI7MOqyKerxUzrm4DLXhOYGyyTlU2pE7XFJjNoPlIDdz9zc7OX5tOuK9vrrwTgs4jOIEOnNEcjlqVIC49HkGvD2imDu3Rfe6Ol5aPd3IIzxbu0K6Y8vOOSgNH7nNfQS8T4mJvK7Jojm+F/U6DHfaOO6yVLoHZA+6HNV5OFdiDbvOVyC4c6MsPho+y7gJzQO87WmBOkzGELqpmTO8IJFgPt2SvLgZ0oI4zJUSu1BdTblpQDe753GfvLPsQTnvTeq7JjyQPitDWDvQIYo66vA/uqlahT686qS7ZeeBum61GDrgJhC7pq69PEhQPrxWgmo8N4DWO3FxsD1ZAR+763mlvG6SIzpu+wK6ZfDIvJa/3LtX8d68g/jIu+cW+7o+NUQ6ZgYQvI7mbD2IVg24J/iMPK3VX7xquFe6Ez6TO1xCHb2bCVW9XWGJPBuEvDqjqTs72bbXvCnTkzsqBxI81bRfuwK6oz0gw4A7",
          "dtype": "f4",
          "shape": "12, 12"
         }
        },
        {
         "coloraxis": "coloraxis",
         "hovertemplate": "Head: %{x}<br>Layer: %{y}<br>color: %{z}<extra></extra>",
         "name": "4",
         "type": "heatmap",
         "xaxis": "x5",
         "yaxis": "y5",
         "z": {
          "bdata": "fFzvOckTbzzdVDU6xxw8uaBjtbogx9o7+pBNu/CIHbvKhTe73srXO/zqDrtgJMy52tCnuDJjo7llsEo5yMsaOzNQArmUxrk797eiOheT2rr00hi6FQtfOolGRzfd4oe7ztsROVW8dTv3lK06ZNsiOkRNJTo+KoY5YCwvOpqZKLlF3OI5Yrt6O9bT5jkqMCK6OYnwPVFV8br0jC64sck+uAZwqjzc4AI7IhizuQfFC7vWetS6fF8AuzexmjniA6k5gcqAu4JhITtxnf253lyfOu02v7rfhwW6uH20OwYWtDqhQEe6pd/muYef0rn4wu43kksVu4NJ+DpqGVQ5hcqcOuG1zbkALKg+NrETuwKdZLl7uwG8mBG0PONrfDwFHBm7B+SLuoPo+7qkOPK6LMdQOmg8O7vsIpE7JiwRu9zWKDv5VjS6h1D1PXQmEzokK3A6tOEDumgr7zxaaow41/5Mu1fem7nNNB249K+jOafE4rhinY05b3MjO1gM3ThN9NE5J5TkOt7FhTkSSVE6MBADPTDEEThSsxm7WWV9PA90Gzklzug6nyUnOtqLa7yF/BU8KXgDO99/orrn1vU7UdliOlts77w+5287nJiSvcLj6rvK1YI72MOAPlLxoLmXKMq58A7hPRNl/Twy4yY8vhZ2PO+Mizosx1C5W6RlPSRy9L46c685+MpRumGvlD1V3XM76JrzOjVapzyjio+9FSX5uwgDGroNbCO7trouO9f+zLjAiEw5bFUGvLQUnL7R4ZK7",
          "dtype": "f4",
          "shape": "12, 12"
         }
        }
       ],
       "layout": {
        "annotations": [
         {
          "font": {},
          "showarrow": false,
          "text": "Output",
          "x": 0.09200000000000001,
          "xanchor": "center",
          "xref": "paper",
          "y": 1,
          "yanchor": "bottom",
          "yref": "paper"
         },
         {
          "font": {},
          "showarrow": false,
          "text": "Query",
          "x": 0.29600000000000004,
          "xanchor": "center",
          "xref": "paper",
          "y": 1,
          "yanchor": "bottom",
          "yref": "paper"
         },
         {
          "font": {},
          "showarrow": false,
          "text": "Key",
          "x": 0.5,
          "xanchor": "center",
          "xref": "paper",
          "y": 1,
          "yanchor": "bottom",
          "yref": "paper"
         },
         {
          "font": {},
          "showarrow": false,
          "text": "Value",
          "x": 0.7040000000000002,
          "xanchor": "center",
          "xref": "paper",
          "y": 1,
          "yanchor": "bottom",
          "yref": "paper"
         },
         {
          "font": {},
          "showarrow": false,
          "text": "Pattern",
          "x": 0.908,
          "xanchor": "center",
          "xref": "paper",
          "y": 1,
          "yanchor": "bottom",
          "yref": "paper"
         }
        ],
        "coloraxis": {
         "cmid": 0,
         "colorscale": [
          [
           0,
           "rgb(103,0,31)"
          ],
          [
           0.1,
           "rgb(178,24,43)"
          ],
          [
           0.2,
           "rgb(214,96,77)"
          ],
          [
           0.3,
           "rgb(244,165,130)"
          ],
          [
           0.4,
           "rgb(253,219,199)"
          ],
          [
           0.5,
           "rgb(247,247,247)"
          ],
          [
           0.6,
           "rgb(209,229,240)"
          ],
          [
           0.7,
           "rgb(146,197,222)"
          ],
          [
           0.8,
           "rgb(67,147,195)"
          ],
          [
           0.9,
           "rgb(33,102,172)"
          ],
          [
           1,
           "rgb(5,48,97)"
          ]
         ]
        },
        "template": {
         "data": {
          "bar": [
           {
            "error_x": {
             "color": "#2a3f5f"
            },
            "error_y": {
             "color": "#2a3f5f"
            },
            "marker": {
             "line": {
              "color": "#E5ECF6",
              "width": 0.5
             },
             "pattern": {
              "fillmode": "overlay",
              "size": 10,
              "solidity": 0.2
             }
            },
            "type": "bar"
           }
          ],
          "barpolar": [
           {
            "marker": {
             "line": {
              "color": "#E5ECF6",
              "width": 0.5
             },
             "pattern": {
              "fillmode": "overlay",
              "size": 10,
              "solidity": 0.2
             }
            },
            "type": "barpolar"
           }
          ],
          "carpet": [
           {
            "aaxis": {
             "endlinecolor": "#2a3f5f",
             "gridcolor": "white",
             "linecolor": "white",
             "minorgridcolor": "white",
             "startlinecolor": "#2a3f5f"
            },
            "baxis": {
             "endlinecolor": "#2a3f5f",
             "gridcolor": "white",
             "linecolor": "white",
             "minorgridcolor": "white",
             "startlinecolor": "#2a3f5f"
            },
            "type": "carpet"
           }
          ],
          "choropleth": [
           {
            "colorbar": {
             "outlinewidth": 0,
             "ticks": ""
            },
            "type": "choropleth"
           }
          ],
          "contour": [
           {
            "colorbar": {
             "outlinewidth": 0,
             "ticks": ""
            },
            "colorscale": [
             [
              0,
              "#0d0887"
             ],
             [
              0.1111111111111111,
              "#46039f"
             ],
             [
              0.2222222222222222,
              "#7201a8"
             ],
             [
              0.3333333333333333,
              "#9c179e"
             ],
             [
              0.4444444444444444,
              "#bd3786"
             ],
             [
              0.5555555555555556,
              "#d8576b"
             ],
             [
              0.6666666666666666,
              "#ed7953"
             ],
             [
              0.7777777777777778,
              "#fb9f3a"
             ],
             [
              0.8888888888888888,
              "#fdca26"
             ],
             [
              1,
              "#f0f921"
             ]
            ],
            "type": "contour"
           }
          ],
          "contourcarpet": [
           {
            "colorbar": {
             "outlinewidth": 0,
             "ticks": ""
            },
            "type": "contourcarpet"
           }
          ],
          "heatmap": [
           {
            "colorbar": {
             "outlinewidth": 0,
             "ticks": ""
            },
            "colorscale": [
             [
              0,
              "#0d0887"
             ],
             [
              0.1111111111111111,
              "#46039f"
             ],
             [
              0.2222222222222222,
              "#7201a8"
             ],
             [
              0.3333333333333333,
              "#9c179e"
             ],
             [
              0.4444444444444444,
              "#bd3786"
             ],
             [
              0.5555555555555556,
              "#d8576b"
             ],
             [
              0.6666666666666666,
              "#ed7953"
             ],
             [
              0.7777777777777778,
              "#fb9f3a"
             ],
             [
              0.8888888888888888,
              "#fdca26"
             ],
             [
              1,
              "#f0f921"
             ]
            ],
            "type": "heatmap"
           }
          ],
          "histogram": [
           {
            "marker": {
             "pattern": {
              "fillmode": "overlay",
              "size": 10,
              "solidity": 0.2
             }
            },
            "type": "histogram"
           }
          ],
          "histogram2d": [
           {
            "colorbar": {
             "outlinewidth": 0,
             "ticks": ""
            },
            "colorscale": [
             [
              0,
              "#0d0887"
             ],
             [
              0.1111111111111111,
              "#46039f"
             ],
             [
              0.2222222222222222,
              "#7201a8"
             ],
             [
              0.3333333333333333,
              "#9c179e"
             ],
             [
              0.4444444444444444,
              "#bd3786"
             ],
             [
              0.5555555555555556,
              "#d8576b"
             ],
             [
              0.6666666666666666,
              "#ed7953"
             ],
             [
              0.7777777777777778,
              "#fb9f3a"
             ],
             [
              0.8888888888888888,
              "#fdca26"
             ],
             [
              1,
              "#f0f921"
             ]
            ],
            "type": "histogram2d"
           }
          ],
          "histogram2dcontour": [
           {
            "colorbar": {
             "outlinewidth": 0,
             "ticks": ""
            },
            "colorscale": [
             [
              0,
              "#0d0887"
             ],
             [
              0.1111111111111111,
              "#46039f"
             ],
             [
              0.2222222222222222,
              "#7201a8"
             ],
             [
              0.3333333333333333,
              "#9c179e"
             ],
             [
              0.4444444444444444,
              "#bd3786"
             ],
             [
              0.5555555555555556,
              "#d8576b"
             ],
             [
              0.6666666666666666,
              "#ed7953"
             ],
             [
              0.7777777777777778,
              "#fb9f3a"
             ],
             [
              0.8888888888888888,
              "#fdca26"
             ],
             [
              1,
              "#f0f921"
             ]
            ],
            "type": "histogram2dcontour"
           }
          ],
          "mesh3d": [
           {
            "colorbar": {
             "outlinewidth": 0,
             "ticks": ""
            },
            "type": "mesh3d"
           }
          ],
          "parcoords": [
           {
            "line": {
             "colorbar": {
              "outlinewidth": 0,
              "ticks": ""
             }
            },
            "type": "parcoords"
           }
          ],
          "pie": [
           {
            "automargin": true,
            "type": "pie"
           }
          ],
          "scatter": [
           {
            "fillpattern": {
             "fillmode": "overlay",
             "size": 10,
             "solidity": 0.2
            },
            "type": "scatter"
           }
          ],
          "scatter3d": [
           {
            "line": {
             "colorbar": {
              "outlinewidth": 0,
              "ticks": ""
             }
            },
            "marker": {
             "colorbar": {
              "outlinewidth": 0,
              "ticks": ""
             }
            },
            "type": "scatter3d"
           }
          ],
          "scattercarpet": [
           {
            "marker": {
             "colorbar": {
              "outlinewidth": 0,
              "ticks": ""
             }
            },
            "type": "scattercarpet"
           }
          ],
          "scattergeo": [
           {
            "marker": {
             "colorbar": {
              "outlinewidth": 0,
              "ticks": ""
             }
            },
            "type": "scattergeo"
           }
          ],
          "scattergl": [
           {
            "marker": {
             "colorbar": {
              "outlinewidth": 0,
              "ticks": ""
             }
            },
            "type": "scattergl"
           }
          ],
          "scattermap": [
           {
            "marker": {
             "colorbar": {
              "outlinewidth": 0,
              "ticks": ""
             }
            },
            "type": "scattermap"
           }
          ],
          "scattermapbox": [
           {
            "marker": {
             "colorbar": {
              "outlinewidth": 0,
              "ticks": ""
             }
            },
            "type": "scattermapbox"
           }
          ],
          "scatterpolar": [
           {
            "marker": {
             "colorbar": {
              "outlinewidth": 0,
              "ticks": ""
             }
            },
            "type": "scatterpolar"
           }
          ],
          "scatterpolargl": [
           {
            "marker": {
             "colorbar": {
              "outlinewidth": 0,
              "ticks": ""
             }
            },
            "type": "scatterpolargl"
           }
          ],
          "scatterternary": [
           {
            "marker": {
             "colorbar": {
              "outlinewidth": 0,
              "ticks": ""
             }
            },
            "type": "scatterternary"
           }
          ],
          "surface": [
           {
            "colorbar": {
             "outlinewidth": 0,
             "ticks": ""
            },
            "colorscale": [
             [
              0,
              "#0d0887"
             ],
             [
              0.1111111111111111,
              "#46039f"
             ],
             [
              0.2222222222222222,
              "#7201a8"
             ],
             [
              0.3333333333333333,
              "#9c179e"
             ],
             [
              0.4444444444444444,
              "#bd3786"
             ],
             [
              0.5555555555555556,
              "#d8576b"
             ],
             [
              0.6666666666666666,
              "#ed7953"
             ],
             [
              0.7777777777777778,
              "#fb9f3a"
             ],
             [
              0.8888888888888888,
              "#fdca26"
             ],
             [
              1,
              "#f0f921"
             ]
            ],
            "type": "surface"
           }
          ],
          "table": [
           {
            "cells": {
             "fill": {
              "color": "#EBF0F8"
             },
             "line": {
              "color": "white"
             }
            },
            "header": {
             "fill": {
              "color": "#C8D4E3"
             },
             "line": {
              "color": "white"
             }
            },
            "type": "table"
           }
          ]
         },
         "layout": {
          "annotationdefaults": {
           "arrowcolor": "#2a3f5f",
           "arrowhead": 0,
           "arrowwidth": 1
          },
          "autotypenumbers": "strict",
          "coloraxis": {
           "colorbar": {
            "outlinewidth": 0,
            "ticks": ""
           }
          },
          "colorscale": {
           "diverging": [
            [
             0,
             "#8e0152"
            ],
            [
             0.1,
             "#c51b7d"
            ],
            [
             0.2,
             "#de77ae"
            ],
            [
             0.3,
             "#f1b6da"
            ],
            [
             0.4,
             "#fde0ef"
            ],
            [
             0.5,
             "#f7f7f7"
            ],
            [
             0.6,
             "#e6f5d0"
            ],
            [
             0.7,
             "#b8e186"
            ],
            [
             0.8,
             "#7fbc41"
            ],
            [
             0.9,
             "#4d9221"
            ],
            [
             1,
             "#276419"
            ]
           ],
           "sequential": [
            [
             0,
             "#0d0887"
            ],
            [
             0.1111111111111111,
             "#46039f"
            ],
            [
             0.2222222222222222,
             "#7201a8"
            ],
            [
             0.3333333333333333,
             "#9c179e"
            ],
            [
             0.4444444444444444,
             "#bd3786"
            ],
            [
             0.5555555555555556,
             "#d8576b"
            ],
            [
             0.6666666666666666,
             "#ed7953"
            ],
            [
             0.7777777777777778,
             "#fb9f3a"
            ],
            [
             0.8888888888888888,
             "#fdca26"
            ],
            [
             1,
             "#f0f921"
            ]
           ],
           "sequentialminus": [
            [
             0,
             "#0d0887"
            ],
            [
             0.1111111111111111,
             "#46039f"
            ],
            [
             0.2222222222222222,
             "#7201a8"
            ],
            [
             0.3333333333333333,
             "#9c179e"
            ],
            [
             0.4444444444444444,
             "#bd3786"
            ],
            [
             0.5555555555555556,
             "#d8576b"
            ],
            [
             0.6666666666666666,
             "#ed7953"
            ],
            [
             0.7777777777777778,
             "#fb9f3a"
            ],
            [
             0.8888888888888888,
             "#fdca26"
            ],
            [
             1,
             "#f0f921"
            ]
           ]
          },
          "colorway": [
           "#636efa",
           "#EF553B",
           "#00cc96",
           "#ab63fa",
           "#FFA15A",
           "#19d3f3",
           "#FF6692",
           "#B6E880",
           "#FF97FF",
           "#FECB52"
          ],
          "font": {
           "color": "#2a3f5f"
          },
          "geo": {
           "bgcolor": "white",
           "lakecolor": "white",
           "landcolor": "#E5ECF6",
           "showlakes": true,
           "showland": true,
           "subunitcolor": "white"
          },
          "hoverlabel": {
           "align": "left"
          },
          "hovermode": "closest",
          "mapbox": {
           "style": "light"
          },
          "paper_bgcolor": "white",
          "plot_bgcolor": "#E5ECF6",
          "polar": {
           "angularaxis": {
            "gridcolor": "white",
            "linecolor": "white",
            "ticks": ""
           },
           "bgcolor": "#E5ECF6",
           "radialaxis": {
            "gridcolor": "white",
            "linecolor": "white",
            "ticks": ""
           }
          },
          "scene": {
           "xaxis": {
            "backgroundcolor": "#E5ECF6",
            "gridcolor": "white",
            "gridwidth": 2,
            "linecolor": "white",
            "showbackground": true,
            "ticks": "",
            "zerolinecolor": "white"
           },
           "yaxis": {
            "backgroundcolor": "#E5ECF6",
            "gridcolor": "white",
            "gridwidth": 2,
            "linecolor": "white",
            "showbackground": true,
            "ticks": "",
            "zerolinecolor": "white"
           },
           "zaxis": {
            "backgroundcolor": "#E5ECF6",
            "gridcolor": "white",
            "gridwidth": 2,
            "linecolor": "white",
            "showbackground": true,
            "ticks": "",
            "zerolinecolor": "white"
           }
          },
          "shapedefaults": {
           "line": {
            "color": "#2a3f5f"
           }
          },
          "ternary": {
           "aaxis": {
            "gridcolor": "white",
            "linecolor": "white",
            "ticks": ""
           },
           "baxis": {
            "gridcolor": "white",
            "linecolor": "white",
            "ticks": ""
           },
           "bgcolor": "#E5ECF6",
           "caxis": {
            "gridcolor": "white",
            "linecolor": "white",
            "ticks": ""
           }
          },
          "title": {
           "x": 0.05
          },
          "xaxis": {
           "automargin": true,
           "gridcolor": "white",
           "linecolor": "white",
           "ticks": "",
           "title": {
            "standoff": 15
           },
           "zerolinecolor": "white",
           "zerolinewidth": 2
          },
          "yaxis": {
           "automargin": true,
           "gridcolor": "white",
           "linecolor": "white",
           "ticks": "",
           "title": {
            "standoff": 15
           },
           "zerolinecolor": "white",
           "zerolinewidth": 2
          }
         }
        },
        "title": {
         "text": "Activation Patching Per Head (All Pos)"
        },
        "width": 1200,
        "xaxis": {
         "anchor": "y",
         "constrain": "domain",
         "domain": [
          0,
          0.18400000000000002
         ],
         "scaleanchor": "y",
         "title": {
          "text": "Head"
         }
        },
        "xaxis2": {
         "anchor": "y2",
         "domain": [
          0.20400000000000001,
          0.388
         ],
         "matches": "x",
         "title": {
          "text": "Head"
         }
        },
        "xaxis3": {
         "anchor": "y3",
         "domain": [
          0.40800000000000003,
          0.5920000000000001
         ],
         "matches": "x",
         "title": {
          "text": "Head"
         }
        },
        "xaxis4": {
         "anchor": "y4",
         "domain": [
          0.6120000000000001,
          0.7960000000000002
         ],
         "matches": "x",
         "title": {
          "text": "Head"
         }
        },
        "xaxis5": {
         "anchor": "y5",
         "domain": [
          0.8160000000000001,
          1
         ],
         "matches": "x",
         "title": {
          "text": "Head"
         }
        },
        "yaxis": {
         "anchor": "x",
         "autorange": "reversed",
         "constrain": "domain",
         "domain": [
          0,
          1
         ],
         "title": {
          "text": "Layer"
         }
        },
        "yaxis2": {
         "anchor": "x2",
         "domain": [
          0,
          1
         ],
         "matches": "y",
         "showticklabels": false
        },
        "yaxis3": {
         "anchor": "x3",
         "domain": [
          0,
          1
         ],
         "matches": "y",
         "showticklabels": false
        },
        "yaxis4": {
         "anchor": "x4",
         "domain": [
          0,
          1
         ],
         "matches": "y",
         "showticklabels": false
        },
        "yaxis5": {
         "anchor": "x5",
         "domain": [
          0,
          1
         ],
         "matches": "y",
         "showticklabels": false
        }
       }
      }
     },
     "metadata": {},
     "output_type": "display_data"
    }
   ],
   "source": [
    "act_patch_attn_head_all_pos_every = patching.get_act_patch_attn_head_all_pos_every(\n",
    "    model, corrupted_tokens, clean_cache, ioi_metric\n",
    ")\n",
    "\n",
    "imshow(\n",
    "    act_patch_attn_head_all_pos_every,\n",
    "    facet_col=0,\n",
    "    facet_labels=['Output', 'Query', 'Key', 'Value', 'Pattern'],\n",
    "    title='Activation Patching Per Head (All Pos)',\n",
    "    labels={'x': 'Head', 'y': 'Layer'},\n",
    "    width=1200,\n",
    ")"
   ]
  },
  {
   "cell_type": "markdown",
   "id": "5b169cbf",
   "metadata": {},
   "source": [
    "What is the significance of the results above for the middle heads, ie. the important ones in layers 7 and 8? How should we interpret the fact that value patching has a much bigger effect than the other two forms of patching?\n",
    "\n",
    "The attention patterns show us that these heads attend from END to the second subject, so we can guess that they're responsible for moving information from the subject to END, which is used to determine the answer. This agrees with our earlier results, when we saw that most of the information gets moved over layers 7 and 8. The fact that value patching is the most important thing for them suggests that the interesting computation goes into what information they move from the subject to END, rather than why END attends to the subject."
   ]
  },
  {
   "cell_type": "code",
   "execution_count": null,
   "id": "73484991",
   "metadata": {},
   "outputs": [
    {
     "data": {
      "text/html": [
       "<h2>Top 4 Logit Attribution Heads (from value-patching)</h2>"
      ],
      "text/plain": [
       "<IPython.core.display.HTML object>"
      ]
     },
     "metadata": {},
     "output_type": "display_data"
    },
    {
     "data": {
      "text/html": [
       "<div id=\"circuits-vis-27cf5ae4-2caf\" style=\"margin: 15px 0;\"/>\n",
       "    <script crossorigin type=\"module\">\n",
       "    import { render, AttentionPatterns } from \"https://unpkg.com/circuitsvis@1.43.3/dist/cdn/esm.js\";\n",
       "    render(\n",
       "      \"circuits-vis-27cf5ae4-2caf\",\n",
       "      AttentionPatterns,\n",
       "      {\"tokens\": [\"<|endoftext|>\", \"When\", \" John\", \" and\", \" Mary\", \" went\", \" to\", \" the\", \" shops\", \",\", \" \", \" John\", \" gave\", \" the\", \" bag\", \" to\"], \"attention\": [[[1.0, 0.0, 0.0, 0.0, 0.0, 0.0, 0.0, 0.0, 0.0, 0.0, 0.0, 0.0, 0.0, 0.0, 0.0, 0.0], [0.9825021624565125, 0.01749781146645546, 0.0, 0.0, 0.0, 0.0, 0.0, 0.0, 0.0, 0.0, 0.0, 0.0, 0.0, 0.0, 0.0, 0.0], [0.9670482873916626, 0.010246645659208298, 0.022705037146806717, 0.0, 0.0, 0.0, 0.0, 0.0, 0.0, 0.0, 0.0, 0.0, 0.0, 0.0, 0.0, 0.0], [0.09188733994960785, 0.0070978086441755295, 0.866379976272583, 0.03463488817214966, 0.0, 0.0, 0.0, 0.0, 0.0, 0.0, 0.0, 0.0, 0.0, 0.0, 0.0, 0.0], [0.7049617767333984, 0.005636422894895077, 0.05833674222230911, 0.21135213971138, 0.0197129026055336, 0.0, 0.0, 0.0, 0.0, 0.0, 0.0, 0.0, 0.0, 0.0, 0.0, 0.0], [0.9394946098327637, 0.005239948630332947, 0.019369546324014664, 0.012091055512428284, 0.005893179681152105, 0.017911672592163086, 0.0, 0.0, 0.0, 0.0, 0.0, 0.0, 0.0, 0.0, 0.0, 0.0], [0.9139484167098999, 0.0035319379530847073, 0.03935541957616806, 0.010010462254285812, 0.015576930716633797, 0.012393391691148281, 0.005183489993214607, 0.0, 0.0, 0.0, 0.0, 0.0, 0.0, 0.0, 0.0, 0.0], [0.9586181044578552, 0.008675830438733101, 0.010651517659425735, 0.006259364541620016, 0.0028243588749319315, 0.005472676362842321, 0.003575583454221487, 0.003922530449926853, 0.0, 0.0, 0.0, 0.0, 0.0, 0.0, 0.0, 0.0], [0.9368549585342407, 0.008651907555758953, 0.00329879904165864, 0.004200444556772709, 0.0008710537804290652, 0.018026769161224365, 0.0055650766007602215, 0.004221562761813402, 0.018309414386749268, 0.0, 0.0, 0.0, 0.0, 0.0, 0.0, 0.0], [0.5392192602157593, 0.016879908740520477, 0.10021351277828217, 0.01464348379522562, 0.047712892293930054, 0.14683206379413605, 0.0558854378759861, 0.030095143243670464, 0.024779368191957474, 0.02373897098004818, 0.0, 0.0, 0.0, 0.0, 0.0, 0.0], [0.7865443825721741, 0.01178683526813984, 0.06949828565120697, 0.004114560782909393, 0.03252698481082916, 0.006406398490071297, 0.0051786089316010475, 0.01732250675559044, 0.009569370187819004, 0.010396438650786877, 0.04665558412671089, 0.0, 0.0, 0.0, 0.0, 0.0], [0.6312565803527832, 0.024215830489993095, 0.014382018707692623, 0.03659607842564583, 0.007335881236940622, 0.04836663603782654, 0.024428751319646835, 0.020890789106488228, 0.004637842066586018, 0.15375760197639465, 0.004538805224001408, 0.02959321439266205, 0.0, 0.0, 0.0, 0.0], [0.3704814314842224, 0.005564175546169281, 0.05589111149311066, 0.01315672043710947, 0.0173313170671463, 0.005988534074276686, 0.014261437579989433, 0.015519063919782639, 0.006910821422934532, 0.029363371431827545, 0.007222581654787064, 0.43443191051483154, 0.023877523839473724, 0.0, 0.0, 0.0], [0.8761650919914246, 0.0056528919376432896, 0.02234698459506035, 0.0023893206380307674, 0.006908411160111427, 0.0009576550801284611, 0.004605049267411232, 0.0006165950908325613, 0.006004171911627054, 0.00880928710103035, 0.0007547555724158883, 0.04132813215255737, 0.007954458706080914, 0.015507190488278866, 0.0, 0.0], [0.8909837007522583, 0.003371183294802904, 0.002544887363910675, 0.0017200014553964138, 0.0012066265335306525, 0.0025639773812144995, 0.0028271712362766266, 0.0014810941647738218, 0.0056467605754733086, 0.01807461865246296, 0.0013317600823938847, 0.0056748054921627045, 0.015092618763446808, 0.010424958541989326, 0.037055790424346924, 0.0], [0.1907726228237152, 0.0006006420589983463, 0.1159471720457077, 0.008080423809587955, 0.041320398449897766, 0.0012237902265042067, 0.0005381213268265128, 0.006449226755648851, 0.002546386094763875, 0.00452972948551178, 0.004723133984953165, 0.5907922983169556, 0.007286084815859795, 0.011626574210822582, 0.009869521483778954, 0.0036938718985766172]], [[1.0, 0.0, 0.0, 0.0, 0.0, 0.0, 0.0, 0.0, 0.0, 0.0, 0.0, 0.0, 0.0, 0.0, 0.0, 0.0], [0.9582041501998901, 0.04179585725069046, 0.0, 0.0, 0.0, 0.0, 0.0, 0.0, 0.0, 0.0, 0.0, 0.0, 0.0, 0.0, 0.0, 0.0], [0.9610101580619812, 0.008259186521172523, 0.030730655416846275, 0.0, 0.0, 0.0, 0.0, 0.0, 0.0, 0.0, 0.0, 0.0, 0.0, 0.0, 0.0, 0.0], [0.6431268453598022, 0.0300427433103323, 0.21920207142829895, 0.10762838274240494, 0.0, 0.0, 0.0, 0.0, 0.0, 0.0, 0.0, 0.0, 0.0, 0.0, 0.0, 0.0], [0.8200578093528748, 0.015854403376579285, 0.02941701002418995, 0.05664968863129616, 0.0780210793018341, 0.0, 0.0, 0.0, 0.0, 0.0, 0.0, 0.0, 0.0, 0.0, 0.0, 0.0], [0.8242671489715576, 0.03145656734704971, 0.021288881078362465, 0.03376343101263046, 0.02311725541949272, 0.06610669195652008, 0.0, 0.0, 0.0, 0.0, 0.0, 0.0, 0.0, 0.0, 0.0, 0.0], [0.7805470824241638, 0.028691738843917847, 0.04618934541940689, 0.027959536761045456, 0.0512838214635849, 0.02070005238056183, 0.044628411531448364, 0.0, 0.0, 0.0, 0.0, 0.0, 0.0, 0.0, 0.0, 0.0], [0.7019359469413757, 0.030651135370135307, 0.020607613027095795, 0.02404915913939476, 0.016681380569934845, 0.01441940851509571, 0.05053998902440071, 0.14111536741256714, 0.0, 0.0, 0.0, 0.0, 0.0, 0.0, 0.0, 0.0], [0.7640923261642456, 0.0398048460483551, 0.005787404719740152, 0.008122454397380352, 0.004690870642662048, 0.014756523072719574, 0.03510937839746475, 0.05536866933107376, 0.072267547249794, 0.0, 0.0, 0.0, 0.0, 0.0, 0.0, 0.0], [0.4242338538169861, 0.027335437014698982, 0.09254258871078491, 0.06319428980350494, 0.1603410542011261, 0.07553310692310333, 0.035341065376996994, 0.028823869302868843, 0.03304912894964218, 0.05960564315319061, 0.0, 0.0, 0.0, 0.0, 0.0, 0.0], [0.8547811508178711, 0.01413656398653984, 0.019611727446317673, 0.008934726938605309, 0.02755344659090042, 0.009700565598905087, 0.00643687741830945, 0.01336711086332798, 0.004752379842102528, 0.012955768033862114, 0.027769746258854866, 0.0, 0.0, 0.0, 0.0, 0.0], [0.6683685183525085, 0.008370142430067062, 0.009209902957081795, 0.04644341766834259, 0.020651008933782578, 0.04763052612543106, 0.031311869621276855, 0.02308947965502739, 0.019006190821528435, 0.04909704625606537, 0.006430956069380045, 0.07039093226194382, 0.0, 0.0, 0.0, 0.0], [0.41763925552368164, 0.00784440990537405, 0.03208724409341812, 0.04613945260643959, 0.06789372861385345, 0.015694519504904747, 0.01890052855014801, 0.021267998963594437, 0.021032288670539856, 0.025126617401838303, 0.01143881119787693, 0.23072737455368042, 0.08420778810977936, 0.0, 0.0, 0.0], [0.5952596664428711, 0.01833573542535305, 0.016439130529761314, 0.028502872213721275, 0.01946307346224785, 0.0097207548096776, 0.016303421929478645, 0.01823538914322853, 0.02855219691991806, 0.02108055166900158, 0.013784795999526978, 0.06811962276697159, 0.07075896859169006, 0.0754438117146492, 0.0, 0.0], [0.7152608633041382, 0.013790417462587357, 0.003619029186666012, 0.004943199455738068, 0.00319117633625865, 0.0059642428532242775, 0.010549693368375301, 0.015859834849834442, 0.014628387987613678, 0.02365943044424057, 0.006889585871249437, 0.010335412807762623, 0.02499362640082836, 0.03661095350980759, 0.10970412939786911, 0.0], [0.24845117330551147, 0.004954562056809664, 0.06282171607017517, 0.056166790425777435, 0.10579992830753326, 0.01469267625361681, 0.009309843182563782, 0.011864718981087208, 0.0082987817004323, 0.015306253917515278, 0.006586610339581966, 0.3437313139438629, 0.04943443834781647, 0.023995928466320038, 0.014859156683087349, 0.023726146668195724]], [[1.0, 0.0, 0.0, 0.0, 0.0, 0.0, 0.0, 0.0, 0.0, 0.0, 0.0, 0.0, 0.0, 0.0, 0.0, 0.0], [0.9688943028450012, 0.031105728819966316, 0.0, 0.0, 0.0, 0.0, 0.0, 0.0, 0.0, 0.0, 0.0, 0.0, 0.0, 0.0, 0.0, 0.0], [0.9494583606719971, 0.04331466183066368, 0.007226915098726749, 0.0, 0.0, 0.0, 0.0, 0.0, 0.0, 0.0, 0.0, 0.0, 0.0, 0.0, 0.0, 0.0], [0.5511598587036133, 0.14091816544532776, 0.25715208053588867, 0.05076991394162178, 0.0, 0.0, 0.0, 0.0, 0.0, 0.0, 0.0, 0.0, 0.0, 0.0, 0.0, 0.0], [0.7647857666015625, 0.19072894752025604, 0.01238845381885767, 0.025765689089894295, 0.006331115495413542, 0.0, 0.0, 0.0, 0.0, 0.0, 0.0, 0.0, 0.0, 0.0, 0.0, 0.0], [0.6458189487457275, 0.26404041051864624, 0.014394333586096764, 0.01064772717654705, 0.005343968980014324, 0.059754546731710434, 0.0, 0.0, 0.0, 0.0, 0.0, 0.0, 0.0, 0.0, 0.0, 0.0], [0.6763509511947632, 0.16480056941509247, 0.022357095032930374, 0.011440804228186607, 0.009476857259869576, 0.0830877423286438, 0.032485995441675186, 0.0, 0.0, 0.0, 0.0, 0.0, 0.0, 0.0, 0.0, 0.0], [0.6824923157691956, 0.14985066652297974, 0.012228721752762794, 0.008991445414721966, 0.004721588455140591, 0.07602638006210327, 0.04630325734615326, 0.01938563957810402, 0.0, 0.0, 0.0, 0.0, 0.0, 0.0, 0.0, 0.0], [0.6612806916236877, 0.12324795126914978, 0.008221767842769623, 0.010594962164759636, 0.003081679344177246, 0.04512418061494827, 0.05576647073030472, 0.04209411144256592, 0.05058819800615311, 0.0, 0.0, 0.0, 0.0, 0.0, 0.0, 0.0], [0.6419003009796143, 0.026496736332774162, 0.07311996817588806, 0.032711099833250046, 0.05122384801506996, 0.06797967106103897, 0.0252237431704998, 0.008011143654584885, 0.02180829644203186, 0.051525186747312546, 0.0, 0.0, 0.0, 0.0, 0.0, 0.0], [0.943778395652771, 0.00368424947373569, 0.001251456094905734, 0.00269103841856122, 0.0017248558579012752, 0.006877776235342026, 0.004813889507204294, 0.0039051107596606016, 0.0015496856067329645, 0.027281399816274643, 0.0024421163834631443, 0.0, 0.0, 0.0, 0.0, 0.0], [0.6466413736343384, 0.0065608243457973, 0.0026348759420216084, 0.010697605088353157, 0.0055894735269248486, 0.02286352962255478, 0.015308835543692112, 0.01690836250782013, 0.02754216268658638, 0.11886352300643921, 0.08496245741844177, 0.04142703115940094, 0.0, 0.0, 0.0, 0.0], [0.42934519052505493, 0.008050979115068913, 0.012553943321108818, 0.0033993851393461227, 0.009875847026705742, 0.008903536945581436, 0.009195854887366295, 0.007558278739452362, 0.02465585432946682, 0.10484513640403748, 0.06537394970655441, 0.273440957069397, 0.04280110448598862, 0.0, 0.0, 0.0], [0.6228123903274536, 0.018153706565499306, 0.005169452168047428, 0.002207979094237089, 0.002785561140626669, 0.012946512550115585, 0.0074855610728263855, 0.0012661218643188477, 0.018562547862529755, 0.10454409569501877, 0.0396127924323082, 0.1066419780254364, 0.04743333160877228, 0.010377961210906506, 0.0, 0.0], [0.6809676885604858, 0.01010996662080288, 0.0018876120448112488, 0.002445023972541094, 0.0008570290519855917, 0.0078103207051754, 0.005451876670122147, 0.0038688769564032555, 0.008498039096593857, 0.07090558111667633, 0.024060025811195374, 0.020630165934562683, 0.0768519937992096, 0.0389474555850029, 0.046708326786756516, 0.0], [0.1916116178035736, 0.006241749506443739, 0.025335658341646194, 0.005912875756621361, 0.016140583902597427, 0.019236940890550613, 0.004825299140065908, 0.0032346569932997227, 0.009410427883267403, 0.16860726475715637, 0.020402759313583374, 0.4194908142089844, 0.05326474457979202, 0.020426351577043533, 0.019046548753976822, 0.016811713576316833]], [[1.0, 0.0, 0.0, 0.0, 0.0, 0.0, 0.0, 0.0, 0.0, 0.0, 0.0, 0.0, 0.0, 0.0, 0.0, 0.0], [0.9760300517082214, 0.02396993711590767, 0.0, 0.0, 0.0, 0.0, 0.0, 0.0, 0.0, 0.0, 0.0, 0.0, 0.0, 0.0, 0.0, 0.0], [0.9740264415740967, 0.00909448228776455, 0.016879018396139145, 0.0, 0.0, 0.0, 0.0, 0.0, 0.0, 0.0, 0.0, 0.0, 0.0, 0.0, 0.0, 0.0], [0.6012171506881714, 0.022316642105579376, 0.26652416586875916, 0.10994209349155426, 0.0, 0.0, 0.0, 0.0, 0.0, 0.0, 0.0, 0.0, 0.0, 0.0, 0.0, 0.0], [0.8776904940605164, 0.0195606742054224, 0.015995897352695465, 0.046417295932769775, 0.04033564776182175, 0.0, 0.0, 0.0, 0.0, 0.0, 0.0, 0.0, 0.0, 0.0, 0.0, 0.0], [0.7447103261947632, 0.08147627860307693, 0.03179146721959114, 0.05265165865421295, 0.033376146107912064, 0.05599416419863701, 0.0, 0.0, 0.0, 0.0, 0.0, 0.0, 0.0, 0.0, 0.0, 0.0], [0.7941423654556274, 0.029177937656641006, 0.03629175201058388, 0.029300212860107422, 0.03032037988305092, 0.0482906699180603, 0.03247673064470291, 0.0, 0.0, 0.0, 0.0, 0.0, 0.0, 0.0, 0.0, 0.0], [0.7621859908103943, 0.02600451186299324, 0.01848858781158924, 0.029102429747581482, 0.02407030761241913, 0.06520495563745499, 0.04844934120774269, 0.02649392932653427, 0.0, 0.0, 0.0, 0.0, 0.0, 0.0, 0.0, 0.0], [0.7246391773223877, 0.015079882927238941, 0.009803096763789654, 0.01162391621619463, 0.012150770984590054, 0.044112399220466614, 0.043979495763778687, 0.03240104392170906, 0.10621018707752228, 0.0, 0.0, 0.0, 0.0, 0.0, 0.0, 0.0], [0.5007008910179138, 0.02609914354979992, 0.02935505472123623, 0.026616571471095085, 0.03568314015865326, 0.14994725584983826, 0.06381183862686157, 0.027374017983675003, 0.05533161759376526, 0.08508047461509705, 0.0, 0.0, 0.0, 0.0, 0.0, 0.0], [0.8833786249160767, 0.006434301845729351, 0.007314837072044611, 0.0054383971728384495, 0.014146963134407997, 0.020489756017923355, 0.00901771243661642, 0.006261502392590046, 0.02128029242157936, 0.018645761534571648, 0.007591893896460533, 0.0, 0.0, 0.0, 0.0, 0.0], [0.767471432685852, 0.01029607281088829, 0.0057382769882678986, 0.03366481140255928, 0.011334377340972424, 0.05334365367889404, 0.02248445525765419, 0.014238488860428333, 0.016747333109378815, 0.03330528736114502, 0.009453751146793365, 0.02192208543419838, 0.0, 0.0, 0.0, 0.0], [0.4305650591850281, 0.013852969743311405, 0.030857276171445847, 0.037463054060935974, 0.01983579248189926, 0.011955481953918934, 0.013147586025297642, 0.014070823788642883, 0.0120465699583292, 0.03794843703508377, 0.015873299911618233, 0.2502114176750183, 0.11217224597930908, 0.0, 0.0, 0.0], [0.641284704208374, 0.014122153632342815, 0.006346235517412424, 0.009978037327528, 0.007026853505522013, 0.01091712899506092, 0.012037431821227074, 0.004449443891644478, 0.016824621707201004, 0.039890266954898834, 0.007951992563903332, 0.08740012347698212, 0.11869936436414719, 0.0230716560035944, 0.0, 0.0], [0.7441752552986145, 0.013214970007538795, 0.002658832585439086, 0.005123756360262632, 0.003412491176277399, 0.009371289052069187, 0.018709342926740646, 0.016984978690743446, 0.02207455039024353, 0.05407533794641495, 0.004133531823754311, 0.014810976572334766, 0.02280602417886257, 0.02559620328247547, 0.042852479964494705, 0.0], [0.18235503137111664, 0.006141349207609892, 0.010353883728384972, 0.006940145045518875, 0.0103983823210001, 0.013665005564689636, 0.007431231439113617, 0.008864456787705421, 0.010134329088032246, 0.032490335404872894, 0.004250180907547474, 0.16510382294654846, 0.33793580532073975, 0.08974570035934448, 0.055008664727211, 0.05918164923787117]]]}\n",
       "    )\n",
       "    </script>"
      ],
      "text/plain": [
       "<circuitsvis.utils.render.RenderedHTML at 0x325fcfe30>"
      ]
     },
     "metadata": {},
     "output_type": "display_data"
    }
   ],
   "source": [
    "def topk_of_Nd_tensor(tensor, k):\n",
    "    i = torch.topk(tensor.flatten(), k).indices\n",
    "    return np.array(np.unravel_index(utils.to_numpy(i), tensor.shape)).T.tolist()\n",
    "\n",
    "\n",
    "# get heads with largest value patching\n",
    "# from plot above, these are the 4 heads in layers 7 and 8\n",
    "k = 4\n",
    "top_heads = topk_of_Nd_tensor(act_patch_attn_head_all_pos_every[3], k=k)\n",
    "\n",
    "# get all their attention patterns\n",
    "attn_patterns_for_important_heads = torch.stack([\n",
    "    clean_cache['pattern', layer][:, head].mean(0)\n",
    "        for layer, head in top_heads\n",
    "])\n",
    "\n",
    "# display results\n",
    "display(HTML(f'<h2>Top {k} Logit Attribution Heads (from value-patching)</h2>'))\n",
    "display(cv.attention.attention_patterns(\n",
    "    attention = attn_patterns_for_important_heads,\n",
    "    tokens = model.to_str_tokens(tokens[0]),\n",
    "))"
   ]
  },
  {
   "cell_type": "markdown",
   "id": "94779472",
   "metadata": {},
   "source": [
    "# 7. Conclusions\n",
    "\n",
    "- heads `9.9`, `9.6`, and `10.0` are the most important heads in terms of directly writing to the residual stream. In all these heads, the `END` attends strongly to the `IO`.\n",
    "  - visualizing this is done by taking the values written by each head in each layer to the residual stream, and projecting them along the logit diff direction by using `residual_stack_to_logit_diff`.\n",
    "  - this suggests that these heads are copying `IO` to `END`, to use it as the predicted next token\n",
    "  - the question then becomes *\"how do these heads know to attend to this token, and not attend to the first subject?\"*\n",
    "\n",
    "- all the action is on the `second subject` until layer 7 and then transitions to `END`.\n",
    "  - attention layers matter a lot, MLP layers not so much, apart from MLP0, likely an extended embedding.\n",
    "  - visualizing this is done by patching activations on `resid_pre`, `attn_out`, and `mlp_out`.\n",
    "  - this suggests that there is a cluster of heads in layers 7 and 8 which move information from the `second object` to `END`. \n",
    "  - this information may be how heads `9.9`, `9.6` and `10.0` know to attend to `IO`.\n",
    "  - the question then becomes *\"what is this information, how does it end up in the second subject token, and how does END know to attend to it?\"*\n",
    "\n",
    "- the significant heads in layers 7 and 8 are 7.3, 7.9, 8.6, 8.10. \n",
    "  - these heads have high activation patching values for their value vectors, less so for their queries and keys.\n",
    "  - visualizing this is done by patching activations on the value inputs for these heads.\n",
    "  - this supports the previous observation, and it tells us that the interesting computation goes into what gets moved from the `second subject` to `END`, rather than the fact that `END` attends to the `second subject`.\n",
    "  - the question then becomes *\"what is this information, and how does it end up in the `second subject` token?\"*\n",
    "\n",
    "- as well as the clusters of heads in layers 7 and 8, there's a third cluster of important heads\n",
    "  - early heads (3.0, 5.5, 6.9) have query vectors that are particularly important for getting good performance.\n",
    "  - visualizing this is done by patching activations on the query inputs for these heads."
   ]
  },
  {
   "cell_type": "markdown",
   "id": "1f16c642",
   "metadata": {},
   "source": [
    "# Sources\n",
    "\n",
    "1. [Ground truth - Arena::Activation Patching](https://arena-chapter1-transformer-interp.streamlit.app/[1.4.1]_Indirect_Object_Identification#keeping-track-of-your-guesses-predictions)\n",
    "2. [Locating and Editing Factual Associations in GPT, by Meng, K, et. al.](https://arxiv.org/pdf/2202.05262)\n",
    "3. [A Mathematical Framework for Transformer Circuits, by Chris Olah, Neel Nanda, et. al.](https://transformer-circuits.pub/2021/framework/index.html)\n",
    "4. [Neel Nanda's walkthrough of Mathematica Framework](https://www.youtube.com/watch?v=KV5gbOmHbjU)"
   ]
  }
 ],
 "metadata": {
  "kernelspec": {
   "display_name": ".venv",
   "language": "python",
   "name": "python3"
  },
  "language_info": {
   "codemirror_mode": {
    "name": "ipython",
    "version": 3
   },
   "file_extension": ".py",
   "mimetype": "text/x-python",
   "name": "python",
   "nbconvert_exporter": "python",
   "pygments_lexer": "ipython3",
   "version": "3.12.2"
  }
 },
 "nbformat": 4,
 "nbformat_minor": 5
}
