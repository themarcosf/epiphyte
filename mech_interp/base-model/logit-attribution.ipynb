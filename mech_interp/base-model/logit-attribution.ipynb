{
 "cells": [
  {
   "cell_type": "code",
   "execution_count": 1,
   "id": "320a47c4",
   "metadata": {},
   "outputs": [],
   "source": [
    "import warnings\n",
    "warnings.filterwarnings('ignore')\n",
    "\n",
    "import os\n",
    "os.chdir('..')"
   ]
  },
  {
   "cell_type": "code",
   "execution_count": 2,
   "id": "86c10e4c",
   "metadata": {},
   "outputs": [],
   "source": [
    "import os\n",
    "\n",
    "import circuitsvis as cv\n",
    "import einops\n",
    "import numpy as np\n",
    "import torch\n",
    "from IPython.display import HTML, display\n",
    "from transformer_lens import HookedTransformer\n",
    "from transformer_lens import utils\n",
    "\n",
    "from plotly_utils import line, imshow"
   ]
  },
  {
   "cell_type": "code",
   "execution_count": 3,
   "id": "f77c681f",
   "metadata": {},
   "outputs": [
    {
     "name": "stdout",
     "output_type": "stream",
     "text": [
      "Changed working directory to parent directory\n",
      "Hugging Face token loaded: hf_...\n",
      "Using device: mps\n"
     ]
    }
   ],
   "source": [
    "os.chdir('..')\n",
    "print('Changed working directory to parent directory')\n",
    "\n",
    "with open(os.path.expanduser('~/.huggingface/token')) as f:\n",
    "    os.environ['HF_TOKEN'] = f.read().strip()\n",
    "    print(f'Hugging Face token loaded: {os.environ['HF_TOKEN'][:3]}...')\n",
    "\n",
    "torch.set_grad_enabled(False)\n",
    "\n",
    "if hasattr(torch.backends, 'mps') and torch.backends.mps.is_available():\n",
    "    device = torch.device('mps')\n",
    "else:\n",
    "    device = torch.device('cuda' if torch.cuda.is_available() else 'cpu')\n",
    "print(f'Using device: {device}')"
   ]
  },
  {
   "cell_type": "code",
   "execution_count": 4,
   "id": "28ce4487",
   "metadata": {},
   "outputs": [
    {
     "name": "stdout",
     "output_type": "stream",
     "text": [
      "Loaded pretrained model gpt2-small into HookedTransformer\n"
     ]
    }
   ],
   "source": [
    "model = HookedTransformer.from_pretrained(\n",
    "    'gpt2-small',\n",
    "    center_unembed=True,\n",
    "    center_writing_weights=True,\n",
    "    fold_ln=True,\n",
    "    refactor_factored_attn_matrices=True,\n",
    "    device=device,\n",
    ")"
   ]
  },
  {
   "cell_type": "code",
   "execution_count": 5,
   "id": "fc380d4c",
   "metadata": {},
   "outputs": [],
   "source": [
    "prompt_format = [\n",
    "    'When John and Mary went to the shops, {} gave the bag to',\n",
    "    'When Tom and James went to the park, {} gave the ball to',\n",
    "    'When Dan and Sid went to the shops, {} gave an apple to',\n",
    "    'After Martin and Amy went to the park, {} gave a drink to',\n",
    "]"
   ]
  },
  {
   "cell_type": "code",
   "execution_count": 6,
   "id": "767fdd94",
   "metadata": {},
   "outputs": [],
   "source": [
    "name_pairs = [\n",
    "    (' Mary', ' John'),\n",
    "    (' Tom', ' James'),\n",
    "    (' Dan', ' Sid'),\n",
    "    (' Martin', ' Amy'),\n",
    "]\n",
    "\n",
    "prompts = [prompt.format(name) for (prompt, names) in zip(prompt_format, name_pairs) for name in names[::-1]]\n",
    "answers = [names[::i] for names in name_pairs for i in (1, -1)]\n",
    "answer_tokens = torch.concat([model.to_tokens(names, prepend_bos=False).T for names in answers])"
   ]
  },
  {
   "cell_type": "code",
   "execution_count": 7,
   "id": "724bdd37",
   "metadata": {},
   "outputs": [],
   "source": [
    "# get logits and cache of all internal activations for later analysis\n",
    "tokens = model.to_tokens(prompts, prepend_bos=True)\n",
    "tokens = tokens.to(device)\n",
    "logits, cache = model.run_with_cache(tokens)"
   ]
  },
  {
   "cell_type": "code",
   "execution_count": 8,
   "id": "67e6d2b5",
   "metadata": {},
   "outputs": [],
   "source": [
    "def logits_to_ave_logit_diff(\n",
    "    logits,\n",
    "    answer_tokens = answer_tokens,\n",
    "    per_prompt = False,\n",
    "):\n",
    "    final_logits = logits[:, -1, :]\n",
    "    answer_logits = final_logits.gather(dim=-1, index=answer_tokens)\n",
    "    correct_logits, incorrect_logits = answer_logits.unbind(dim=-1)\n",
    "    answer_logit_diff = correct_logits - incorrect_logits\n",
    "    return answer_logit_diff if per_prompt else answer_logit_diff.mean()\n",
    "\n",
    "ave_logit_diff = logits_to_ave_logit_diff(logits, answer_tokens, per_prompt=False)"
   ]
  },
  {
   "cell_type": "markdown",
   "id": "64e0f020",
   "metadata": {},
   "source": [
    "# 1. Direct Logit Attribution\n",
    "\n",
    "The easiest part of the model to understand is the output - this is what the model is trained to optimize, and so it can always be directly interpreted. Often the right approach to reverse engineering a circuit is to start at the end, understand how the model produces the right answer, and to then work backwards. The main technique used to do this is called `direct logit` attribution.\n",
    "\n",
    "### 1.1. Background and motivation of the logit difference\n",
    "\n",
    "The central object of a transformer is the residual stream. This is the sum of the outputs of each layer and of the original token and positional embeddings. Importantly, this means that any linear function of the residual stream can be perfectly decomposed into the contribution of each layer of the transformer. Further, each attention layer's output can be broken down into the sum of the output of each head (See `A Mathematical Framework for Transformer Circuits` for details), and each MLP layer's output can be broken down into the sum of the output of each neuron (and a bias term for each layer).\n",
    "\n",
    "In general, there are two natural ways to interpret the model's outputs: the output logits or the output log probabilities. Let $\\vec{x}$ be the logits, $\\vec{L}$ be the log probabilities, and $\\vec{p}$ be the probabilities. Then we have the following relations:\n",
    "\n",
    "$$\n",
    "p_i = \\mathrm{softmax}(\\vec{x})_i = \\frac{e^{x_i}}{\\sum_{i=1}^{n} e^{x_i}}\n",
    "$$\n",
    "\n",
    "and\n",
    "\n",
    "$$\n",
    "L_i = \\log(p_i)\n",
    "$$\n",
    "\n",
    "Combining these, we get:\n",
    "\n",
    "$$\n",
    "L_i = \\log \\frac{e^{x_i}}{\\sum_{j=1}^{n} e^{x_j}} = x_i - \\log \\sum_{j=1}^{n} e^{x_j}\n",
    "$$\n",
    "\n",
    "The sum term on the right is the same for all $i$, so we get:\n",
    "\n",
    "$$\n",
    "L_i - L_j = x_i - x_j\n",
    "$$\n",
    "\n",
    "In other words, the logit difference $x_i - x_j$ is the same as the log probability difference $L_i - L_j$, motivating the use of logit differences to understand the model's outputs.\n",
    "\n",
    "### 1.2. Logit diff directions\n",
    "\n",
    "**Getting an output logit is equivalent to projecting onto a direction in the residual stream, and the same is true for getting the logit diff.**\n",
    "\n",
    "Suppose the final value in the residual stream for a single sequence and a position within that sequence is $\\vec{x}$ (i.e., a vector of length $d_{\\text{model}}$). Then, we get logits by multiplying by the unembedding matrix $W_U$ (which has shape($d_{\\text{model}}$, $d_{\\text{vocab}}$)):\n",
    "\n",
    "$$\n",
    "\\text{output} = \\vec{x}^T W_U\n",
    "$$\n",
    "\n",
    "Now, the logit difference between two tokens $i$ and $j$ is given by:\n",
    "\n",
    "$$\n",
    "\\text{logit diff}_{ij} = \\vec{x}^T W_U[:, i] - \\vec{x}^T W_U[:, j] = \\vec{x}^T (W_U[:, i] - W_U[:, j])\n",
    "$$\n",
    "\n",
    "This means that the logit difference is given by the projection of the residual stream onto the vector $W_U[:, i] - W_U[:, j]$. This vector is called the **logit diff direction**, because it points in the direction of the largest logit difference between the two tokens."
   ]
  },
  {
   "cell_type": "code",
   "execution_count": 9,
   "id": "4afbd37b",
   "metadata": {},
   "outputs": [
    {
     "data": {
      "text/plain": [
       "tensor([[ 5335,  1757],\n",
       "        [ 1757,  5335],\n",
       "        [ 4186,  3700],\n",
       "        [ 3700,  4186],\n",
       "        [ 6035, 15686],\n",
       "        [15686,  6035],\n",
       "        [ 5780, 14235],\n",
       "        [14235,  5780]], device='mps:0')"
      ]
     },
     "execution_count": 9,
     "metadata": {},
     "output_type": "execute_result"
    }
   ],
   "source": [
    "answer_tokens"
   ]
  },
  {
   "cell_type": "code",
   "execution_count": 10,
   "id": "a5208bb3",
   "metadata": {},
   "outputs": [
    {
     "name": "stdout",
     "output_type": "stream",
     "text": [
      "Logit difference directions shape: torch.Size([8, 768])\n"
     ]
    }
   ],
   "source": [
    "# map answer_tokens to logit diff direction\n",
    "answer_residual_directions = model.tokens_to_residual_directions(answer_tokens)\n",
    "\n",
    "correct_residual_directions, incorrect_residual_directions = answer_residual_directions.unbind(dim=1)\n",
    "logit_diff_directions = correct_residual_directions - incorrect_residual_directions\n",
    "print('Logit difference directions shape:', logit_diff_directions.shape)"
   ]
  },
  {
   "cell_type": "code",
   "execution_count": 11,
   "id": "910871a1",
   "metadata": {},
   "outputs": [
    {
     "name": "stdout",
     "output_type": "stream",
     "text": [
      "Final residual stream shape: torch.Size([8, 16, 768])\n",
      "Calculated average logit diff: 2.7098135948\n",
      "Original logit difference:     2.7098159790\n"
     ]
    }
   ],
   "source": [
    "final_residual_stream = cache['resid_post', -1]\n",
    "print(f'Final residual stream shape: {final_residual_stream.shape}')\n",
    "\n",
    "final_token_residual_stream = final_residual_stream[:, -1, :]\n",
    "scaled_final_token_residual_stream = cache.apply_ln_to_stack(final_token_residual_stream, layer=-1, pos_slice=-1)\n",
    "\n",
    "average_logit_diff = einops.einsum(\n",
    "    scaled_final_token_residual_stream, logit_diff_directions, 'batch d_model, batch d_model ->'\n",
    ") / len(prompts)\n",
    "\n",
    "print(f'Calculated average logit diff: {average_logit_diff:.10f}')\n",
    "print(f'Original logit difference:     {ave_logit_diff:.10f}')\n",
    "\n",
    "torch.testing.assert_close(average_logit_diff, ave_logit_diff)"
   ]
  },
  {
   "cell_type": "markdown",
   "id": "3108933e",
   "metadata": {},
   "source": [
    "# 2. Logit Lens\n",
    "\n",
    "This technique looks at the residual stream after each layer and calculates the logit difference from that. This simulates what happens if we delete all subsequent layers.\n",
    "\n",
    "From the plot below, it can be seen that the model is unable to do the task until layer 7, almost all performance coming from attention layer 9, and performance actually decreases from there. This tells us that there must be something going on (primarily in layers 7, 8 and 9) which writes to the residual stream in the correct way to solve the IOI task."
   ]
  },
  {
   "cell_type": "code",
   "execution_count": 12,
   "id": "21c620b1",
   "metadata": {},
   "outputs": [],
   "source": [
    "def residual_stack_to_logit_diff(\n",
    "    residual_stack,\n",
    "    cache,\n",
    "    logit_diff_directions = logit_diff_directions,\n",
    "):\n",
    "    batch_size = residual_stack.size(-2)\n",
    "    scaled_residual_stack = cache.apply_ln_to_stack(residual_stack, layer=-1, pos_slice=-1)\n",
    "    return (\n",
    "        einops.einsum(scaled_residual_stack, logit_diff_directions, \"... batch d_model, batch d_model -> ...\")\n",
    "        / batch_size\n",
    "    )"
   ]
  },
  {
   "cell_type": "code",
   "execution_count": 13,
   "id": "75793726",
   "metadata": {},
   "outputs": [
    {
     "data": {
      "application/vnd.plotly.v1+json": {
       "config": {
        "plotlyServerURL": "https://plot.ly"
       },
       "data": [
        {
         "hovertemplate": "Layer=%{x}<br>Logit Diff=%{y}<extra></extra>",
         "legendgroup": "",
         "line": {
          "color": "#636efa",
          "dash": "solid"
         },
         "marker": {
          "symbol": "circle"
         },
         "mode": "lines",
         "name": "",
         "orientation": "v",
         "showlegend": false,
         "type": "scatter",
         "x": {
          "bdata": "AAECAwQFBgcICQoLDA0ODxAREhMUFRYXGA==",
          "dtype": "i1"
         },
         "xaxis": "x",
         "y": {
          "bdata": "EE7JN6M347s6bOC7IIgBvBM187vTBPy7TgK0u1keyLuG6QG8eThGvGuEMLw6QGS8OsADvKsynrzRu6m8A+VdPpqnVj6at7k+mo65PkAcbUDQom9A6vFeQOxfZkC1OyVAlm0tQA==",
          "dtype": "f4"
         },
         "yaxis": "y"
        }
       ],
       "layout": {
        "hovermode": "x unified",
        "legend": {
         "tracegroupgap": 0
        },
        "template": {
         "data": {
          "bar": [
           {
            "error_x": {
             "color": "#2a3f5f"
            },
            "error_y": {
             "color": "#2a3f5f"
            },
            "marker": {
             "line": {
              "color": "#E5ECF6",
              "width": 0.5
             },
             "pattern": {
              "fillmode": "overlay",
              "size": 10,
              "solidity": 0.2
             }
            },
            "type": "bar"
           }
          ],
          "barpolar": [
           {
            "marker": {
             "line": {
              "color": "#E5ECF6",
              "width": 0.5
             },
             "pattern": {
              "fillmode": "overlay",
              "size": 10,
              "solidity": 0.2
             }
            },
            "type": "barpolar"
           }
          ],
          "carpet": [
           {
            "aaxis": {
             "endlinecolor": "#2a3f5f",
             "gridcolor": "white",
             "linecolor": "white",
             "minorgridcolor": "white",
             "startlinecolor": "#2a3f5f"
            },
            "baxis": {
             "endlinecolor": "#2a3f5f",
             "gridcolor": "white",
             "linecolor": "white",
             "minorgridcolor": "white",
             "startlinecolor": "#2a3f5f"
            },
            "type": "carpet"
           }
          ],
          "choropleth": [
           {
            "colorbar": {
             "outlinewidth": 0,
             "ticks": ""
            },
            "type": "choropleth"
           }
          ],
          "contour": [
           {
            "colorbar": {
             "outlinewidth": 0,
             "ticks": ""
            },
            "colorscale": [
             [
              0,
              "#0d0887"
             ],
             [
              0.1111111111111111,
              "#46039f"
             ],
             [
              0.2222222222222222,
              "#7201a8"
             ],
             [
              0.3333333333333333,
              "#9c179e"
             ],
             [
              0.4444444444444444,
              "#bd3786"
             ],
             [
              0.5555555555555556,
              "#d8576b"
             ],
             [
              0.6666666666666666,
              "#ed7953"
             ],
             [
              0.7777777777777778,
              "#fb9f3a"
             ],
             [
              0.8888888888888888,
              "#fdca26"
             ],
             [
              1,
              "#f0f921"
             ]
            ],
            "type": "contour"
           }
          ],
          "contourcarpet": [
           {
            "colorbar": {
             "outlinewidth": 0,
             "ticks": ""
            },
            "type": "contourcarpet"
           }
          ],
          "heatmap": [
           {
            "colorbar": {
             "outlinewidth": 0,
             "ticks": ""
            },
            "colorscale": [
             [
              0,
              "#0d0887"
             ],
             [
              0.1111111111111111,
              "#46039f"
             ],
             [
              0.2222222222222222,
              "#7201a8"
             ],
             [
              0.3333333333333333,
              "#9c179e"
             ],
             [
              0.4444444444444444,
              "#bd3786"
             ],
             [
              0.5555555555555556,
              "#d8576b"
             ],
             [
              0.6666666666666666,
              "#ed7953"
             ],
             [
              0.7777777777777778,
              "#fb9f3a"
             ],
             [
              0.8888888888888888,
              "#fdca26"
             ],
             [
              1,
              "#f0f921"
             ]
            ],
            "type": "heatmap"
           }
          ],
          "histogram": [
           {
            "marker": {
             "pattern": {
              "fillmode": "overlay",
              "size": 10,
              "solidity": 0.2
             }
            },
            "type": "histogram"
           }
          ],
          "histogram2d": [
           {
            "colorbar": {
             "outlinewidth": 0,
             "ticks": ""
            },
            "colorscale": [
             [
              0,
              "#0d0887"
             ],
             [
              0.1111111111111111,
              "#46039f"
             ],
             [
              0.2222222222222222,
              "#7201a8"
             ],
             [
              0.3333333333333333,
              "#9c179e"
             ],
             [
              0.4444444444444444,
              "#bd3786"
             ],
             [
              0.5555555555555556,
              "#d8576b"
             ],
             [
              0.6666666666666666,
              "#ed7953"
             ],
             [
              0.7777777777777778,
              "#fb9f3a"
             ],
             [
              0.8888888888888888,
              "#fdca26"
             ],
             [
              1,
              "#f0f921"
             ]
            ],
            "type": "histogram2d"
           }
          ],
          "histogram2dcontour": [
           {
            "colorbar": {
             "outlinewidth": 0,
             "ticks": ""
            },
            "colorscale": [
             [
              0,
              "#0d0887"
             ],
             [
              0.1111111111111111,
              "#46039f"
             ],
             [
              0.2222222222222222,
              "#7201a8"
             ],
             [
              0.3333333333333333,
              "#9c179e"
             ],
             [
              0.4444444444444444,
              "#bd3786"
             ],
             [
              0.5555555555555556,
              "#d8576b"
             ],
             [
              0.6666666666666666,
              "#ed7953"
             ],
             [
              0.7777777777777778,
              "#fb9f3a"
             ],
             [
              0.8888888888888888,
              "#fdca26"
             ],
             [
              1,
              "#f0f921"
             ]
            ],
            "type": "histogram2dcontour"
           }
          ],
          "mesh3d": [
           {
            "colorbar": {
             "outlinewidth": 0,
             "ticks": ""
            },
            "type": "mesh3d"
           }
          ],
          "parcoords": [
           {
            "line": {
             "colorbar": {
              "outlinewidth": 0,
              "ticks": ""
             }
            },
            "type": "parcoords"
           }
          ],
          "pie": [
           {
            "automargin": true,
            "type": "pie"
           }
          ],
          "scatter": [
           {
            "fillpattern": {
             "fillmode": "overlay",
             "size": 10,
             "solidity": 0.2
            },
            "type": "scatter"
           }
          ],
          "scatter3d": [
           {
            "line": {
             "colorbar": {
              "outlinewidth": 0,
              "ticks": ""
             }
            },
            "marker": {
             "colorbar": {
              "outlinewidth": 0,
              "ticks": ""
             }
            },
            "type": "scatter3d"
           }
          ],
          "scattercarpet": [
           {
            "marker": {
             "colorbar": {
              "outlinewidth": 0,
              "ticks": ""
             }
            },
            "type": "scattercarpet"
           }
          ],
          "scattergeo": [
           {
            "marker": {
             "colorbar": {
              "outlinewidth": 0,
              "ticks": ""
             }
            },
            "type": "scattergeo"
           }
          ],
          "scattergl": [
           {
            "marker": {
             "colorbar": {
              "outlinewidth": 0,
              "ticks": ""
             }
            },
            "type": "scattergl"
           }
          ],
          "scattermap": [
           {
            "marker": {
             "colorbar": {
              "outlinewidth": 0,
              "ticks": ""
             }
            },
            "type": "scattermap"
           }
          ],
          "scattermapbox": [
           {
            "marker": {
             "colorbar": {
              "outlinewidth": 0,
              "ticks": ""
             }
            },
            "type": "scattermapbox"
           }
          ],
          "scatterpolar": [
           {
            "marker": {
             "colorbar": {
              "outlinewidth": 0,
              "ticks": ""
             }
            },
            "type": "scatterpolar"
           }
          ],
          "scatterpolargl": [
           {
            "marker": {
             "colorbar": {
              "outlinewidth": 0,
              "ticks": ""
             }
            },
            "type": "scatterpolargl"
           }
          ],
          "scatterternary": [
           {
            "marker": {
             "colorbar": {
              "outlinewidth": 0,
              "ticks": ""
             }
            },
            "type": "scatterternary"
           }
          ],
          "surface": [
           {
            "colorbar": {
             "outlinewidth": 0,
             "ticks": ""
            },
            "colorscale": [
             [
              0,
              "#0d0887"
             ],
             [
              0.1111111111111111,
              "#46039f"
             ],
             [
              0.2222222222222222,
              "#7201a8"
             ],
             [
              0.3333333333333333,
              "#9c179e"
             ],
             [
              0.4444444444444444,
              "#bd3786"
             ],
             [
              0.5555555555555556,
              "#d8576b"
             ],
             [
              0.6666666666666666,
              "#ed7953"
             ],
             [
              0.7777777777777778,
              "#fb9f3a"
             ],
             [
              0.8888888888888888,
              "#fdca26"
             ],
             [
              1,
              "#f0f921"
             ]
            ],
            "type": "surface"
           }
          ],
          "table": [
           {
            "cells": {
             "fill": {
              "color": "#EBF0F8"
             },
             "line": {
              "color": "white"
             }
            },
            "header": {
             "fill": {
              "color": "#C8D4E3"
             },
             "line": {
              "color": "white"
             }
            },
            "type": "table"
           }
          ]
         },
         "layout": {
          "annotationdefaults": {
           "arrowcolor": "#2a3f5f",
           "arrowhead": 0,
           "arrowwidth": 1
          },
          "autotypenumbers": "strict",
          "coloraxis": {
           "colorbar": {
            "outlinewidth": 0,
            "ticks": ""
           }
          },
          "colorscale": {
           "diverging": [
            [
             0,
             "#8e0152"
            ],
            [
             0.1,
             "#c51b7d"
            ],
            [
             0.2,
             "#de77ae"
            ],
            [
             0.3,
             "#f1b6da"
            ],
            [
             0.4,
             "#fde0ef"
            ],
            [
             0.5,
             "#f7f7f7"
            ],
            [
             0.6,
             "#e6f5d0"
            ],
            [
             0.7,
             "#b8e186"
            ],
            [
             0.8,
             "#7fbc41"
            ],
            [
             0.9,
             "#4d9221"
            ],
            [
             1,
             "#276419"
            ]
           ],
           "sequential": [
            [
             0,
             "#0d0887"
            ],
            [
             0.1111111111111111,
             "#46039f"
            ],
            [
             0.2222222222222222,
             "#7201a8"
            ],
            [
             0.3333333333333333,
             "#9c179e"
            ],
            [
             0.4444444444444444,
             "#bd3786"
            ],
            [
             0.5555555555555556,
             "#d8576b"
            ],
            [
             0.6666666666666666,
             "#ed7953"
            ],
            [
             0.7777777777777778,
             "#fb9f3a"
            ],
            [
             0.8888888888888888,
             "#fdca26"
            ],
            [
             1,
             "#f0f921"
            ]
           ],
           "sequentialminus": [
            [
             0,
             "#0d0887"
            ],
            [
             0.1111111111111111,
             "#46039f"
            ],
            [
             0.2222222222222222,
             "#7201a8"
            ],
            [
             0.3333333333333333,
             "#9c179e"
            ],
            [
             0.4444444444444444,
             "#bd3786"
            ],
            [
             0.5555555555555556,
             "#d8576b"
            ],
            [
             0.6666666666666666,
             "#ed7953"
            ],
            [
             0.7777777777777778,
             "#fb9f3a"
            ],
            [
             0.8888888888888888,
             "#fdca26"
            ],
            [
             1,
             "#f0f921"
            ]
           ]
          },
          "colorway": [
           "#636efa",
           "#EF553B",
           "#00cc96",
           "#ab63fa",
           "#FFA15A",
           "#19d3f3",
           "#FF6692",
           "#B6E880",
           "#FF97FF",
           "#FECB52"
          ],
          "font": {
           "color": "#2a3f5f"
          },
          "geo": {
           "bgcolor": "white",
           "lakecolor": "white",
           "landcolor": "#E5ECF6",
           "showlakes": true,
           "showland": true,
           "subunitcolor": "white"
          },
          "hoverlabel": {
           "align": "left"
          },
          "hovermode": "closest",
          "mapbox": {
           "style": "light"
          },
          "paper_bgcolor": "white",
          "plot_bgcolor": "#E5ECF6",
          "polar": {
           "angularaxis": {
            "gridcolor": "white",
            "linecolor": "white",
            "ticks": ""
           },
           "bgcolor": "#E5ECF6",
           "radialaxis": {
            "gridcolor": "white",
            "linecolor": "white",
            "ticks": ""
           }
          },
          "scene": {
           "xaxis": {
            "backgroundcolor": "#E5ECF6",
            "gridcolor": "white",
            "gridwidth": 2,
            "linecolor": "white",
            "showbackground": true,
            "ticks": "",
            "zerolinecolor": "white"
           },
           "yaxis": {
            "backgroundcolor": "#E5ECF6",
            "gridcolor": "white",
            "gridwidth": 2,
            "linecolor": "white",
            "showbackground": true,
            "ticks": "",
            "zerolinecolor": "white"
           },
           "zaxis": {
            "backgroundcolor": "#E5ECF6",
            "gridcolor": "white",
            "gridwidth": 2,
            "linecolor": "white",
            "showbackground": true,
            "ticks": "",
            "zerolinecolor": "white"
           }
          },
          "shapedefaults": {
           "line": {
            "color": "#2a3f5f"
           }
          },
          "ternary": {
           "aaxis": {
            "gridcolor": "white",
            "linecolor": "white",
            "ticks": ""
           },
           "baxis": {
            "gridcolor": "white",
            "linecolor": "white",
            "ticks": ""
           },
           "bgcolor": "#E5ECF6",
           "caxis": {
            "gridcolor": "white",
            "linecolor": "white",
            "ticks": ""
           }
          },
          "title": {
           "x": 0.05
          },
          "xaxis": {
           "automargin": true,
           "gridcolor": "white",
           "linecolor": "white",
           "ticks": "",
           "title": {
            "standoff": 15
           },
           "zerolinecolor": "white",
           "zerolinewidth": 2
          },
          "yaxis": {
           "automargin": true,
           "gridcolor": "white",
           "linecolor": "white",
           "ticks": "",
           "title": {
            "standoff": 15
           },
           "zerolinecolor": "white",
           "zerolinewidth": 2
          }
         }
        },
        "title": {
         "text": "Logit Difference From Accumulated Residual Stream"
        },
        "width": 800,
        "xaxis": {
         "anchor": "y",
         "domain": [
          0,
          1
         ],
         "tickmode": "array",
         "ticktext": [
          "0_pre",
          "0_mid",
          "1_pre",
          "1_mid",
          "2_pre",
          "2_mid",
          "3_pre",
          "3_mid",
          "4_pre",
          "4_mid",
          "5_pre",
          "5_mid",
          "6_pre",
          "6_mid",
          "7_pre",
          "7_mid",
          "8_pre",
          "8_mid",
          "9_pre",
          "9_mid",
          "10_pre",
          "10_mid",
          "11_pre",
          "11_mid",
          "final_post"
         ],
         "tickvals": {
          "bdata": "AAECAwQFBgcICQoLDA0ODxAREhMUFRYXGA==",
          "dtype": "i1"
         },
         "title": {
          "text": "Layer"
         }
        },
        "yaxis": {
         "anchor": "x",
         "domain": [
          0,
          1
         ],
         "title": {
          "text": "Logit Diff"
         }
        }
       }
      }
     },
     "metadata": {},
     "output_type": "display_data"
    }
   ],
   "source": [
    "accumulated_residual, labels = cache.accumulated_resid(layer=-1, incl_mid=True, pos_slice=-1, return_labels=True)\n",
    "\n",
    "logit_lens_logit_diffs= residual_stack_to_logit_diff(accumulated_residual, cache)\n",
    "\n",
    "line(\n",
    "    logit_lens_logit_diffs,\n",
    "    hovermode='x unified',\n",
    "    title='Logit Difference From Accumulated Residual Stream',\n",
    "    labels={'x': 'Layer', 'y': 'Logit Diff'},\n",
    "    xaxis_tickvals=labels,\n",
    "    width=800,\n",
    ")"
   ]
  },
  {
   "cell_type": "markdown",
   "id": "301b6466",
   "metadata": {},
   "source": [
    "# 3. Layer attribution\n",
    "\n",
    "The analysis above can be extended to look at the contribution of each layer to the final output, equivalent to the differences between adjacent residual streams.\n",
    "\n",
    "We see that only attention layers matter, which makes sense. The IOI task is about moving information around (i.e. moving the correct name and not the incorrect name), and less about processing it. And again we note that attention layer 9 improves things a lot, while attention 10 and attention 11 decrease performance.\n",
    "\n",
    "Note that a layer here is the `kth` layer in a stack of transformer blocks, but each block consists of an attention layer and an MLP layer."
   ]
  },
  {
   "cell_type": "code",
   "execution_count": 14,
   "id": "c0a49f8d",
   "metadata": {},
   "outputs": [
    {
     "data": {
      "application/vnd.plotly.v1+json": {
       "config": {
        "plotlyServerURL": "https://plot.ly"
       },
       "data": [
        {
         "hovertemplate": "Layer=%{x}<br>Logit Diff=%{y}<extra></extra>",
         "legendgroup": "",
         "line": {
          "color": "#636efa",
          "dash": "solid"
         },
         "marker": {
          "symbol": "circle"
         },
         "mode": "lines",
         "name": "",
         "orientation": "v",
         "showlegend": false,
         "type": "scatter",
         "x": {
          "bdata": "AAECAwQFBgcICQoLDA0ODxAREhMUFRYXGBk=",
          "dtype": "i1"
         },
         "xaxis": "x",
         "y": {
          "bdata": "Wpw8uTfGVTnqAOS7xN2yOBOQiro4s/05CPyMufAEEDsO4CC6ntLuuuqdiLtooK06J+9OuwQAwTsnpTi87JK4unwccz4dree7nMccPuD4o7ls6lVABaQhPS2Hhb4ywO09bkiCvx8eAz4=",
          "dtype": "f4"
         },
         "yaxis": "y"
        }
       ],
       "layout": {
        "hovermode": "x unified",
        "legend": {
         "tracegroupgap": 0
        },
        "template": {
         "data": {
          "bar": [
           {
            "error_x": {
             "color": "#2a3f5f"
            },
            "error_y": {
             "color": "#2a3f5f"
            },
            "marker": {
             "line": {
              "color": "#E5ECF6",
              "width": 0.5
             },
             "pattern": {
              "fillmode": "overlay",
              "size": 10,
              "solidity": 0.2
             }
            },
            "type": "bar"
           }
          ],
          "barpolar": [
           {
            "marker": {
             "line": {
              "color": "#E5ECF6",
              "width": 0.5
             },
             "pattern": {
              "fillmode": "overlay",
              "size": 10,
              "solidity": 0.2
             }
            },
            "type": "barpolar"
           }
          ],
          "carpet": [
           {
            "aaxis": {
             "endlinecolor": "#2a3f5f",
             "gridcolor": "white",
             "linecolor": "white",
             "minorgridcolor": "white",
             "startlinecolor": "#2a3f5f"
            },
            "baxis": {
             "endlinecolor": "#2a3f5f",
             "gridcolor": "white",
             "linecolor": "white",
             "minorgridcolor": "white",
             "startlinecolor": "#2a3f5f"
            },
            "type": "carpet"
           }
          ],
          "choropleth": [
           {
            "colorbar": {
             "outlinewidth": 0,
             "ticks": ""
            },
            "type": "choropleth"
           }
          ],
          "contour": [
           {
            "colorbar": {
             "outlinewidth": 0,
             "ticks": ""
            },
            "colorscale": [
             [
              0,
              "#0d0887"
             ],
             [
              0.1111111111111111,
              "#46039f"
             ],
             [
              0.2222222222222222,
              "#7201a8"
             ],
             [
              0.3333333333333333,
              "#9c179e"
             ],
             [
              0.4444444444444444,
              "#bd3786"
             ],
             [
              0.5555555555555556,
              "#d8576b"
             ],
             [
              0.6666666666666666,
              "#ed7953"
             ],
             [
              0.7777777777777778,
              "#fb9f3a"
             ],
             [
              0.8888888888888888,
              "#fdca26"
             ],
             [
              1,
              "#f0f921"
             ]
            ],
            "type": "contour"
           }
          ],
          "contourcarpet": [
           {
            "colorbar": {
             "outlinewidth": 0,
             "ticks": ""
            },
            "type": "contourcarpet"
           }
          ],
          "heatmap": [
           {
            "colorbar": {
             "outlinewidth": 0,
             "ticks": ""
            },
            "colorscale": [
             [
              0,
              "#0d0887"
             ],
             [
              0.1111111111111111,
              "#46039f"
             ],
             [
              0.2222222222222222,
              "#7201a8"
             ],
             [
              0.3333333333333333,
              "#9c179e"
             ],
             [
              0.4444444444444444,
              "#bd3786"
             ],
             [
              0.5555555555555556,
              "#d8576b"
             ],
             [
              0.6666666666666666,
              "#ed7953"
             ],
             [
              0.7777777777777778,
              "#fb9f3a"
             ],
             [
              0.8888888888888888,
              "#fdca26"
             ],
             [
              1,
              "#f0f921"
             ]
            ],
            "type": "heatmap"
           }
          ],
          "histogram": [
           {
            "marker": {
             "pattern": {
              "fillmode": "overlay",
              "size": 10,
              "solidity": 0.2
             }
            },
            "type": "histogram"
           }
          ],
          "histogram2d": [
           {
            "colorbar": {
             "outlinewidth": 0,
             "ticks": ""
            },
            "colorscale": [
             [
              0,
              "#0d0887"
             ],
             [
              0.1111111111111111,
              "#46039f"
             ],
             [
              0.2222222222222222,
              "#7201a8"
             ],
             [
              0.3333333333333333,
              "#9c179e"
             ],
             [
              0.4444444444444444,
              "#bd3786"
             ],
             [
              0.5555555555555556,
              "#d8576b"
             ],
             [
              0.6666666666666666,
              "#ed7953"
             ],
             [
              0.7777777777777778,
              "#fb9f3a"
             ],
             [
              0.8888888888888888,
              "#fdca26"
             ],
             [
              1,
              "#f0f921"
             ]
            ],
            "type": "histogram2d"
           }
          ],
          "histogram2dcontour": [
           {
            "colorbar": {
             "outlinewidth": 0,
             "ticks": ""
            },
            "colorscale": [
             [
              0,
              "#0d0887"
             ],
             [
              0.1111111111111111,
              "#46039f"
             ],
             [
              0.2222222222222222,
              "#7201a8"
             ],
             [
              0.3333333333333333,
              "#9c179e"
             ],
             [
              0.4444444444444444,
              "#bd3786"
             ],
             [
              0.5555555555555556,
              "#d8576b"
             ],
             [
              0.6666666666666666,
              "#ed7953"
             ],
             [
              0.7777777777777778,
              "#fb9f3a"
             ],
             [
              0.8888888888888888,
              "#fdca26"
             ],
             [
              1,
              "#f0f921"
             ]
            ],
            "type": "histogram2dcontour"
           }
          ],
          "mesh3d": [
           {
            "colorbar": {
             "outlinewidth": 0,
             "ticks": ""
            },
            "type": "mesh3d"
           }
          ],
          "parcoords": [
           {
            "line": {
             "colorbar": {
              "outlinewidth": 0,
              "ticks": ""
             }
            },
            "type": "parcoords"
           }
          ],
          "pie": [
           {
            "automargin": true,
            "type": "pie"
           }
          ],
          "scatter": [
           {
            "fillpattern": {
             "fillmode": "overlay",
             "size": 10,
             "solidity": 0.2
            },
            "type": "scatter"
           }
          ],
          "scatter3d": [
           {
            "line": {
             "colorbar": {
              "outlinewidth": 0,
              "ticks": ""
             }
            },
            "marker": {
             "colorbar": {
              "outlinewidth": 0,
              "ticks": ""
             }
            },
            "type": "scatter3d"
           }
          ],
          "scattercarpet": [
           {
            "marker": {
             "colorbar": {
              "outlinewidth": 0,
              "ticks": ""
             }
            },
            "type": "scattercarpet"
           }
          ],
          "scattergeo": [
           {
            "marker": {
             "colorbar": {
              "outlinewidth": 0,
              "ticks": ""
             }
            },
            "type": "scattergeo"
           }
          ],
          "scattergl": [
           {
            "marker": {
             "colorbar": {
              "outlinewidth": 0,
              "ticks": ""
             }
            },
            "type": "scattergl"
           }
          ],
          "scattermap": [
           {
            "marker": {
             "colorbar": {
              "outlinewidth": 0,
              "ticks": ""
             }
            },
            "type": "scattermap"
           }
          ],
          "scattermapbox": [
           {
            "marker": {
             "colorbar": {
              "outlinewidth": 0,
              "ticks": ""
             }
            },
            "type": "scattermapbox"
           }
          ],
          "scatterpolar": [
           {
            "marker": {
             "colorbar": {
              "outlinewidth": 0,
              "ticks": ""
             }
            },
            "type": "scatterpolar"
           }
          ],
          "scatterpolargl": [
           {
            "marker": {
             "colorbar": {
              "outlinewidth": 0,
              "ticks": ""
             }
            },
            "type": "scatterpolargl"
           }
          ],
          "scatterternary": [
           {
            "marker": {
             "colorbar": {
              "outlinewidth": 0,
              "ticks": ""
             }
            },
            "type": "scatterternary"
           }
          ],
          "surface": [
           {
            "colorbar": {
             "outlinewidth": 0,
             "ticks": ""
            },
            "colorscale": [
             [
              0,
              "#0d0887"
             ],
             [
              0.1111111111111111,
              "#46039f"
             ],
             [
              0.2222222222222222,
              "#7201a8"
             ],
             [
              0.3333333333333333,
              "#9c179e"
             ],
             [
              0.4444444444444444,
              "#bd3786"
             ],
             [
              0.5555555555555556,
              "#d8576b"
             ],
             [
              0.6666666666666666,
              "#ed7953"
             ],
             [
              0.7777777777777778,
              "#fb9f3a"
             ],
             [
              0.8888888888888888,
              "#fdca26"
             ],
             [
              1,
              "#f0f921"
             ]
            ],
            "type": "surface"
           }
          ],
          "table": [
           {
            "cells": {
             "fill": {
              "color": "#EBF0F8"
             },
             "line": {
              "color": "white"
             }
            },
            "header": {
             "fill": {
              "color": "#C8D4E3"
             },
             "line": {
              "color": "white"
             }
            },
            "type": "table"
           }
          ]
         },
         "layout": {
          "annotationdefaults": {
           "arrowcolor": "#2a3f5f",
           "arrowhead": 0,
           "arrowwidth": 1
          },
          "autotypenumbers": "strict",
          "coloraxis": {
           "colorbar": {
            "outlinewidth": 0,
            "ticks": ""
           }
          },
          "colorscale": {
           "diverging": [
            [
             0,
             "#8e0152"
            ],
            [
             0.1,
             "#c51b7d"
            ],
            [
             0.2,
             "#de77ae"
            ],
            [
             0.3,
             "#f1b6da"
            ],
            [
             0.4,
             "#fde0ef"
            ],
            [
             0.5,
             "#f7f7f7"
            ],
            [
             0.6,
             "#e6f5d0"
            ],
            [
             0.7,
             "#b8e186"
            ],
            [
             0.8,
             "#7fbc41"
            ],
            [
             0.9,
             "#4d9221"
            ],
            [
             1,
             "#276419"
            ]
           ],
           "sequential": [
            [
             0,
             "#0d0887"
            ],
            [
             0.1111111111111111,
             "#46039f"
            ],
            [
             0.2222222222222222,
             "#7201a8"
            ],
            [
             0.3333333333333333,
             "#9c179e"
            ],
            [
             0.4444444444444444,
             "#bd3786"
            ],
            [
             0.5555555555555556,
             "#d8576b"
            ],
            [
             0.6666666666666666,
             "#ed7953"
            ],
            [
             0.7777777777777778,
             "#fb9f3a"
            ],
            [
             0.8888888888888888,
             "#fdca26"
            ],
            [
             1,
             "#f0f921"
            ]
           ],
           "sequentialminus": [
            [
             0,
             "#0d0887"
            ],
            [
             0.1111111111111111,
             "#46039f"
            ],
            [
             0.2222222222222222,
             "#7201a8"
            ],
            [
             0.3333333333333333,
             "#9c179e"
            ],
            [
             0.4444444444444444,
             "#bd3786"
            ],
            [
             0.5555555555555556,
             "#d8576b"
            ],
            [
             0.6666666666666666,
             "#ed7953"
            ],
            [
             0.7777777777777778,
             "#fb9f3a"
            ],
            [
             0.8888888888888888,
             "#fdca26"
            ],
            [
             1,
             "#f0f921"
            ]
           ]
          },
          "colorway": [
           "#636efa",
           "#EF553B",
           "#00cc96",
           "#ab63fa",
           "#FFA15A",
           "#19d3f3",
           "#FF6692",
           "#B6E880",
           "#FF97FF",
           "#FECB52"
          ],
          "font": {
           "color": "#2a3f5f"
          },
          "geo": {
           "bgcolor": "white",
           "lakecolor": "white",
           "landcolor": "#E5ECF6",
           "showlakes": true,
           "showland": true,
           "subunitcolor": "white"
          },
          "hoverlabel": {
           "align": "left"
          },
          "hovermode": "closest",
          "mapbox": {
           "style": "light"
          },
          "paper_bgcolor": "white",
          "plot_bgcolor": "#E5ECF6",
          "polar": {
           "angularaxis": {
            "gridcolor": "white",
            "linecolor": "white",
            "ticks": ""
           },
           "bgcolor": "#E5ECF6",
           "radialaxis": {
            "gridcolor": "white",
            "linecolor": "white",
            "ticks": ""
           }
          },
          "scene": {
           "xaxis": {
            "backgroundcolor": "#E5ECF6",
            "gridcolor": "white",
            "gridwidth": 2,
            "linecolor": "white",
            "showbackground": true,
            "ticks": "",
            "zerolinecolor": "white"
           },
           "yaxis": {
            "backgroundcolor": "#E5ECF6",
            "gridcolor": "white",
            "gridwidth": 2,
            "linecolor": "white",
            "showbackground": true,
            "ticks": "",
            "zerolinecolor": "white"
           },
           "zaxis": {
            "backgroundcolor": "#E5ECF6",
            "gridcolor": "white",
            "gridwidth": 2,
            "linecolor": "white",
            "showbackground": true,
            "ticks": "",
            "zerolinecolor": "white"
           }
          },
          "shapedefaults": {
           "line": {
            "color": "#2a3f5f"
           }
          },
          "ternary": {
           "aaxis": {
            "gridcolor": "white",
            "linecolor": "white",
            "ticks": ""
           },
           "baxis": {
            "gridcolor": "white",
            "linecolor": "white",
            "ticks": ""
           },
           "bgcolor": "#E5ECF6",
           "caxis": {
            "gridcolor": "white",
            "linecolor": "white",
            "ticks": ""
           }
          },
          "title": {
           "x": 0.05
          },
          "xaxis": {
           "automargin": true,
           "gridcolor": "white",
           "linecolor": "white",
           "ticks": "",
           "title": {
            "standoff": 15
           },
           "zerolinecolor": "white",
           "zerolinewidth": 2
          },
          "yaxis": {
           "automargin": true,
           "gridcolor": "white",
           "linecolor": "white",
           "ticks": "",
           "title": {
            "standoff": 15
           },
           "zerolinecolor": "white",
           "zerolinewidth": 2
          }
         }
        },
        "title": {
         "text": "Logit Difference From Each Layer"
        },
        "width": 800,
        "xaxis": {
         "anchor": "y",
         "domain": [
          0,
          1
         ],
         "tickmode": "array",
         "ticktext": [
          "embed",
          "pos_embed",
          "0_attn_out",
          "0_mlp_out",
          "1_attn_out",
          "1_mlp_out",
          "2_attn_out",
          "2_mlp_out",
          "3_attn_out",
          "3_mlp_out",
          "4_attn_out",
          "4_mlp_out",
          "5_attn_out",
          "5_mlp_out",
          "6_attn_out",
          "6_mlp_out",
          "7_attn_out",
          "7_mlp_out",
          "8_attn_out",
          "8_mlp_out",
          "9_attn_out",
          "9_mlp_out",
          "10_attn_out",
          "10_mlp_out",
          "11_attn_out",
          "11_mlp_out"
         ],
         "tickvals": {
          "bdata": "AAECAwQFBgcICQoLDA0ODxAREhMUFRYXGBk=",
          "dtype": "i1"
         },
         "title": {
          "text": "Layer"
         }
        },
        "yaxis": {
         "anchor": "x",
         "domain": [
          0,
          1
         ],
         "title": {
          "text": "Logit Diff"
         }
        }
       }
      }
     },
     "metadata": {},
     "output_type": "display_data"
    }
   ],
   "source": [
    "per_layer_residual, labels = cache.decompose_resid(layer=-1, pos_slice=-1, return_labels=True)\n",
    "per_layer_logit_diffs = residual_stack_to_logit_diff(per_layer_residual, cache)\n",
    "\n",
    "line(\n",
    "    per_layer_logit_diffs,\n",
    "    hovermode='x unified',\n",
    "    title='Logit Difference From Each Layer',\n",
    "    labels={'x': 'Layer', 'y': 'Logit Diff'},\n",
    "    xaxis_tickvals=labels,\n",
    "    width=800,\n",
    ")"
   ]
  },
  {
   "cell_type": "markdown",
   "id": "afb7fdeb",
   "metadata": {},
   "source": [
    "# 4. Head attribution\n",
    "\n",
    "We can further break down the output of each attention layer into the sum of the outputs of each attention head. Each attention layer consists of 12 heads, which each act independently and additively. The standard way to compute the output of an attention layer is by concatenating the mixed values of each head, and multiplying by a big output weight matrix. But, as described in `A Mathematical Framework`, this is equivalent to splitting the output weight matrix into a per-head output and adding them up (including an overall bias term for the entire layer).\n",
    "\n",
    "Below we see that only a few heads really matter - heads 9.6 and 9.9 contribute a lot positively, explaining why attention layer 9 is so important, while heads 10.7 and 11.10 contribute a lot negatively, explaining why attention layer 10 and layer 11 are actively harmful. These correspond to some of the name movers and negative name movers discussed in the `Mathematical Framework` paper. There are also several heads that matter positively or negatively but less strongly (other name movers and backup name movers).\n",
    "\n",
    "These observations supports the claim in `A Mathematical Framework` paper that **attention heads are the right level of abstraction to understand attention**."
   ]
  },
  {
   "cell_type": "code",
   "execution_count": 15,
   "id": "42f43358",
   "metadata": {},
   "outputs": [
    {
     "name": "stdout",
     "output_type": "stream",
     "text": [
      "Tried to stack head results when they weren't cached. Computing head results now\n"
     ]
    },
    {
     "data": {
      "application/vnd.plotly.v1+json": {
       "config": {
        "plotlyServerURL": "https://plot.ly",
        "staticPlot": false
       },
       "data": [
        {
         "coloraxis": "coloraxis",
         "hovertemplate": "Head: %{x}<br>Layer: %{y}<br>color: %{z}<extra></extra>",
         "name": "0",
         "type": "heatmap",
         "xaxis": "x",
         "yaxis": "y",
         "z": {
          "bdata": "5Ur5uheg4Lm7KpY5+MINOPY7Eroy3hS5KEEVu3vCJrtVGN057HiKOcDPozgMerK4hOwsugivuTnauFS65XeAOlN3orpSEW66hIIYuxwiWrtuQy07MD0dO3AO3znD6sQ6mA+eOcJ6kbrkkb66pmuWulQaoLnGM7A6ZxMKO8h1Tjss1No5OvVQu56xx7oALD83GisOuqAFiTfuWJ46izMlOpFxzDpwjho6FPEIunoLSbvmrmc67DHnOXSYb7orWqi6C4EZu/agtTl0opK6RMB4u4jGyTq1nMw5imslumT50zrM43+6e6V3uTrnVDoEVwm5aQAvOktJUzr22Ci7CzJYurJDJzo6lm457QqsubAG47hEBEQ6Qr8QuYRs0buxqGU7HjlOvJBdoblw4vE6EaW1OTv1lbvi/l47XLyRO1yJJ7sxMbG6ag2nOeLmnroHAgI6uO3XN/7FiLs724O5urvsPfLNFTqf4Wm8xPU2O/ltk7rqsQ68ArUXPlCHgLiLz7W5o8Mxu1TYkLnxa0a8fp3UO8DBFTvrt7u7e6xGvbwgazu2YU28brj8Oc1yWz7/GRk8qu4rPSINqrrMIg89SGxVPHSF07y4KTg9pF6CPxDMUD3ix429PK8PQPfzoTqMCCa84IPiPqyGCj5BmaG9gAMdPcxjWboUtnM6ywJjPo3bqb9eT0a7TfYrvSeXsz7actI6EMJ3PNLKZ710tKS+MXSNPEqOK7sQrOs6wut7vaKF3TteqP48WdImvVnwGb/F1Ra7",
          "dtype": "f4",
          "shape": "12, 12"
         }
        }
       ],
       "layout": {
        "coloraxis": {
         "cmid": 0,
         "colorscale": [
          [
           0,
           "rgb(103,0,31)"
          ],
          [
           0.1,
           "rgb(178,24,43)"
          ],
          [
           0.2,
           "rgb(214,96,77)"
          ],
          [
           0.3,
           "rgb(244,165,130)"
          ],
          [
           0.4,
           "rgb(253,219,199)"
          ],
          [
           0.5,
           "rgb(247,247,247)"
          ],
          [
           0.6,
           "rgb(209,229,240)"
          ],
          [
           0.7,
           "rgb(146,197,222)"
          ],
          [
           0.8,
           "rgb(67,147,195)"
          ],
          [
           0.9,
           "rgb(33,102,172)"
          ],
          [
           1,
           "rgb(5,48,97)"
          ]
         ]
        },
        "template": {
         "data": {
          "bar": [
           {
            "error_x": {
             "color": "#2a3f5f"
            },
            "error_y": {
             "color": "#2a3f5f"
            },
            "marker": {
             "line": {
              "color": "#E5ECF6",
              "width": 0.5
             },
             "pattern": {
              "fillmode": "overlay",
              "size": 10,
              "solidity": 0.2
             }
            },
            "type": "bar"
           }
          ],
          "barpolar": [
           {
            "marker": {
             "line": {
              "color": "#E5ECF6",
              "width": 0.5
             },
             "pattern": {
              "fillmode": "overlay",
              "size": 10,
              "solidity": 0.2
             }
            },
            "type": "barpolar"
           }
          ],
          "carpet": [
           {
            "aaxis": {
             "endlinecolor": "#2a3f5f",
             "gridcolor": "white",
             "linecolor": "white",
             "minorgridcolor": "white",
             "startlinecolor": "#2a3f5f"
            },
            "baxis": {
             "endlinecolor": "#2a3f5f",
             "gridcolor": "white",
             "linecolor": "white",
             "minorgridcolor": "white",
             "startlinecolor": "#2a3f5f"
            },
            "type": "carpet"
           }
          ],
          "choropleth": [
           {
            "colorbar": {
             "outlinewidth": 0,
             "ticks": ""
            },
            "type": "choropleth"
           }
          ],
          "contour": [
           {
            "colorbar": {
             "outlinewidth": 0,
             "ticks": ""
            },
            "colorscale": [
             [
              0,
              "#0d0887"
             ],
             [
              0.1111111111111111,
              "#46039f"
             ],
             [
              0.2222222222222222,
              "#7201a8"
             ],
             [
              0.3333333333333333,
              "#9c179e"
             ],
             [
              0.4444444444444444,
              "#bd3786"
             ],
             [
              0.5555555555555556,
              "#d8576b"
             ],
             [
              0.6666666666666666,
              "#ed7953"
             ],
             [
              0.7777777777777778,
              "#fb9f3a"
             ],
             [
              0.8888888888888888,
              "#fdca26"
             ],
             [
              1,
              "#f0f921"
             ]
            ],
            "type": "contour"
           }
          ],
          "contourcarpet": [
           {
            "colorbar": {
             "outlinewidth": 0,
             "ticks": ""
            },
            "type": "contourcarpet"
           }
          ],
          "heatmap": [
           {
            "colorbar": {
             "outlinewidth": 0,
             "ticks": ""
            },
            "colorscale": [
             [
              0,
              "#0d0887"
             ],
             [
              0.1111111111111111,
              "#46039f"
             ],
             [
              0.2222222222222222,
              "#7201a8"
             ],
             [
              0.3333333333333333,
              "#9c179e"
             ],
             [
              0.4444444444444444,
              "#bd3786"
             ],
             [
              0.5555555555555556,
              "#d8576b"
             ],
             [
              0.6666666666666666,
              "#ed7953"
             ],
             [
              0.7777777777777778,
              "#fb9f3a"
             ],
             [
              0.8888888888888888,
              "#fdca26"
             ],
             [
              1,
              "#f0f921"
             ]
            ],
            "type": "heatmap"
           }
          ],
          "histogram": [
           {
            "marker": {
             "pattern": {
              "fillmode": "overlay",
              "size": 10,
              "solidity": 0.2
             }
            },
            "type": "histogram"
           }
          ],
          "histogram2d": [
           {
            "colorbar": {
             "outlinewidth": 0,
             "ticks": ""
            },
            "colorscale": [
             [
              0,
              "#0d0887"
             ],
             [
              0.1111111111111111,
              "#46039f"
             ],
             [
              0.2222222222222222,
              "#7201a8"
             ],
             [
              0.3333333333333333,
              "#9c179e"
             ],
             [
              0.4444444444444444,
              "#bd3786"
             ],
             [
              0.5555555555555556,
              "#d8576b"
             ],
             [
              0.6666666666666666,
              "#ed7953"
             ],
             [
              0.7777777777777778,
              "#fb9f3a"
             ],
             [
              0.8888888888888888,
              "#fdca26"
             ],
             [
              1,
              "#f0f921"
             ]
            ],
            "type": "histogram2d"
           }
          ],
          "histogram2dcontour": [
           {
            "colorbar": {
             "outlinewidth": 0,
             "ticks": ""
            },
            "colorscale": [
             [
              0,
              "#0d0887"
             ],
             [
              0.1111111111111111,
              "#46039f"
             ],
             [
              0.2222222222222222,
              "#7201a8"
             ],
             [
              0.3333333333333333,
              "#9c179e"
             ],
             [
              0.4444444444444444,
              "#bd3786"
             ],
             [
              0.5555555555555556,
              "#d8576b"
             ],
             [
              0.6666666666666666,
              "#ed7953"
             ],
             [
              0.7777777777777778,
              "#fb9f3a"
             ],
             [
              0.8888888888888888,
              "#fdca26"
             ],
             [
              1,
              "#f0f921"
             ]
            ],
            "type": "histogram2dcontour"
           }
          ],
          "mesh3d": [
           {
            "colorbar": {
             "outlinewidth": 0,
             "ticks": ""
            },
            "type": "mesh3d"
           }
          ],
          "parcoords": [
           {
            "line": {
             "colorbar": {
              "outlinewidth": 0,
              "ticks": ""
             }
            },
            "type": "parcoords"
           }
          ],
          "pie": [
           {
            "automargin": true,
            "type": "pie"
           }
          ],
          "scatter": [
           {
            "fillpattern": {
             "fillmode": "overlay",
             "size": 10,
             "solidity": 0.2
            },
            "type": "scatter"
           }
          ],
          "scatter3d": [
           {
            "line": {
             "colorbar": {
              "outlinewidth": 0,
              "ticks": ""
             }
            },
            "marker": {
             "colorbar": {
              "outlinewidth": 0,
              "ticks": ""
             }
            },
            "type": "scatter3d"
           }
          ],
          "scattercarpet": [
           {
            "marker": {
             "colorbar": {
              "outlinewidth": 0,
              "ticks": ""
             }
            },
            "type": "scattercarpet"
           }
          ],
          "scattergeo": [
           {
            "marker": {
             "colorbar": {
              "outlinewidth": 0,
              "ticks": ""
             }
            },
            "type": "scattergeo"
           }
          ],
          "scattergl": [
           {
            "marker": {
             "colorbar": {
              "outlinewidth": 0,
              "ticks": ""
             }
            },
            "type": "scattergl"
           }
          ],
          "scattermap": [
           {
            "marker": {
             "colorbar": {
              "outlinewidth": 0,
              "ticks": ""
             }
            },
            "type": "scattermap"
           }
          ],
          "scattermapbox": [
           {
            "marker": {
             "colorbar": {
              "outlinewidth": 0,
              "ticks": ""
             }
            },
            "type": "scattermapbox"
           }
          ],
          "scatterpolar": [
           {
            "marker": {
             "colorbar": {
              "outlinewidth": 0,
              "ticks": ""
             }
            },
            "type": "scatterpolar"
           }
          ],
          "scatterpolargl": [
           {
            "marker": {
             "colorbar": {
              "outlinewidth": 0,
              "ticks": ""
             }
            },
            "type": "scatterpolargl"
           }
          ],
          "scatterternary": [
           {
            "marker": {
             "colorbar": {
              "outlinewidth": 0,
              "ticks": ""
             }
            },
            "type": "scatterternary"
           }
          ],
          "surface": [
           {
            "colorbar": {
             "outlinewidth": 0,
             "ticks": ""
            },
            "colorscale": [
             [
              0,
              "#0d0887"
             ],
             [
              0.1111111111111111,
              "#46039f"
             ],
             [
              0.2222222222222222,
              "#7201a8"
             ],
             [
              0.3333333333333333,
              "#9c179e"
             ],
             [
              0.4444444444444444,
              "#bd3786"
             ],
             [
              0.5555555555555556,
              "#d8576b"
             ],
             [
              0.6666666666666666,
              "#ed7953"
             ],
             [
              0.7777777777777778,
              "#fb9f3a"
             ],
             [
              0.8888888888888888,
              "#fdca26"
             ],
             [
              1,
              "#f0f921"
             ]
            ],
            "type": "surface"
           }
          ],
          "table": [
           {
            "cells": {
             "fill": {
              "color": "#EBF0F8"
             },
             "line": {
              "color": "white"
             }
            },
            "header": {
             "fill": {
              "color": "#C8D4E3"
             },
             "line": {
              "color": "white"
             }
            },
            "type": "table"
           }
          ]
         },
         "layout": {
          "annotationdefaults": {
           "arrowcolor": "#2a3f5f",
           "arrowhead": 0,
           "arrowwidth": 1
          },
          "autotypenumbers": "strict",
          "coloraxis": {
           "colorbar": {
            "outlinewidth": 0,
            "ticks": ""
           }
          },
          "colorscale": {
           "diverging": [
            [
             0,
             "#8e0152"
            ],
            [
             0.1,
             "#c51b7d"
            ],
            [
             0.2,
             "#de77ae"
            ],
            [
             0.3,
             "#f1b6da"
            ],
            [
             0.4,
             "#fde0ef"
            ],
            [
             0.5,
             "#f7f7f7"
            ],
            [
             0.6,
             "#e6f5d0"
            ],
            [
             0.7,
             "#b8e186"
            ],
            [
             0.8,
             "#7fbc41"
            ],
            [
             0.9,
             "#4d9221"
            ],
            [
             1,
             "#276419"
            ]
           ],
           "sequential": [
            [
             0,
             "#0d0887"
            ],
            [
             0.1111111111111111,
             "#46039f"
            ],
            [
             0.2222222222222222,
             "#7201a8"
            ],
            [
             0.3333333333333333,
             "#9c179e"
            ],
            [
             0.4444444444444444,
             "#bd3786"
            ],
            [
             0.5555555555555556,
             "#d8576b"
            ],
            [
             0.6666666666666666,
             "#ed7953"
            ],
            [
             0.7777777777777778,
             "#fb9f3a"
            ],
            [
             0.8888888888888888,
             "#fdca26"
            ],
            [
             1,
             "#f0f921"
            ]
           ],
           "sequentialminus": [
            [
             0,
             "#0d0887"
            ],
            [
             0.1111111111111111,
             "#46039f"
            ],
            [
             0.2222222222222222,
             "#7201a8"
            ],
            [
             0.3333333333333333,
             "#9c179e"
            ],
            [
             0.4444444444444444,
             "#bd3786"
            ],
            [
             0.5555555555555556,
             "#d8576b"
            ],
            [
             0.6666666666666666,
             "#ed7953"
            ],
            [
             0.7777777777777778,
             "#fb9f3a"
            ],
            [
             0.8888888888888888,
             "#fdca26"
            ],
            [
             1,
             "#f0f921"
            ]
           ]
          },
          "colorway": [
           "#636efa",
           "#EF553B",
           "#00cc96",
           "#ab63fa",
           "#FFA15A",
           "#19d3f3",
           "#FF6692",
           "#B6E880",
           "#FF97FF",
           "#FECB52"
          ],
          "font": {
           "color": "#2a3f5f"
          },
          "geo": {
           "bgcolor": "white",
           "lakecolor": "white",
           "landcolor": "#E5ECF6",
           "showlakes": true,
           "showland": true,
           "subunitcolor": "white"
          },
          "hoverlabel": {
           "align": "left"
          },
          "hovermode": "closest",
          "mapbox": {
           "style": "light"
          },
          "paper_bgcolor": "white",
          "plot_bgcolor": "#E5ECF6",
          "polar": {
           "angularaxis": {
            "gridcolor": "white",
            "linecolor": "white",
            "ticks": ""
           },
           "bgcolor": "#E5ECF6",
           "radialaxis": {
            "gridcolor": "white",
            "linecolor": "white",
            "ticks": ""
           }
          },
          "scene": {
           "xaxis": {
            "backgroundcolor": "#E5ECF6",
            "gridcolor": "white",
            "gridwidth": 2,
            "linecolor": "white",
            "showbackground": true,
            "ticks": "",
            "zerolinecolor": "white"
           },
           "yaxis": {
            "backgroundcolor": "#E5ECF6",
            "gridcolor": "white",
            "gridwidth": 2,
            "linecolor": "white",
            "showbackground": true,
            "ticks": "",
            "zerolinecolor": "white"
           },
           "zaxis": {
            "backgroundcolor": "#E5ECF6",
            "gridcolor": "white",
            "gridwidth": 2,
            "linecolor": "white",
            "showbackground": true,
            "ticks": "",
            "zerolinecolor": "white"
           }
          },
          "shapedefaults": {
           "line": {
            "color": "#2a3f5f"
           }
          },
          "ternary": {
           "aaxis": {
            "gridcolor": "white",
            "linecolor": "white",
            "ticks": ""
           },
           "baxis": {
            "gridcolor": "white",
            "linecolor": "white",
            "ticks": ""
           },
           "bgcolor": "#E5ECF6",
           "caxis": {
            "gridcolor": "white",
            "linecolor": "white",
            "ticks": ""
           }
          },
          "title": {
           "x": 0.05
          },
          "xaxis": {
           "automargin": true,
           "gridcolor": "white",
           "linecolor": "white",
           "ticks": "",
           "title": {
            "standoff": 15
           },
           "zerolinecolor": "white",
           "zerolinewidth": 2
          },
          "yaxis": {
           "automargin": true,
           "gridcolor": "white",
           "linecolor": "white",
           "ticks": "",
           "title": {
            "standoff": 15
           },
           "zerolinecolor": "white",
           "zerolinewidth": 2
          }
         }
        },
        "title": {
         "text": "Logit Difference From Each Head"
        },
        "width": 600,
        "xaxis": {
         "anchor": "y",
         "constrain": "domain",
         "domain": [
          0,
          1
         ],
         "scaleanchor": "y",
         "title": {
          "text": "Head"
         }
        },
        "yaxis": {
         "anchor": "x",
         "autorange": "reversed",
         "constrain": "domain",
         "domain": [
          0,
          1
         ],
         "title": {
          "text": "Layer"
         }
        }
       }
      }
     },
     "metadata": {},
     "output_type": "display_data"
    }
   ],
   "source": [
    "per_head_residual, labels = cache.stack_head_results(layer=-1, pos_slice=-1, return_labels=True)\n",
    "per_head_residual = einops.rearrange(per_head_residual, '(layer head) ... -> layer head ...', layer=model.cfg.n_layers)\n",
    "per_head_logit_diffs = residual_stack_to_logit_diff(per_head_residual, cache)\n",
    "\n",
    "imshow(\n",
    "    per_head_logit_diffs,\n",
    "    labels={'x': 'Head', 'y': 'Layer'},\n",
    "    title='Logit Difference From Each Head',\n",
    "    width=600,\n",
    ")"
   ]
  },
  {
   "cell_type": "markdown",
   "id": "09d9fe50",
   "metadata": {},
   "source": [
    "# 5. Attention analysis\n",
    "\n",
    "Attention heads are particularly fruitful to interpret, because we can look directly at their attention patterns and study from what positions they move information from and to. This is particularly useful here as we're looking at the direct effect on the logits so we need only look at the attention patterns from the final token.\n",
    "\n",
    "We use the `circuitsvis` library (developed from Anthropic's `PySvelte` library) to visualize the attention patterns. We visualize the top 3 positive and negative heads by direct logit attribution, and show these for the first prompt as an illustration.\n",
    "\n",
    "A common mistake to make when looking at attention patterns is thinking that they must convey information about the token looked at (maybe accounting for the context of the token). But actually, all we can confidently say is that it moves information from the residual stream position corresponding to that input token. Especially later on in the model, there may be components in the residual stream that have nothing to do with the input token, e.g., the period at the end of a sentence may contain summary information for that sentence, and the head may solely move that, rather than caring about whether it ends in \".\", \"!\" or \"?\"."
   ]
  },
  {
   "cell_type": "code",
   "execution_count": 18,
   "id": "244dbae3",
   "metadata": {},
   "outputs": [
    {
     "data": {
      "text/html": [
       "<h2>Top 3 Positive Logit Attribution Heads</h2>"
      ],
      "text/plain": [
       "<IPython.core.display.HTML object>"
      ]
     },
     "metadata": {},
     "output_type": "display_data"
    },
    {
     "data": {
      "text/html": [
       "<div id=\"circuits-vis-655767ba-29e5\" style=\"margin: 15px 0;\"/>\n",
       "    <script crossorigin type=\"module\">\n",
       "    import { render, AttentionPatterns } from \"https://unpkg.com/circuitsvis@1.43.3/dist/cdn/esm.js\";\n",
       "    render(\n",
       "      \"circuits-vis-655767ba-29e5\",\n",
       "      AttentionPatterns,\n",
       "      {\"tokens\": [\"<|endoftext|>\", \"When\", \" John\", \" and\", \" Mary\", \" went\", \" to\", \" the\", \" shops\", \",\", \" \", \" John\", \" gave\", \" the\", \" bag\", \" to\"], \"attention\": [[[1.0, 0.0, 0.0, 0.0, 0.0, 0.0, 0.0, 0.0, 0.0, 0.0, 0.0, 0.0, 0.0, 0.0, 0.0, 0.0], [0.9979304075241089, 0.002069643698632717, 0.0, 0.0, 0.0, 0.0, 0.0, 0.0, 0.0, 0.0, 0.0, 0.0, 0.0, 0.0, 0.0, 0.0], [0.9971864819526672, 0.0010516684269532561, 0.0017618321580812335, 0.0, 0.0, 0.0, 0.0, 0.0, 0.0, 0.0, 0.0, 0.0, 0.0, 0.0, 0.0, 0.0], [0.9594854116439819, 0.0013107417616993189, 0.03694336488842964, 0.0022604831028729677, 0.0, 0.0, 0.0, 0.0, 0.0, 0.0, 0.0, 0.0, 0.0, 0.0, 0.0, 0.0], [0.9891611933708191, 0.0010526427067816257, 0.004854221362620592, 0.0011043683625757694, 0.003827603068202734, 0.0, 0.0, 0.0, 0.0, 0.0, 0.0, 0.0, 0.0, 0.0, 0.0, 0.0], [0.9963597655296326, 0.000798189896158874, 0.0007764345500618219, 0.00019262745627202094, 0.00024162141198758036, 0.0016313506057485938, 0.0, 0.0, 0.0, 0.0, 0.0, 0.0, 0.0, 0.0, 0.0, 0.0], [0.9812862277030945, 0.001863789977505803, 0.006344175897538662, 0.00029609532793983817, 0.004604993388056755, 0.0013966959668323398, 0.0042079477570950985, 0.0, 0.0, 0.0, 0.0, 0.0, 0.0, 0.0, 0.0, 0.0], [0.9950010180473328, 0.0013230680488049984, 0.0007920791977085173, 0.00024644762743264437, 0.0003405183379072696, 0.00016826202045194805, 0.00028377800481393933, 0.00184477714356035, 0.0, 0.0, 0.0, 0.0, 0.0, 0.0, 0.0, 0.0], [0.9920291900634766, 0.0013540071668103337, 0.0007168386946432292, 9.214332385454327e-05, 0.000134195142891258, 0.00019706456805579364, 0.0003527885128278285, 0.00024261300859507173, 0.0048812017776072025, 0.0, 0.0, 0.0, 0.0, 0.0, 0.0, 0.0], [0.5483145117759705, 0.00758392596617341, 0.28266409039497375, 0.0029685841873288155, 0.14815737307071686, 0.0008173028472810984, 0.0006479950388893485, 0.001707855029962957, 0.00412933761253953, 0.0030090431682765484, 0.0, 0.0, 0.0, 0.0, 0.0, 0.0], [0.9534644484519958, 0.010200489312410355, 0.01115466095507145, 0.001144514069892466, 0.019217392429709435, 0.0001788775552995503, 3.509011003188789e-05, 0.00036253553116694093, 0.0009550491231493652, 0.0010031983256340027, 0.0022838404402136803, 0.0, 0.0, 0.0, 0.0, 0.0], [0.7904755473136902, 0.005696057341992855, 0.005978296045213938, 0.1120649203658104, 0.05915788933634758, 0.014013736508786678, 0.0012937610736116767, 0.0006499784649349749, 0.003937751054763794, 0.0014900809619575739, 0.0017244582995772362, 0.0035174868535250425, 0.0, 0.0, 0.0, 0.0], [0.5367019176483154, 0.0070656766183674335, 0.13918349146842957, 0.022723620757460594, 0.2075202912092209, 0.0008634817786514759, 0.0009110831306315958, 0.0034696818329393864, 0.014640848152339458, 0.0024170340038836002, 0.017496827989816666, 0.04222957789897919, 0.004776457324624062, 0.0, 0.0, 0.0], [0.7744567394256592, 0.0030831266194581985, 0.017015080899000168, 0.011270292103290558, 0.013175534084439278, 0.0021195122972130775, 0.0007268369663506746, 0.000764058087952435, 0.14893023669719696, 0.0024089559447020292, 0.009280167520046234, 0.005200812127441168, 0.002833424136042595, 0.008735304698348045, 0.0, 0.0], [0.9726648330688477, 0.0013024848885834217, 0.0024995359126478434, 9.167171810986474e-05, 0.0004884797963313758, 0.00011709782847901806, 0.0004507212433964014, 0.00011265323701081797, 0.003202038584277034, 0.0016878650058060884, 0.0012607116950675845, 0.0010469849221408367, 0.00020768748072441667, 0.0009345143917016685, 0.013932572677731514, 0.0], [0.18952558934688568, 0.0015660227509215474, 0.1364268809556961, 0.004381159320473671, 0.6052831411361694, 0.0001680205314187333, 0.00014069762255530804, 0.0021493276581168175, 0.0019398706499487162, 0.0005908628809265792, 0.011714000254869461, 0.03751625493168831, 0.0001301337033510208, 0.005989311262965202, 0.0006083727930672467, 0.0018703581299632788]], [[1.0, 0.0, 0.0, 0.0, 0.0, 0.0, 0.0, 0.0, 0.0, 0.0, 0.0, 0.0, 0.0, 0.0, 0.0, 0.0], [0.9985041618347168, 0.0014959081308916211, 0.0, 0.0, 0.0, 0.0, 0.0, 0.0, 0.0, 0.0, 0.0, 0.0, 0.0, 0.0, 0.0, 0.0], [0.9966639876365662, 0.00046957883751019835, 0.0028664623387157917, 0.0, 0.0, 0.0, 0.0, 0.0, 0.0, 0.0, 0.0, 0.0, 0.0, 0.0, 0.0, 0.0], [0.9208277463912964, 0.0007845066138543189, 0.07677042484283447, 0.0016173585318028927, 0.0, 0.0, 0.0, 0.0, 0.0, 0.0, 0.0, 0.0, 0.0, 0.0, 0.0, 0.0], [0.9835837483406067, 0.0006018374115228653, 0.0030123183969408274, 0.006188112311065197, 0.0066139898262917995, 0.0, 0.0, 0.0, 0.0, 0.0, 0.0, 0.0, 0.0, 0.0, 0.0, 0.0], [0.9950478076934814, 0.0007798037840984762, 0.0007059514755383134, 0.0003824872546829283, 0.000779881956987083, 0.0023041495587676764, 0.0, 0.0, 0.0, 0.0, 0.0, 0.0, 0.0, 0.0, 0.0, 0.0], [0.9838818311691284, 0.0015907525084912777, 0.006336241960525513, 0.00045846012653782964, 0.00482988404110074, 0.0009966628858819604, 0.001906101475469768, 0.0, 0.0, 0.0, 0.0, 0.0, 0.0, 0.0, 0.0, 0.0], [0.995481014251709, 0.0010436356533318758, 0.0005037507507950068, 0.0005756172467954457, 0.00046194554306566715, 0.000426718732342124, 0.0006751771434210241, 0.0008320949855260551, 0.0, 0.0, 0.0, 0.0, 0.0, 0.0, 0.0, 0.0], [0.9798212051391602, 0.008518286049365997, 0.001019031973555684, 0.00029932952020317316, 0.0003097982262261212, 0.0003330525360070169, 0.0015419982373714447, 0.0008126550819724798, 0.007344566751271486, 0.0, 0.0, 0.0, 0.0, 0.0, 0.0, 0.0], [0.6489171385765076, 0.008722511120140553, 0.1026623472571373, 0.003890582825988531, 0.22695329785346985, 0.0011351049179211259, 0.0004588244191836566, 0.0004216726229060441, 0.005373896099627018, 0.0014645822811871767, 0.0, 0.0, 0.0, 0.0, 0.0, 0.0], [0.9724298715591431, 0.004603642039000988, 0.005900551564991474, 0.0019676326774060726, 0.006009915377944708, 0.0003440622240304947, 0.0007256497628986835, 0.0014434097101911902, 0.0019150706939399242, 0.0015188326360657811, 0.003141350345686078, 0.0, 0.0, 0.0, 0.0, 0.0], [0.905924379825592, 0.0015489900251850486, 0.0016245782608166337, 0.03757437691092491, 0.031448233872652054, 0.007315592374652624, 0.001032613217830658, 0.0003033582179341465, 0.007878458127379417, 0.0005437961081042886, 0.001528030028566718, 0.003277671756222844, 0.0, 0.0, 0.0, 0.0], [0.684327244758606, 0.0020479117520153522, 0.045835334807634354, 0.0065520997159183025, 0.21044966578483582, 0.0007239179685711861, 0.00044136098586022854, 0.001401181798428297, 0.0063093723729252815, 0.00045932005741633475, 0.02279871329665184, 0.016512645408511162, 0.0021410975605249405, 0.0, 0.0, 0.0], [0.8362513780593872, 0.0016261538257822394, 0.0043691894970834255, 0.015571245923638344, 0.02384418621659279, 0.0038689239881932735, 0.001175747369416058, 0.00026659879949875176, 0.09330887347459793, 0.0013238888932392001, 0.010276908054947853, 0.002537950873374939, 0.001623147283680737, 0.003955910447984934, 0.0, 0.0], [0.9741239547729492, 0.0025260644033551216, 0.004409755114465952, 0.00018930529768113047, 0.002606513909995556, 0.00022353655367624015, 0.0008289181278087199, 0.0004200562252663076, 0.0027686338871717453, 0.0015981700271368027, 0.00165544671472162, 0.0018669174751266837, 7.959335925988853e-05, 0.0018781876424327493, 0.004825013689696789, 0.0], [0.25988537073135376, 0.000600783561822027, 0.09844562411308289, 0.0015029474161565304, 0.6069563031196594, 0.00018128141527995467, 5.290437547955662e-05, 0.00020558809046633542, 0.002419443568214774, 8.338280895259231e-05, 0.010135181248188019, 0.016664940863847733, 7.455108425347134e-05, 0.0010251064086332917, 0.0013540550135076046, 0.0004127065767534077]], [[1.0, 0.0, 0.0, 0.0, 0.0, 0.0, 0.0, 0.0, 0.0, 0.0, 0.0, 0.0, 0.0, 0.0, 0.0, 0.0], [0.9776754379272461, 0.022324496880173683, 0.0, 0.0, 0.0, 0.0, 0.0, 0.0, 0.0, 0.0, 0.0, 0.0, 0.0, 0.0, 0.0, 0.0], [0.94307541847229, 0.018822889775037766, 0.038101643323898315, 0.0, 0.0, 0.0, 0.0, 0.0, 0.0, 0.0, 0.0, 0.0, 0.0, 0.0, 0.0, 0.0], [0.8963212966918945, 0.006171671207994223, 0.07676298916339874, 0.020744092762470245, 0.0, 0.0, 0.0, 0.0, 0.0, 0.0, 0.0, 0.0, 0.0, 0.0, 0.0, 0.0], [0.8522233366966248, 0.017844295129179955, 0.054786644876003265, 0.01297623198479414, 0.062169525772333145, 0.0, 0.0, 0.0, 0.0, 0.0, 0.0, 0.0, 0.0, 0.0, 0.0, 0.0], [0.9669023752212524, 0.0040495372377336025, 0.002062343992292881, 0.0077663809061050415, 0.007081854622811079, 0.012137580662965775, 0.0, 0.0, 0.0, 0.0, 0.0, 0.0, 0.0, 0.0, 0.0, 0.0], [0.7676407098770142, 0.01850207895040512, 0.04501297324895859, 0.012471579946577549, 0.1059124544262886, 0.01832338608801365, 0.032136719673871994, 0.0, 0.0, 0.0, 0.0, 0.0, 0.0, 0.0, 0.0, 0.0], [0.8918290138244629, 0.010069524869322777, 0.013090028427541256, 0.010685109533369541, 0.031169215217232704, 0.006502223201096058, 0.021038271486759186, 0.015616524964571, 0.0, 0.0, 0.0, 0.0, 0.0, 0.0, 0.0, 0.0], [0.9457206130027771, 0.004500488750636578, 0.013905936852097511, 0.0013248925097286701, 0.01557671744376421, 0.0011156968539580703, 0.0007837438024580479, 0.0007244544103741646, 0.016347350552678108, 0.0, 0.0, 0.0, 0.0, 0.0, 0.0, 0.0], [0.5131957530975342, 0.006032056640833616, 0.11406754702329636, 0.00951907504349947, 0.3061314821243286, 0.0034422369208186865, 0.002601637039333582, 0.0026653532404452562, 0.03412343189120293, 0.008221426047384739, 0.0, 0.0, 0.0, 0.0, 0.0, 0.0], [0.7658894062042236, 0.02373581938445568, 0.02263912558555603, 0.007764053530991077, 0.10450796037912369, 0.0021323561668395996, 0.0019247264135628939, 0.0010666536400094628, 0.0254171472042799, 0.01749972626566887, 0.02742304466664791, 0.0, 0.0, 0.0, 0.0, 0.0], [0.8110271692276001, 0.00696224719285965, 0.018672898411750793, 0.0070678615011274815, 0.04156265780329704, 0.010574226267635822, 0.0019296242389827967, 0.001071202103048563, 0.028861258178949356, 0.007935713045299053, 0.03221426531672478, 0.03212094306945801, 0.0, 0.0, 0.0, 0.0], [0.35557135939598083, 0.0038023197557777166, 0.10860197246074677, 0.013014419004321098, 0.32391273975372314, 0.0030890919733792543, 0.0043216971680521965, 0.0037737085949629545, 0.025606097653508186, 0.006993452552706003, 0.0447416827082634, 0.10005909949541092, 0.006512435153126717, 0.0, 0.0, 0.0], [0.6336797475814819, 0.0037809882778674364, 0.02171475999057293, 0.019804419949650764, 0.055991727858781815, 0.0063279070891439915, 0.010113374330103397, 0.0031296503730118275, 0.16730155050754547, 0.009502716362476349, 0.027928834781050682, 0.018999986350536346, 0.012501881457865238, 0.009222538210451603, 0.0, 0.0], [0.856833279132843, 0.006772398948669434, 0.01095674280077219, 0.0023112499620765448, 0.018834389746189117, 0.0015743958065286279, 0.0018544946797192097, 0.0014897141372784972, 0.02817446179687977, 0.008378878235816956, 0.02590198442339897, 0.009480435401201248, 0.002955254167318344, 0.0026367551181465387, 0.021845577284693718, 0.0], [0.47951945662498474, 0.0030957881826907396, 0.057532135397195816, 0.006021172273904085, 0.36111214756965637, 0.0017186198383569717, 0.0011611620429903269, 0.0010005270596593618, 0.010773800313472748, 0.00369148887693882, 0.020632248371839523, 0.03835669532418251, 0.0011696598958224058, 0.0029537216760218143, 0.002731583546847105, 0.008529778569936752]]]}\n",
       "    )\n",
       "    </script>"
      ],
      "text/plain": [
       "<circuitsvis.utils.render.RenderedHTML at 0x30e60e540>"
      ]
     },
     "metadata": {},
     "output_type": "display_data"
    },
    {
     "data": {
      "text/html": [
       "<h2>Top 3 Negative Logit Attribution Heads</h2>"
      ],
      "text/plain": [
       "<IPython.core.display.HTML object>"
      ]
     },
     "metadata": {},
     "output_type": "display_data"
    },
    {
     "data": {
      "text/html": [
       "<div id=\"circuits-vis-4efbc5a4-f6e7\" style=\"margin: 15px 0;\"/>\n",
       "    <script crossorigin type=\"module\">\n",
       "    import { render, AttentionPatterns } from \"https://unpkg.com/circuitsvis@1.43.3/dist/cdn/esm.js\";\n",
       "    render(\n",
       "      \"circuits-vis-4efbc5a4-f6e7\",\n",
       "      AttentionPatterns,\n",
       "      {\"tokens\": [\"<|endoftext|>\", \"When\", \" John\", \" and\", \" Mary\", \" went\", \" to\", \" the\", \" shops\", \",\", \" \", \" John\", \" gave\", \" the\", \" bag\", \" to\"], \"attention\": [[[1.0, 0.0, 0.0, 0.0, 0.0, 0.0, 0.0, 0.0, 0.0, 0.0, 0.0, 0.0, 0.0, 0.0, 0.0, 0.0], [0.9628917574882507, 0.037108294665813446, 0.0, 0.0, 0.0, 0.0, 0.0, 0.0, 0.0, 0.0, 0.0, 0.0, 0.0, 0.0, 0.0, 0.0], [0.97783362865448, 0.003486386500298977, 0.018680013716220856, 0.0, 0.0, 0.0, 0.0, 0.0, 0.0, 0.0, 0.0, 0.0, 0.0, 0.0, 0.0, 0.0], [0.8737696409225464, 0.005964318290352821, 0.08126747608184814, 0.03899853676557541, 0.0, 0.0, 0.0, 0.0, 0.0, 0.0, 0.0, 0.0, 0.0, 0.0, 0.0, 0.0], [0.874514102935791, 0.017276166006922722, 0.018874619156122208, 0.054268307983875275, 0.03506682813167572, 0.0, 0.0, 0.0, 0.0, 0.0, 0.0, 0.0, 0.0, 0.0, 0.0, 0.0], [0.9704694747924805, 0.0035177881363779306, 0.00032398218172602355, 0.004373457748442888, 0.00039529739296995103, 0.02092008665204048, 0.0, 0.0, 0.0, 0.0, 0.0, 0.0, 0.0, 0.0, 0.0, 0.0], [0.7694655656814575, 0.0066858758218586445, 0.011966492980718613, 0.040966276079416275, 0.033444445580244064, 0.044010184705257416, 0.09346126019954681, 0.0, 0.0, 0.0, 0.0, 0.0, 0.0, 0.0, 0.0, 0.0], [0.8177717924118042, 0.009112616069614887, 0.004233688116073608, 0.03900328651070595, 0.012653284706175327, 0.007337858434766531, 0.07410042732954025, 0.03578707575798035, 0.0, 0.0, 0.0, 0.0, 0.0, 0.0, 0.0, 0.0], [0.8309929370880127, 0.0187966451048851, 0.0033032619394361973, 0.01983213797211647, 0.004009468946605921, 0.012078364379703999, 0.032460179179906845, 0.010322259739041328, 0.06820473074913025, 0.0, 0.0, 0.0, 0.0, 0.0, 0.0, 0.0], [0.3140285611152649, 0.015227858908474445, 0.19789506494998932, 0.05937914550304413, 0.3236071467399597, 0.009037812240421772, 0.019917795434594154, 0.012475201860070229, 0.013939375057816505, 0.034492067992687225, 0.0, 0.0, 0.0, 0.0, 0.0, 0.0], [0.9111466407775879, 0.008458856493234634, 0.009198457933962345, 0.006821370683610439, 0.011761030182242393, 0.001386292977258563, 0.0030473978258669376, 0.0013570390874519944, 0.00040639855433255434, 0.008482701145112514, 0.0379338264465332, 0.0, 0.0, 0.0, 0.0, 0.0], [0.69096839427948, 0.0281777773052454, 0.013245024718344212, 0.09099088609218597, 0.015919527038931847, 0.03571724146604538, 0.017637083306908607, 0.006508439779281616, 0.0020982669666409492, 0.04410732164978981, 0.03317771852016449, 0.021452294662594795, 0.0, 0.0, 0.0, 0.0], [0.2377343773841858, 0.013878971338272095, 0.11383970081806183, 0.020683156326413155, 0.2187892347574234, 0.007622669450938702, 0.013393351808190346, 0.00786437839269638, 0.00225124997086823, 0.02898884378373623, 0.036163873970508575, 0.24569356441497803, 0.053096700459718704, 0.0, 0.0, 0.0], [0.42337313294410706, 0.008367707021534443, 0.022974155843257904, 0.07251559942960739, 0.037803735584020615, 0.007187279872596264, 0.030376534909009933, 0.023213349282741547, 0.1612599641084671, 0.03128059208393097, 0.02381422184407711, 0.03559026122093201, 0.029325665906071663, 0.09291768819093704, 0.0, 0.0], [0.8030009269714355, 0.005475149489939213, 0.0060014729388058186, 0.007781466469168663, 0.009393193759024143, 0.0034704525023698807, 0.006880020722746849, 0.0023922452237457037, 0.015040228143334389, 0.016060927882790565, 0.01613747887313366, 0.008835511282086372, 0.017705535516142845, 0.0076566049829125404, 0.07416868209838867, 0.0], [0.033003129065036774, 0.0014748461544513702, 0.08726450800895691, 0.009918897412717342, 0.6764346361160278, 0.000684803759213537, 0.0032012148294597864, 0.0031049661338329315, 0.0001867196842795238, 0.004194191657006741, 0.0018502614693716168, 0.15635955333709717, 0.0016444885404780507, 0.013101400807499886, 6.876380211906508e-05, 0.007507665082812309]], [[1.0, 0.0, 0.0, 0.0, 0.0, 0.0, 0.0, 0.0, 0.0, 0.0, 0.0, 0.0, 0.0, 0.0, 0.0, 0.0], [0.9124021530151367, 0.0875978171825409, 0.0, 0.0, 0.0, 0.0, 0.0, 0.0, 0.0, 0.0, 0.0, 0.0, 0.0, 0.0, 0.0, 0.0], [0.9740748405456543, 0.01434407476335764, 0.011581115424633026, 0.0, 0.0, 0.0, 0.0, 0.0, 0.0, 0.0, 0.0, 0.0, 0.0, 0.0, 0.0, 0.0], [0.8240241408348083, 0.03700519725680351, 0.06644000113010406, 0.07253061234951019, 0.0, 0.0, 0.0, 0.0, 0.0, 0.0, 0.0, 0.0, 0.0, 0.0, 0.0, 0.0], [0.5370799899101257, 0.15483358502388, 0.09031282365322113, 0.12131179869174957, 0.09646180272102356, 0.0, 0.0, 0.0, 0.0, 0.0, 0.0, 0.0, 0.0, 0.0, 0.0, 0.0], [0.9388003945350647, 0.0287331510335207, 0.0003431003133300692, 0.01048121228814125, 0.0008399226935580373, 0.020802220329642296, 0.0, 0.0, 0.0, 0.0, 0.0, 0.0, 0.0, 0.0, 0.0, 0.0], [0.6318816542625427, 0.05930279940366745, 0.035179249942302704, 0.03174086660146713, 0.11746843159198761, 0.06869609653949738, 0.05573085695505142, 0.0, 0.0, 0.0, 0.0, 0.0, 0.0, 0.0, 0.0, 0.0], [0.7625221610069275, 0.04435167461633682, 0.010552973486483097, 0.034276243299245834, 0.014203840866684914, 0.012703539803624153, 0.07259644567966461, 0.048792995512485504, 0.0, 0.0, 0.0, 0.0, 0.0, 0.0, 0.0, 0.0], [0.5726006627082825, 0.12681759893894196, 0.03727041184902191, 0.04314132407307625, 0.041295621544122696, 0.04644736647605896, 0.029164180159568787, 0.03751171752810478, 0.0657510831952095, 0.0, 0.0, 0.0, 0.0, 0.0, 0.0, 0.0], [0.12316874414682388, 0.02634703926742077, 0.27960753440856934, 0.04198954254388809, 0.44105690717697144, 0.006138965487480164, 0.007792978547513485, 0.007175245322287083, 0.011286753229796886, 0.05543631687760353, 0.0, 0.0, 0.0, 0.0, 0.0, 0.0], [0.8444430828094482, 0.03709740936756134, 0.01214012410491705, 0.01969713158905506, 0.026730205863714218, 0.006927244830876589, 0.00386600149795413, 0.005970530677586794, 0.00433303089812398, 0.03098241239786148, 0.007812773808836937, 0.0, 0.0, 0.0, 0.0, 0.0], [0.43521299958229065, 0.11007622629404068, 0.020324232056736946, 0.12566398084163666, 0.043034136295318604, 0.016849275678396225, 0.008161470293998718, 0.0036703203804790974, 0.004354146774858236, 0.11642321944236755, 0.008124525658786297, 0.10810550302267075, 0.0, 0.0, 0.0, 0.0], [0.15945211052894592, 0.024232685565948486, 0.06738549470901489, 0.05572451651096344, 0.3930623531341553, 0.0016986558912321925, 0.001684999675489962, 0.0029202669393271208, 0.002294315490871668, 0.05510571599006653, 0.029608745127916336, 0.16151373088359833, 0.04531638324260712, 0.0, 0.0, 0.0], [0.4397400915622711, 0.03815403953194618, 0.02454708330333233, 0.057887833565473557, 0.025661639869213104, 0.007842575199902058, 0.009730399586260319, 0.013805591501295567, 0.06075378134846687, 0.04234825819730759, 0.030337728559970856, 0.04324744641780853, 0.1190815418958664, 0.0868619903922081, 0.0, 0.0], [0.7650662064552307, 0.014158006757497787, 0.005866530351340771, 0.011567438021302223, 0.004794539883732796, 0.008272928185760975, 0.007866772823035717, 0.00928508024662733, 0.0025437031872570515, 0.015611653216183186, 0.013229466043412685, 0.010884934104979038, 0.08009909838438034, 0.025509389117360115, 0.02524426206946373, 0.0], [0.08964113891124725, 0.01850494183599949, 0.04947945848107338, 0.04352843016386032, 0.5966787934303284, 0.0014614320825785398, 0.0012083619367331266, 0.0025260760448873043, 0.0005502841086126864, 0.03471018746495247, 0.017418742179870605, 0.0965484231710434, 0.018825916573405266, 0.0034952512942254543, 0.0005612432141788304, 0.024861328303813934]], [[1.0, 0.0, 0.0, 0.0, 0.0, 0.0, 0.0, 0.0, 0.0, 0.0, 0.0, 0.0, 0.0, 0.0, 0.0, 0.0], [0.9691730737686157, 0.03082689829170704, 0.0, 0.0, 0.0, 0.0, 0.0, 0.0, 0.0, 0.0, 0.0, 0.0, 0.0, 0.0, 0.0, 0.0], [0.9864584803581238, 0.007659869268536568, 0.0058816238306462765, 0.0, 0.0, 0.0, 0.0, 0.0, 0.0, 0.0, 0.0, 0.0, 0.0, 0.0, 0.0, 0.0], [0.9318374991416931, 0.011915619485080242, 0.020531825721263885, 0.035715050995349884, 0.0, 0.0, 0.0, 0.0, 0.0, 0.0, 0.0, 0.0, 0.0, 0.0, 0.0, 0.0], [0.8786705732345581, 0.03427601233124733, 0.013157902285456657, 0.027051258832216263, 0.04684421047568321, 0.0, 0.0, 0.0, 0.0, 0.0, 0.0, 0.0, 0.0, 0.0, 0.0, 0.0], [0.9850097298622131, 0.00501948781311512, 0.0013920129276812077, 0.0018760524690151215, 0.004171130713075399, 0.0025315769016742706, 0.0, 0.0, 0.0, 0.0, 0.0, 0.0, 0.0, 0.0, 0.0, 0.0], [0.8907086849212646, 0.020262571051716805, 0.0209045372903347, 0.009134656749665737, 0.04057823866605759, 0.0032151229679584503, 0.015196185559034348, 0.0, 0.0, 0.0, 0.0, 0.0, 0.0, 0.0, 0.0, 0.0], [0.9318531155586243, 0.012423812411725521, 0.0070528872311115265, 0.006267633754760027, 0.009715674445033073, 0.0013882801868021488, 0.012697430327534676, 0.018601125106215477, 0.0, 0.0, 0.0, 0.0, 0.0, 0.0, 0.0, 0.0], [0.7722940444946289, 0.038295019418001175, 0.03943624719977379, 0.009729222394526005, 0.11019417643547058, 0.009773450903594494, 0.008868097327649593, 0.003977740183472633, 0.00743197463452816, 0.0, 0.0, 0.0, 0.0, 0.0, 0.0, 0.0], [0.6659281253814697, 0.019893711432814598, 0.05748194083571434, 0.026046376675367355, 0.18978656828403473, 0.0017340289195999503, 0.00411609373986721, 0.004545084200799465, 0.007496017497032881, 0.0229721087962389, 0.0, 0.0, 0.0, 0.0, 0.0, 0.0], [0.9002727270126343, 0.0183616541326046, 0.011929921805858612, 0.008129050955176353, 0.03147350624203682, 0.0012823488796129823, 0.0014160701539367437, 0.0010742874583229423, 0.0009362776763737202, 0.006460877135396004, 0.01866338774561882, 0.0, 0.0, 0.0, 0.0, 0.0], [0.7709771990776062, 0.01931842975318432, 0.011100777424871922, 0.01714753918349743, 0.06776566803455353, 0.012494474649429321, 0.0027726921252906322, 0.0008989219786599278, 0.004101326689124107, 0.010345849208533764, 0.06006399914622307, 0.023013003170490265, 0.0, 0.0, 0.0, 0.0], [0.6397549510002136, 0.01820656657218933, 0.03880922496318817, 0.0534747950732708, 0.1302282214164734, 0.0016255438094958663, 0.0054127187468111515, 0.0057755764573812485, 0.003240798134356737, 0.020369121804833412, 0.03880266845226288, 0.030592266470193863, 0.01370757445693016, 0.0, 0.0, 0.0], [0.7551981210708618, 0.012542352080345154, 0.018129324540495872, 0.026555141434073448, 0.0464170016348362, 0.0023318196181207895, 0.006965289823710918, 0.006983660627156496, 0.03604947030544281, 0.010927117429673672, 0.03132883086800575, 0.012510486878454685, 0.010604973882436752, 0.023456424474716187, 0.0, 0.0], [0.8310718536376953, 0.012094045989215374, 0.013681190088391304, 0.008196452632546425, 0.04658994451165199, 0.002043909626081586, 0.0023269825614988804, 0.0012070321245118976, 0.0028951880522072315, 0.012371140532195568, 0.026089152321219444, 0.01771455444395542, 0.005621848627924919, 0.004455029498785734, 0.01364179141819477, 0.0], [0.7248017191886902, 0.012079795822501183, 0.021588537842035294, 0.046593744307756424, 0.06205643713474274, 0.0008554706582799554, 0.002201329916715622, 0.0026536385994404554, 0.0012828634353354573, 0.012460594065487385, 0.04449332877993584, 0.014675022102892399, 0.007234884425997734, 0.005458550527691841, 0.0030426958110183477, 0.03852146491408348]]]}\n",
       "    )\n",
       "    </script>"
      ],
      "text/plain": [
       "<circuitsvis.utils.render.RenderedHTML at 0x30089f0b0>"
      ]
     },
     "metadata": {},
     "output_type": "display_data"
    }
   ],
   "source": [
    "def topk_of_Nd_tensor(tensor, k: int):\n",
    "    i = torch.topk(tensor.flatten(), k).indices\n",
    "    return np.array(np.unravel_index(utils.to_numpy(i), tensor.shape)).T.tolist()\n",
    "\n",
    "\n",
    "k = 3\n",
    "\n",
    "for head_type in ['Positive', 'Negative']:\n",
    "    top_heads = topk_of_Nd_tensor(per_head_logit_diffs * (1 if head_type == 'Positive' else -1), k)\n",
    "\n",
    "    attn_patterns_for_important_heads = torch.stack(\n",
    "        [cache['pattern', layer][:, head][0] for layer, head in top_heads]\n",
    "    )\n",
    "\n",
    "    display(HTML(f'<h2>Top {k} {head_type} Logit Attribution Heads</h2>'))\n",
    "    display(\n",
    "        cv.attention.attention_patterns(\n",
    "            attention=attn_patterns_for_important_heads,\n",
    "            tokens=model.to_str_tokens(tokens[0]),\n",
    "        )\n",
    "    )"
   ]
  },
  {
   "cell_type": "code",
   "execution_count": 19,
   "id": "579c9b21",
   "metadata": {},
   "outputs": [
    {
     "data": {
      "text/html": [
       "<h2>Top 3 Positive Logit Attribution Heads</h2>"
      ],
      "text/plain": [
       "<IPython.core.display.HTML object>"
      ]
     },
     "metadata": {},
     "output_type": "display_data"
    },
    {
     "data": {
      "text/html": [
       "<div id=\"circuits-vis-7eaa622b-538f\" style=\"margin: 15px 0;\"/>\n",
       "    <script crossorigin type=\"module\">\n",
       "    import { render, AttentionHeads } from \"https://unpkg.com/circuitsvis@1.43.3/dist/cdn/esm.js\";\n",
       "    render(\n",
       "      \"circuits-vis-7eaa622b-538f\",\n",
       "      AttentionHeads,\n",
       "      {\"attention\": [[[1.0, 0.0, 0.0, 0.0, 0.0, 0.0, 0.0, 0.0, 0.0, 0.0, 0.0, 0.0, 0.0, 0.0, 0.0, 0.0], [0.9979304075241089, 0.002069643698632717, 0.0, 0.0, 0.0, 0.0, 0.0, 0.0, 0.0, 0.0, 0.0, 0.0, 0.0, 0.0, 0.0, 0.0], [0.9971864819526672, 0.0010516684269532561, 0.0017618321580812335, 0.0, 0.0, 0.0, 0.0, 0.0, 0.0, 0.0, 0.0, 0.0, 0.0, 0.0, 0.0, 0.0], [0.9594854116439819, 0.0013107417616993189, 0.03694336488842964, 0.0022604831028729677, 0.0, 0.0, 0.0, 0.0, 0.0, 0.0, 0.0, 0.0, 0.0, 0.0, 0.0, 0.0], [0.9891611933708191, 0.0010526427067816257, 0.004854221362620592, 0.0011043683625757694, 0.003827603068202734, 0.0, 0.0, 0.0, 0.0, 0.0, 0.0, 0.0, 0.0, 0.0, 0.0, 0.0], [0.9963597655296326, 0.000798189896158874, 0.0007764345500618219, 0.00019262745627202094, 0.00024162141198758036, 0.0016313506057485938, 0.0, 0.0, 0.0, 0.0, 0.0, 0.0, 0.0, 0.0, 0.0, 0.0], [0.9812862277030945, 0.001863789977505803, 0.006344175897538662, 0.00029609532793983817, 0.004604993388056755, 0.0013966959668323398, 0.0042079477570950985, 0.0, 0.0, 0.0, 0.0, 0.0, 0.0, 0.0, 0.0, 0.0], [0.9950010180473328, 0.0013230680488049984, 0.0007920791977085173, 0.00024644762743264437, 0.0003405183379072696, 0.00016826202045194805, 0.00028377800481393933, 0.00184477714356035, 0.0, 0.0, 0.0, 0.0, 0.0, 0.0, 0.0, 0.0], [0.9920291900634766, 0.0013540071668103337, 0.0007168386946432292, 9.214332385454327e-05, 0.000134195142891258, 0.00019706456805579364, 0.0003527885128278285, 0.00024261300859507173, 0.0048812017776072025, 0.0, 0.0, 0.0, 0.0, 0.0, 0.0, 0.0], [0.5483145117759705, 0.00758392596617341, 0.28266409039497375, 0.0029685841873288155, 0.14815737307071686, 0.0008173028472810984, 0.0006479950388893485, 0.001707855029962957, 0.00412933761253953, 0.0030090431682765484, 0.0, 0.0, 0.0, 0.0, 0.0, 0.0], [0.9534644484519958, 0.010200489312410355, 0.01115466095507145, 0.001144514069892466, 0.019217392429709435, 0.0001788775552995503, 3.509011003188789e-05, 0.00036253553116694093, 0.0009550491231493652, 0.0010031983256340027, 0.0022838404402136803, 0.0, 0.0, 0.0, 0.0, 0.0], [0.7904755473136902, 0.005696057341992855, 0.005978296045213938, 0.1120649203658104, 0.05915788933634758, 0.014013736508786678, 0.0012937610736116767, 0.0006499784649349749, 0.003937751054763794, 0.0014900809619575739, 0.0017244582995772362, 0.0035174868535250425, 0.0, 0.0, 0.0, 0.0], [0.5367019176483154, 0.0070656766183674335, 0.13918349146842957, 0.022723620757460594, 0.2075202912092209, 0.0008634817786514759, 0.0009110831306315958, 0.0034696818329393864, 0.014640848152339458, 0.0024170340038836002, 0.017496827989816666, 0.04222957789897919, 0.004776457324624062, 0.0, 0.0, 0.0], [0.7744567394256592, 0.0030831266194581985, 0.017015080899000168, 0.011270292103290558, 0.013175534084439278, 0.0021195122972130775, 0.0007268369663506746, 0.000764058087952435, 0.14893023669719696, 0.0024089559447020292, 0.009280167520046234, 0.005200812127441168, 0.002833424136042595, 0.008735304698348045, 0.0, 0.0], [0.9726648330688477, 0.0013024848885834217, 0.0024995359126478434, 9.167171810986474e-05, 0.0004884797963313758, 0.00011709782847901806, 0.0004507212433964014, 0.00011265323701081797, 0.003202038584277034, 0.0016878650058060884, 0.0012607116950675845, 0.0010469849221408367, 0.00020768748072441667, 0.0009345143917016685, 0.013932572677731514, 0.0], [0.18952558934688568, 0.0015660227509215474, 0.1364268809556961, 0.004381159320473671, 0.6052831411361694, 0.0001680205314187333, 0.00014069762255530804, 0.0021493276581168175, 0.0019398706499487162, 0.0005908628809265792, 0.011714000254869461, 0.03751625493168831, 0.0001301337033510208, 0.005989311262965202, 0.0006083727930672467, 0.0018703581299632788]], [[1.0, 0.0, 0.0, 0.0, 0.0, 0.0, 0.0, 0.0, 0.0, 0.0, 0.0, 0.0, 0.0, 0.0, 0.0, 0.0], [0.9985041618347168, 0.0014959081308916211, 0.0, 0.0, 0.0, 0.0, 0.0, 0.0, 0.0, 0.0, 0.0, 0.0, 0.0, 0.0, 0.0, 0.0], [0.9966639876365662, 0.00046957883751019835, 0.0028664623387157917, 0.0, 0.0, 0.0, 0.0, 0.0, 0.0, 0.0, 0.0, 0.0, 0.0, 0.0, 0.0, 0.0], [0.9208277463912964, 0.0007845066138543189, 0.07677042484283447, 0.0016173585318028927, 0.0, 0.0, 0.0, 0.0, 0.0, 0.0, 0.0, 0.0, 0.0, 0.0, 0.0, 0.0], [0.9835837483406067, 0.0006018374115228653, 0.0030123183969408274, 0.006188112311065197, 0.0066139898262917995, 0.0, 0.0, 0.0, 0.0, 0.0, 0.0, 0.0, 0.0, 0.0, 0.0, 0.0], [0.9950478076934814, 0.0007798037840984762, 0.0007059514755383134, 0.0003824872546829283, 0.000779881956987083, 0.0023041495587676764, 0.0, 0.0, 0.0, 0.0, 0.0, 0.0, 0.0, 0.0, 0.0, 0.0], [0.9838818311691284, 0.0015907525084912777, 0.006336241960525513, 0.00045846012653782964, 0.00482988404110074, 0.0009966628858819604, 0.001906101475469768, 0.0, 0.0, 0.0, 0.0, 0.0, 0.0, 0.0, 0.0, 0.0], [0.995481014251709, 0.0010436356533318758, 0.0005037507507950068, 0.0005756172467954457, 0.00046194554306566715, 0.000426718732342124, 0.0006751771434210241, 0.0008320949855260551, 0.0, 0.0, 0.0, 0.0, 0.0, 0.0, 0.0, 0.0], [0.9798212051391602, 0.008518286049365997, 0.001019031973555684, 0.00029932952020317316, 0.0003097982262261212, 0.0003330525360070169, 0.0015419982373714447, 0.0008126550819724798, 0.007344566751271486, 0.0, 0.0, 0.0, 0.0, 0.0, 0.0, 0.0], [0.6489171385765076, 0.008722511120140553, 0.1026623472571373, 0.003890582825988531, 0.22695329785346985, 0.0011351049179211259, 0.0004588244191836566, 0.0004216726229060441, 0.005373896099627018, 0.0014645822811871767, 0.0, 0.0, 0.0, 0.0, 0.0, 0.0], [0.9724298715591431, 0.004603642039000988, 0.005900551564991474, 0.0019676326774060726, 0.006009915377944708, 0.0003440622240304947, 0.0007256497628986835, 0.0014434097101911902, 0.0019150706939399242, 0.0015188326360657811, 0.003141350345686078, 0.0, 0.0, 0.0, 0.0, 0.0], [0.905924379825592, 0.0015489900251850486, 0.0016245782608166337, 0.03757437691092491, 0.031448233872652054, 0.007315592374652624, 0.001032613217830658, 0.0003033582179341465, 0.007878458127379417, 0.0005437961081042886, 0.001528030028566718, 0.003277671756222844, 0.0, 0.0, 0.0, 0.0], [0.684327244758606, 0.0020479117520153522, 0.045835334807634354, 0.0065520997159183025, 0.21044966578483582, 0.0007239179685711861, 0.00044136098586022854, 0.001401181798428297, 0.0063093723729252815, 0.00045932005741633475, 0.02279871329665184, 0.016512645408511162, 0.0021410975605249405, 0.0, 0.0, 0.0], [0.8362513780593872, 0.0016261538257822394, 0.0043691894970834255, 0.015571245923638344, 0.02384418621659279, 0.0038689239881932735, 0.001175747369416058, 0.00026659879949875176, 0.09330887347459793, 0.0013238888932392001, 0.010276908054947853, 0.002537950873374939, 0.001623147283680737, 0.003955910447984934, 0.0, 0.0], [0.9741239547729492, 0.0025260644033551216, 0.004409755114465952, 0.00018930529768113047, 0.002606513909995556, 0.00022353655367624015, 0.0008289181278087199, 0.0004200562252663076, 0.0027686338871717453, 0.0015981700271368027, 0.00165544671472162, 0.0018669174751266837, 7.959335925988853e-05, 0.0018781876424327493, 0.004825013689696789, 0.0], [0.25988537073135376, 0.000600783561822027, 0.09844562411308289, 0.0015029474161565304, 0.6069563031196594, 0.00018128141527995467, 5.290437547955662e-05, 0.00020558809046633542, 0.002419443568214774, 8.338280895259231e-05, 0.010135181248188019, 0.016664940863847733, 7.455108425347134e-05, 0.0010251064086332917, 0.0013540550135076046, 0.0004127065767534077]], [[1.0, 0.0, 0.0, 0.0, 0.0, 0.0, 0.0, 0.0, 0.0, 0.0, 0.0, 0.0, 0.0, 0.0, 0.0, 0.0], [0.9776754379272461, 0.022324496880173683, 0.0, 0.0, 0.0, 0.0, 0.0, 0.0, 0.0, 0.0, 0.0, 0.0, 0.0, 0.0, 0.0, 0.0], [0.94307541847229, 0.018822889775037766, 0.038101643323898315, 0.0, 0.0, 0.0, 0.0, 0.0, 0.0, 0.0, 0.0, 0.0, 0.0, 0.0, 0.0, 0.0], [0.8963212966918945, 0.006171671207994223, 0.07676298916339874, 0.020744092762470245, 0.0, 0.0, 0.0, 0.0, 0.0, 0.0, 0.0, 0.0, 0.0, 0.0, 0.0, 0.0], [0.8522233366966248, 0.017844295129179955, 0.054786644876003265, 0.01297623198479414, 0.062169525772333145, 0.0, 0.0, 0.0, 0.0, 0.0, 0.0, 0.0, 0.0, 0.0, 0.0, 0.0], [0.9669023752212524, 0.0040495372377336025, 0.002062343992292881, 0.0077663809061050415, 0.007081854622811079, 0.012137580662965775, 0.0, 0.0, 0.0, 0.0, 0.0, 0.0, 0.0, 0.0, 0.0, 0.0], [0.7676407098770142, 0.01850207895040512, 0.04501297324895859, 0.012471579946577549, 0.1059124544262886, 0.01832338608801365, 0.032136719673871994, 0.0, 0.0, 0.0, 0.0, 0.0, 0.0, 0.0, 0.0, 0.0], [0.8918290138244629, 0.010069524869322777, 0.013090028427541256, 0.010685109533369541, 0.031169215217232704, 0.006502223201096058, 0.021038271486759186, 0.015616524964571, 0.0, 0.0, 0.0, 0.0, 0.0, 0.0, 0.0, 0.0], [0.9457206130027771, 0.004500488750636578, 0.013905936852097511, 0.0013248925097286701, 0.01557671744376421, 0.0011156968539580703, 0.0007837438024580479, 0.0007244544103741646, 0.016347350552678108, 0.0, 0.0, 0.0, 0.0, 0.0, 0.0, 0.0], [0.5131957530975342, 0.006032056640833616, 0.11406754702329636, 0.00951907504349947, 0.3061314821243286, 0.0034422369208186865, 0.002601637039333582, 0.0026653532404452562, 0.03412343189120293, 0.008221426047384739, 0.0, 0.0, 0.0, 0.0, 0.0, 0.0], [0.7658894062042236, 0.02373581938445568, 0.02263912558555603, 0.007764053530991077, 0.10450796037912369, 0.0021323561668395996, 0.0019247264135628939, 0.0010666536400094628, 0.0254171472042799, 0.01749972626566887, 0.02742304466664791, 0.0, 0.0, 0.0, 0.0, 0.0], [0.8110271692276001, 0.00696224719285965, 0.018672898411750793, 0.0070678615011274815, 0.04156265780329704, 0.010574226267635822, 0.0019296242389827967, 0.001071202103048563, 0.028861258178949356, 0.007935713045299053, 0.03221426531672478, 0.03212094306945801, 0.0, 0.0, 0.0, 0.0], [0.35557135939598083, 0.0038023197557777166, 0.10860197246074677, 0.013014419004321098, 0.32391273975372314, 0.0030890919733792543, 0.0043216971680521965, 0.0037737085949629545, 0.025606097653508186, 0.006993452552706003, 0.0447416827082634, 0.10005909949541092, 0.006512435153126717, 0.0, 0.0, 0.0], [0.6336797475814819, 0.0037809882778674364, 0.02171475999057293, 0.019804419949650764, 0.055991727858781815, 0.0063279070891439915, 0.010113374330103397, 0.0031296503730118275, 0.16730155050754547, 0.009502716362476349, 0.027928834781050682, 0.018999986350536346, 0.012501881457865238, 0.009222538210451603, 0.0, 0.0], [0.856833279132843, 0.006772398948669434, 0.01095674280077219, 0.0023112499620765448, 0.018834389746189117, 0.0015743958065286279, 0.0018544946797192097, 0.0014897141372784972, 0.02817446179687977, 0.008378878235816956, 0.02590198442339897, 0.009480435401201248, 0.002955254167318344, 0.0026367551181465387, 0.021845577284693718, 0.0], [0.47951945662498474, 0.0030957881826907396, 0.057532135397195816, 0.006021172273904085, 0.36111214756965637, 0.0017186198383569717, 0.0011611620429903269, 0.0010005270596593618, 0.010773800313472748, 0.00369148887693882, 0.020632248371839523, 0.03835669532418251, 0.0011696598958224058, 0.0029537216760218143, 0.002731583546847105, 0.008529778569936752]]], \"attentionHeadNames\": [\"9.9\", \"9.6\", \"10.0\"], \"tokens\": [\"<|endoftext|>\", \"When\", \" John\", \" and\", \" Mary\", \" went\", \" to\", \" the\", \" shops\", \",\", \" \", \" John\", \" gave\", \" the\", \" bag\", \" to\"]}\n",
       "    )\n",
       "    </script>"
      ],
      "text/plain": [
       "<circuitsvis.utils.render.RenderedHTML at 0x30e60fc20>"
      ]
     },
     "metadata": {},
     "output_type": "display_data"
    },
    {
     "data": {
      "text/html": [
       "<h2>Top 3 Negative Logit Attribution Heads</h2>"
      ],
      "text/plain": [
       "<IPython.core.display.HTML object>"
      ]
     },
     "metadata": {},
     "output_type": "display_data"
    },
    {
     "data": {
      "text/html": [
       "<div id=\"circuits-vis-6f76d713-2a9d\" style=\"margin: 15px 0;\"/>\n",
       "    <script crossorigin type=\"module\">\n",
       "    import { render, AttentionHeads } from \"https://unpkg.com/circuitsvis@1.43.3/dist/cdn/esm.js\";\n",
       "    render(\n",
       "      \"circuits-vis-6f76d713-2a9d\",\n",
       "      AttentionHeads,\n",
       "      {\"attention\": [[[1.0, 0.0, 0.0, 0.0, 0.0, 0.0, 0.0, 0.0, 0.0, 0.0, 0.0, 0.0, 0.0, 0.0, 0.0, 0.0], [0.9628917574882507, 0.037108294665813446, 0.0, 0.0, 0.0, 0.0, 0.0, 0.0, 0.0, 0.0, 0.0, 0.0, 0.0, 0.0, 0.0, 0.0], [0.97783362865448, 0.003486386500298977, 0.018680013716220856, 0.0, 0.0, 0.0, 0.0, 0.0, 0.0, 0.0, 0.0, 0.0, 0.0, 0.0, 0.0, 0.0], [0.8737696409225464, 0.005964318290352821, 0.08126747608184814, 0.03899853676557541, 0.0, 0.0, 0.0, 0.0, 0.0, 0.0, 0.0, 0.0, 0.0, 0.0, 0.0, 0.0], [0.874514102935791, 0.017276166006922722, 0.018874619156122208, 0.054268307983875275, 0.03506682813167572, 0.0, 0.0, 0.0, 0.0, 0.0, 0.0, 0.0, 0.0, 0.0, 0.0, 0.0], [0.9704694747924805, 0.0035177881363779306, 0.00032398218172602355, 0.004373457748442888, 0.00039529739296995103, 0.02092008665204048, 0.0, 0.0, 0.0, 0.0, 0.0, 0.0, 0.0, 0.0, 0.0, 0.0], [0.7694655656814575, 0.0066858758218586445, 0.011966492980718613, 0.040966276079416275, 0.033444445580244064, 0.044010184705257416, 0.09346126019954681, 0.0, 0.0, 0.0, 0.0, 0.0, 0.0, 0.0, 0.0, 0.0], [0.8177717924118042, 0.009112616069614887, 0.004233688116073608, 0.03900328651070595, 0.012653284706175327, 0.007337858434766531, 0.07410042732954025, 0.03578707575798035, 0.0, 0.0, 0.0, 0.0, 0.0, 0.0, 0.0, 0.0], [0.8309929370880127, 0.0187966451048851, 0.0033032619394361973, 0.01983213797211647, 0.004009468946605921, 0.012078364379703999, 0.032460179179906845, 0.010322259739041328, 0.06820473074913025, 0.0, 0.0, 0.0, 0.0, 0.0, 0.0, 0.0], [0.3140285611152649, 0.015227858908474445, 0.19789506494998932, 0.05937914550304413, 0.3236071467399597, 0.009037812240421772, 0.019917795434594154, 0.012475201860070229, 0.013939375057816505, 0.034492067992687225, 0.0, 0.0, 0.0, 0.0, 0.0, 0.0], [0.9111466407775879, 0.008458856493234634, 0.009198457933962345, 0.006821370683610439, 0.011761030182242393, 0.001386292977258563, 0.0030473978258669376, 0.0013570390874519944, 0.00040639855433255434, 0.008482701145112514, 0.0379338264465332, 0.0, 0.0, 0.0, 0.0, 0.0], [0.69096839427948, 0.0281777773052454, 0.013245024718344212, 0.09099088609218597, 0.015919527038931847, 0.03571724146604538, 0.017637083306908607, 0.006508439779281616, 0.0020982669666409492, 0.04410732164978981, 0.03317771852016449, 0.021452294662594795, 0.0, 0.0, 0.0, 0.0], [0.2377343773841858, 0.013878971338272095, 0.11383970081806183, 0.020683156326413155, 0.2187892347574234, 0.007622669450938702, 0.013393351808190346, 0.00786437839269638, 0.00225124997086823, 0.02898884378373623, 0.036163873970508575, 0.24569356441497803, 0.053096700459718704, 0.0, 0.0, 0.0], [0.42337313294410706, 0.008367707021534443, 0.022974155843257904, 0.07251559942960739, 0.037803735584020615, 0.007187279872596264, 0.030376534909009933, 0.023213349282741547, 0.1612599641084671, 0.03128059208393097, 0.02381422184407711, 0.03559026122093201, 0.029325665906071663, 0.09291768819093704, 0.0, 0.0], [0.8030009269714355, 0.005475149489939213, 0.0060014729388058186, 0.007781466469168663, 0.009393193759024143, 0.0034704525023698807, 0.006880020722746849, 0.0023922452237457037, 0.015040228143334389, 0.016060927882790565, 0.01613747887313366, 0.008835511282086372, 0.017705535516142845, 0.0076566049829125404, 0.07416868209838867, 0.0], [0.033003129065036774, 0.0014748461544513702, 0.08726450800895691, 0.009918897412717342, 0.6764346361160278, 0.000684803759213537, 0.0032012148294597864, 0.0031049661338329315, 0.0001867196842795238, 0.004194191657006741, 0.0018502614693716168, 0.15635955333709717, 0.0016444885404780507, 0.013101400807499886, 6.876380211906508e-05, 0.007507665082812309]], [[1.0, 0.0, 0.0, 0.0, 0.0, 0.0, 0.0, 0.0, 0.0, 0.0, 0.0, 0.0, 0.0, 0.0, 0.0, 0.0], [0.9124021530151367, 0.0875978171825409, 0.0, 0.0, 0.0, 0.0, 0.0, 0.0, 0.0, 0.0, 0.0, 0.0, 0.0, 0.0, 0.0, 0.0], [0.9740748405456543, 0.01434407476335764, 0.011581115424633026, 0.0, 0.0, 0.0, 0.0, 0.0, 0.0, 0.0, 0.0, 0.0, 0.0, 0.0, 0.0, 0.0], [0.8240241408348083, 0.03700519725680351, 0.06644000113010406, 0.07253061234951019, 0.0, 0.0, 0.0, 0.0, 0.0, 0.0, 0.0, 0.0, 0.0, 0.0, 0.0, 0.0], [0.5370799899101257, 0.15483358502388, 0.09031282365322113, 0.12131179869174957, 0.09646180272102356, 0.0, 0.0, 0.0, 0.0, 0.0, 0.0, 0.0, 0.0, 0.0, 0.0, 0.0], [0.9388003945350647, 0.0287331510335207, 0.0003431003133300692, 0.01048121228814125, 0.0008399226935580373, 0.020802220329642296, 0.0, 0.0, 0.0, 0.0, 0.0, 0.0, 0.0, 0.0, 0.0, 0.0], [0.6318816542625427, 0.05930279940366745, 0.035179249942302704, 0.03174086660146713, 0.11746843159198761, 0.06869609653949738, 0.05573085695505142, 0.0, 0.0, 0.0, 0.0, 0.0, 0.0, 0.0, 0.0, 0.0], [0.7625221610069275, 0.04435167461633682, 0.010552973486483097, 0.034276243299245834, 0.014203840866684914, 0.012703539803624153, 0.07259644567966461, 0.048792995512485504, 0.0, 0.0, 0.0, 0.0, 0.0, 0.0, 0.0, 0.0], [0.5726006627082825, 0.12681759893894196, 0.03727041184902191, 0.04314132407307625, 0.041295621544122696, 0.04644736647605896, 0.029164180159568787, 0.03751171752810478, 0.0657510831952095, 0.0, 0.0, 0.0, 0.0, 0.0, 0.0, 0.0], [0.12316874414682388, 0.02634703926742077, 0.27960753440856934, 0.04198954254388809, 0.44105690717697144, 0.006138965487480164, 0.007792978547513485, 0.007175245322287083, 0.011286753229796886, 0.05543631687760353, 0.0, 0.0, 0.0, 0.0, 0.0, 0.0], [0.8444430828094482, 0.03709740936756134, 0.01214012410491705, 0.01969713158905506, 0.026730205863714218, 0.006927244830876589, 0.00386600149795413, 0.005970530677586794, 0.00433303089812398, 0.03098241239786148, 0.007812773808836937, 0.0, 0.0, 0.0, 0.0, 0.0], [0.43521299958229065, 0.11007622629404068, 0.020324232056736946, 0.12566398084163666, 0.043034136295318604, 0.016849275678396225, 0.008161470293998718, 0.0036703203804790974, 0.004354146774858236, 0.11642321944236755, 0.008124525658786297, 0.10810550302267075, 0.0, 0.0, 0.0, 0.0], [0.15945211052894592, 0.024232685565948486, 0.06738549470901489, 0.05572451651096344, 0.3930623531341553, 0.0016986558912321925, 0.001684999675489962, 0.0029202669393271208, 0.002294315490871668, 0.05510571599006653, 0.029608745127916336, 0.16151373088359833, 0.04531638324260712, 0.0, 0.0, 0.0], [0.4397400915622711, 0.03815403953194618, 0.02454708330333233, 0.057887833565473557, 0.025661639869213104, 0.007842575199902058, 0.009730399586260319, 0.013805591501295567, 0.06075378134846687, 0.04234825819730759, 0.030337728559970856, 0.04324744641780853, 0.1190815418958664, 0.0868619903922081, 0.0, 0.0], [0.7650662064552307, 0.014158006757497787, 0.005866530351340771, 0.011567438021302223, 0.004794539883732796, 0.008272928185760975, 0.007866772823035717, 0.00928508024662733, 0.0025437031872570515, 0.015611653216183186, 0.013229466043412685, 0.010884934104979038, 0.08009909838438034, 0.025509389117360115, 0.02524426206946373, 0.0], [0.08964113891124725, 0.01850494183599949, 0.04947945848107338, 0.04352843016386032, 0.5966787934303284, 0.0014614320825785398, 0.0012083619367331266, 0.0025260760448873043, 0.0005502841086126864, 0.03471018746495247, 0.017418742179870605, 0.0965484231710434, 0.018825916573405266, 0.0034952512942254543, 0.0005612432141788304, 0.024861328303813934]], [[1.0, 0.0, 0.0, 0.0, 0.0, 0.0, 0.0, 0.0, 0.0, 0.0, 0.0, 0.0, 0.0, 0.0, 0.0, 0.0], [0.9691730737686157, 0.03082689829170704, 0.0, 0.0, 0.0, 0.0, 0.0, 0.0, 0.0, 0.0, 0.0, 0.0, 0.0, 0.0, 0.0, 0.0], [0.9864584803581238, 0.007659869268536568, 0.0058816238306462765, 0.0, 0.0, 0.0, 0.0, 0.0, 0.0, 0.0, 0.0, 0.0, 0.0, 0.0, 0.0, 0.0], [0.9318374991416931, 0.011915619485080242, 0.020531825721263885, 0.035715050995349884, 0.0, 0.0, 0.0, 0.0, 0.0, 0.0, 0.0, 0.0, 0.0, 0.0, 0.0, 0.0], [0.8786705732345581, 0.03427601233124733, 0.013157902285456657, 0.027051258832216263, 0.04684421047568321, 0.0, 0.0, 0.0, 0.0, 0.0, 0.0, 0.0, 0.0, 0.0, 0.0, 0.0], [0.9850097298622131, 0.00501948781311512, 0.0013920129276812077, 0.0018760524690151215, 0.004171130713075399, 0.0025315769016742706, 0.0, 0.0, 0.0, 0.0, 0.0, 0.0, 0.0, 0.0, 0.0, 0.0], [0.8907086849212646, 0.020262571051716805, 0.0209045372903347, 0.009134656749665737, 0.04057823866605759, 0.0032151229679584503, 0.015196185559034348, 0.0, 0.0, 0.0, 0.0, 0.0, 0.0, 0.0, 0.0, 0.0], [0.9318531155586243, 0.012423812411725521, 0.0070528872311115265, 0.006267633754760027, 0.009715674445033073, 0.0013882801868021488, 0.012697430327534676, 0.018601125106215477, 0.0, 0.0, 0.0, 0.0, 0.0, 0.0, 0.0, 0.0], [0.7722940444946289, 0.038295019418001175, 0.03943624719977379, 0.009729222394526005, 0.11019417643547058, 0.009773450903594494, 0.008868097327649593, 0.003977740183472633, 0.00743197463452816, 0.0, 0.0, 0.0, 0.0, 0.0, 0.0, 0.0], [0.6659281253814697, 0.019893711432814598, 0.05748194083571434, 0.026046376675367355, 0.18978656828403473, 0.0017340289195999503, 0.00411609373986721, 0.004545084200799465, 0.007496017497032881, 0.0229721087962389, 0.0, 0.0, 0.0, 0.0, 0.0, 0.0], [0.9002727270126343, 0.0183616541326046, 0.011929921805858612, 0.008129050955176353, 0.03147350624203682, 0.0012823488796129823, 0.0014160701539367437, 0.0010742874583229423, 0.0009362776763737202, 0.006460877135396004, 0.01866338774561882, 0.0, 0.0, 0.0, 0.0, 0.0], [0.7709771990776062, 0.01931842975318432, 0.011100777424871922, 0.01714753918349743, 0.06776566803455353, 0.012494474649429321, 0.0027726921252906322, 0.0008989219786599278, 0.004101326689124107, 0.010345849208533764, 0.06006399914622307, 0.023013003170490265, 0.0, 0.0, 0.0, 0.0], [0.6397549510002136, 0.01820656657218933, 0.03880922496318817, 0.0534747950732708, 0.1302282214164734, 0.0016255438094958663, 0.0054127187468111515, 0.0057755764573812485, 0.003240798134356737, 0.020369121804833412, 0.03880266845226288, 0.030592266470193863, 0.01370757445693016, 0.0, 0.0, 0.0], [0.7551981210708618, 0.012542352080345154, 0.018129324540495872, 0.026555141434073448, 0.0464170016348362, 0.0023318196181207895, 0.006965289823710918, 0.006983660627156496, 0.03604947030544281, 0.010927117429673672, 0.03132883086800575, 0.012510486878454685, 0.010604973882436752, 0.023456424474716187, 0.0, 0.0], [0.8310718536376953, 0.012094045989215374, 0.013681190088391304, 0.008196452632546425, 0.04658994451165199, 0.002043909626081586, 0.0023269825614988804, 0.0012070321245118976, 0.0028951880522072315, 0.012371140532195568, 0.026089152321219444, 0.01771455444395542, 0.005621848627924919, 0.004455029498785734, 0.01364179141819477, 0.0], [0.7248017191886902, 0.012079795822501183, 0.021588537842035294, 0.046593744307756424, 0.06205643713474274, 0.0008554706582799554, 0.002201329916715622, 0.0026536385994404554, 0.0012828634353354573, 0.012460594065487385, 0.04449332877993584, 0.014675022102892399, 0.007234884425997734, 0.005458550527691841, 0.0030426958110183477, 0.03852146491408348]]], \"attentionHeadNames\": [\"10.7\", \"11.10\", \"11.2\"], \"tokens\": [\"<|endoftext|>\", \"When\", \" John\", \" and\", \" Mary\", \" went\", \" to\", \" the\", \" shops\", \",\", \" \", \" John\", \" gave\", \" the\", \" bag\", \" to\"]}\n",
       "    )\n",
       "    </script>"
      ],
      "text/plain": [
       "<circuitsvis.utils.render.RenderedHTML at 0x30089f110>"
      ]
     },
     "metadata": {},
     "output_type": "display_data"
    }
   ],
   "source": [
    "def topk_of_Nd_tensor(tensor, k: int):\n",
    "    i = torch.topk(tensor.flatten(), k).indices\n",
    "    return np.array(np.unravel_index(utils.to_numpy(i), tensor.shape)).T.tolist()\n",
    "\n",
    "\n",
    "k = 3\n",
    "\n",
    "for head_type in ['Positive', 'Negative']:\n",
    "    top_heads = topk_of_Nd_tensor(per_head_logit_diffs * (1 if head_type == 'Positive' else -1), k)\n",
    "\n",
    "    attn_patterns_for_important_heads = torch.stack(\n",
    "        [cache['pattern', layer][:, head][0] for layer, head in top_heads]\n",
    "    )\n",
    "\n",
    "    display(HTML(f'<h2>Top {k} {head_type} Logit Attribution Heads</h2>'))\n",
    "    display(\n",
    "        cv.attention.attention_heads(\n",
    "            attention=attn_patterns_for_important_heads,\n",
    "            tokens=model.to_str_tokens(tokens[0]),\n",
    "            attention_head_names=[f\"{layer}.{head}\" for layer, head in top_heads],\n",
    "        )\n",
    "    )"
   ]
  },
  {
   "cell_type": "markdown",
   "id": "1f16c642",
   "metadata": {},
   "source": [
    "# Sources\n",
    "\n",
    "1. [Ground truth - Arena::Logit attribution](https://arena-chapter1-transformer-interp.streamlit.app/[1.4.1]_Indirect_Object_Identification#keeping-track-of-your-guesses-predictions)\n",
    "2. [Interpretability in the wild: A circuit for indirect object identification in GPT-2 small, by Wang, K, et. al.](https://arxiv.org/pdf/2211.00593)\n",
    "3. [A mathematical framework for transformer circuits, by Chris Olah, Neel Nanda, et. al.](https://transformer-circuits.pub/2021/framework/index.html)"
   ]
  }
 ],
 "metadata": {
  "kernelspec": {
   "display_name": ".venv",
   "language": "python",
   "name": "python3"
  },
  "language_info": {
   "codemirror_mode": {
    "name": "ipython",
    "version": 3
   },
   "file_extension": ".py",
   "mimetype": "text/x-python",
   "name": "python",
   "nbconvert_exporter": "python",
   "pygments_lexer": "ipython3",
   "version": "3.12.2"
  }
 },
 "nbformat": 4,
 "nbformat_minor": 5
}
