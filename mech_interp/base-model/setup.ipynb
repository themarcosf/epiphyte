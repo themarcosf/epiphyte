{
 "cells": [
  {
   "cell_type": "code",
   "execution_count": 1,
   "id": "42f565e0",
   "metadata": {},
   "outputs": [],
   "source": [
    "import warnings\n",
    "warnings.filterwarnings('ignore')\n",
    "\n",
    "import os\n",
    "os.chdir('..')"
   ]
  },
  {
   "cell_type": "code",
   "execution_count": null,
   "id": "57171013",
   "metadata": {},
   "outputs": [],
   "source": [
    "import os\n",
    "from rich.table import Table, Column\n",
    "\n",
    "import einops\n",
    "import torch\n",
    "from transformer_lens import HookedTransformer\n",
    "from transformer_lens.utils import test_prompt, rprint\n",
    "\n",
    "from plotly_utils import imshow, line"
   ]
  },
  {
   "cell_type": "code",
   "execution_count": 3,
   "id": "b5198561",
   "metadata": {},
   "outputs": [
    {
     "name": "stdout",
     "output_type": "stream",
     "text": [
      "Changed working directory to parent directory\n",
      "Hugging Face token loaded: hf_...\n",
      "Using device: mps\n"
     ]
    }
   ],
   "source": [
    "os.chdir('..')\n",
    "print('Changed working directory to parent directory')\n",
    "\n",
    "with open(os.path.expanduser('~/.huggingface/token')) as f:\n",
    "    os.environ['HF_TOKEN'] = f.read().strip()\n",
    "    print(f'Hugging Face token loaded: {os.environ['HF_TOKEN'][:3]}...')\n",
    "\n",
    "torch.set_grad_enabled(False)\n",
    "\n",
    "if hasattr(torch.backends, 'mps') and torch.backends.mps.is_available():\n",
    "    device = torch.device('mps')\n",
    "else:\n",
    "    device = torch.device('cuda' if torch.cuda.is_available() else 'cpu')\n",
    "print(f'Using device: {device}')"
   ]
  },
  {
   "cell_type": "markdown",
   "id": "9f633fdd",
   "metadata": {},
   "source": [
    "# 1. Model setup\n",
    "\n",
    "##### Note on `center_unembed`\n",
    "\n",
    "The logits are fed into a softmax. Softmax is translation invariant (e.g., adding 1 to every logit doesn't change the output), so it can be simplified by setting the mean of the logits to be zero. This is equivalent to setting the mean of every output vector of $W_U$ to zero.\n",
    "\n",
    "##### Note on `center_writing_weights`\n",
    "\n",
    "Every component reading an input from the residual stream is preceded by a LayerNorm, which means that the mean of a residual stream vector (i.e., the component in the direction of all ones) never matters. This means the all ones component of weights and biases whose output writes to the residual stream can be removed without changing the model's behavior.\n",
    "\n",
    "##### Note on `fold_ln`\n",
    "\n",
    "Layer Normalization, unlike  Batch Normalization, can't be turned off at inference time. From an interpretability perspective, naively ignoring it results in a close, but not exact, approximation to the original model. If LayerNorm is followed by a linear layer, it is computationally equivalent to reducing by centering & normalising, followed by a linear layer. Apart from dividing by the norm, these are all linear algebra operations, and from an interpretability perspective, if anything is linear, it can be ignored because it will break up into sums during backprogation, i.e., there is no need to track interference between terms.\n",
    "\n",
    "##### Note on `center_writing_weights`\n",
    "\n",
    "A related idea to folding layernorm - every component reading an input from the residual stream is preceded by a LayerNorm, which means that the mean of a residual stream vector (ie the component in the direction of all ones) never matters. This means we can remove the all ones component of weights and biases whose output writes to the residual stream.\n",
    "\n",
    "##### Note on `refactor_factored_attn_matrices`\n",
    "\n",
    "This argument means we redefine the matrices $W_Q$, $W_K$, $W_V$ and $W_O$ in the model, without changing the model's actual behaviour.\n",
    "\n",
    "For example, we know that instead of working with $W_Q$ and $W_K$ individually, the only matrix we actually need to use in the model is the low-rank matrix $W_Q W_K^T$. So if we perform singular value decomposition $W_Q W_K^T = U S V^T$, then we see that we can just as easily define $W_Q = U \\sqrt{S}$ and $W_K = V \\sqrt{S}$ and use these instead. This means that $W_Q$ and $W_K$​\tboth have orthogonal columns with matching norms. This is arguably a more interpretable setup, because now there's no obvious asymmetry between the keys and queries.\n",
    "\n",
    "In a similar way, since $W_OV = W_O W_V = U S V^T$, we can define $W_V = U S$ and $W_O = V^T$. This is arguably a more interpretable setup, because now $W_O$ is just a rotation, and doesn't change the norm, so \n",
    "$z$ has the same norm as the result of the head.\n",
    "\n",
    "More details in [link](https://github.com/TransformerLensOrg/TransformerLens/blob/main/further_comments.md#what-is-layernorm-folding-fold_ln)."
   ]
  },
  {
   "cell_type": "code",
   "execution_count": null,
   "id": "8fc59f9f",
   "metadata": {},
   "outputs": [
    {
     "name": "stdout",
     "output_type": "stream",
     "text": [
      "Loaded pretrained model gpt2-small into HookedTransformer\n"
     ]
    }
   ],
   "source": [
    "model = HookedTransformer.from_pretrained(\n",
    "    'gpt2-small',\n",
    "    center_unembed=True,\n",
    "    fold_ln=True,\n",
    "    center_writing_weights=True,\n",
    "    refactor_factored_attn_matrices=True,\n",
    "    device=device,\n",
    ")"
   ]
  },
  {
   "cell_type": "code",
   "execution_count": 5,
   "id": "697423ca",
   "metadata": {},
   "outputs": [
    {
     "data": {
      "text/plain": [
       "(torch.Size([12, 12, 768, 64]), torch.Size([12, 12, 768, 64]))"
      ]
     },
     "execution_count": 5,
     "metadata": {},
     "output_type": "execute_result"
    }
   ],
   "source": [
    "# shape: (n_blocks, n_heads, d_model, d_head)\n",
    "# d_head = d_model // n_heads\n",
    "\n",
    "model.W_Q.shape, model.W_K.shape"
   ]
  },
  {
   "cell_type": "code",
   "execution_count": 6,
   "id": "90aa3240",
   "metadata": {},
   "outputs": [
    {
     "data": {
      "text/plain": [
       "torch.Size([64])"
      ]
     },
     "execution_count": 6,
     "metadata": {},
     "output_type": "execute_result"
    }
   ],
   "source": [
    "model.W_Q[0, 0].sum(0).shape"
   ]
  },
  {
   "cell_type": "code",
   "execution_count": 7,
   "id": "8c2ca85e",
   "metadata": {},
   "outputs": [
    {
     "data": {
      "application/vnd.plotly.v1+json": {
       "config": {
        "plotlyServerURL": "https://plot.ly"
       },
       "data": [
        {
         "hovertemplate": "variable=wide_variable_0<br>index=%{x}<br>value=%{y}<extra></extra>",
         "legendgroup": "wide_variable_0",
         "line": {
          "color": "#636efa",
          "dash": "solid"
         },
         "marker": {
          "symbol": "circle"
         },
         "mode": "lines",
         "name": "wide_variable_0",
         "orientation": "v",
         "showlegend": true,
         "type": "scatter",
         "x": {
          "bdata": "AAECAwQFBgcICQoLDA0ODxAREhMUFRYXGBkaGxwdHh8gISIjJCUmJygpKissLS4vMDEyMzQ1Njc4OTo7PD0+Pw==",
          "dtype": "i1"
         },
         "xaxis": "x",
         "y": {
          "bdata": "4htZP5qVGkB+mRRA6NcTQBp1EUCZIQ1AupsMQNxOCkAMgglAK+MGQHwvBUB62ANAQ+8BQMoAAUAPNABAyEX9P/o/+T+rxPY/ONzzPxVK8j9iMPA/mg7uPyr66T9Uv+c/mjXnP5dX5D8GeuE/Xu/fPwNv3D8fT9g/H/rWP4Cs1T9mbdQ/DxDSP+/a0D+CN80/Kr7KP6dRyD85ccc/+HHEPycuwj8MUr4/js29P5QPvD/KRLc/DgW2P3ZssD843a0/LG+rP1diqD9SlaY/hdulP4ujoz+qkZw/z76bP54hmT+UsJc/EviSPzLQiz80JF4/3PpJP+An2D6UfJ89qLSTPQ==",
          "dtype": "f4"
         },
         "yaxis": "y"
        },
        {
         "hovertemplate": "variable=wide_variable_1<br>index=%{x}<br>value=%{y}<extra></extra>",
         "legendgroup": "wide_variable_1",
         "line": {
          "color": "#EF553B",
          "dash": "solid"
         },
         "marker": {
          "symbol": "circle"
         },
         "mode": "lines",
         "name": "wide_variable_1",
         "orientation": "v",
         "showlegend": true,
         "type": "scatter",
         "x": {
          "bdata": "AAECAwQFBgcICQoLDA0ODxAREhMUFRYXGBkaGxwdHh8gISIjJCUmJygpKissLS4vMDEyMzQ1Njc4OTo7PD0+Pw==",
          "dtype": "i1"
         },
         "xaxis": "x",
         "y": {
          "bdata": "JMDJP/6aGUCupxRAK+kTQI4PEUD2ygxAXqsMQCBUCkAFwwlAxPIGQM4wBUBM3gNA5OkBQDwUAUB/PgBA9FH9P39B+T/znvY//srzP5hD8j/ASfA/mBbuP1gK6j9kVuc/pjznP3Va5D+YfuE/fevfP1Jd3D/qDtk/cgHXP2am1T9ObdQ/Rg/SP9oT0D/nPs0//b7KP0ydyD9Qccc/e7rEPxcUwj88Xr4/ycS9P4ldvD82Ubc/xv61PyxtsD/Q260/WHmrP9B7qD9Yr6Y/FNylPy+soz/Ekpw/BrKbPxU1mT9wvpc/juWSPxTeiz/GvFk/FlpKP7xL2D4Dup49trOTPQ==",
          "dtype": "f4"
         },
         "yaxis": "y"
        }
       ],
       "layout": {
        "hovermode": "x unified",
        "legend": {
         "title": {
          "text": "variable"
         },
         "tracegroupgap": 0
        },
        "margin": {
         "t": 60
        },
        "template": {
         "data": {
          "bar": [
           {
            "error_x": {
             "color": "#2a3f5f"
            },
            "error_y": {
             "color": "#2a3f5f"
            },
            "marker": {
             "line": {
              "color": "#E5ECF6",
              "width": 0.5
             },
             "pattern": {
              "fillmode": "overlay",
              "size": 10,
              "solidity": 0.2
             }
            },
            "type": "bar"
           }
          ],
          "barpolar": [
           {
            "marker": {
             "line": {
              "color": "#E5ECF6",
              "width": 0.5
             },
             "pattern": {
              "fillmode": "overlay",
              "size": 10,
              "solidity": 0.2
             }
            },
            "type": "barpolar"
           }
          ],
          "carpet": [
           {
            "aaxis": {
             "endlinecolor": "#2a3f5f",
             "gridcolor": "white",
             "linecolor": "white",
             "minorgridcolor": "white",
             "startlinecolor": "#2a3f5f"
            },
            "baxis": {
             "endlinecolor": "#2a3f5f",
             "gridcolor": "white",
             "linecolor": "white",
             "minorgridcolor": "white",
             "startlinecolor": "#2a3f5f"
            },
            "type": "carpet"
           }
          ],
          "choropleth": [
           {
            "colorbar": {
             "outlinewidth": 0,
             "ticks": ""
            },
            "type": "choropleth"
           }
          ],
          "contour": [
           {
            "colorbar": {
             "outlinewidth": 0,
             "ticks": ""
            },
            "colorscale": [
             [
              0,
              "#0d0887"
             ],
             [
              0.1111111111111111,
              "#46039f"
             ],
             [
              0.2222222222222222,
              "#7201a8"
             ],
             [
              0.3333333333333333,
              "#9c179e"
             ],
             [
              0.4444444444444444,
              "#bd3786"
             ],
             [
              0.5555555555555556,
              "#d8576b"
             ],
             [
              0.6666666666666666,
              "#ed7953"
             ],
             [
              0.7777777777777778,
              "#fb9f3a"
             ],
             [
              0.8888888888888888,
              "#fdca26"
             ],
             [
              1,
              "#f0f921"
             ]
            ],
            "type": "contour"
           }
          ],
          "contourcarpet": [
           {
            "colorbar": {
             "outlinewidth": 0,
             "ticks": ""
            },
            "type": "contourcarpet"
           }
          ],
          "heatmap": [
           {
            "colorbar": {
             "outlinewidth": 0,
             "ticks": ""
            },
            "colorscale": [
             [
              0,
              "#0d0887"
             ],
             [
              0.1111111111111111,
              "#46039f"
             ],
             [
              0.2222222222222222,
              "#7201a8"
             ],
             [
              0.3333333333333333,
              "#9c179e"
             ],
             [
              0.4444444444444444,
              "#bd3786"
             ],
             [
              0.5555555555555556,
              "#d8576b"
             ],
             [
              0.6666666666666666,
              "#ed7953"
             ],
             [
              0.7777777777777778,
              "#fb9f3a"
             ],
             [
              0.8888888888888888,
              "#fdca26"
             ],
             [
              1,
              "#f0f921"
             ]
            ],
            "type": "heatmap"
           }
          ],
          "histogram": [
           {
            "marker": {
             "pattern": {
              "fillmode": "overlay",
              "size": 10,
              "solidity": 0.2
             }
            },
            "type": "histogram"
           }
          ],
          "histogram2d": [
           {
            "colorbar": {
             "outlinewidth": 0,
             "ticks": ""
            },
            "colorscale": [
             [
              0,
              "#0d0887"
             ],
             [
              0.1111111111111111,
              "#46039f"
             ],
             [
              0.2222222222222222,
              "#7201a8"
             ],
             [
              0.3333333333333333,
              "#9c179e"
             ],
             [
              0.4444444444444444,
              "#bd3786"
             ],
             [
              0.5555555555555556,
              "#d8576b"
             ],
             [
              0.6666666666666666,
              "#ed7953"
             ],
             [
              0.7777777777777778,
              "#fb9f3a"
             ],
             [
              0.8888888888888888,
              "#fdca26"
             ],
             [
              1,
              "#f0f921"
             ]
            ],
            "type": "histogram2d"
           }
          ],
          "histogram2dcontour": [
           {
            "colorbar": {
             "outlinewidth": 0,
             "ticks": ""
            },
            "colorscale": [
             [
              0,
              "#0d0887"
             ],
             [
              0.1111111111111111,
              "#46039f"
             ],
             [
              0.2222222222222222,
              "#7201a8"
             ],
             [
              0.3333333333333333,
              "#9c179e"
             ],
             [
              0.4444444444444444,
              "#bd3786"
             ],
             [
              0.5555555555555556,
              "#d8576b"
             ],
             [
              0.6666666666666666,
              "#ed7953"
             ],
             [
              0.7777777777777778,
              "#fb9f3a"
             ],
             [
              0.8888888888888888,
              "#fdca26"
             ],
             [
              1,
              "#f0f921"
             ]
            ],
            "type": "histogram2dcontour"
           }
          ],
          "mesh3d": [
           {
            "colorbar": {
             "outlinewidth": 0,
             "ticks": ""
            },
            "type": "mesh3d"
           }
          ],
          "parcoords": [
           {
            "line": {
             "colorbar": {
              "outlinewidth": 0,
              "ticks": ""
             }
            },
            "type": "parcoords"
           }
          ],
          "pie": [
           {
            "automargin": true,
            "type": "pie"
           }
          ],
          "scatter": [
           {
            "fillpattern": {
             "fillmode": "overlay",
             "size": 10,
             "solidity": 0.2
            },
            "type": "scatter"
           }
          ],
          "scatter3d": [
           {
            "line": {
             "colorbar": {
              "outlinewidth": 0,
              "ticks": ""
             }
            },
            "marker": {
             "colorbar": {
              "outlinewidth": 0,
              "ticks": ""
             }
            },
            "type": "scatter3d"
           }
          ],
          "scattercarpet": [
           {
            "marker": {
             "colorbar": {
              "outlinewidth": 0,
              "ticks": ""
             }
            },
            "type": "scattercarpet"
           }
          ],
          "scattergeo": [
           {
            "marker": {
             "colorbar": {
              "outlinewidth": 0,
              "ticks": ""
             }
            },
            "type": "scattergeo"
           }
          ],
          "scattergl": [
           {
            "marker": {
             "colorbar": {
              "outlinewidth": 0,
              "ticks": ""
             }
            },
            "type": "scattergl"
           }
          ],
          "scattermap": [
           {
            "marker": {
             "colorbar": {
              "outlinewidth": 0,
              "ticks": ""
             }
            },
            "type": "scattermap"
           }
          ],
          "scattermapbox": [
           {
            "marker": {
             "colorbar": {
              "outlinewidth": 0,
              "ticks": ""
             }
            },
            "type": "scattermapbox"
           }
          ],
          "scatterpolar": [
           {
            "marker": {
             "colorbar": {
              "outlinewidth": 0,
              "ticks": ""
             }
            },
            "type": "scatterpolar"
           }
          ],
          "scatterpolargl": [
           {
            "marker": {
             "colorbar": {
              "outlinewidth": 0,
              "ticks": ""
             }
            },
            "type": "scatterpolargl"
           }
          ],
          "scatterternary": [
           {
            "marker": {
             "colorbar": {
              "outlinewidth": 0,
              "ticks": ""
             }
            },
            "type": "scatterternary"
           }
          ],
          "surface": [
           {
            "colorbar": {
             "outlinewidth": 0,
             "ticks": ""
            },
            "colorscale": [
             [
              0,
              "#0d0887"
             ],
             [
              0.1111111111111111,
              "#46039f"
             ],
             [
              0.2222222222222222,
              "#7201a8"
             ],
             [
              0.3333333333333333,
              "#9c179e"
             ],
             [
              0.4444444444444444,
              "#bd3786"
             ],
             [
              0.5555555555555556,
              "#d8576b"
             ],
             [
              0.6666666666666666,
              "#ed7953"
             ],
             [
              0.7777777777777778,
              "#fb9f3a"
             ],
             [
              0.8888888888888888,
              "#fdca26"
             ],
             [
              1,
              "#f0f921"
             ]
            ],
            "type": "surface"
           }
          ],
          "table": [
           {
            "cells": {
             "fill": {
              "color": "#EBF0F8"
             },
             "line": {
              "color": "white"
             }
            },
            "header": {
             "fill": {
              "color": "#C8D4E3"
             },
             "line": {
              "color": "white"
             }
            },
            "type": "table"
           }
          ]
         },
         "layout": {
          "annotationdefaults": {
           "arrowcolor": "#2a3f5f",
           "arrowhead": 0,
           "arrowwidth": 1
          },
          "autotypenumbers": "strict",
          "coloraxis": {
           "colorbar": {
            "outlinewidth": 0,
            "ticks": ""
           }
          },
          "colorscale": {
           "diverging": [
            [
             0,
             "#8e0152"
            ],
            [
             0.1,
             "#c51b7d"
            ],
            [
             0.2,
             "#de77ae"
            ],
            [
             0.3,
             "#f1b6da"
            ],
            [
             0.4,
             "#fde0ef"
            ],
            [
             0.5,
             "#f7f7f7"
            ],
            [
             0.6,
             "#e6f5d0"
            ],
            [
             0.7,
             "#b8e186"
            ],
            [
             0.8,
             "#7fbc41"
            ],
            [
             0.9,
             "#4d9221"
            ],
            [
             1,
             "#276419"
            ]
           ],
           "sequential": [
            [
             0,
             "#0d0887"
            ],
            [
             0.1111111111111111,
             "#46039f"
            ],
            [
             0.2222222222222222,
             "#7201a8"
            ],
            [
             0.3333333333333333,
             "#9c179e"
            ],
            [
             0.4444444444444444,
             "#bd3786"
            ],
            [
             0.5555555555555556,
             "#d8576b"
            ],
            [
             0.6666666666666666,
             "#ed7953"
            ],
            [
             0.7777777777777778,
             "#fb9f3a"
            ],
            [
             0.8888888888888888,
             "#fdca26"
            ],
            [
             1,
             "#f0f921"
            ]
           ],
           "sequentialminus": [
            [
             0,
             "#0d0887"
            ],
            [
             0.1111111111111111,
             "#46039f"
            ],
            [
             0.2222222222222222,
             "#7201a8"
            ],
            [
             0.3333333333333333,
             "#9c179e"
            ],
            [
             0.4444444444444444,
             "#bd3786"
            ],
            [
             0.5555555555555556,
             "#d8576b"
            ],
            [
             0.6666666666666666,
             "#ed7953"
            ],
            [
             0.7777777777777778,
             "#fb9f3a"
            ],
            [
             0.8888888888888888,
             "#fdca26"
            ],
            [
             1,
             "#f0f921"
            ]
           ]
          },
          "colorway": [
           "#636efa",
           "#EF553B",
           "#00cc96",
           "#ab63fa",
           "#FFA15A",
           "#19d3f3",
           "#FF6692",
           "#B6E880",
           "#FF97FF",
           "#FECB52"
          ],
          "font": {
           "color": "#2a3f5f"
          },
          "geo": {
           "bgcolor": "white",
           "lakecolor": "white",
           "landcolor": "#E5ECF6",
           "showlakes": true,
           "showland": true,
           "subunitcolor": "white"
          },
          "hoverlabel": {
           "align": "left"
          },
          "hovermode": "closest",
          "mapbox": {
           "style": "light"
          },
          "paper_bgcolor": "white",
          "plot_bgcolor": "#E5ECF6",
          "polar": {
           "angularaxis": {
            "gridcolor": "white",
            "linecolor": "white",
            "ticks": ""
           },
           "bgcolor": "#E5ECF6",
           "radialaxis": {
            "gridcolor": "white",
            "linecolor": "white",
            "ticks": ""
           }
          },
          "scene": {
           "xaxis": {
            "backgroundcolor": "#E5ECF6",
            "gridcolor": "white",
            "gridwidth": 2,
            "linecolor": "white",
            "showbackground": true,
            "ticks": "",
            "zerolinecolor": "white"
           },
           "yaxis": {
            "backgroundcolor": "#E5ECF6",
            "gridcolor": "white",
            "gridwidth": 2,
            "linecolor": "white",
            "showbackground": true,
            "ticks": "",
            "zerolinecolor": "white"
           },
           "zaxis": {
            "backgroundcolor": "#E5ECF6",
            "gridcolor": "white",
            "gridwidth": 2,
            "linecolor": "white",
            "showbackground": true,
            "ticks": "",
            "zerolinecolor": "white"
           }
          },
          "shapedefaults": {
           "line": {
            "color": "#2a3f5f"
           }
          },
          "ternary": {
           "aaxis": {
            "gridcolor": "white",
            "linecolor": "white",
            "ticks": ""
           },
           "baxis": {
            "gridcolor": "white",
            "linecolor": "white",
            "ticks": ""
           },
           "bgcolor": "#E5ECF6",
           "caxis": {
            "gridcolor": "white",
            "linecolor": "white",
            "ticks": ""
           }
          },
          "title": {
           "x": 0.05
          },
          "xaxis": {
           "automargin": true,
           "gridcolor": "white",
           "linecolor": "white",
           "ticks": "",
           "title": {
            "standoff": 15
           },
           "zerolinecolor": "white",
           "zerolinewidth": 2
          },
          "yaxis": {
           "automargin": true,
           "gridcolor": "white",
           "linecolor": "white",
           "ticks": "",
           "title": {
            "standoff": 15
           },
           "zerolinecolor": "white",
           "zerolinewidth": 2
          }
         }
        },
        "xaxis": {
         "anchor": "y",
         "domain": [
          0,
          1
         ],
         "title": {
          "text": "index"
         }
        },
        "yaxis": {
         "anchor": "x",
         "domain": [
          0,
          1
         ],
         "title": {
          "text": "value"
         }
        }
       }
      }
     },
     "metadata": {},
     "output_type": "display_data"
    }
   ],
   "source": [
    "# column norms are the same (except first few, for fiddly bias reasons)\n",
    "line([model.W_Q[0, 0].pow(2).sum(0), model.W_K[0, 0].pow(2).sum(0)])"
   ]
  },
  {
   "cell_type": "code",
   "execution_count": 8,
   "id": "41788bde",
   "metadata": {},
   "outputs": [
    {
     "data": {
      "application/vnd.plotly.v1+json": {
       "config": {
        "plotlyServerURL": "https://plot.ly",
        "staticPlot": false
       },
       "data": [
        {
         "coloraxis": "coloraxis",
         "hovertemplate": "x: %{x}<br>y: %{y}<br>color: %{z}<extra></extra>",
         "name": "0",
         "type": "heatmap",
         "xaxis": "x",
         "yaxis": "y",
         "z": {
          "bdata": "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",
          "dtype": "f4",
          "shape": "64, 64"
         }
        }
       ],
       "layout": {
        "coloraxis": {
         "cmid": 0,
         "colorscale": [
          [
           0,
           "rgb(103,0,31)"
          ],
          [
           0.1,
           "rgb(178,24,43)"
          ],
          [
           0.2,
           "rgb(214,96,77)"
          ],
          [
           0.3,
           "rgb(244,165,130)"
          ],
          [
           0.4,
           "rgb(253,219,199)"
          ],
          [
           0.5,
           "rgb(247,247,247)"
          ],
          [
           0.6,
           "rgb(209,229,240)"
          ],
          [
           0.7,
           "rgb(146,197,222)"
          ],
          [
           0.8,
           "rgb(67,147,195)"
          ],
          [
           0.9,
           "rgb(33,102,172)"
          ],
          [
           1,
           "rgb(5,48,97)"
          ]
         ]
        },
        "margin": {
         "t": 60
        },
        "template": {
         "data": {
          "bar": [
           {
            "error_x": {
             "color": "#2a3f5f"
            },
            "error_y": {
             "color": "#2a3f5f"
            },
            "marker": {
             "line": {
              "color": "#E5ECF6",
              "width": 0.5
             },
             "pattern": {
              "fillmode": "overlay",
              "size": 10,
              "solidity": 0.2
             }
            },
            "type": "bar"
           }
          ],
          "barpolar": [
           {
            "marker": {
             "line": {
              "color": "#E5ECF6",
              "width": 0.5
             },
             "pattern": {
              "fillmode": "overlay",
              "size": 10,
              "solidity": 0.2
             }
            },
            "type": "barpolar"
           }
          ],
          "carpet": [
           {
            "aaxis": {
             "endlinecolor": "#2a3f5f",
             "gridcolor": "white",
             "linecolor": "white",
             "minorgridcolor": "white",
             "startlinecolor": "#2a3f5f"
            },
            "baxis": {
             "endlinecolor": "#2a3f5f",
             "gridcolor": "white",
             "linecolor": "white",
             "minorgridcolor": "white",
             "startlinecolor": "#2a3f5f"
            },
            "type": "carpet"
           }
          ],
          "choropleth": [
           {
            "colorbar": {
             "outlinewidth": 0,
             "ticks": ""
            },
            "type": "choropleth"
           }
          ],
          "contour": [
           {
            "colorbar": {
             "outlinewidth": 0,
             "ticks": ""
            },
            "colorscale": [
             [
              0,
              "#0d0887"
             ],
             [
              0.1111111111111111,
              "#46039f"
             ],
             [
              0.2222222222222222,
              "#7201a8"
             ],
             [
              0.3333333333333333,
              "#9c179e"
             ],
             [
              0.4444444444444444,
              "#bd3786"
             ],
             [
              0.5555555555555556,
              "#d8576b"
             ],
             [
              0.6666666666666666,
              "#ed7953"
             ],
             [
              0.7777777777777778,
              "#fb9f3a"
             ],
             [
              0.8888888888888888,
              "#fdca26"
             ],
             [
              1,
              "#f0f921"
             ]
            ],
            "type": "contour"
           }
          ],
          "contourcarpet": [
           {
            "colorbar": {
             "outlinewidth": 0,
             "ticks": ""
            },
            "type": "contourcarpet"
           }
          ],
          "heatmap": [
           {
            "colorbar": {
             "outlinewidth": 0,
             "ticks": ""
            },
            "colorscale": [
             [
              0,
              "#0d0887"
             ],
             [
              0.1111111111111111,
              "#46039f"
             ],
             [
              0.2222222222222222,
              "#7201a8"
             ],
             [
              0.3333333333333333,
              "#9c179e"
             ],
             [
              0.4444444444444444,
              "#bd3786"
             ],
             [
              0.5555555555555556,
              "#d8576b"
             ],
             [
              0.6666666666666666,
              "#ed7953"
             ],
             [
              0.7777777777777778,
              "#fb9f3a"
             ],
             [
              0.8888888888888888,
              "#fdca26"
             ],
             [
              1,
              "#f0f921"
             ]
            ],
            "type": "heatmap"
           }
          ],
          "histogram": [
           {
            "marker": {
             "pattern": {
              "fillmode": "overlay",
              "size": 10,
              "solidity": 0.2
             }
            },
            "type": "histogram"
           }
          ],
          "histogram2d": [
           {
            "colorbar": {
             "outlinewidth": 0,
             "ticks": ""
            },
            "colorscale": [
             [
              0,
              "#0d0887"
             ],
             [
              0.1111111111111111,
              "#46039f"
             ],
             [
              0.2222222222222222,
              "#7201a8"
             ],
             [
              0.3333333333333333,
              "#9c179e"
             ],
             [
              0.4444444444444444,
              "#bd3786"
             ],
             [
              0.5555555555555556,
              "#d8576b"
             ],
             [
              0.6666666666666666,
              "#ed7953"
             ],
             [
              0.7777777777777778,
              "#fb9f3a"
             ],
             [
              0.8888888888888888,
              "#fdca26"
             ],
             [
              1,
              "#f0f921"
             ]
            ],
            "type": "histogram2d"
           }
          ],
          "histogram2dcontour": [
           {
            "colorbar": {
             "outlinewidth": 0,
             "ticks": ""
            },
            "colorscale": [
             [
              0,
              "#0d0887"
             ],
             [
              0.1111111111111111,
              "#46039f"
             ],
             [
              0.2222222222222222,
              "#7201a8"
             ],
             [
              0.3333333333333333,
              "#9c179e"
             ],
             [
              0.4444444444444444,
              "#bd3786"
             ],
             [
              0.5555555555555556,
              "#d8576b"
             ],
             [
              0.6666666666666666,
              "#ed7953"
             ],
             [
              0.7777777777777778,
              "#fb9f3a"
             ],
             [
              0.8888888888888888,
              "#fdca26"
             ],
             [
              1,
              "#f0f921"
             ]
            ],
            "type": "histogram2dcontour"
           }
          ],
          "mesh3d": [
           {
            "colorbar": {
             "outlinewidth": 0,
             "ticks": ""
            },
            "type": "mesh3d"
           }
          ],
          "parcoords": [
           {
            "line": {
             "colorbar": {
              "outlinewidth": 0,
              "ticks": ""
             }
            },
            "type": "parcoords"
           }
          ],
          "pie": [
           {
            "automargin": true,
            "type": "pie"
           }
          ],
          "scatter": [
           {
            "fillpattern": {
             "fillmode": "overlay",
             "size": 10,
             "solidity": 0.2
            },
            "type": "scatter"
           }
          ],
          "scatter3d": [
           {
            "line": {
             "colorbar": {
              "outlinewidth": 0,
              "ticks": ""
             }
            },
            "marker": {
             "colorbar": {
              "outlinewidth": 0,
              "ticks": ""
             }
            },
            "type": "scatter3d"
           }
          ],
          "scattercarpet": [
           {
            "marker": {
             "colorbar": {
              "outlinewidth": 0,
              "ticks": ""
             }
            },
            "type": "scattercarpet"
           }
          ],
          "scattergeo": [
           {
            "marker": {
             "colorbar": {
              "outlinewidth": 0,
              "ticks": ""
             }
            },
            "type": "scattergeo"
           }
          ],
          "scattergl": [
           {
            "marker": {
             "colorbar": {
              "outlinewidth": 0,
              "ticks": ""
             }
            },
            "type": "scattergl"
           }
          ],
          "scattermap": [
           {
            "marker": {
             "colorbar": {
              "outlinewidth": 0,
              "ticks": ""
             }
            },
            "type": "scattermap"
           }
          ],
          "scattermapbox": [
           {
            "marker": {
             "colorbar": {
              "outlinewidth": 0,
              "ticks": ""
             }
            },
            "type": "scattermapbox"
           }
          ],
          "scatterpolar": [
           {
            "marker": {
             "colorbar": {
              "outlinewidth": 0,
              "ticks": ""
             }
            },
            "type": "scatterpolar"
           }
          ],
          "scatterpolargl": [
           {
            "marker": {
             "colorbar": {
              "outlinewidth": 0,
              "ticks": ""
             }
            },
            "type": "scatterpolargl"
           }
          ],
          "scatterternary": [
           {
            "marker": {
             "colorbar": {
              "outlinewidth": 0,
              "ticks": ""
             }
            },
            "type": "scatterternary"
           }
          ],
          "surface": [
           {
            "colorbar": {
             "outlinewidth": 0,
             "ticks": ""
            },
            "colorscale": [
             [
              0,
              "#0d0887"
             ],
             [
              0.1111111111111111,
              "#46039f"
             ],
             [
              0.2222222222222222,
              "#7201a8"
             ],
             [
              0.3333333333333333,
              "#9c179e"
             ],
             [
              0.4444444444444444,
              "#bd3786"
             ],
             [
              0.5555555555555556,
              "#d8576b"
             ],
             [
              0.6666666666666666,
              "#ed7953"
             ],
             [
              0.7777777777777778,
              "#fb9f3a"
             ],
             [
              0.8888888888888888,
              "#fdca26"
             ],
             [
              1,
              "#f0f921"
             ]
            ],
            "type": "surface"
           }
          ],
          "table": [
           {
            "cells": {
             "fill": {
              "color": "#EBF0F8"
             },
             "line": {
              "color": "white"
             }
            },
            "header": {
             "fill": {
              "color": "#C8D4E3"
             },
             "line": {
              "color": "white"
             }
            },
            "type": "table"
           }
          ]
         },
         "layout": {
          "annotationdefaults": {
           "arrowcolor": "#2a3f5f",
           "arrowhead": 0,
           "arrowwidth": 1
          },
          "autotypenumbers": "strict",
          "coloraxis": {
           "colorbar": {
            "outlinewidth": 0,
            "ticks": ""
           }
          },
          "colorscale": {
           "diverging": [
            [
             0,
             "#8e0152"
            ],
            [
             0.1,
             "#c51b7d"
            ],
            [
             0.2,
             "#de77ae"
            ],
            [
             0.3,
             "#f1b6da"
            ],
            [
             0.4,
             "#fde0ef"
            ],
            [
             0.5,
             "#f7f7f7"
            ],
            [
             0.6,
             "#e6f5d0"
            ],
            [
             0.7,
             "#b8e186"
            ],
            [
             0.8,
             "#7fbc41"
            ],
            [
             0.9,
             "#4d9221"
            ],
            [
             1,
             "#276419"
            ]
           ],
           "sequential": [
            [
             0,
             "#0d0887"
            ],
            [
             0.1111111111111111,
             "#46039f"
            ],
            [
             0.2222222222222222,
             "#7201a8"
            ],
            [
             0.3333333333333333,
             "#9c179e"
            ],
            [
             0.4444444444444444,
             "#bd3786"
            ],
            [
             0.5555555555555556,
             "#d8576b"
            ],
            [
             0.6666666666666666,
             "#ed7953"
            ],
            [
             0.7777777777777778,
             "#fb9f3a"
            ],
            [
             0.8888888888888888,
             "#fdca26"
            ],
            [
             1,
             "#f0f921"
            ]
           ],
           "sequentialminus": [
            [
             0,
             "#0d0887"
            ],
            [
             0.1111111111111111,
             "#46039f"
            ],
            [
             0.2222222222222222,
             "#7201a8"
            ],
            [
             0.3333333333333333,
             "#9c179e"
            ],
            [
             0.4444444444444444,
             "#bd3786"
            ],
            [
             0.5555555555555556,
             "#d8576b"
            ],
            [
             0.6666666666666666,
             "#ed7953"
            ],
            [
             0.7777777777777778,
             "#fb9f3a"
            ],
            [
             0.8888888888888888,
             "#fdca26"
            ],
            [
             1,
             "#f0f921"
            ]
           ]
          },
          "colorway": [
           "#636efa",
           "#EF553B",
           "#00cc96",
           "#ab63fa",
           "#FFA15A",
           "#19d3f3",
           "#FF6692",
           "#B6E880",
           "#FF97FF",
           "#FECB52"
          ],
          "font": {
           "color": "#2a3f5f"
          },
          "geo": {
           "bgcolor": "white",
           "lakecolor": "white",
           "landcolor": "#E5ECF6",
           "showlakes": true,
           "showland": true,
           "subunitcolor": "white"
          },
          "hoverlabel": {
           "align": "left"
          },
          "hovermode": "closest",
          "mapbox": {
           "style": "light"
          },
          "paper_bgcolor": "white",
          "plot_bgcolor": "#E5ECF6",
          "polar": {
           "angularaxis": {
            "gridcolor": "white",
            "linecolor": "white",
            "ticks": ""
           },
           "bgcolor": "#E5ECF6",
           "radialaxis": {
            "gridcolor": "white",
            "linecolor": "white",
            "ticks": ""
           }
          },
          "scene": {
           "xaxis": {
            "backgroundcolor": "#E5ECF6",
            "gridcolor": "white",
            "gridwidth": 2,
            "linecolor": "white",
            "showbackground": true,
            "ticks": "",
            "zerolinecolor": "white"
           },
           "yaxis": {
            "backgroundcolor": "#E5ECF6",
            "gridcolor": "white",
            "gridwidth": 2,
            "linecolor": "white",
            "showbackground": true,
            "ticks": "",
            "zerolinecolor": "white"
           },
           "zaxis": {
            "backgroundcolor": "#E5ECF6",
            "gridcolor": "white",
            "gridwidth": 2,
            "linecolor": "white",
            "showbackground": true,
            "ticks": "",
            "zerolinecolor": "white"
           }
          },
          "shapedefaults": {
           "line": {
            "color": "#2a3f5f"
           }
          },
          "ternary": {
           "aaxis": {
            "gridcolor": "white",
            "linecolor": "white",
            "ticks": ""
           },
           "baxis": {
            "gridcolor": "white",
            "linecolor": "white",
            "ticks": ""
           },
           "bgcolor": "#E5ECF6",
           "caxis": {
            "gridcolor": "white",
            "linecolor": "white",
            "ticks": ""
           }
          },
          "title": {
           "x": 0.05
          },
          "xaxis": {
           "automargin": true,
           "gridcolor": "white",
           "linecolor": "white",
           "ticks": "",
           "title": {
            "standoff": 15
           },
           "zerolinecolor": "white",
           "zerolinewidth": 2
          },
          "yaxis": {
           "automargin": true,
           "gridcolor": "white",
           "linecolor": "white",
           "ticks": "",
           "title": {
            "standoff": 15
           },
           "zerolinecolor": "white",
           "zerolinewidth": 2
          }
         }
        },
        "xaxis": {
         "anchor": "y",
         "constrain": "domain",
         "domain": [
          0,
          1
         ],
         "scaleanchor": "y"
        },
        "yaxis": {
         "anchor": "x",
         "autorange": "reversed",
         "constrain": "domain",
         "domain": [
          0,
          1
         ]
        }
       }
      }
     },
     "metadata": {},
     "output_type": "display_data"
    }
   ],
   "source": [
    "# columns are orthogonal\n",
    "W_Q_dot_products = einops.einsum(model.W_Q[0, 0], model.W_Q[0, 0], 'd_model d_head_1, d_model d_head_2 -> d_head_1 d_head_2')\n",
    "imshow(W_Q_dot_products)"
   ]
  },
  {
   "cell_type": "markdown",
   "id": "a52d7293",
   "metadata": {},
   "source": [
    "### 1.1. Verify if the model performs as expected\n",
    "\n",
    "##### 1.1.1. Run the model on single instance of a task"
   ]
  },
  {
   "cell_type": "code",
   "execution_count": null,
   "id": "2bca3d2c",
   "metadata": {},
   "outputs": [
    {
     "name": "stdout",
     "output_type": "stream",
     "text": [
      "Tokenized prompt: ['<|endoftext|>', 'After', ' John', ' and', ' Mary', ' went', ' to', ' the', ' store', ',', ' John', ' gave', ' a', ' bottle', ' of', ' milk', ' to']\n",
      "Tokenized answer: [' Mary']\n"
     ]
    },
    {
     "data": {
      "text/html": [
       "<pre style=\"white-space:pre;overflow-x:auto;line-height:normal;font-family:Menlo,'DejaVu Sans Mono',consolas,'Courier New',monospace\">Performance on answer token:\n",
       "<span style=\"font-weight: bold\">Rank: </span><span style=\"color: #008080; text-decoration-color: #008080; font-weight: bold\">0</span><span style=\"font-weight: bold\">        Logit: </span><span style=\"color: #008080; text-decoration-color: #008080; font-weight: bold\">18.09</span><span style=\"font-weight: bold\"> Prob: </span><span style=\"color: #008080; text-decoration-color: #008080; font-weight: bold\">70.07</span><span style=\"font-weight: bold\">% Token: | Mary|</span>\n",
       "</pre>\n"
      ],
      "text/plain": [
       "Performance on answer token:\n",
       "\u001b[1mRank: \u001b[0m\u001b[1;36m0\u001b[0m\u001b[1m        Logit: \u001b[0m\u001b[1;36m18.09\u001b[0m\u001b[1m Prob: \u001b[0m\u001b[1;36m70.07\u001b[0m\u001b[1m% Token: | Mary|\u001b[0m\n"
      ]
     },
     "metadata": {},
     "output_type": "display_data"
    },
    {
     "name": "stdout",
     "output_type": "stream",
     "text": [
      "Top 0th token. Logit: 18.09 Prob: 70.07% Token: | Mary|\n",
      "Top 1th token. Logit: 15.38 Prob:  4.67% Token: | the|\n",
      "Top 2th token. Logit: 15.35 Prob:  4.54% Token: | John|\n",
      "Top 3th token. Logit: 15.25 Prob:  4.11% Token: | them|\n",
      "Top 4th token. Logit: 14.84 Prob:  2.73% Token: | his|\n",
      "Top 5th token. Logit: 14.06 Prob:  1.24% Token: | her|\n",
      "Top 6th token. Logit: 13.54 Prob:  0.74% Token: | a|\n",
      "Top 7th token. Logit: 13.52 Prob:  0.73% Token: | their|\n",
      "Top 8th token. Logit: 13.13 Prob:  0.49% Token: | Jesus|\n",
      "Top 9th token. Logit: 12.97 Prob:  0.42% Token: | him|\n"
     ]
    },
    {
     "data": {
      "text/html": [
       "<pre style=\"white-space:pre;overflow-x:auto;line-height:normal;font-family:Menlo,'DejaVu Sans Mono',consolas,'Courier New',monospace\"><span style=\"font-weight: bold\">Ranks of the answer tokens:</span> <span style=\"font-weight: bold\">[(</span><span style=\"color: #008000; text-decoration-color: #008000\">' Mary'</span>, <span style=\"color: #008080; text-decoration-color: #008080; font-weight: bold\">0</span><span style=\"font-weight: bold\">)]</span>\n",
       "</pre>\n"
      ],
      "text/plain": [
       "\u001b[1mRanks of the answer tokens:\u001b[0m \u001b[1m[\u001b[0m\u001b[1m(\u001b[0m\u001b[32m' Mary'\u001b[0m, \u001b[1;36m0\u001b[0m\u001b[1m)\u001b[0m\u001b[1m]\u001b[0m\n"
      ]
     },
     "metadata": {},
     "output_type": "display_data"
    }
   ],
   "source": [
    "# prepend_bos adds a BOS (beginning of sequence) to the start of the prompt. \n",
    "# GPT-2 was not trained with this, but it makes the model more stable, as the first token is treated weirdly.\n",
    "example_prompt = 'After John and Mary went to the store, John gave a bottle of milk to'\n",
    "example_answer = ' Mary'\n",
    "test_prompt(example_prompt, example_answer, model, prepend_bos=True)"
   ]
  },
  {
   "cell_type": "markdown",
   "id": "b13e2a2e",
   "metadata": {},
   "source": [
    "##### 1.1.2. Run the model on multiple instances of a task\n",
    "\n",
    "Each prompt is given twice - one with the first name as the indirect object, one with the second name. These prompts are composed only by single token names and the corresponding names are always in the same token positions.\n",
    "\n",
    "The metric used to evaluate the model's performance will be the logit difference, i.e., the difference in logit between the indirect object's name and the subject's name.\n",
    "\n",
    "Tokens are a massive headache when reverse engineering language models. Different inputs will have different numbers of tokens, the relevant tokens will be at different positions, the total number of tokens will vary, etc. Language models often devote significant amounts of parameters in early and later layers to convert  inputs from tokens to a more sensible internal format and back again. It is beneficial to avoid thinking about tokenization whenever possible when doing exploratory analysis, although it is relevant later when trying to perform rigorous analysis."
   ]
  },
  {
   "cell_type": "code",
   "execution_count": 10,
   "id": "b812914d",
   "metadata": {},
   "outputs": [],
   "source": [
    "prompt_format = [\n",
    "    'When John and Mary went to the shops, {} gave the bag to',\n",
    "    'When Tom and James went to the park, {} gave the ball to',\n",
    "    'When Dan and Sid went to the shops, {} gave an apple to',\n",
    "    'After Martin and Amy went to the park, {} gave a drink to',\n",
    "]"
   ]
  },
  {
   "cell_type": "code",
   "execution_count": 15,
   "id": "6e4e670b",
   "metadata": {},
   "outputs": [
    {
     "data": {
      "text/plain": [
       "['When John and Mary went to the shops,  John gave the bag to',\n",
       " 'When John and Mary went to the shops,  Mary gave the bag to',\n",
       " 'When Tom and James went to the park,  James gave the ball to',\n",
       " 'When Tom and James went to the park,  Tom gave the ball to',\n",
       " 'When Dan and Sid went to the shops,  Sid gave an apple to',\n",
       " 'When Dan and Sid went to the shops,  Dan gave an apple to',\n",
       " 'After Martin and Amy went to the park,  Amy gave a drink to',\n",
       " 'After Martin and Amy went to the park,  Martin gave a drink to']"
      ]
     },
     "execution_count": 15,
     "metadata": {},
     "output_type": "execute_result"
    }
   ],
   "source": [
    "# adjacent prompts have answers swapped\n",
    "name_pairs = [\n",
    "    (' Mary', ' John'),\n",
    "    (' Tom', ' James'),\n",
    "    (' Dan', ' Sid'),\n",
    "    (' Martin', ' Amy'),\n",
    "]\n",
    "\n",
    "prompts = [prompt.format(name) for (prompt, names) in zip(prompt_format, name_pairs) for name in names[::-1]]\n",
    "prompts"
   ]
  },
  {
   "cell_type": "code",
   "execution_count": 17,
   "id": "85f0ee25",
   "metadata": {},
   "outputs": [
    {
     "data": {
      "text/plain": [
       "[(' Mary', ' John'),\n",
       " (' John', ' Mary'),\n",
       " (' Tom', ' James'),\n",
       " (' James', ' Tom'),\n",
       " (' Dan', ' Sid'),\n",
       " (' Sid', ' Dan'),\n",
       " (' Martin', ' Amy'),\n",
       " (' Amy', ' Martin')]"
      ]
     },
     "execution_count": 17,
     "metadata": {},
     "output_type": "execute_result"
    }
   ],
   "source": [
    "# answers for each prompt, in the form (correct, incorrect)\n",
    "answers = [names[::i] for names in name_pairs for i in (1, -1)]\n",
    "answers"
   ]
  },
  {
   "cell_type": "code",
   "execution_count": 20,
   "id": "43f09813",
   "metadata": {},
   "outputs": [
    {
     "data": {
      "text/plain": [
       "tensor([[ 5335,  1757],\n",
       "        [ 1757,  5335],\n",
       "        [ 4186,  3700],\n",
       "        [ 3700,  4186],\n",
       "        [ 6035, 15686],\n",
       "        [15686,  6035],\n",
       "        [ 5780, 14235],\n",
       "        [14235,  5780]], device='mps:0')"
      ]
     },
     "execution_count": 20,
     "metadata": {},
     "output_type": "execute_result"
    }
   ],
   "source": [
    "answer_tokens = torch.concat([model.to_tokens(names, prepend_bos=False).T for names in answers])\n",
    "answer_tokens"
   ]
  },
  {
   "cell_type": "code",
   "execution_count": null,
   "id": "2157c334",
   "metadata": {},
   "outputs": [
    {
     "data": {
      "text/html": [
       "<pre style=\"white-space:pre;overflow-x:auto;line-height:normal;font-family:Menlo,'DejaVu Sans Mono',consolas,'Courier New',monospace\"><span style=\"font-style: italic\">                                    Prompts &amp; Answers:                                    </span>\n",
       "┏━━━━━━━━━━━━━━━━━━━━━━━━━━━━━━━━━━━━━━━━━━━━━━━━━━━━━━━━━━━━━━━━┳━━━━━━━━━━━┳━━━━━━━━━━━┓\n",
       "┃<span style=\"font-weight: bold\"> Prompt                                                         </span>┃<span style=\"font-weight: bold\"> Correct   </span>┃<span style=\"font-weight: bold\"> Incorrect </span>┃\n",
       "┡━━━━━━━━━━━━━━━━━━━━━━━━━━━━━━━━━━━━━━━━━━━━━━━━━━━━━━━━━━━━━━━━╇━━━━━━━━━━━╇━━━━━━━━━━━┩\n",
       "│ When John and Mary went to the shops,  John gave the bag to    │<span style=\"color: #00c800; text-decoration-color: #00c800; font-weight: bold\"> ' Mary'   </span>│<span style=\"color: #ff0000; text-decoration-color: #ff0000; font-weight: bold\"> ' John'   </span>│\n",
       "│ When John and Mary went to the shops,  Mary gave the bag to    │<span style=\"color: #00c800; text-decoration-color: #00c800; font-weight: bold\"> ' John'   </span>│<span style=\"color: #ff0000; text-decoration-color: #ff0000; font-weight: bold\"> ' Mary'   </span>│\n",
       "│ When Tom and James went to the park,  James gave the ball to   │<span style=\"color: #00c800; text-decoration-color: #00c800; font-weight: bold\"> ' Tom'    </span>│<span style=\"color: #ff0000; text-decoration-color: #ff0000; font-weight: bold\"> ' James'  </span>│\n",
       "│ When Tom and James went to the park,  Tom gave the ball to     │<span style=\"color: #00c800; text-decoration-color: #00c800; font-weight: bold\"> ' James'  </span>│<span style=\"color: #ff0000; text-decoration-color: #ff0000; font-weight: bold\"> ' Tom'    </span>│\n",
       "│ When Dan and Sid went to the shops,  Sid gave an apple to      │<span style=\"color: #00c800; text-decoration-color: #00c800; font-weight: bold\"> ' Dan'    </span>│<span style=\"color: #ff0000; text-decoration-color: #ff0000; font-weight: bold\"> ' Sid'    </span>│\n",
       "│ When Dan and Sid went to the shops,  Dan gave an apple to      │<span style=\"color: #00c800; text-decoration-color: #00c800; font-weight: bold\"> ' Sid'    </span>│<span style=\"color: #ff0000; text-decoration-color: #ff0000; font-weight: bold\"> ' Dan'    </span>│\n",
       "│ After Martin and Amy went to the park,  Amy gave a drink to    │<span style=\"color: #00c800; text-decoration-color: #00c800; font-weight: bold\"> ' Martin' </span>│<span style=\"color: #ff0000; text-decoration-color: #ff0000; font-weight: bold\"> ' Amy'    </span>│\n",
       "│ After Martin and Amy went to the park,  Martin gave a drink to │<span style=\"color: #00c800; text-decoration-color: #00c800; font-weight: bold\"> ' Amy'    </span>│<span style=\"color: #ff0000; text-decoration-color: #ff0000; font-weight: bold\"> ' Martin' </span>│\n",
       "└────────────────────────────────────────────────────────────────┴───────────┴───────────┘\n",
       "</pre>\n"
      ],
      "text/plain": [
       "\u001b[3m                                    Prompts & Answers:                                    \u001b[0m\n",
       "┏━━━━━━━━━━━━━━━━━━━━━━━━━━━━━━━━━━━━━━━━━━━━━━━━━━━━━━━━━━━━━━━━┳━━━━━━━━━━━┳━━━━━━━━━━━┓\n",
       "┃\u001b[1m \u001b[0m\u001b[1mPrompt                                                        \u001b[0m\u001b[1m \u001b[0m┃\u001b[1m \u001b[0m\u001b[1mCorrect  \u001b[0m\u001b[1m \u001b[0m┃\u001b[1m \u001b[0m\u001b[1mIncorrect\u001b[0m\u001b[1m \u001b[0m┃\n",
       "┡━━━━━━━━━━━━━━━━━━━━━━━━━━━━━━━━━━━━━━━━━━━━━━━━━━━━━━━━━━━━━━━━╇━━━━━━━━━━━╇━━━━━━━━━━━┩\n",
       "│ When John and Mary went to the shops,  John gave the bag to    │\u001b[1;38;2;0;200;0m \u001b[0m\u001b[1;38;2;0;200;0m' Mary'  \u001b[0m\u001b[1;38;2;0;200;0m \u001b[0m│\u001b[1;38;2;255;0;0m \u001b[0m\u001b[1;38;2;255;0;0m' John'  \u001b[0m\u001b[1;38;2;255;0;0m \u001b[0m│\n",
       "│ When John and Mary went to the shops,  Mary gave the bag to    │\u001b[1;38;2;0;200;0m \u001b[0m\u001b[1;38;2;0;200;0m' John'  \u001b[0m\u001b[1;38;2;0;200;0m \u001b[0m│\u001b[1;38;2;255;0;0m \u001b[0m\u001b[1;38;2;255;0;0m' Mary'  \u001b[0m\u001b[1;38;2;255;0;0m \u001b[0m│\n",
       "│ When Tom and James went to the park,  James gave the ball to   │\u001b[1;38;2;0;200;0m \u001b[0m\u001b[1;38;2;0;200;0m' Tom'   \u001b[0m\u001b[1;38;2;0;200;0m \u001b[0m│\u001b[1;38;2;255;0;0m \u001b[0m\u001b[1;38;2;255;0;0m' James' \u001b[0m\u001b[1;38;2;255;0;0m \u001b[0m│\n",
       "│ When Tom and James went to the park,  Tom gave the ball to     │\u001b[1;38;2;0;200;0m \u001b[0m\u001b[1;38;2;0;200;0m' James' \u001b[0m\u001b[1;38;2;0;200;0m \u001b[0m│\u001b[1;38;2;255;0;0m \u001b[0m\u001b[1;38;2;255;0;0m' Tom'   \u001b[0m\u001b[1;38;2;255;0;0m \u001b[0m│\n",
       "│ When Dan and Sid went to the shops,  Sid gave an apple to      │\u001b[1;38;2;0;200;0m \u001b[0m\u001b[1;38;2;0;200;0m' Dan'   \u001b[0m\u001b[1;38;2;0;200;0m \u001b[0m│\u001b[1;38;2;255;0;0m \u001b[0m\u001b[1;38;2;255;0;0m' Sid'   \u001b[0m\u001b[1;38;2;255;0;0m \u001b[0m│\n",
       "│ When Dan and Sid went to the shops,  Dan gave an apple to      │\u001b[1;38;2;0;200;0m \u001b[0m\u001b[1;38;2;0;200;0m' Sid'   \u001b[0m\u001b[1;38;2;0;200;0m \u001b[0m│\u001b[1;38;2;255;0;0m \u001b[0m\u001b[1;38;2;255;0;0m' Dan'   \u001b[0m\u001b[1;38;2;255;0;0m \u001b[0m│\n",
       "│ After Martin and Amy went to the park,  Amy gave a drink to    │\u001b[1;38;2;0;200;0m \u001b[0m\u001b[1;38;2;0;200;0m' Martin'\u001b[0m\u001b[1;38;2;0;200;0m \u001b[0m│\u001b[1;38;2;255;0;0m \u001b[0m\u001b[1;38;2;255;0;0m' Amy'   \u001b[0m\u001b[1;38;2;255;0;0m \u001b[0m│\n",
       "│ After Martin and Amy went to the park,  Martin gave a drink to │\u001b[1;38;2;0;200;0m \u001b[0m\u001b[1;38;2;0;200;0m' Amy'   \u001b[0m\u001b[1;38;2;0;200;0m \u001b[0m│\u001b[1;38;2;255;0;0m \u001b[0m\u001b[1;38;2;255;0;0m' Martin'\u001b[0m\u001b[1;38;2;255;0;0m \u001b[0m│\n",
       "└────────────────────────────────────────────────────────────────┴───────────┴───────────┘\n"
      ]
     },
     "metadata": {},
     "output_type": "display_data"
    }
   ],
   "source": [
    "cols = [\n",
    "    'Prompt',\n",
    "    Column('Correct', style='rgb(0,200,0) bold'),\n",
    "    Column('Incorrect', style='rgb(255,0,0) bold'),\n",
    "]\n",
    "table = Table(*cols, title='Prompts & Answers:')\n",
    "\n",
    "for prompt, answer in zip(prompts, answers):\n",
    "    table.add_row(prompt, repr(answer[0]), repr(answer[1]))\n",
    "\n",
    "rprint(table)"
   ]
  },
  {
   "cell_type": "code",
   "execution_count": 26,
   "id": "b320cf71",
   "metadata": {},
   "outputs": [],
   "source": [
    "# get logits and cache of all internal activations for later analysis\n",
    "tokens = model.to_tokens(prompts, prepend_bos=True)\n",
    "tokens = tokens.to(device)\n",
    "logits, cache = model.run_with_cache(tokens)"
   ]
  },
  {
   "cell_type": "code",
   "execution_count": 36,
   "id": "a88aaf00",
   "metadata": {},
   "outputs": [
    {
     "name": "stdout",
     "output_type": "stream",
     "text": [
      "Average logit difference: 2.710\n",
      "Average logit difference per prompt: 2.710\n"
     ]
    }
   ],
   "source": [
    "def logits_to_ave_logit_diff(\n",
    "    logits,\n",
    "    answer_tokens = answer_tokens,\n",
    "    per_prompt = False,\n",
    "):\n",
    "    final_logits = logits[:, -1, :]\n",
    "    answer_logits = final_logits.gather(dim=-1, index=answer_tokens)\n",
    "    correct_logits, incorrect_logits = answer_logits.unbind(dim=-1)\n",
    "    answer_logit_diff = correct_logits - incorrect_logits\n",
    "    return answer_logit_diff if per_prompt else answer_logit_diff.mean()\n",
    "\n",
    "ave_logit_diff = logits_to_ave_logit_diff(logits, answer_tokens, per_prompt=False)\n",
    "print(f'Average logit difference: {ave_logit_diff:.3f}')\n",
    "ave_logit_diff_per_prompt = logits_to_ave_logit_diff(logits, answer_tokens, per_prompt=True)\n",
    "print(f'Average logit difference per prompt: {ave_logit_diff_per_prompt.mean():.3f}')"
   ]
  },
  {
   "cell_type": "code",
   "execution_count": 38,
   "id": "7c7f0965",
   "metadata": {},
   "outputs": [
    {
     "data": {
      "text/html": [
       "<pre style=\"white-space:pre;overflow-x:auto;line-height:normal;font-family:Menlo,'DejaVu Sans Mono',consolas,'Courier New',monospace\"><span style=\"font-style: italic\">                                              Logit differences                                              </span>\n",
       "┏━━━━━━━━━━━━━━━━━━━━━━━━━━━━━━━━━━━━━━━━━━━━━━━━━━━━━━━━━━━━━━━━┳━━━━━━━━━━━┳━━━━━━━━━━━┳━━━━━━━━━━━━━━━━━━┓\n",
       "┃<span style=\"font-weight: bold\"> Prompt                                                         </span>┃<span style=\"font-weight: bold\"> Correct   </span>┃<span style=\"font-weight: bold\"> Incorrect </span>┃<span style=\"font-weight: bold\"> Logit Difference </span>┃\n",
       "┡━━━━━━━━━━━━━━━━━━━━━━━━━━━━━━━━━━━━━━━━━━━━━━━━━━━━━━━━━━━━━━━━╇━━━━━━━━━━━╇━━━━━━━━━━━╇━━━━━━━━━━━━━━━━━━┩\n",
       "│ When John and Mary went to the shops,  John gave the bag to    │<span style=\"color: #00c800; text-decoration-color: #00c800; font-weight: bold\"> ' Mary'   </span>│<span style=\"color: #ff0000; text-decoration-color: #ff0000; font-weight: bold\"> ' John'   </span>│<span style=\"font-weight: bold\"> 2.617            </span>│\n",
       "│ When John and Mary went to the shops,  Mary gave the bag to    │<span style=\"color: #00c800; text-decoration-color: #00c800; font-weight: bold\"> ' John'   </span>│<span style=\"color: #ff0000; text-decoration-color: #ff0000; font-weight: bold\"> ' Mary'   </span>│<span style=\"font-weight: bold\"> 2.224            </span>│\n",
       "│ When Tom and James went to the park,  James gave the ball to   │<span style=\"color: #00c800; text-decoration-color: #00c800; font-weight: bold\"> ' Tom'    </span>│<span style=\"color: #ff0000; text-decoration-color: #ff0000; font-weight: bold\"> ' James'  </span>│<span style=\"font-weight: bold\"> 1.740            </span>│\n",
       "│ When Tom and James went to the park,  Tom gave the ball to     │<span style=\"color: #00c800; text-decoration-color: #00c800; font-weight: bold\"> ' James'  </span>│<span style=\"color: #ff0000; text-decoration-color: #ff0000; font-weight: bold\"> ' Tom'    </span>│<span style=\"font-weight: bold\"> 3.076            </span>│\n",
       "│ When Dan and Sid went to the shops,  Sid gave an apple to      │<span style=\"color: #00c800; text-decoration-color: #00c800; font-weight: bold\"> ' Dan'    </span>│<span style=\"color: #ff0000; text-decoration-color: #ff0000; font-weight: bold\"> ' Sid'    </span>│<span style=\"font-weight: bold\"> 1.292            </span>│\n",
       "│ When Dan and Sid went to the shops,  Dan gave an apple to      │<span style=\"color: #00c800; text-decoration-color: #00c800; font-weight: bold\"> ' Sid'    </span>│<span style=\"color: #ff0000; text-decoration-color: #ff0000; font-weight: bold\"> ' Dan'    </span>│<span style=\"font-weight: bold\"> 2.975            </span>│\n",
       "│ After Martin and Amy went to the park,  Amy gave a drink to    │<span style=\"color: #00c800; text-decoration-color: #00c800; font-weight: bold\"> ' Martin' </span>│<span style=\"color: #ff0000; text-decoration-color: #ff0000; font-weight: bold\"> ' Amy'    </span>│<span style=\"font-weight: bold\"> 1.994            </span>│\n",
       "│ After Martin and Amy went to the park,  Martin gave a drink to │<span style=\"color: #00c800; text-decoration-color: #00c800; font-weight: bold\"> ' Amy'    </span>│<span style=\"color: #ff0000; text-decoration-color: #ff0000; font-weight: bold\"> ' Martin' </span>│<span style=\"font-weight: bold\"> 5.760            </span>│\n",
       "└────────────────────────────────────────────────────────────────┴───────────┴───────────┴──────────────────┘\n",
       "</pre>\n"
      ],
      "text/plain": [
       "\u001b[3m                                              Logit differences                                              \u001b[0m\n",
       "┏━━━━━━━━━━━━━━━━━━━━━━━━━━━━━━━━━━━━━━━━━━━━━━━━━━━━━━━━━━━━━━━━┳━━━━━━━━━━━┳━━━━━━━━━━━┳━━━━━━━━━━━━━━━━━━┓\n",
       "┃\u001b[1m \u001b[0m\u001b[1mPrompt                                                        \u001b[0m\u001b[1m \u001b[0m┃\u001b[1m \u001b[0m\u001b[1mCorrect  \u001b[0m\u001b[1m \u001b[0m┃\u001b[1m \u001b[0m\u001b[1mIncorrect\u001b[0m\u001b[1m \u001b[0m┃\u001b[1m \u001b[0m\u001b[1mLogit Difference\u001b[0m\u001b[1m \u001b[0m┃\n",
       "┡━━━━━━━━━━━━━━━━━━━━━━━━━━━━━━━━━━━━━━━━━━━━━━━━━━━━━━━━━━━━━━━━╇━━━━━━━━━━━╇━━━━━━━━━━━╇━━━━━━━━━━━━━━━━━━┩\n",
       "│ When John and Mary went to the shops,  John gave the bag to    │\u001b[1;38;2;0;200;0m \u001b[0m\u001b[1;38;2;0;200;0m' Mary'  \u001b[0m\u001b[1;38;2;0;200;0m \u001b[0m│\u001b[1;38;2;255;0;0m \u001b[0m\u001b[1;38;2;255;0;0m' John'  \u001b[0m\u001b[1;38;2;255;0;0m \u001b[0m│\u001b[1m \u001b[0m\u001b[1m2.617           \u001b[0m\u001b[1m \u001b[0m│\n",
       "│ When John and Mary went to the shops,  Mary gave the bag to    │\u001b[1;38;2;0;200;0m \u001b[0m\u001b[1;38;2;0;200;0m' John'  \u001b[0m\u001b[1;38;2;0;200;0m \u001b[0m│\u001b[1;38;2;255;0;0m \u001b[0m\u001b[1;38;2;255;0;0m' Mary'  \u001b[0m\u001b[1;38;2;255;0;0m \u001b[0m│\u001b[1m \u001b[0m\u001b[1m2.224           \u001b[0m\u001b[1m \u001b[0m│\n",
       "│ When Tom and James went to the park,  James gave the ball to   │\u001b[1;38;2;0;200;0m \u001b[0m\u001b[1;38;2;0;200;0m' Tom'   \u001b[0m\u001b[1;38;2;0;200;0m \u001b[0m│\u001b[1;38;2;255;0;0m \u001b[0m\u001b[1;38;2;255;0;0m' James' \u001b[0m\u001b[1;38;2;255;0;0m \u001b[0m│\u001b[1m \u001b[0m\u001b[1m1.740           \u001b[0m\u001b[1m \u001b[0m│\n",
       "│ When Tom and James went to the park,  Tom gave the ball to     │\u001b[1;38;2;0;200;0m \u001b[0m\u001b[1;38;2;0;200;0m' James' \u001b[0m\u001b[1;38;2;0;200;0m \u001b[0m│\u001b[1;38;2;255;0;0m \u001b[0m\u001b[1;38;2;255;0;0m' Tom'   \u001b[0m\u001b[1;38;2;255;0;0m \u001b[0m│\u001b[1m \u001b[0m\u001b[1m3.076           \u001b[0m\u001b[1m \u001b[0m│\n",
       "│ When Dan and Sid went to the shops,  Sid gave an apple to      │\u001b[1;38;2;0;200;0m \u001b[0m\u001b[1;38;2;0;200;0m' Dan'   \u001b[0m\u001b[1;38;2;0;200;0m \u001b[0m│\u001b[1;38;2;255;0;0m \u001b[0m\u001b[1;38;2;255;0;0m' Sid'   \u001b[0m\u001b[1;38;2;255;0;0m \u001b[0m│\u001b[1m \u001b[0m\u001b[1m1.292           \u001b[0m\u001b[1m \u001b[0m│\n",
       "│ When Dan and Sid went to the shops,  Dan gave an apple to      │\u001b[1;38;2;0;200;0m \u001b[0m\u001b[1;38;2;0;200;0m' Sid'   \u001b[0m\u001b[1;38;2;0;200;0m \u001b[0m│\u001b[1;38;2;255;0;0m \u001b[0m\u001b[1;38;2;255;0;0m' Dan'   \u001b[0m\u001b[1;38;2;255;0;0m \u001b[0m│\u001b[1m \u001b[0m\u001b[1m2.975           \u001b[0m\u001b[1m \u001b[0m│\n",
       "│ After Martin and Amy went to the park,  Amy gave a drink to    │\u001b[1;38;2;0;200;0m \u001b[0m\u001b[1;38;2;0;200;0m' Martin'\u001b[0m\u001b[1;38;2;0;200;0m \u001b[0m│\u001b[1;38;2;255;0;0m \u001b[0m\u001b[1;38;2;255;0;0m' Amy'   \u001b[0m\u001b[1;38;2;255;0;0m \u001b[0m│\u001b[1m \u001b[0m\u001b[1m1.994           \u001b[0m\u001b[1m \u001b[0m│\n",
       "│ After Martin and Amy went to the park,  Martin gave a drink to │\u001b[1;38;2;0;200;0m \u001b[0m\u001b[1;38;2;0;200;0m' Amy'   \u001b[0m\u001b[1;38;2;0;200;0m \u001b[0m│\u001b[1;38;2;255;0;0m \u001b[0m\u001b[1;38;2;255;0;0m' Martin'\u001b[0m\u001b[1;38;2;255;0;0m \u001b[0m│\u001b[1m \u001b[0m\u001b[1m5.760           \u001b[0m\u001b[1m \u001b[0m│\n",
       "└────────────────────────────────────────────────────────────────┴───────────┴───────────┴──────────────────┘\n"
      ]
     },
     "metadata": {},
     "output_type": "display_data"
    }
   ],
   "source": [
    "cols = [\n",
    "    \"Prompt\",\n",
    "    Column(\"Correct\", style=\"rgb(0,200,0) bold\"),\n",
    "    Column(\"Incorrect\", style=\"rgb(255,0,0) bold\"),\n",
    "    Column(\"Logit Difference\", style=\"bold\"),\n",
    "]\n",
    "table = Table(*cols, title=\"Logit differences\")\n",
    "\n",
    "for prompt, answer, logit_diff in zip(prompts, answers, ave_logit_diff_per_prompt):\n",
    "    table.add_row(prompt, repr(answer[0]), repr(answer[1]), f\"{logit_diff.item():.3f}\")\n",
    "\n",
    "rprint(table)"
   ]
  },
  {
   "cell_type": "markdown",
   "id": "91b79741",
   "metadata": {},
   "source": [
    "# 2. Conclusion\n",
    "\n",
    "Attention is really good at the primitive operations of looking nearby, or copying information. A simple model could figure out that at `to`, it should look for names and predict that those names came next (e.g., the skip trigram \" John...to → John\"). But it's much harder to tell how many of each previous names there are - attending to each copy of John will look exactly the same as attending to a single John token. So this will be pretty hard to figure out on the ` to` token.\n",
    "\n",
    "The natural place to break this symmetry is on the second ` John` token - telling whether there is an earlier copy of the current token should be a much easier task. So it might be expected there to be a head which detects duplicate tokens on the second ` John` token, and then another head which moves that information from the second ` John` token to the ` to` token.\n",
    "\n",
    "The model then needs to learn to predict ` Mary` and not ` John`. For that, it needs a head which attends to all previous names, but where the duplicate token features inhibit it from attending to specific names. So this only attends to Mary. And then the output of this head maps to the logits."
   ]
  },
  {
   "cell_type": "markdown",
   "id": "4a04566a",
   "metadata": {},
   "source": [
    "# Sources\n",
    "\n",
    "1. [Ground truth - Arena::Indirect Object Identification](https://arena-chapter1-transformer-interp.streamlit.app/[1.4.1]_Indirect_Object_Identification)\n",
    "2. [Interpretability in the wild: A circuit for indirect object identification in GPT-2 small, by Wang, K, et. al.](https://arxiv.org/pdf/2211.00593)\n",
    "3. [NOTEBOOK - Exploratory Analysis Demo, by Neel Nanda](https://colab.research.google.com/github/TransformerLensOrg/TransformerLens/blob/main/demos/Exploratory_Analysis_Demo.ipynb#scrollTo=WXktSe0CvBdh)\n",
    "4. [An analogy for understanding transformers, by Callum McDougall](https://www.lesswrong.com/posts/euam65XjigaCJQkcN/an-analogy-for-understanding-transformers)\n",
    "5. [A mathematical framework for transformer circuits, by Chris Olah, Neel Nanda, et. al.](https://transformer-circuits.pub/2021/framework/index.html)"
   ]
  }
 ],
 "metadata": {
  "kernelspec": {
   "display_name": ".venv",
   "language": "python",
   "name": "python3"
  },
  "language_info": {
   "codemirror_mode": {
    "name": "ipython",
    "version": 3
   },
   "file_extension": ".py",
   "mimetype": "text/x-python",
   "name": "python",
   "nbconvert_exporter": "python",
   "pygments_lexer": "ipython3",
   "version": "3.12.2"
  }
 },
 "nbformat": 4,
 "nbformat_minor": 5
}
