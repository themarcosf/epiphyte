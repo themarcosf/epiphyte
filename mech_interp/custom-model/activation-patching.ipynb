{
 "cells": [
  {
   "cell_type": "code",
   "execution_count": 1,
   "id": "320a47c4",
   "metadata": {},
   "outputs": [],
   "source": [
    "import warnings\n",
    "warnings.filterwarnings('ignore')\n",
    "\n",
    "import os\n",
    "os.chdir('..')"
   ]
  },
  {
   "cell_type": "code",
   "execution_count": null,
   "id": "86c10e4c",
   "metadata": {},
   "outputs": [],
   "source": [
    "import os\n",
    "from collections import OrderedDict\n",
    "\n",
    "import circuitsvis as cv\n",
    "import numpy as np\n",
    "import torch\n",
    "from IPython.display import HTML\n",
    "from transformer_lens import HookedTransformer, patching, utils\n",
    "from transformers import GPT2LMHeadModel\n",
    "\n",
    "from plotly_utils import imshow\n"
   ]
  },
  {
   "cell_type": "code",
   "execution_count": 3,
   "id": "f77c681f",
   "metadata": {},
   "outputs": [
    {
     "name": "stdout",
     "output_type": "stream",
     "text": [
      "Changed working directory to parent directory\n",
      "Hugging Face token loaded: hf_...\n",
      "Using device: mps\n"
     ]
    }
   ],
   "source": [
    "os.chdir('..')\n",
    "print('Changed working directory to parent directory')\n",
    "\n",
    "with open(os.path.expanduser('~/.huggingface/token')) as f:\n",
    "    os.environ['HF_TOKEN'] = f.read().strip()\n",
    "    print(f'Hugging Face token loaded: {os.environ['HF_TOKEN'][:3]}...')\n",
    "\n",
    "torch.set_grad_enabled(False)\n",
    "\n",
    "if hasattr(torch.backends, 'mps') and torch.backends.mps.is_available():\n",
    "    device = torch.device('mps')\n",
    "else:\n",
    "    device = torch.device('cuda' if torch.cuda.is_available() else 'cpu')\n",
    "print(f'Using device: {device}')"
   ]
  },
  {
   "cell_type": "code",
   "execution_count": null,
   "id": "dd110d19",
   "metadata": {},
   "outputs": [
    {
     "name": "stdout",
     "output_type": "stream",
     "text": [
      "Model loaded from local checkpoint\n"
     ]
    }
   ],
   "source": [
    "model = GPT2LMHeadModel.from_pretrained('gpt2')\n",
    "\n",
    "checkpoint = torch.load('checkpoint_step.pth')\n",
    "custom_state = checkpoint['model_state_dict']\n",
    "\n",
    "fixed_state = OrderedDict()\n",
    "for k, v in custom_state.items():\n",
    "    new_key = k.replace('_orig_mod.', '')\n",
    "    fixed_state[new_key] = v\n",
    "\n",
    "for k, v in fixed_state.items():\n",
    "    print(k, v.shape)\n",
    "\n",
    "\n",
    "model.load_state_dict(fixed_state, strict=True)\n",
    "print('Model loaded from local checkpoint')"
   ]
  },
  {
   "cell_type": "code",
   "execution_count": 5,
   "id": "8a26a501",
   "metadata": {},
   "outputs": [
    {
     "name": "stdout",
     "output_type": "stream",
     "text": [
      "Loaded pretrained model gpt2-small into HookedTransformer\n"
     ]
    }
   ],
   "source": [
    "model = HookedTransformer.from_pretrained(\n",
    "    'gpt2-small',\n",
    "    center_unembed=True,\n",
    "    center_writing_weights=True,\n",
    "    fold_ln=True,\n",
    "    refactor_factored_attn_matrices=True,\n",
    "    device=device,\n",
    ")"
   ]
  },
  {
   "cell_type": "code",
   "execution_count": null,
   "id": "4c99cbc5",
   "metadata": {},
   "outputs": [],
   "source": [
    "prompt_format = [\n",
    "    'When John and Mary went to the shops, {} gave the bag to',\n",
    "    'When Tom and James went to the park, {} gave the ball to',\n",
    "    'When Dan and Sid went to the shops, {} gave an apple to',\n",
    "    'After Martin and Amy went to the park, {} gave a drink to',\n",
    "]"
   ]
  },
  {
   "cell_type": "code",
   "execution_count": 133,
   "id": "725f1ac8",
   "metadata": {},
   "outputs": [],
   "source": [
    "name_pairs = [\n",
    "    (' Mary', ' John'),\n",
    "    (' Tom', ' James'),\n",
    "    (' Dan', ' Sid'),\n",
    "    (' Martin', ' Amy'),\n",
    "]\n",
    "\n",
    "prompts = [prompt.format(name) for (prompt, names) in zip(prompt_format, name_pairs) for name in names[::-1]]\n",
    "answers = [names[::i] for names in name_pairs for i in (1, -1)]\n",
    "answer_tokens = torch.concat([model.to_tokens(names, prepend_bos=False).T for names in answers])"
   ]
  },
  {
   "cell_type": "code",
   "execution_count": 134,
   "id": "5e71d3c8",
   "metadata": {},
   "outputs": [],
   "source": [
    "tokens = model.to_tokens(prompts, prepend_bos=True)\n",
    "tokens = tokens.to(device)"
   ]
  },
  {
   "cell_type": "code",
   "execution_count": 135,
   "id": "7b93b25d",
   "metadata": {},
   "outputs": [],
   "source": [
    "def logits_to_ave_logit_diff(\n",
    "    logits,\n",
    "    answer_tokens = answer_tokens,\n",
    "    per_prompt = False,\n",
    "):\n",
    "    final_logits = logits[:, -1, :]\n",
    "    answer_logits = final_logits.gather(dim=-1, index=answer_tokens)\n",
    "    correct_logits, incorrect_logits = answer_logits.unbind(dim=-1)\n",
    "    answer_logit_diff = correct_logits - incorrect_logits\n",
    "    return answer_logit_diff if per_prompt else answer_logit_diff.mean()"
   ]
  },
  {
   "cell_type": "code",
   "execution_count": null,
   "id": "fb8de97e",
   "metadata": {},
   "outputs": [
    {
     "name": "stdout",
     "output_type": "stream",
     "text": [
      "Clean string 0:     <|endoftext|>When John and Mary went to the shops,  John gave the bag to \n",
      "Corrupted string 0: <|endoftext|>When John and Mary went to the shops,  Mary gave the bag to\n",
      "Clean logit diff: 2.8493\n",
      "Corrupted logit diff: -2.8493\n"
     ]
    }
   ],
   "source": [
    "clean_tokens = tokens\n",
    "\n",
    "# wwap each adjacent pair to get corrupted tokens\n",
    "indices = [i + 1 if i % 2 == 0 else i - 1 for i in range(len(tokens))]\n",
    "corrupted_tokens = clean_tokens[indices]\n",
    "\n",
    "print(\n",
    "    \"Clean string 0:    \",\n",
    "    model.to_string(clean_tokens[0]),\n",
    "    \"\\nCorrupted string 0:\",\n",
    "    model.to_string(corrupted_tokens[0]),\n",
    ")\n",
    "\n",
    "clean_logits, clean_cache = model.run_with_cache(clean_tokens)\n",
    "corrupted_logits, corrupted_cache = model.run_with_cache(corrupted_tokens)\n",
    "\n",
    "clean_logit_diff = logits_to_ave_logit_diff(clean_logits, answer_tokens)\n",
    "print(f\"Clean logit diff: {clean_logit_diff:.4f}\")\n",
    "\n",
    "corrupted_logit_diff = logits_to_ave_logit_diff(corrupted_logits, answer_tokens)\n",
    "print(f\"Corrupted logit diff: {corrupted_logit_diff:.4f}\")"
   ]
  },
  {
   "cell_type": "code",
   "execution_count": 126,
   "id": "5292423b",
   "metadata": {},
   "outputs": [],
   "source": [
    "def ioi_metric(\n",
    "    logits,\n",
    "    answer_tokens = answer_tokens,\n",
    "    corrupted_logit_diff: float = corrupted_logit_diff,\n",
    "    clean_logit_diff: float = clean_logit_diff,\n",
    "):\n",
    "    patched_logit_diff = logits_to_ave_logit_diff(logits, answer_tokens)\n",
    "    return (patched_logit_diff - corrupted_logit_diff) / (clean_logit_diff - corrupted_logit_diff)\n",
    "\n",
    "torch.testing.assert_close(ioi_metric(clean_logits).item(), 1.0)\n",
    "torch.testing.assert_close(ioi_metric(corrupted_logits).item(), 0.0)\n",
    "torch.testing.assert_close(ioi_metric((clean_logits + corrupted_logits) / 2).item(), 0.5)"
   ]
  },
  {
   "cell_type": "markdown",
   "id": "00d9ec87",
   "metadata": {},
   "source": [
    "# 1. Residual stream patching"
   ]
  },
  {
   "cell_type": "code",
   "execution_count": null,
   "id": "e9eef3cc",
   "metadata": {},
   "outputs": [
    {
     "name": "stderr",
     "output_type": "stream",
     "text": [
      "100%|██████████| 192/192 [00:11<00:00, 17.33it/s]\n"
     ]
    },
    {
     "data": {
      "application/vnd.plotly.v1+json": {
       "config": {
        "plotlyServerURL": "https://plot.ly",
        "staticPlot": false
       },
       "data": [
        {
         "coloraxis": "coloraxis",
         "hovertemplate": "Position: %{x}<br>Layer: %{y}<br>color: %{z}<extra></extra>",
         "name": "0",
         "type": "heatmap",
         "x": [
          "<|endoftext|> 0",
          "When 1",
          " John 2",
          " and 3",
          " Mary 4",
          " went 5",
          " to 6",
          " the 7",
          " shops 8",
          ", 9",
          "  10",
          " John 11",
          " gave 12",
          " the 13",
          " bag 14",
          " to 15"
         ],
         "xaxis": "x",
         "yaxis": "y",
         "z": {
          "bdata": "AAAAAAAAAAAAAAAAAAAAAAAAAAAAAAAAAAAAAAAAAAAAAAAAAAAAAAAAAAAAAIA/AAAAAAAAAAAAAAAAAAAAAAAAAAAAAAAAAAAAAAAAAAAAAAAAAAAAAAAAAAAAAAAAAAAAAAAAAAAAAAAAPfZ8P/G+fju8syI6E77JO3plgzoAAAAAAAAAAAAAAAAAAAAAAAAAAAAAAAAAAAAAAAAAAAAAAAAAAAAAAAAAALIrfT8oCO86w4GgOrBlmDvO8zc7AAAAAAAAAAAAAAAAAAAAAAAAAAAAAAAAAAAAAAAAAAAAAAAAAAAAAAAAAADiSnw/T0fxO82bCbcP8gg7CtCSOwAAAAAAAAAAAAAAAAAAAAAAAAAAAAAAAAAAAAAAAAAAAAAAAAAAAAAAAAAAAfN5P3bxpjxAFO468zEUu9RqaDsAAAAAAAAAAAAAAAAAAAAAAAAAAAAAAAAAAAAAAAAAAAAAAAAAAAAAAAAAAAS6eD+BC6U8VFYkOekejztO9jQ7AAAAAAAAAAAAAAAAAAAAAAAAAAAAAAAAAAAAAAAAAAAAAAAAAAAAAAAAAAD6QHg/EwOnPKerSzoEXcU72DE8OwAAAAAAAAAAAAAAAAAAAAAAAAAAAAAAAAAAAAAAAAAAAAAAAAAAAAAAAAAAck97P7+SJTo9KQw75QWRO/hdcTwAAAAAAAAAAAAAAAAAAAAAAAAAAAAAAAAAAAAAAAAAAAAAAAAAAAAAAAAAAFEDmT+oYSQ8VQWEOaX/UTsXalq+AAAAAAAAAAAAAAAAAAAAAAAAAAAAAAAAAAAAAAAAAAAAAAAAAAAAAAAAAAA06bI/tjljvOxG4LoBrjs7HXDDvgAAAAAAAAAAAAAAAAAAAAAAAAAAAAAAAAAAAAAAAAAAAAAAAAAAAAAAAAAAS6KWP48iDry/rda5hTgzOvm2KL4AAAAAAAAAAAAAAAAAAAAAAAAAAAAAAAAAAAAAAAAAAAAAAAAAAAAAAAAAADKtNT/snRE78wENOjQjCzsqIZI+",
          "dtype": "f4",
          "shape": "12, 16"
         }
        }
       ],
       "layout": {
        "coloraxis": {
         "cmid": 0,
         "colorscale": [
          [
           0,
           "rgb(103,0,31)"
          ],
          [
           0.1,
           "rgb(178,24,43)"
          ],
          [
           0.2,
           "rgb(214,96,77)"
          ],
          [
           0.3,
           "rgb(244,165,130)"
          ],
          [
           0.4,
           "rgb(253,219,199)"
          ],
          [
           0.5,
           "rgb(247,247,247)"
          ],
          [
           0.6,
           "rgb(209,229,240)"
          ],
          [
           0.7,
           "rgb(146,197,222)"
          ],
          [
           0.8,
           "rgb(67,147,195)"
          ],
          [
           0.9,
           "rgb(33,102,172)"
          ],
          [
           1,
           "rgb(5,48,97)"
          ]
         ]
        },
        "template": {
         "data": {
          "bar": [
           {
            "error_x": {
             "color": "#2a3f5f"
            },
            "error_y": {
             "color": "#2a3f5f"
            },
            "marker": {
             "line": {
              "color": "#E5ECF6",
              "width": 0.5
             },
             "pattern": {
              "fillmode": "overlay",
              "size": 10,
              "solidity": 0.2
             }
            },
            "type": "bar"
           }
          ],
          "barpolar": [
           {
            "marker": {
             "line": {
              "color": "#E5ECF6",
              "width": 0.5
             },
             "pattern": {
              "fillmode": "overlay",
              "size": 10,
              "solidity": 0.2
             }
            },
            "type": "barpolar"
           }
          ],
          "carpet": [
           {
            "aaxis": {
             "endlinecolor": "#2a3f5f",
             "gridcolor": "white",
             "linecolor": "white",
             "minorgridcolor": "white",
             "startlinecolor": "#2a3f5f"
            },
            "baxis": {
             "endlinecolor": "#2a3f5f",
             "gridcolor": "white",
             "linecolor": "white",
             "minorgridcolor": "white",
             "startlinecolor": "#2a3f5f"
            },
            "type": "carpet"
           }
          ],
          "choropleth": [
           {
            "colorbar": {
             "outlinewidth": 0,
             "ticks": ""
            },
            "type": "choropleth"
           }
          ],
          "contour": [
           {
            "colorbar": {
             "outlinewidth": 0,
             "ticks": ""
            },
            "colorscale": [
             [
              0,
              "#0d0887"
             ],
             [
              0.1111111111111111,
              "#46039f"
             ],
             [
              0.2222222222222222,
              "#7201a8"
             ],
             [
              0.3333333333333333,
              "#9c179e"
             ],
             [
              0.4444444444444444,
              "#bd3786"
             ],
             [
              0.5555555555555556,
              "#d8576b"
             ],
             [
              0.6666666666666666,
              "#ed7953"
             ],
             [
              0.7777777777777778,
              "#fb9f3a"
             ],
             [
              0.8888888888888888,
              "#fdca26"
             ],
             [
              1,
              "#f0f921"
             ]
            ],
            "type": "contour"
           }
          ],
          "contourcarpet": [
           {
            "colorbar": {
             "outlinewidth": 0,
             "ticks": ""
            },
            "type": "contourcarpet"
           }
          ],
          "heatmap": [
           {
            "colorbar": {
             "outlinewidth": 0,
             "ticks": ""
            },
            "colorscale": [
             [
              0,
              "#0d0887"
             ],
             [
              0.1111111111111111,
              "#46039f"
             ],
             [
              0.2222222222222222,
              "#7201a8"
             ],
             [
              0.3333333333333333,
              "#9c179e"
             ],
             [
              0.4444444444444444,
              "#bd3786"
             ],
             [
              0.5555555555555556,
              "#d8576b"
             ],
             [
              0.6666666666666666,
              "#ed7953"
             ],
             [
              0.7777777777777778,
              "#fb9f3a"
             ],
             [
              0.8888888888888888,
              "#fdca26"
             ],
             [
              1,
              "#f0f921"
             ]
            ],
            "type": "heatmap"
           }
          ],
          "histogram": [
           {
            "marker": {
             "pattern": {
              "fillmode": "overlay",
              "size": 10,
              "solidity": 0.2
             }
            },
            "type": "histogram"
           }
          ],
          "histogram2d": [
           {
            "colorbar": {
             "outlinewidth": 0,
             "ticks": ""
            },
            "colorscale": [
             [
              0,
              "#0d0887"
             ],
             [
              0.1111111111111111,
              "#46039f"
             ],
             [
              0.2222222222222222,
              "#7201a8"
             ],
             [
              0.3333333333333333,
              "#9c179e"
             ],
             [
              0.4444444444444444,
              "#bd3786"
             ],
             [
              0.5555555555555556,
              "#d8576b"
             ],
             [
              0.6666666666666666,
              "#ed7953"
             ],
             [
              0.7777777777777778,
              "#fb9f3a"
             ],
             [
              0.8888888888888888,
              "#fdca26"
             ],
             [
              1,
              "#f0f921"
             ]
            ],
            "type": "histogram2d"
           }
          ],
          "histogram2dcontour": [
           {
            "colorbar": {
             "outlinewidth": 0,
             "ticks": ""
            },
            "colorscale": [
             [
              0,
              "#0d0887"
             ],
             [
              0.1111111111111111,
              "#46039f"
             ],
             [
              0.2222222222222222,
              "#7201a8"
             ],
             [
              0.3333333333333333,
              "#9c179e"
             ],
             [
              0.4444444444444444,
              "#bd3786"
             ],
             [
              0.5555555555555556,
              "#d8576b"
             ],
             [
              0.6666666666666666,
              "#ed7953"
             ],
             [
              0.7777777777777778,
              "#fb9f3a"
             ],
             [
              0.8888888888888888,
              "#fdca26"
             ],
             [
              1,
              "#f0f921"
             ]
            ],
            "type": "histogram2dcontour"
           }
          ],
          "mesh3d": [
           {
            "colorbar": {
             "outlinewidth": 0,
             "ticks": ""
            },
            "type": "mesh3d"
           }
          ],
          "parcoords": [
           {
            "line": {
             "colorbar": {
              "outlinewidth": 0,
              "ticks": ""
             }
            },
            "type": "parcoords"
           }
          ],
          "pie": [
           {
            "automargin": true,
            "type": "pie"
           }
          ],
          "scatter": [
           {
            "fillpattern": {
             "fillmode": "overlay",
             "size": 10,
             "solidity": 0.2
            },
            "type": "scatter"
           }
          ],
          "scatter3d": [
           {
            "line": {
             "colorbar": {
              "outlinewidth": 0,
              "ticks": ""
             }
            },
            "marker": {
             "colorbar": {
              "outlinewidth": 0,
              "ticks": ""
             }
            },
            "type": "scatter3d"
           }
          ],
          "scattercarpet": [
           {
            "marker": {
             "colorbar": {
              "outlinewidth": 0,
              "ticks": ""
             }
            },
            "type": "scattercarpet"
           }
          ],
          "scattergeo": [
           {
            "marker": {
             "colorbar": {
              "outlinewidth": 0,
              "ticks": ""
             }
            },
            "type": "scattergeo"
           }
          ],
          "scattergl": [
           {
            "marker": {
             "colorbar": {
              "outlinewidth": 0,
              "ticks": ""
             }
            },
            "type": "scattergl"
           }
          ],
          "scattermap": [
           {
            "marker": {
             "colorbar": {
              "outlinewidth": 0,
              "ticks": ""
             }
            },
            "type": "scattermap"
           }
          ],
          "scattermapbox": [
           {
            "marker": {
             "colorbar": {
              "outlinewidth": 0,
              "ticks": ""
             }
            },
            "type": "scattermapbox"
           }
          ],
          "scatterpolar": [
           {
            "marker": {
             "colorbar": {
              "outlinewidth": 0,
              "ticks": ""
             }
            },
            "type": "scatterpolar"
           }
          ],
          "scatterpolargl": [
           {
            "marker": {
             "colorbar": {
              "outlinewidth": 0,
              "ticks": ""
             }
            },
            "type": "scatterpolargl"
           }
          ],
          "scatterternary": [
           {
            "marker": {
             "colorbar": {
              "outlinewidth": 0,
              "ticks": ""
             }
            },
            "type": "scatterternary"
           }
          ],
          "surface": [
           {
            "colorbar": {
             "outlinewidth": 0,
             "ticks": ""
            },
            "colorscale": [
             [
              0,
              "#0d0887"
             ],
             [
              0.1111111111111111,
              "#46039f"
             ],
             [
              0.2222222222222222,
              "#7201a8"
             ],
             [
              0.3333333333333333,
              "#9c179e"
             ],
             [
              0.4444444444444444,
              "#bd3786"
             ],
             [
              0.5555555555555556,
              "#d8576b"
             ],
             [
              0.6666666666666666,
              "#ed7953"
             ],
             [
              0.7777777777777778,
              "#fb9f3a"
             ],
             [
              0.8888888888888888,
              "#fdca26"
             ],
             [
              1,
              "#f0f921"
             ]
            ],
            "type": "surface"
           }
          ],
          "table": [
           {
            "cells": {
             "fill": {
              "color": "#EBF0F8"
             },
             "line": {
              "color": "white"
             }
            },
            "header": {
             "fill": {
              "color": "#C8D4E3"
             },
             "line": {
              "color": "white"
             }
            },
            "type": "table"
           }
          ]
         },
         "layout": {
          "annotationdefaults": {
           "arrowcolor": "#2a3f5f",
           "arrowhead": 0,
           "arrowwidth": 1
          },
          "autotypenumbers": "strict",
          "coloraxis": {
           "colorbar": {
            "outlinewidth": 0,
            "ticks": ""
           }
          },
          "colorscale": {
           "diverging": [
            [
             0,
             "#8e0152"
            ],
            [
             0.1,
             "#c51b7d"
            ],
            [
             0.2,
             "#de77ae"
            ],
            [
             0.3,
             "#f1b6da"
            ],
            [
             0.4,
             "#fde0ef"
            ],
            [
             0.5,
             "#f7f7f7"
            ],
            [
             0.6,
             "#e6f5d0"
            ],
            [
             0.7,
             "#b8e186"
            ],
            [
             0.8,
             "#7fbc41"
            ],
            [
             0.9,
             "#4d9221"
            ],
            [
             1,
             "#276419"
            ]
           ],
           "sequential": [
            [
             0,
             "#0d0887"
            ],
            [
             0.1111111111111111,
             "#46039f"
            ],
            [
             0.2222222222222222,
             "#7201a8"
            ],
            [
             0.3333333333333333,
             "#9c179e"
            ],
            [
             0.4444444444444444,
             "#bd3786"
            ],
            [
             0.5555555555555556,
             "#d8576b"
            ],
            [
             0.6666666666666666,
             "#ed7953"
            ],
            [
             0.7777777777777778,
             "#fb9f3a"
            ],
            [
             0.8888888888888888,
             "#fdca26"
            ],
            [
             1,
             "#f0f921"
            ]
           ],
           "sequentialminus": [
            [
             0,
             "#0d0887"
            ],
            [
             0.1111111111111111,
             "#46039f"
            ],
            [
             0.2222222222222222,
             "#7201a8"
            ],
            [
             0.3333333333333333,
             "#9c179e"
            ],
            [
             0.4444444444444444,
             "#bd3786"
            ],
            [
             0.5555555555555556,
             "#d8576b"
            ],
            [
             0.6666666666666666,
             "#ed7953"
            ],
            [
             0.7777777777777778,
             "#fb9f3a"
            ],
            [
             0.8888888888888888,
             "#fdca26"
            ],
            [
             1,
             "#f0f921"
            ]
           ]
          },
          "colorway": [
           "#636efa",
           "#EF553B",
           "#00cc96",
           "#ab63fa",
           "#FFA15A",
           "#19d3f3",
           "#FF6692",
           "#B6E880",
           "#FF97FF",
           "#FECB52"
          ],
          "font": {
           "color": "#2a3f5f"
          },
          "geo": {
           "bgcolor": "white",
           "lakecolor": "white",
           "landcolor": "#E5ECF6",
           "showlakes": true,
           "showland": true,
           "subunitcolor": "white"
          },
          "hoverlabel": {
           "align": "left"
          },
          "hovermode": "closest",
          "mapbox": {
           "style": "light"
          },
          "paper_bgcolor": "white",
          "plot_bgcolor": "#E5ECF6",
          "polar": {
           "angularaxis": {
            "gridcolor": "white",
            "linecolor": "white",
            "ticks": ""
           },
           "bgcolor": "#E5ECF6",
           "radialaxis": {
            "gridcolor": "white",
            "linecolor": "white",
            "ticks": ""
           }
          },
          "scene": {
           "xaxis": {
            "backgroundcolor": "#E5ECF6",
            "gridcolor": "white",
            "gridwidth": 2,
            "linecolor": "white",
            "showbackground": true,
            "ticks": "",
            "zerolinecolor": "white"
           },
           "yaxis": {
            "backgroundcolor": "#E5ECF6",
            "gridcolor": "white",
            "gridwidth": 2,
            "linecolor": "white",
            "showbackground": true,
            "ticks": "",
            "zerolinecolor": "white"
           },
           "zaxis": {
            "backgroundcolor": "#E5ECF6",
            "gridcolor": "white",
            "gridwidth": 2,
            "linecolor": "white",
            "showbackground": true,
            "ticks": "",
            "zerolinecolor": "white"
           }
          },
          "shapedefaults": {
           "line": {
            "color": "#2a3f5f"
           }
          },
          "ternary": {
           "aaxis": {
            "gridcolor": "white",
            "linecolor": "white",
            "ticks": ""
           },
           "baxis": {
            "gridcolor": "white",
            "linecolor": "white",
            "ticks": ""
           },
           "bgcolor": "#E5ECF6",
           "caxis": {
            "gridcolor": "white",
            "linecolor": "white",
            "ticks": ""
           }
          },
          "title": {
           "x": 0.05
          },
          "xaxis": {
           "automargin": true,
           "gridcolor": "white",
           "linecolor": "white",
           "ticks": "",
           "title": {
            "standoff": 15
           },
           "zerolinecolor": "white",
           "zerolinewidth": 2
          },
          "yaxis": {
           "automargin": true,
           "gridcolor": "white",
           "linecolor": "white",
           "ticks": "",
           "title": {
            "standoff": 15
           },
           "zerolinecolor": "white",
           "zerolinewidth": 2
          }
         }
        },
        "title": {
         "text": "resid_pre Activation Patching"
        },
        "width": 700,
        "xaxis": {
         "anchor": "y",
         "constrain": "domain",
         "domain": [
          0,
          1
         ],
         "scaleanchor": "y",
         "title": {
          "text": "Position"
         }
        },
        "yaxis": {
         "anchor": "x",
         "autorange": "reversed",
         "constrain": "domain",
         "domain": [
          0,
          1
         ],
         "title": {
          "text": "Layer"
         }
        }
       }
      }
     },
     "metadata": {},
     "output_type": "display_data"
    }
   ],
   "source": [
    "act_patch_resid_pre = patching.get_act_patch_resid_pre(\n",
    "    model=model, corrupted_tokens=corrupted_tokens, clean_cache=clean_cache, patching_metric=ioi_metric\n",
    ")\n",
    "\n",
    "labels = [f'{tok} {i}' for i, tok in enumerate(model.to_str_tokens(clean_tokens[0]))]\n",
    "\n",
    "imshow(\n",
    "    act_patch_resid_pre,\n",
    "    labels={'x': 'Position', 'y': 'Layer'},\n",
    "    x=labels,\n",
    "    title='resid_pre Activation Patching',\n",
    "    width=700,\n",
    ")"
   ]
  },
  {
   "cell_type": "markdown",
   "id": "f2ced7da",
   "metadata": {},
   "source": [
    "# 2. Patching in residual stream by block"
   ]
  },
  {
   "cell_type": "code",
   "execution_count": 129,
   "id": "8e6ac95d",
   "metadata": {},
   "outputs": [
    {
     "name": "stderr",
     "output_type": "stream",
     "text": [
      "100%|██████████| 192/192 [00:10<00:00, 18.70it/s]\n",
      "100%|██████████| 192/192 [00:10<00:00, 18.27it/s]\n",
      "100%|██████████| 192/192 [00:10<00:00, 18.87it/s]\n"
     ]
    },
    {
     "data": {
      "application/vnd.plotly.v1+json": {
       "config": {
        "plotlyServerURL": "https://plot.ly",
        "staticPlot": false
       },
       "data": [
        {
         "coloraxis": "coloraxis",
         "hovertemplate": "Sequence Position: %{x}<br>Layer: %{y}<br>color: %{z}<extra></extra>",
         "name": "0",
         "type": "heatmap",
         "x": [
          "<|endoftext|> 0",
          "When 1",
          " John 2",
          " and 3",
          " Mary 4",
          " went 5",
          " to 6",
          " the 7",
          " shops 8",
          ", 9",
          "  10",
          " John 11",
          " gave 12",
          " the 13",
          " bag 14",
          " to 15"
         ],
         "xaxis": "x",
         "yaxis": "y",
         "z": {
          "bdata": "AAAAAAAAAAAAAAAAAAAAAAAAAAAAAAAAAAAAAAAAAAAAAAAAAAAAAAAAAAAAAIA/AAAAAAAAAAAAAAAAAAAAAAAAAAAAAAAAAAAAAAAAAAAAAAAAAAAAAAAAAAAAAAAAAAAAAAAAAAAAAAAAPfZ8P/G+fju8syI6E77JO3plgzoAAAAAAAAAAAAAAAAAAAAAAAAAAAAAAAAAAAAAAAAAAAAAAAAAAAAAAAAAALIrfT8oCO86w4GgOrBlmDvO8zc7AAAAAAAAAAAAAAAAAAAAAAAAAAAAAAAAAAAAAAAAAAAAAAAAAAAAAAAAAADiSnw/T0fxO82bCbcP8gg7CtCSOwAAAAAAAAAAAAAAAAAAAAAAAAAAAAAAAAAAAAAAAAAAAAAAAAAAAAAAAAAAAfN5P3bxpjxAFO468zEUu9RqaDsAAAAAAAAAAAAAAAAAAAAAAAAAAAAAAAAAAAAAAAAAAAAAAAAAAAAAAAAAAAS6eD+BC6U8VFYkOekejztO9jQ7AAAAAAAAAAAAAAAAAAAAAAAAAAAAAAAAAAAAAAAAAAAAAAAAAAAAAAAAAAD6QHg/EwOnPKerSzoEXcU72DE8OwAAAAAAAAAAAAAAAAAAAAAAAAAAAAAAAAAAAAAAAAAAAAAAAAAAAAAAAAAAck97P7+SJTo9KQw75QWRO/hdcTwAAAAAAAAAAAAAAAAAAAAAAAAAAAAAAAAAAAAAAAAAAAAAAAAAAAAAAAAAAFEDmT+oYSQ8VQWEOaX/UTsXalq+AAAAAAAAAAAAAAAAAAAAAAAAAAAAAAAAAAAAAAAAAAAAAAAAAAAAAAAAAAA06bI/tjljvOxG4LoBrjs7HXDDvgAAAAAAAAAAAAAAAAAAAAAAAAAAAAAAAAAAAAAAAAAAAAAAAAAAAAAAAAAAS6KWP48iDry/rda5hTgzOvm2KL4AAAAAAAAAAAAAAAAAAAAAAAAAAAAAAAAAAAAAAAAAAAAAAAAAAAAAAAAAADKtNT/snRE78wENOjQjCzsqIZI+",
          "dtype": "f4",
          "shape": "12, 16"
         }
        },
        {
         "coloraxis": "coloraxis",
         "hovertemplate": "Sequence Position: %{x}<br>Layer: %{y}<br>color: %{z}<extra></extra>",
         "name": "1",
         "type": "heatmap",
         "x": [
          "<|endoftext|> 0",
          "When 1",
          " John 2",
          " and 3",
          " Mary 4",
          " went 5",
          " to 6",
          " the 7",
          " shops 8",
          ", 9",
          "  10",
          " John 11",
          " gave 12",
          " the 13",
          " bag 14",
          " to 15"
         ],
         "xaxis": "x2",
         "yaxis": "y2",
         "z": {
          "bdata": "AAAAAAAAAAAAAAAAAAAAAAAAAAAAAAAAAAAAAAAAAAAAAAAAAAAAAAAAAAD3Tyg+8b5+O7yzIjoTvsk7emWDOgAAAAAAAAAAAAAAAAAAAAAAAAAAAAAAAAAAAAAAAAAAAAAAAAAAAAAAAAAAOPe5u01obrp9CR06ZgOiuoKUGTsAAAAAAAAAAAAAAAAAAAAAAAAAAAAAAAAAAAAAAAAAAAAAAAAAAAAAAAAAAFbrT7p3uI07JwN1uhU8NLvJ+sg6AAAAAAAAAAAAAAAAAAAAAAAAAAAAAAAAAAAAAAAAAAAAAAAAAAAAAAAAAAATf+K7XpkpPLXzCDroz727RzoLuwAAAAAAAAAAAAAAAAAAAAAAAAAAAAAAAAAAAAAAAAAAAAAAAAAAAAAAAAAAy36pO0HXIDx9LsK5kRJVO7ByALsAAAAAAAAAAAAAAAAAAAAAAAAAAAAAAAAAAAAAAAAAAAAAAAAAAAAAAAAAADS/u73g8Gc7+XZFOpDhQztARAK7AAAAAAAAAAAAAAAAAAAAAAAAAAAAAAAAAAAAAAAAAAAAAAAAAAAAAAAAAADCcE69CMT9u/rFljrDpbs6qllSPAAAAAAAAAAAAAAAAAAAAAAAAAAAAAAAAAAAAAAAAAAAAAAAAAAAAAAAAAAAJ8bPvLLqYLwgA3i6VfMvutaaa74AAAAAAAAAAAAAAAAAAAAAAAAAAAAAAAAAAAAAAAAAAAAAAAAAAAAAAAAAAMYpKjvTdka8vV2IureaCLpQsNW9AAAAAAAAAAAAAAAAAAAAAAAAAAAAAAAAAAAAAAAAAAAAAAAAAAAAAAAAAAB2mTU7DuMauzcyFTmxQQu4LA8XPgAAAAAAAAAAAAAAAAAAAAAAAAAAAAAAAAAAAAAAAAAAAAAAAAAAAAAAAAAADE/sOsFuHzyVZ0Y621qWOkVk6D4AAAAAAAAAAAAAAAAAAAAAAAAAAAAAAAAAAAAAAAAAAAAAAAAAAAAAAAAAAAAAAAAAAAAAAAAAAAAAAAAE7Tg/",
          "dtype": "f4",
          "shape": "12, 16"
         }
        },
        {
         "coloraxis": "coloraxis",
         "hovertemplate": "Sequence Position: %{x}<br>Layer: %{y}<br>color: %{z}<extra></extra>",
         "name": "2",
         "type": "heatmap",
         "x": [
          "<|endoftext|> 0",
          "When 1",
          " John 2",
          " and 3",
          " Mary 4",
          " went 5",
          " to 6",
          " the 7",
          " shops 8",
          ", 9",
          "  10",
          " John 11",
          " gave 12",
          " the 13",
          " bag 14",
          " to 15"
         ],
         "xaxis": "x3",
         "yaxis": "y3",
         "z": {
          "bdata": "AAAAAAAAAAAAAAAAAAAAAAAAAAAAAAAAAAAAAAAAAAAAAAAAAAAAAAAAAADwjFQ/+LkOO+iFAbrpa806IpgwuQAAAAAAAAAAAAAAAAAAAAAAAAAAAAAAAAAAAAAAAAAAAAAAAAAAAAAAAAAAjCqIPEIXmTpDUww6m68GOnazhboAAAAAAAAAAAAAAAAAAAAAAAAAAAAAAAAAAAAAAAAAAAAAAAAAAAAAAAAAACSz/Twm6p+7hotnum6w67ttwUO7AAAAAAAAAAAAAAAAAAAAAAAAAAAAAAAAAAAAAAAAAAAAAAAAAAAAAAAAAAAKgJY8liqAOw8StDkxy7O6GLc4OwAAAAAAAAAAAAAAAAAAAAAAAAAAAAAAAAAAAAAAAAAAAAAAAAAAAAAAAAAATOauu9tAxjuUAbS6WMTOOsWsyTgAAAAAAAAAAAAAAAAAAAAAAAAAAAAAAAAAAAAAAAAAAAAAAAAAAAAAAAAAAAFivbzDrak7WOcIu9o0WjlMOGe7AAAAAAAAAAAAAAAAAAAAAAAAAAAAAAAAAAAAAAAAAAAAAAAAAAAAAAAAAADKTDA9hilhu2U0l7ecwtc5wRP3uwAAAAAAAAAAAAAAAAAAAAAAAAAAAAAAAAAAAAAAAAAAAAAAAAAAAAAAAAAA44A7PN7ehDg9lQY6WBvzuePQ5jsAAAAAAAAAAAAAAAAAAAAAAAAAAAAAAAAAAAAAAAAAAAAAAAAAAAAAAAAAACLLYT0Smxy7Q/jquRpzjrnBcRo8AAAAAAAAAAAAAAAAAAAAAAAAAAAAAAAAAAAAAAAAAAAAAAAAAAAAAAAAAAAsnZQ8dsrGuONRKbpxccm504WYOwAAAAAAAAAAAAAAAAAAAAAAAAAAAAAAAAAAAAAAAAAAAAAAAAAAAAAAAAAAnXkePI+S8jok5Js5RMKIOU+njLsAAAAAAAAAAAAAAAAAAAAAAAAAAAAAAAAAAAAAAAAAAAAAAAAAAAAAAAAAAAAAAAAAAAAAAAAAAAAAAACJGzu9",
          "dtype": "f4",
          "shape": "12, 16"
         }
        }
       ],
       "layout": {
        "annotations": [
         {
          "font": {},
          "showarrow": false,
          "text": "Residual Stream",
          "x": 0.15999999999999998,
          "xanchor": "center",
          "xref": "paper",
          "y": 1,
          "yanchor": "bottom",
          "yref": "paper"
         },
         {
          "font": {},
          "showarrow": false,
          "text": "Attn Output",
          "x": 0.49999999999999994,
          "xanchor": "center",
          "xref": "paper",
          "y": 1,
          "yanchor": "bottom",
          "yref": "paper"
         },
         {
          "font": {},
          "showarrow": false,
          "text": "MLP Output",
          "x": 0.8399999999999999,
          "xanchor": "center",
          "xref": "paper",
          "y": 1,
          "yanchor": "bottom",
          "yref": "paper"
         }
        ],
        "coloraxis": {
         "cmid": 0,
         "colorscale": [
          [
           0,
           "rgb(103,0,31)"
          ],
          [
           0.1,
           "rgb(178,24,43)"
          ],
          [
           0.2,
           "rgb(214,96,77)"
          ],
          [
           0.3,
           "rgb(244,165,130)"
          ],
          [
           0.4,
           "rgb(253,219,199)"
          ],
          [
           0.5,
           "rgb(247,247,247)"
          ],
          [
           0.6,
           "rgb(209,229,240)"
          ],
          [
           0.7,
           "rgb(146,197,222)"
          ],
          [
           0.8,
           "rgb(67,147,195)"
          ],
          [
           0.9,
           "rgb(33,102,172)"
          ],
          [
           1,
           "rgb(5,48,97)"
          ]
         ]
        },
        "template": {
         "data": {
          "bar": [
           {
            "error_x": {
             "color": "#2a3f5f"
            },
            "error_y": {
             "color": "#2a3f5f"
            },
            "marker": {
             "line": {
              "color": "#E5ECF6",
              "width": 0.5
             },
             "pattern": {
              "fillmode": "overlay",
              "size": 10,
              "solidity": 0.2
             }
            },
            "type": "bar"
           }
          ],
          "barpolar": [
           {
            "marker": {
             "line": {
              "color": "#E5ECF6",
              "width": 0.5
             },
             "pattern": {
              "fillmode": "overlay",
              "size": 10,
              "solidity": 0.2
             }
            },
            "type": "barpolar"
           }
          ],
          "carpet": [
           {
            "aaxis": {
             "endlinecolor": "#2a3f5f",
             "gridcolor": "white",
             "linecolor": "white",
             "minorgridcolor": "white",
             "startlinecolor": "#2a3f5f"
            },
            "baxis": {
             "endlinecolor": "#2a3f5f",
             "gridcolor": "white",
             "linecolor": "white",
             "minorgridcolor": "white",
             "startlinecolor": "#2a3f5f"
            },
            "type": "carpet"
           }
          ],
          "choropleth": [
           {
            "colorbar": {
             "outlinewidth": 0,
             "ticks": ""
            },
            "type": "choropleth"
           }
          ],
          "contour": [
           {
            "colorbar": {
             "outlinewidth": 0,
             "ticks": ""
            },
            "colorscale": [
             [
              0,
              "#0d0887"
             ],
             [
              0.1111111111111111,
              "#46039f"
             ],
             [
              0.2222222222222222,
              "#7201a8"
             ],
             [
              0.3333333333333333,
              "#9c179e"
             ],
             [
              0.4444444444444444,
              "#bd3786"
             ],
             [
              0.5555555555555556,
              "#d8576b"
             ],
             [
              0.6666666666666666,
              "#ed7953"
             ],
             [
              0.7777777777777778,
              "#fb9f3a"
             ],
             [
              0.8888888888888888,
              "#fdca26"
             ],
             [
              1,
              "#f0f921"
             ]
            ],
            "type": "contour"
           }
          ],
          "contourcarpet": [
           {
            "colorbar": {
             "outlinewidth": 0,
             "ticks": ""
            },
            "type": "contourcarpet"
           }
          ],
          "heatmap": [
           {
            "colorbar": {
             "outlinewidth": 0,
             "ticks": ""
            },
            "colorscale": [
             [
              0,
              "#0d0887"
             ],
             [
              0.1111111111111111,
              "#46039f"
             ],
             [
              0.2222222222222222,
              "#7201a8"
             ],
             [
              0.3333333333333333,
              "#9c179e"
             ],
             [
              0.4444444444444444,
              "#bd3786"
             ],
             [
              0.5555555555555556,
              "#d8576b"
             ],
             [
              0.6666666666666666,
              "#ed7953"
             ],
             [
              0.7777777777777778,
              "#fb9f3a"
             ],
             [
              0.8888888888888888,
              "#fdca26"
             ],
             [
              1,
              "#f0f921"
             ]
            ],
            "type": "heatmap"
           }
          ],
          "histogram": [
           {
            "marker": {
             "pattern": {
              "fillmode": "overlay",
              "size": 10,
              "solidity": 0.2
             }
            },
            "type": "histogram"
           }
          ],
          "histogram2d": [
           {
            "colorbar": {
             "outlinewidth": 0,
             "ticks": ""
            },
            "colorscale": [
             [
              0,
              "#0d0887"
             ],
             [
              0.1111111111111111,
              "#46039f"
             ],
             [
              0.2222222222222222,
              "#7201a8"
             ],
             [
              0.3333333333333333,
              "#9c179e"
             ],
             [
              0.4444444444444444,
              "#bd3786"
             ],
             [
              0.5555555555555556,
              "#d8576b"
             ],
             [
              0.6666666666666666,
              "#ed7953"
             ],
             [
              0.7777777777777778,
              "#fb9f3a"
             ],
             [
              0.8888888888888888,
              "#fdca26"
             ],
             [
              1,
              "#f0f921"
             ]
            ],
            "type": "histogram2d"
           }
          ],
          "histogram2dcontour": [
           {
            "colorbar": {
             "outlinewidth": 0,
             "ticks": ""
            },
            "colorscale": [
             [
              0,
              "#0d0887"
             ],
             [
              0.1111111111111111,
              "#46039f"
             ],
             [
              0.2222222222222222,
              "#7201a8"
             ],
             [
              0.3333333333333333,
              "#9c179e"
             ],
             [
              0.4444444444444444,
              "#bd3786"
             ],
             [
              0.5555555555555556,
              "#d8576b"
             ],
             [
              0.6666666666666666,
              "#ed7953"
             ],
             [
              0.7777777777777778,
              "#fb9f3a"
             ],
             [
              0.8888888888888888,
              "#fdca26"
             ],
             [
              1,
              "#f0f921"
             ]
            ],
            "type": "histogram2dcontour"
           }
          ],
          "mesh3d": [
           {
            "colorbar": {
             "outlinewidth": 0,
             "ticks": ""
            },
            "type": "mesh3d"
           }
          ],
          "parcoords": [
           {
            "line": {
             "colorbar": {
              "outlinewidth": 0,
              "ticks": ""
             }
            },
            "type": "parcoords"
           }
          ],
          "pie": [
           {
            "automargin": true,
            "type": "pie"
           }
          ],
          "scatter": [
           {
            "fillpattern": {
             "fillmode": "overlay",
             "size": 10,
             "solidity": 0.2
            },
            "type": "scatter"
           }
          ],
          "scatter3d": [
           {
            "line": {
             "colorbar": {
              "outlinewidth": 0,
              "ticks": ""
             }
            },
            "marker": {
             "colorbar": {
              "outlinewidth": 0,
              "ticks": ""
             }
            },
            "type": "scatter3d"
           }
          ],
          "scattercarpet": [
           {
            "marker": {
             "colorbar": {
              "outlinewidth": 0,
              "ticks": ""
             }
            },
            "type": "scattercarpet"
           }
          ],
          "scattergeo": [
           {
            "marker": {
             "colorbar": {
              "outlinewidth": 0,
              "ticks": ""
             }
            },
            "type": "scattergeo"
           }
          ],
          "scattergl": [
           {
            "marker": {
             "colorbar": {
              "outlinewidth": 0,
              "ticks": ""
             }
            },
            "type": "scattergl"
           }
          ],
          "scattermap": [
           {
            "marker": {
             "colorbar": {
              "outlinewidth": 0,
              "ticks": ""
             }
            },
            "type": "scattermap"
           }
          ],
          "scattermapbox": [
           {
            "marker": {
             "colorbar": {
              "outlinewidth": 0,
              "ticks": ""
             }
            },
            "type": "scattermapbox"
           }
          ],
          "scatterpolar": [
           {
            "marker": {
             "colorbar": {
              "outlinewidth": 0,
              "ticks": ""
             }
            },
            "type": "scatterpolar"
           }
          ],
          "scatterpolargl": [
           {
            "marker": {
             "colorbar": {
              "outlinewidth": 0,
              "ticks": ""
             }
            },
            "type": "scatterpolargl"
           }
          ],
          "scatterternary": [
           {
            "marker": {
             "colorbar": {
              "outlinewidth": 0,
              "ticks": ""
             }
            },
            "type": "scatterternary"
           }
          ],
          "surface": [
           {
            "colorbar": {
             "outlinewidth": 0,
             "ticks": ""
            },
            "colorscale": [
             [
              0,
              "#0d0887"
             ],
             [
              0.1111111111111111,
              "#46039f"
             ],
             [
              0.2222222222222222,
              "#7201a8"
             ],
             [
              0.3333333333333333,
              "#9c179e"
             ],
             [
              0.4444444444444444,
              "#bd3786"
             ],
             [
              0.5555555555555556,
              "#d8576b"
             ],
             [
              0.6666666666666666,
              "#ed7953"
             ],
             [
              0.7777777777777778,
              "#fb9f3a"
             ],
             [
              0.8888888888888888,
              "#fdca26"
             ],
             [
              1,
              "#f0f921"
             ]
            ],
            "type": "surface"
           }
          ],
          "table": [
           {
            "cells": {
             "fill": {
              "color": "#EBF0F8"
             },
             "line": {
              "color": "white"
             }
            },
            "header": {
             "fill": {
              "color": "#C8D4E3"
             },
             "line": {
              "color": "white"
             }
            },
            "type": "table"
           }
          ]
         },
         "layout": {
          "annotationdefaults": {
           "arrowcolor": "#2a3f5f",
           "arrowhead": 0,
           "arrowwidth": 1
          },
          "autotypenumbers": "strict",
          "coloraxis": {
           "colorbar": {
            "outlinewidth": 0,
            "ticks": ""
           }
          },
          "colorscale": {
           "diverging": [
            [
             0,
             "#8e0152"
            ],
            [
             0.1,
             "#c51b7d"
            ],
            [
             0.2,
             "#de77ae"
            ],
            [
             0.3,
             "#f1b6da"
            ],
            [
             0.4,
             "#fde0ef"
            ],
            [
             0.5,
             "#f7f7f7"
            ],
            [
             0.6,
             "#e6f5d0"
            ],
            [
             0.7,
             "#b8e186"
            ],
            [
             0.8,
             "#7fbc41"
            ],
            [
             0.9,
             "#4d9221"
            ],
            [
             1,
             "#276419"
            ]
           ],
           "sequential": [
            [
             0,
             "#0d0887"
            ],
            [
             0.1111111111111111,
             "#46039f"
            ],
            [
             0.2222222222222222,
             "#7201a8"
            ],
            [
             0.3333333333333333,
             "#9c179e"
            ],
            [
             0.4444444444444444,
             "#bd3786"
            ],
            [
             0.5555555555555556,
             "#d8576b"
            ],
            [
             0.6666666666666666,
             "#ed7953"
            ],
            [
             0.7777777777777778,
             "#fb9f3a"
            ],
            [
             0.8888888888888888,
             "#fdca26"
            ],
            [
             1,
             "#f0f921"
            ]
           ],
           "sequentialminus": [
            [
             0,
             "#0d0887"
            ],
            [
             0.1111111111111111,
             "#46039f"
            ],
            [
             0.2222222222222222,
             "#7201a8"
            ],
            [
             0.3333333333333333,
             "#9c179e"
            ],
            [
             0.4444444444444444,
             "#bd3786"
            ],
            [
             0.5555555555555556,
             "#d8576b"
            ],
            [
             0.6666666666666666,
             "#ed7953"
            ],
            [
             0.7777777777777778,
             "#fb9f3a"
            ],
            [
             0.8888888888888888,
             "#fdca26"
            ],
            [
             1,
             "#f0f921"
            ]
           ]
          },
          "colorway": [
           "#636efa",
           "#EF553B",
           "#00cc96",
           "#ab63fa",
           "#FFA15A",
           "#19d3f3",
           "#FF6692",
           "#B6E880",
           "#FF97FF",
           "#FECB52"
          ],
          "font": {
           "color": "#2a3f5f"
          },
          "geo": {
           "bgcolor": "white",
           "lakecolor": "white",
           "landcolor": "#E5ECF6",
           "showlakes": true,
           "showland": true,
           "subunitcolor": "white"
          },
          "hoverlabel": {
           "align": "left"
          },
          "hovermode": "closest",
          "mapbox": {
           "style": "light"
          },
          "paper_bgcolor": "white",
          "plot_bgcolor": "#E5ECF6",
          "polar": {
           "angularaxis": {
            "gridcolor": "white",
            "linecolor": "white",
            "ticks": ""
           },
           "bgcolor": "#E5ECF6",
           "radialaxis": {
            "gridcolor": "white",
            "linecolor": "white",
            "ticks": ""
           }
          },
          "scene": {
           "xaxis": {
            "backgroundcolor": "#E5ECF6",
            "gridcolor": "white",
            "gridwidth": 2,
            "linecolor": "white",
            "showbackground": true,
            "ticks": "",
            "zerolinecolor": "white"
           },
           "yaxis": {
            "backgroundcolor": "#E5ECF6",
            "gridcolor": "white",
            "gridwidth": 2,
            "linecolor": "white",
            "showbackground": true,
            "ticks": "",
            "zerolinecolor": "white"
           },
           "zaxis": {
            "backgroundcolor": "#E5ECF6",
            "gridcolor": "white",
            "gridwidth": 2,
            "linecolor": "white",
            "showbackground": true,
            "ticks": "",
            "zerolinecolor": "white"
           }
          },
          "shapedefaults": {
           "line": {
            "color": "#2a3f5f"
           }
          },
          "ternary": {
           "aaxis": {
            "gridcolor": "white",
            "linecolor": "white",
            "ticks": ""
           },
           "baxis": {
            "gridcolor": "white",
            "linecolor": "white",
            "ticks": ""
           },
           "bgcolor": "#E5ECF6",
           "caxis": {
            "gridcolor": "white",
            "linecolor": "white",
            "ticks": ""
           }
          },
          "title": {
           "x": 0.05
          },
          "xaxis": {
           "automargin": true,
           "gridcolor": "white",
           "linecolor": "white",
           "ticks": "",
           "title": {
            "standoff": 15
           },
           "zerolinecolor": "white",
           "zerolinewidth": 2
          },
          "yaxis": {
           "automargin": true,
           "gridcolor": "white",
           "linecolor": "white",
           "ticks": "",
           "title": {
            "standoff": 15
           },
           "zerolinecolor": "white",
           "zerolinewidth": 2
          }
         }
        },
        "title": {
         "text": "Logit Difference From Patched Attn Head Output"
        },
        "width": 1200,
        "xaxis": {
         "anchor": "y",
         "constrain": "domain",
         "domain": [
          0,
          0.31999999999999995
         ],
         "scaleanchor": "y",
         "title": {
          "text": "Sequence Position"
         }
        },
        "xaxis2": {
         "anchor": "y2",
         "domain": [
          0.33999999999999997,
          0.6599999999999999
         ],
         "matches": "x",
         "title": {
          "text": "Sequence Position"
         }
        },
        "xaxis3": {
         "anchor": "y3",
         "domain": [
          0.6799999999999999,
          0.9999999999999999
         ],
         "matches": "x",
         "title": {
          "text": "Sequence Position"
         }
        },
        "yaxis": {
         "anchor": "x",
         "autorange": "reversed",
         "constrain": "domain",
         "domain": [
          0,
          1
         ],
         "title": {
          "text": "Layer"
         }
        },
        "yaxis2": {
         "anchor": "x2",
         "domain": [
          0,
          1
         ],
         "matches": "y",
         "showticklabels": false
        },
        "yaxis3": {
         "anchor": "x3",
         "domain": [
          0,
          1
         ],
         "matches": "y",
         "showticklabels": false
        }
       }
      }
     },
     "metadata": {},
     "output_type": "display_data"
    }
   ],
   "source": [
    "act_patch_block_every = patching.get_act_patch_block_every(model, corrupted_tokens, clean_cache, ioi_metric)\n",
    "\n",
    "imshow(\n",
    "    act_patch_block_every,\n",
    "    x=labels,\n",
    "    facet_col=0,\n",
    "    facet_labels=['Residual Stream', 'Attn Output', 'MLP Output'],\n",
    "    title='Logit Difference From Patched Attn Head Output',\n",
    "    labels={'x': 'Sequence Position', 'y': 'Layer'},\n",
    "    width=1200,\n",
    ")"
   ]
  },
  {
   "cell_type": "markdown",
   "id": "ba2ab8c6",
   "metadata": {},
   "source": [
    "# 3. Head patching"
   ]
  },
  {
   "cell_type": "code",
   "execution_count": 130,
   "id": "c71a39b4",
   "metadata": {},
   "outputs": [
    {
     "name": "stderr",
     "output_type": "stream",
     "text": [
      "100%|██████████| 144/144 [00:08<00:00, 16.43it/s]\n"
     ]
    },
    {
     "data": {
      "application/vnd.plotly.v1+json": {
       "config": {
        "plotlyServerURL": "https://plot.ly",
        "staticPlot": false
       },
       "data": [
        {
         "coloraxis": "coloraxis",
         "hovertemplate": "Head: %{x}<br>Layer: %{y}<br>color: %{z}<extra></extra>",
         "name": "0",
         "type": "heatmap",
         "xaxis": "x",
         "yaxis": "y",
         "z": {
          "bdata": "C/k1O4+o8zyjBii7H3KbPNhTFT2Zn/o8EtUCPMNxtjtKd6Q511xJu8BdwDqejgm5a35Cu1EJrzpC9ta5AADmuE7XajnUo9m64TPNOW+4AjoeUxu64pB1OvII1rlXVdK6jaKyusj5PjuqgWQ6FptUOo1mPzpzedO7+W3bukipers/oIQ73LS8O1cMkroZDOU5lV9YvNvsIzkQXZW6GeNPO03AKbsO45q6EJOSO6nt0DsAOVe7cmH7OzvZMLvzpWE6V6aNO7yhTrpjq0o7M2tBu+9QBDyJnfO6vOGxOukt4rsERfs5P1e3OvagrDeRAwI8DW0sO7jKK7oe7pK64vCQO5bWQrpLIYe9OoECO3j177pgyUy8C5covKgECjxAGei6Hen9uydDWLraKmY6RCuBOpkG9DtHwy67m+IBPJvKNzt9QJa5ndBkvUT5AbpKqq06Qn/6OYHIdbwuecQ59nsMviQ2RjozWWY8p0dNuq0OPTrp8ng7/AAZviKqBDoMRo86wCZHuRRZ3TgAN5s89ZH7PAdbBLnmMTY7JXSMvQ4p57uKGco7sldeu4utE76ghLg8ye+iPBR9+LlT/Gk8bl6SvOPkwDx5GyW8vK6lPccWfL3Rgfg8p2FnPYylGLoEWUc7wTENPmcUKj2QB6E9xl4kPFUJ5zrxTKk61cfaPMouDj5A1g+780pNutB8jj20SCA8lxNAu8j4eD3N3a8+SKQ2PdBKeLsUeBm8t/pgPqlXxbrEjQy7G56pPDrDUDz59C49",
          "dtype": "f4",
          "shape": "12, 12"
         }
        }
       ],
       "layout": {
        "coloraxis": {
         "cmid": 0,
         "colorscale": [
          [
           0,
           "rgb(103,0,31)"
          ],
          [
           0.1,
           "rgb(178,24,43)"
          ],
          [
           0.2,
           "rgb(214,96,77)"
          ],
          [
           0.3,
           "rgb(244,165,130)"
          ],
          [
           0.4,
           "rgb(253,219,199)"
          ],
          [
           0.5,
           "rgb(247,247,247)"
          ],
          [
           0.6,
           "rgb(209,229,240)"
          ],
          [
           0.7,
           "rgb(146,197,222)"
          ],
          [
           0.8,
           "rgb(67,147,195)"
          ],
          [
           0.9,
           "rgb(33,102,172)"
          ],
          [
           1,
           "rgb(5,48,97)"
          ]
         ]
        },
        "template": {
         "data": {
          "bar": [
           {
            "error_x": {
             "color": "#2a3f5f"
            },
            "error_y": {
             "color": "#2a3f5f"
            },
            "marker": {
             "line": {
              "color": "#E5ECF6",
              "width": 0.5
             },
             "pattern": {
              "fillmode": "overlay",
              "size": 10,
              "solidity": 0.2
             }
            },
            "type": "bar"
           }
          ],
          "barpolar": [
           {
            "marker": {
             "line": {
              "color": "#E5ECF6",
              "width": 0.5
             },
             "pattern": {
              "fillmode": "overlay",
              "size": 10,
              "solidity": 0.2
             }
            },
            "type": "barpolar"
           }
          ],
          "carpet": [
           {
            "aaxis": {
             "endlinecolor": "#2a3f5f",
             "gridcolor": "white",
             "linecolor": "white",
             "minorgridcolor": "white",
             "startlinecolor": "#2a3f5f"
            },
            "baxis": {
             "endlinecolor": "#2a3f5f",
             "gridcolor": "white",
             "linecolor": "white",
             "minorgridcolor": "white",
             "startlinecolor": "#2a3f5f"
            },
            "type": "carpet"
           }
          ],
          "choropleth": [
           {
            "colorbar": {
             "outlinewidth": 0,
             "ticks": ""
            },
            "type": "choropleth"
           }
          ],
          "contour": [
           {
            "colorbar": {
             "outlinewidth": 0,
             "ticks": ""
            },
            "colorscale": [
             [
              0,
              "#0d0887"
             ],
             [
              0.1111111111111111,
              "#46039f"
             ],
             [
              0.2222222222222222,
              "#7201a8"
             ],
             [
              0.3333333333333333,
              "#9c179e"
             ],
             [
              0.4444444444444444,
              "#bd3786"
             ],
             [
              0.5555555555555556,
              "#d8576b"
             ],
             [
              0.6666666666666666,
              "#ed7953"
             ],
             [
              0.7777777777777778,
              "#fb9f3a"
             ],
             [
              0.8888888888888888,
              "#fdca26"
             ],
             [
              1,
              "#f0f921"
             ]
            ],
            "type": "contour"
           }
          ],
          "contourcarpet": [
           {
            "colorbar": {
             "outlinewidth": 0,
             "ticks": ""
            },
            "type": "contourcarpet"
           }
          ],
          "heatmap": [
           {
            "colorbar": {
             "outlinewidth": 0,
             "ticks": ""
            },
            "colorscale": [
             [
              0,
              "#0d0887"
             ],
             [
              0.1111111111111111,
              "#46039f"
             ],
             [
              0.2222222222222222,
              "#7201a8"
             ],
             [
              0.3333333333333333,
              "#9c179e"
             ],
             [
              0.4444444444444444,
              "#bd3786"
             ],
             [
              0.5555555555555556,
              "#d8576b"
             ],
             [
              0.6666666666666666,
              "#ed7953"
             ],
             [
              0.7777777777777778,
              "#fb9f3a"
             ],
             [
              0.8888888888888888,
              "#fdca26"
             ],
             [
              1,
              "#f0f921"
             ]
            ],
            "type": "heatmap"
           }
          ],
          "histogram": [
           {
            "marker": {
             "pattern": {
              "fillmode": "overlay",
              "size": 10,
              "solidity": 0.2
             }
            },
            "type": "histogram"
           }
          ],
          "histogram2d": [
           {
            "colorbar": {
             "outlinewidth": 0,
             "ticks": ""
            },
            "colorscale": [
             [
              0,
              "#0d0887"
             ],
             [
              0.1111111111111111,
              "#46039f"
             ],
             [
              0.2222222222222222,
              "#7201a8"
             ],
             [
              0.3333333333333333,
              "#9c179e"
             ],
             [
              0.4444444444444444,
              "#bd3786"
             ],
             [
              0.5555555555555556,
              "#d8576b"
             ],
             [
              0.6666666666666666,
              "#ed7953"
             ],
             [
              0.7777777777777778,
              "#fb9f3a"
             ],
             [
              0.8888888888888888,
              "#fdca26"
             ],
             [
              1,
              "#f0f921"
             ]
            ],
            "type": "histogram2d"
           }
          ],
          "histogram2dcontour": [
           {
            "colorbar": {
             "outlinewidth": 0,
             "ticks": ""
            },
            "colorscale": [
             [
              0,
              "#0d0887"
             ],
             [
              0.1111111111111111,
              "#46039f"
             ],
             [
              0.2222222222222222,
              "#7201a8"
             ],
             [
              0.3333333333333333,
              "#9c179e"
             ],
             [
              0.4444444444444444,
              "#bd3786"
             ],
             [
              0.5555555555555556,
              "#d8576b"
             ],
             [
              0.6666666666666666,
              "#ed7953"
             ],
             [
              0.7777777777777778,
              "#fb9f3a"
             ],
             [
              0.8888888888888888,
              "#fdca26"
             ],
             [
              1,
              "#f0f921"
             ]
            ],
            "type": "histogram2dcontour"
           }
          ],
          "mesh3d": [
           {
            "colorbar": {
             "outlinewidth": 0,
             "ticks": ""
            },
            "type": "mesh3d"
           }
          ],
          "parcoords": [
           {
            "line": {
             "colorbar": {
              "outlinewidth": 0,
              "ticks": ""
             }
            },
            "type": "parcoords"
           }
          ],
          "pie": [
           {
            "automargin": true,
            "type": "pie"
           }
          ],
          "scatter": [
           {
            "fillpattern": {
             "fillmode": "overlay",
             "size": 10,
             "solidity": 0.2
            },
            "type": "scatter"
           }
          ],
          "scatter3d": [
           {
            "line": {
             "colorbar": {
              "outlinewidth": 0,
              "ticks": ""
             }
            },
            "marker": {
             "colorbar": {
              "outlinewidth": 0,
              "ticks": ""
             }
            },
            "type": "scatter3d"
           }
          ],
          "scattercarpet": [
           {
            "marker": {
             "colorbar": {
              "outlinewidth": 0,
              "ticks": ""
             }
            },
            "type": "scattercarpet"
           }
          ],
          "scattergeo": [
           {
            "marker": {
             "colorbar": {
              "outlinewidth": 0,
              "ticks": ""
             }
            },
            "type": "scattergeo"
           }
          ],
          "scattergl": [
           {
            "marker": {
             "colorbar": {
              "outlinewidth": 0,
              "ticks": ""
             }
            },
            "type": "scattergl"
           }
          ],
          "scattermap": [
           {
            "marker": {
             "colorbar": {
              "outlinewidth": 0,
              "ticks": ""
             }
            },
            "type": "scattermap"
           }
          ],
          "scattermapbox": [
           {
            "marker": {
             "colorbar": {
              "outlinewidth": 0,
              "ticks": ""
             }
            },
            "type": "scattermapbox"
           }
          ],
          "scatterpolar": [
           {
            "marker": {
             "colorbar": {
              "outlinewidth": 0,
              "ticks": ""
             }
            },
            "type": "scatterpolar"
           }
          ],
          "scatterpolargl": [
           {
            "marker": {
             "colorbar": {
              "outlinewidth": 0,
              "ticks": ""
             }
            },
            "type": "scatterpolargl"
           }
          ],
          "scatterternary": [
           {
            "marker": {
             "colorbar": {
              "outlinewidth": 0,
              "ticks": ""
             }
            },
            "type": "scatterternary"
           }
          ],
          "surface": [
           {
            "colorbar": {
             "outlinewidth": 0,
             "ticks": ""
            },
            "colorscale": [
             [
              0,
              "#0d0887"
             ],
             [
              0.1111111111111111,
              "#46039f"
             ],
             [
              0.2222222222222222,
              "#7201a8"
             ],
             [
              0.3333333333333333,
              "#9c179e"
             ],
             [
              0.4444444444444444,
              "#bd3786"
             ],
             [
              0.5555555555555556,
              "#d8576b"
             ],
             [
              0.6666666666666666,
              "#ed7953"
             ],
             [
              0.7777777777777778,
              "#fb9f3a"
             ],
             [
              0.8888888888888888,
              "#fdca26"
             ],
             [
              1,
              "#f0f921"
             ]
            ],
            "type": "surface"
           }
          ],
          "table": [
           {
            "cells": {
             "fill": {
              "color": "#EBF0F8"
             },
             "line": {
              "color": "white"
             }
            },
            "header": {
             "fill": {
              "color": "#C8D4E3"
             },
             "line": {
              "color": "white"
             }
            },
            "type": "table"
           }
          ]
         },
         "layout": {
          "annotationdefaults": {
           "arrowcolor": "#2a3f5f",
           "arrowhead": 0,
           "arrowwidth": 1
          },
          "autotypenumbers": "strict",
          "coloraxis": {
           "colorbar": {
            "outlinewidth": 0,
            "ticks": ""
           }
          },
          "colorscale": {
           "diverging": [
            [
             0,
             "#8e0152"
            ],
            [
             0.1,
             "#c51b7d"
            ],
            [
             0.2,
             "#de77ae"
            ],
            [
             0.3,
             "#f1b6da"
            ],
            [
             0.4,
             "#fde0ef"
            ],
            [
             0.5,
             "#f7f7f7"
            ],
            [
             0.6,
             "#e6f5d0"
            ],
            [
             0.7,
             "#b8e186"
            ],
            [
             0.8,
             "#7fbc41"
            ],
            [
             0.9,
             "#4d9221"
            ],
            [
             1,
             "#276419"
            ]
           ],
           "sequential": [
            [
             0,
             "#0d0887"
            ],
            [
             0.1111111111111111,
             "#46039f"
            ],
            [
             0.2222222222222222,
             "#7201a8"
            ],
            [
             0.3333333333333333,
             "#9c179e"
            ],
            [
             0.4444444444444444,
             "#bd3786"
            ],
            [
             0.5555555555555556,
             "#d8576b"
            ],
            [
             0.6666666666666666,
             "#ed7953"
            ],
            [
             0.7777777777777778,
             "#fb9f3a"
            ],
            [
             0.8888888888888888,
             "#fdca26"
            ],
            [
             1,
             "#f0f921"
            ]
           ],
           "sequentialminus": [
            [
             0,
             "#0d0887"
            ],
            [
             0.1111111111111111,
             "#46039f"
            ],
            [
             0.2222222222222222,
             "#7201a8"
            ],
            [
             0.3333333333333333,
             "#9c179e"
            ],
            [
             0.4444444444444444,
             "#bd3786"
            ],
            [
             0.5555555555555556,
             "#d8576b"
            ],
            [
             0.6666666666666666,
             "#ed7953"
            ],
            [
             0.7777777777777778,
             "#fb9f3a"
            ],
            [
             0.8888888888888888,
             "#fdca26"
            ],
            [
             1,
             "#f0f921"
            ]
           ]
          },
          "colorway": [
           "#636efa",
           "#EF553B",
           "#00cc96",
           "#ab63fa",
           "#FFA15A",
           "#19d3f3",
           "#FF6692",
           "#B6E880",
           "#FF97FF",
           "#FECB52"
          ],
          "font": {
           "color": "#2a3f5f"
          },
          "geo": {
           "bgcolor": "white",
           "lakecolor": "white",
           "landcolor": "#E5ECF6",
           "showlakes": true,
           "showland": true,
           "subunitcolor": "white"
          },
          "hoverlabel": {
           "align": "left"
          },
          "hovermode": "closest",
          "mapbox": {
           "style": "light"
          },
          "paper_bgcolor": "white",
          "plot_bgcolor": "#E5ECF6",
          "polar": {
           "angularaxis": {
            "gridcolor": "white",
            "linecolor": "white",
            "ticks": ""
           },
           "bgcolor": "#E5ECF6",
           "radialaxis": {
            "gridcolor": "white",
            "linecolor": "white",
            "ticks": ""
           }
          },
          "scene": {
           "xaxis": {
            "backgroundcolor": "#E5ECF6",
            "gridcolor": "white",
            "gridwidth": 2,
            "linecolor": "white",
            "showbackground": true,
            "ticks": "",
            "zerolinecolor": "white"
           },
           "yaxis": {
            "backgroundcolor": "#E5ECF6",
            "gridcolor": "white",
            "gridwidth": 2,
            "linecolor": "white",
            "showbackground": true,
            "ticks": "",
            "zerolinecolor": "white"
           },
           "zaxis": {
            "backgroundcolor": "#E5ECF6",
            "gridcolor": "white",
            "gridwidth": 2,
            "linecolor": "white",
            "showbackground": true,
            "ticks": "",
            "zerolinecolor": "white"
           }
          },
          "shapedefaults": {
           "line": {
            "color": "#2a3f5f"
           }
          },
          "ternary": {
           "aaxis": {
            "gridcolor": "white",
            "linecolor": "white",
            "ticks": ""
           },
           "baxis": {
            "gridcolor": "white",
            "linecolor": "white",
            "ticks": ""
           },
           "bgcolor": "#E5ECF6",
           "caxis": {
            "gridcolor": "white",
            "linecolor": "white",
            "ticks": ""
           }
          },
          "title": {
           "x": 0.05
          },
          "xaxis": {
           "automargin": true,
           "gridcolor": "white",
           "linecolor": "white",
           "ticks": "",
           "title": {
            "standoff": 15
           },
           "zerolinecolor": "white",
           "zerolinewidth": 2
          },
          "yaxis": {
           "automargin": true,
           "gridcolor": "white",
           "linecolor": "white",
           "ticks": "",
           "title": {
            "standoff": 15
           },
           "zerolinecolor": "white",
           "zerolinewidth": 2
          }
         }
        },
        "title": {
         "text": "attn_head_out Activation Patching (All Pos)"
        },
        "width": 600,
        "xaxis": {
         "anchor": "y",
         "constrain": "domain",
         "domain": [
          0,
          1
         ],
         "scaleanchor": "y",
         "title": {
          "text": "Head"
         }
        },
        "yaxis": {
         "anchor": "x",
         "autorange": "reversed",
         "constrain": "domain",
         "domain": [
          0,
          1
         ],
         "title": {
          "text": "Layer"
         }
        }
       }
      }
     },
     "metadata": {},
     "output_type": "display_data"
    }
   ],
   "source": [
    "act_patch_attn_head_out_all_pos = patching.get_act_patch_attn_head_out_all_pos(\n",
    "    model, corrupted_tokens, clean_cache, ioi_metric\n",
    ")\n",
    "\n",
    "imshow(\n",
    "    act_patch_attn_head_out_all_pos,\n",
    "    labels={'y': 'Layer', 'x': 'Head'},\n",
    "    title='attn_head_out Activation Patching (All Pos)',\n",
    "    width=600,\n",
    ")"
   ]
  },
  {
   "cell_type": "markdown",
   "id": "66f1c5b7",
   "metadata": {},
   "source": [
    "# 4. Decomposing heads"
   ]
  },
  {
   "cell_type": "code",
   "execution_count": 115,
   "id": "9dcd25d0",
   "metadata": {},
   "outputs": [
    {
     "name": "stderr",
     "output_type": "stream",
     "text": [
      "  0%|          | 0/144 [00:00<?, ?it/s]"
     ]
    },
    {
     "name": "stderr",
     "output_type": "stream",
     "text": [
      "100%|██████████| 144/144 [00:07<00:00, 19.36it/s]\n",
      "100%|██████████| 144/144 [00:08<00:00, 17.93it/s]\n",
      "100%|██████████| 144/144 [00:08<00:00, 17.96it/s]\n",
      "100%|██████████| 144/144 [00:07<00:00, 18.19it/s]\n",
      "100%|██████████| 144/144 [00:07<00:00, 18.24it/s]\n"
     ]
    },
    {
     "data": {
      "application/vnd.plotly.v1+json": {
       "config": {
        "plotlyServerURL": "https://plot.ly",
        "staticPlot": false
       },
       "data": [
        {
         "coloraxis": "coloraxis",
         "hovertemplate": "Head: %{x}<br>Layer: %{y}<br>color: %{z}<extra></extra>",
         "name": "0",
         "type": "heatmap",
         "xaxis": "x",
         "yaxis": "y",
         "z": {
          "bdata": "9LKvuhfMd7rPIO06mqBBvDb91LyTl4G8bvypu9lWtrvkDFw6LOhVO99Jorpp+by5SBqju9GLjzu31qO6tnxFu5iFAbu34k07ygHVug37pjlJwgc73y3yOTR6urkeDME6dZA3OneL4Lryn4S7coFeu5W2Vrou9xk85dUuO44atDvWSXK7l5xpuyxdDbu8rKE5rX+VPa6AWLq5cxy7rehLuwhEaTuxYAQ7Z5DIu2iNH7lEj9Q6Oo4UuyHVKDtomqA6p0hSu6rKH7rtjT+6W/dNPOv3Cbx9hTg668KuO+Z8vDsblI07JOX8ujA78rpi4U27CPaQu8yEdLyedKo6MxIyOqvPCztqfFk+Qs/tu4NyD7pYQ/c8qvHLPAWjW7sP5iU7Rhq3PKYtkjvy7jM6tT3AuomIu7tgFmY71DWjvJ8aj7oc86m75O8TPl/pTbpyjl+7L8Mqux5EFz3wIiO7E6laPi+oUbpapom8XliEO0RhE7qnfa27nV+OPqX6NrsIjTG7HIohu3bH+TqgUPq7LFyXvJOql7kHkbG7MWWTPhJWdzy2F3u7qqOcOJFXiD4C1TU7alEbOwSaCLposnQ76/NyPf8cHL3iYDk8ycGevWVaxj0UBme7BBdGPiBWRzqCAK+6q4jLPbLLIT3h3Jm8olHmusM5mjqirpu5wOUcPamz+r6iehe4+zZvPGt+Cj1/46s7d5i4O3yIYbwbQzW+3HW5Owu5tTpC6x07hgtavQkuKjugc5s8CYuxO3V6m77nV047",
          "dtype": "f4",
          "shape": "12, 12"
         }
        },
        {
         "coloraxis": "coloraxis",
         "hovertemplate": "Head: %{x}<br>Layer: %{y}<br>color: %{z}<extra></extra>",
         "name": "1",
         "type": "heatmap",
         "xaxis": "x2",
         "yaxis": "y2",
         "z": {
          "bdata": "APiOugq/h7wSKv46FtKlPNY2lLxXbX+8WJDZufFDeDuyJXs6hOVqO7QmFT2zMKo6CvIQOYsSnjstjWM4861Du33tQDlnH9Q7gHC3utL66jqwgcQ5+FCUuC5d9DdzI646LYqlO5eEFTv1dV48XiB7OwnSyzoTtcE8bDBCO0lREzlE0ge61WkQPeS16TiPtUC7FZuZPWNTLrtwEay7IIWNO2MDejsDfMM7sGbrOwfjrTwjwdA75AAyOw7lObm7wg66rt2NuigqCDjdfDo6elk0OznSwrse0ie7gR0xvLJZf7pp+Tw8/5bEOvTy3bpxIkK5UkmAu82BdLypzUg6NdDqOsURVbb3sFk+56EWvJJJTTllRfA8S448PUSva7uqOWa6yTqwuvwHJDuchoI6sJexuftgFrtNqYY7zUgyu4MDGzsIwTU6Ms0TPoCn+TpXRXy5/sazty0aHz2uihu7BKHGuVBpgroF1hc8GLzNOlpRl7qQoYE5dPXTO8v6FrvdOzW6cCuuOtHsKzvDRps69hl2PEhuvrmJEAm7tD1KPcrpALv5fAO7oQCiugT1T73B3iY87CBLO2zoULqJmyg8K02gulBOUryqOxQ632GXveH1m7u8nkm71KlTPjObejmN21c7L7IUPrG1Zz3GBPM8uGIGO9s2tDp1sXe4J75gPZ62Er+QCQo619kCu4cINj31ywg8pm1Auxmpsjxh3tO9wmlbvL1QWLly4ii7GsaluqT3Sjqk9vM6XopaPHGs8L78p7C6",
          "dtype": "f4",
          "shape": "12, 12"
         }
        },
        {
         "coloraxis": "coloraxis",
         "hovertemplate": "Head: %{x}<br>Layer: %{y}<br>color: %{z}<extra></extra>",
         "name": "2",
         "type": "heatmap",
         "xaxis": "x3",
         "yaxis": "y3",
         "z": {
          "bdata": "BbifubKRULwUvCO6X6rIPCa4p7vcvFO5lkuluQcHErt3ZN23YQCnOgNBqjzkHfK5yd36Oup7vTvrgYA4W4oHOQM1KTn65vI6OOgvuRJ0bzoc5Si6m1WnOQ/MIzj0zDE6XMzKO6NOPTojoWI8KS2dOyQibbr3MLA8rnNXOhz7FTnGsfY4NhwAPXUorznDdFy7MSczu96Ju7q8Bym79ko8O6nARzexfO06v1SbO/FerTzmIbU7JUszOwYkvTmADES67BkNOxSPXTliWIU6i+WFOzV7z7u+XDC7k4IUvK/Uc7tFJKM7wmNGOtHYPro1HvG4YGSauRll27fQBJm6BZ4duxtdWzpMMfi4Hrglu22vdTocxxG64wjwPKJE5bomwRO6EzgEu+hcOrqCzCq7rxESuQUugDo8nAE6igedvOVkujo1HIq6onoXuJnMGzuA5cC6TUQ8OP1zwToeTh24GwJUOswCwTgaBf25fzGJOzcUirkmNG85gOxVPNy80zhsUNk5dtaoulTNnzaEw9O6PfsdOnecdrmRTHa7CX1ZOzso8znB2/i5UXqYOhDHUb1U5yE6MBDat91vObimu0Y6cq4kuhxWnbsyK0g6X+lNOMH5Hrzxtho6y5lCPGwrhLncMws5KAEuPCu1qDsgTVs6DgNRumU2A7rsrn+0gpemO6M/Pb7EcbO4UNjIuh40GzqWGzY6atyRuf6tCDtpToa8byMEvBiRtbk0fs85lumIu45fkLqhZ9M6VMAeuq/zHb62tt67",
          "dtype": "f4",
          "shape": "12, 12"
         }
        },
        {
         "coloraxis": "coloraxis",
         "hovertemplate": "Head: %{x}<br>Layer: %{y}<br>color: %{z}<extra></extra>",
         "name": "3",
         "type": "heatmap",
         "xaxis": "x4",
         "yaxis": "y4",
         "z": {
          "bdata": "ozQ7uouIULt2JQa65QQ9vFFoyrwp9+q7LFbKuxzEkbsGiLC5Xc7fOap0hDo+lAG7gJTju2XDYDnASoa6UkqpuPffCrvsrv+1PRNyujc7DbvUOZ46cYpKOmS/y7l+TF07RB5gOjfxbbuY25y7Tk4Uu14qvrpMcJY6sLXIuVkxqTt1Yx+7W94ivKlRAbuxRgK6ZV2GutC6JzrmQcw6CcYhu82IYDoq+wS7UIWEu6VlFruedCo1Wn4vu9IVRDtlK2k6rk+Cu5wPS7pQYui6OsY3PJ+8EbxB2Fk6zy2cO3WC3zvoLMu6VTz7unq7+bnhREu78BRLuU4nkTYswqk6kO1Zug2Ksjri3S65GiaZukzJb7o1aGI6l8RDOnCHDLuhPDs729e2PNJMHztNdCu4MUE1uptCkbtZWyy7BggFvSvpfrtUppy7RpaDuA2qSbtOAA67JH5Lu15xBrvIzOS4gPNVPqjWNDpLN8+8OhCfO/B8U7qJqNK7Wd+SPqvbtbmwmAi7uHAwu3z/GLqPhvq7rAfJvEughTkLCTy7rLSMPuI5jTx2t7q6lnB6Op2ehz5wRLC7fzyzuS290jdcn7K7kbZ5PYKQ47xATCU8XmLXOmRf0z3joL66CDjou0mFFzp1Imy7aEgNvffQMrzHGi29rVEruyAmWDmEppO5sCc9vKSDEz2zs4u5dr1uPBeHtLtm6hG7CpcJPHVZFL3XMri9z4DgPPp+6jrK1pM7LuplvdqIOju+XIw8U++2u9RS2z0wvDQ8",
          "dtype": "f4",
          "shape": "12, 12"
         }
        },
        {
         "coloraxis": "coloraxis",
         "hovertemplate": "Head: %{x}<br>Layer: %{y}<br>color: %{z}<extra></extra>",
         "name": "4",
         "type": "heatmap",
         "xaxis": "x5",
         "yaxis": "y5",
         "z": {
          "bdata": "w15vupm9Grs/FN46ST5PuIY03brQKhy8S+6LOkaAaLvz0+85AjA9O3HlUTvAso46tFMtOiAAgztvC+m3kuYwu0ccozme/Ek70t4BuieJDzubOyU6e2pKuCwdsTgTL+q6dhLCOssJ/zqrAxA7iYCmOWSvjLrIxc87sTfTOghg6znKegy7Ibv4O40ei7lCa3o6kkqWPdaHubq40HW72sGqOiwHRDtUM3o74wGJumHduDovTPM6x9+TuuPnBjr5iC05HjAGOqd1ajkM2+E6DMsiO+pwk7uy8yS7b4sMO4bzV7qNKrU7dFSJOO83ubqqcy24keyHu/h/dLyVBN05Y1MuOzvE/znrvVk+NWH2u5VsZToz1uo82rHcPAroTbvA1+O6A7czuthSczpqzeI6NOLCun9fobo3yuo70ZzOu7F9RDsVx/a5WOwTPrTSSzsuBJu6MPbXOQXgIj3ZHB27GQpUulmhb7q9XBE8Z5RdOuZoz7gz9Bo6FqC7PHKqD7tx7j24RlNQOSGhJDvPWd25HcomPBcLFrrgw2m7wZRwPdK10LrucBS79aIFunads7z5oS88sUhpO8v6Frq7oCA8cRXBunQkQ7xnEtM47MaavQUgKLoXSu257F5RPoxc9jbXtz07dncQPvZ8aT1wWO881cAUOpGafDrPvdC35HNXPSHdC7+nuJ0580aSujBfMj3wov87L5gSu/flvjyY+bi96iWsvKY90blKaRW7+HHUOqI35LgpLO86lNw6PFs00L41R/S7",
          "dtype": "f4",
          "shape": "12, 12"
         }
        }
       ],
       "layout": {
        "annotations": [
         {
          "font": {},
          "showarrow": false,
          "text": "Output",
          "x": 0.09200000000000001,
          "xanchor": "center",
          "xref": "paper",
          "y": 1,
          "yanchor": "bottom",
          "yref": "paper"
         },
         {
          "font": {},
          "showarrow": false,
          "text": "Query",
          "x": 0.29600000000000004,
          "xanchor": "center",
          "xref": "paper",
          "y": 1,
          "yanchor": "bottom",
          "yref": "paper"
         },
         {
          "font": {},
          "showarrow": false,
          "text": "Key",
          "x": 0.5,
          "xanchor": "center",
          "xref": "paper",
          "y": 1,
          "yanchor": "bottom",
          "yref": "paper"
         },
         {
          "font": {},
          "showarrow": false,
          "text": "Value",
          "x": 0.7040000000000002,
          "xanchor": "center",
          "xref": "paper",
          "y": 1,
          "yanchor": "bottom",
          "yref": "paper"
         },
         {
          "font": {},
          "showarrow": false,
          "text": "Pattern",
          "x": 0.908,
          "xanchor": "center",
          "xref": "paper",
          "y": 1,
          "yanchor": "bottom",
          "yref": "paper"
         }
        ],
        "coloraxis": {
         "cmid": 0,
         "colorscale": [
          [
           0,
           "rgb(103,0,31)"
          ],
          [
           0.1,
           "rgb(178,24,43)"
          ],
          [
           0.2,
           "rgb(214,96,77)"
          ],
          [
           0.3,
           "rgb(244,165,130)"
          ],
          [
           0.4,
           "rgb(253,219,199)"
          ],
          [
           0.5,
           "rgb(247,247,247)"
          ],
          [
           0.6,
           "rgb(209,229,240)"
          ],
          [
           0.7,
           "rgb(146,197,222)"
          ],
          [
           0.8,
           "rgb(67,147,195)"
          ],
          [
           0.9,
           "rgb(33,102,172)"
          ],
          [
           1,
           "rgb(5,48,97)"
          ]
         ]
        },
        "template": {
         "data": {
          "bar": [
           {
            "error_x": {
             "color": "#2a3f5f"
            },
            "error_y": {
             "color": "#2a3f5f"
            },
            "marker": {
             "line": {
              "color": "#E5ECF6",
              "width": 0.5
             },
             "pattern": {
              "fillmode": "overlay",
              "size": 10,
              "solidity": 0.2
             }
            },
            "type": "bar"
           }
          ],
          "barpolar": [
           {
            "marker": {
             "line": {
              "color": "#E5ECF6",
              "width": 0.5
             },
             "pattern": {
              "fillmode": "overlay",
              "size": 10,
              "solidity": 0.2
             }
            },
            "type": "barpolar"
           }
          ],
          "carpet": [
           {
            "aaxis": {
             "endlinecolor": "#2a3f5f",
             "gridcolor": "white",
             "linecolor": "white",
             "minorgridcolor": "white",
             "startlinecolor": "#2a3f5f"
            },
            "baxis": {
             "endlinecolor": "#2a3f5f",
             "gridcolor": "white",
             "linecolor": "white",
             "minorgridcolor": "white",
             "startlinecolor": "#2a3f5f"
            },
            "type": "carpet"
           }
          ],
          "choropleth": [
           {
            "colorbar": {
             "outlinewidth": 0,
             "ticks": ""
            },
            "type": "choropleth"
           }
          ],
          "contour": [
           {
            "colorbar": {
             "outlinewidth": 0,
             "ticks": ""
            },
            "colorscale": [
             [
              0,
              "#0d0887"
             ],
             [
              0.1111111111111111,
              "#46039f"
             ],
             [
              0.2222222222222222,
              "#7201a8"
             ],
             [
              0.3333333333333333,
              "#9c179e"
             ],
             [
              0.4444444444444444,
              "#bd3786"
             ],
             [
              0.5555555555555556,
              "#d8576b"
             ],
             [
              0.6666666666666666,
              "#ed7953"
             ],
             [
              0.7777777777777778,
              "#fb9f3a"
             ],
             [
              0.8888888888888888,
              "#fdca26"
             ],
             [
              1,
              "#f0f921"
             ]
            ],
            "type": "contour"
           }
          ],
          "contourcarpet": [
           {
            "colorbar": {
             "outlinewidth": 0,
             "ticks": ""
            },
            "type": "contourcarpet"
           }
          ],
          "heatmap": [
           {
            "colorbar": {
             "outlinewidth": 0,
             "ticks": ""
            },
            "colorscale": [
             [
              0,
              "#0d0887"
             ],
             [
              0.1111111111111111,
              "#46039f"
             ],
             [
              0.2222222222222222,
              "#7201a8"
             ],
             [
              0.3333333333333333,
              "#9c179e"
             ],
             [
              0.4444444444444444,
              "#bd3786"
             ],
             [
              0.5555555555555556,
              "#d8576b"
             ],
             [
              0.6666666666666666,
              "#ed7953"
             ],
             [
              0.7777777777777778,
              "#fb9f3a"
             ],
             [
              0.8888888888888888,
              "#fdca26"
             ],
             [
              1,
              "#f0f921"
             ]
            ],
            "type": "heatmap"
           }
          ],
          "histogram": [
           {
            "marker": {
             "pattern": {
              "fillmode": "overlay",
              "size": 10,
              "solidity": 0.2
             }
            },
            "type": "histogram"
           }
          ],
          "histogram2d": [
           {
            "colorbar": {
             "outlinewidth": 0,
             "ticks": ""
            },
            "colorscale": [
             [
              0,
              "#0d0887"
             ],
             [
              0.1111111111111111,
              "#46039f"
             ],
             [
              0.2222222222222222,
              "#7201a8"
             ],
             [
              0.3333333333333333,
              "#9c179e"
             ],
             [
              0.4444444444444444,
              "#bd3786"
             ],
             [
              0.5555555555555556,
              "#d8576b"
             ],
             [
              0.6666666666666666,
              "#ed7953"
             ],
             [
              0.7777777777777778,
              "#fb9f3a"
             ],
             [
              0.8888888888888888,
              "#fdca26"
             ],
             [
              1,
              "#f0f921"
             ]
            ],
            "type": "histogram2d"
           }
          ],
          "histogram2dcontour": [
           {
            "colorbar": {
             "outlinewidth": 0,
             "ticks": ""
            },
            "colorscale": [
             [
              0,
              "#0d0887"
             ],
             [
              0.1111111111111111,
              "#46039f"
             ],
             [
              0.2222222222222222,
              "#7201a8"
             ],
             [
              0.3333333333333333,
              "#9c179e"
             ],
             [
              0.4444444444444444,
              "#bd3786"
             ],
             [
              0.5555555555555556,
              "#d8576b"
             ],
             [
              0.6666666666666666,
              "#ed7953"
             ],
             [
              0.7777777777777778,
              "#fb9f3a"
             ],
             [
              0.8888888888888888,
              "#fdca26"
             ],
             [
              1,
              "#f0f921"
             ]
            ],
            "type": "histogram2dcontour"
           }
          ],
          "mesh3d": [
           {
            "colorbar": {
             "outlinewidth": 0,
             "ticks": ""
            },
            "type": "mesh3d"
           }
          ],
          "parcoords": [
           {
            "line": {
             "colorbar": {
              "outlinewidth": 0,
              "ticks": ""
             }
            },
            "type": "parcoords"
           }
          ],
          "pie": [
           {
            "automargin": true,
            "type": "pie"
           }
          ],
          "scatter": [
           {
            "fillpattern": {
             "fillmode": "overlay",
             "size": 10,
             "solidity": 0.2
            },
            "type": "scatter"
           }
          ],
          "scatter3d": [
           {
            "line": {
             "colorbar": {
              "outlinewidth": 0,
              "ticks": ""
             }
            },
            "marker": {
             "colorbar": {
              "outlinewidth": 0,
              "ticks": ""
             }
            },
            "type": "scatter3d"
           }
          ],
          "scattercarpet": [
           {
            "marker": {
             "colorbar": {
              "outlinewidth": 0,
              "ticks": ""
             }
            },
            "type": "scattercarpet"
           }
          ],
          "scattergeo": [
           {
            "marker": {
             "colorbar": {
              "outlinewidth": 0,
              "ticks": ""
             }
            },
            "type": "scattergeo"
           }
          ],
          "scattergl": [
           {
            "marker": {
             "colorbar": {
              "outlinewidth": 0,
              "ticks": ""
             }
            },
            "type": "scattergl"
           }
          ],
          "scattermap": [
           {
            "marker": {
             "colorbar": {
              "outlinewidth": 0,
              "ticks": ""
             }
            },
            "type": "scattermap"
           }
          ],
          "scattermapbox": [
           {
            "marker": {
             "colorbar": {
              "outlinewidth": 0,
              "ticks": ""
             }
            },
            "type": "scattermapbox"
           }
          ],
          "scatterpolar": [
           {
            "marker": {
             "colorbar": {
              "outlinewidth": 0,
              "ticks": ""
             }
            },
            "type": "scatterpolar"
           }
          ],
          "scatterpolargl": [
           {
            "marker": {
             "colorbar": {
              "outlinewidth": 0,
              "ticks": ""
             }
            },
            "type": "scatterpolargl"
           }
          ],
          "scatterternary": [
           {
            "marker": {
             "colorbar": {
              "outlinewidth": 0,
              "ticks": ""
             }
            },
            "type": "scatterternary"
           }
          ],
          "surface": [
           {
            "colorbar": {
             "outlinewidth": 0,
             "ticks": ""
            },
            "colorscale": [
             [
              0,
              "#0d0887"
             ],
             [
              0.1111111111111111,
              "#46039f"
             ],
             [
              0.2222222222222222,
              "#7201a8"
             ],
             [
              0.3333333333333333,
              "#9c179e"
             ],
             [
              0.4444444444444444,
              "#bd3786"
             ],
             [
              0.5555555555555556,
              "#d8576b"
             ],
             [
              0.6666666666666666,
              "#ed7953"
             ],
             [
              0.7777777777777778,
              "#fb9f3a"
             ],
             [
              0.8888888888888888,
              "#fdca26"
             ],
             [
              1,
              "#f0f921"
             ]
            ],
            "type": "surface"
           }
          ],
          "table": [
           {
            "cells": {
             "fill": {
              "color": "#EBF0F8"
             },
             "line": {
              "color": "white"
             }
            },
            "header": {
             "fill": {
              "color": "#C8D4E3"
             },
             "line": {
              "color": "white"
             }
            },
            "type": "table"
           }
          ]
         },
         "layout": {
          "annotationdefaults": {
           "arrowcolor": "#2a3f5f",
           "arrowhead": 0,
           "arrowwidth": 1
          },
          "autotypenumbers": "strict",
          "coloraxis": {
           "colorbar": {
            "outlinewidth": 0,
            "ticks": ""
           }
          },
          "colorscale": {
           "diverging": [
            [
             0,
             "#8e0152"
            ],
            [
             0.1,
             "#c51b7d"
            ],
            [
             0.2,
             "#de77ae"
            ],
            [
             0.3,
             "#f1b6da"
            ],
            [
             0.4,
             "#fde0ef"
            ],
            [
             0.5,
             "#f7f7f7"
            ],
            [
             0.6,
             "#e6f5d0"
            ],
            [
             0.7,
             "#b8e186"
            ],
            [
             0.8,
             "#7fbc41"
            ],
            [
             0.9,
             "#4d9221"
            ],
            [
             1,
             "#276419"
            ]
           ],
           "sequential": [
            [
             0,
             "#0d0887"
            ],
            [
             0.1111111111111111,
             "#46039f"
            ],
            [
             0.2222222222222222,
             "#7201a8"
            ],
            [
             0.3333333333333333,
             "#9c179e"
            ],
            [
             0.4444444444444444,
             "#bd3786"
            ],
            [
             0.5555555555555556,
             "#d8576b"
            ],
            [
             0.6666666666666666,
             "#ed7953"
            ],
            [
             0.7777777777777778,
             "#fb9f3a"
            ],
            [
             0.8888888888888888,
             "#fdca26"
            ],
            [
             1,
             "#f0f921"
            ]
           ],
           "sequentialminus": [
            [
             0,
             "#0d0887"
            ],
            [
             0.1111111111111111,
             "#46039f"
            ],
            [
             0.2222222222222222,
             "#7201a8"
            ],
            [
             0.3333333333333333,
             "#9c179e"
            ],
            [
             0.4444444444444444,
             "#bd3786"
            ],
            [
             0.5555555555555556,
             "#d8576b"
            ],
            [
             0.6666666666666666,
             "#ed7953"
            ],
            [
             0.7777777777777778,
             "#fb9f3a"
            ],
            [
             0.8888888888888888,
             "#fdca26"
            ],
            [
             1,
             "#f0f921"
            ]
           ]
          },
          "colorway": [
           "#636efa",
           "#EF553B",
           "#00cc96",
           "#ab63fa",
           "#FFA15A",
           "#19d3f3",
           "#FF6692",
           "#B6E880",
           "#FF97FF",
           "#FECB52"
          ],
          "font": {
           "color": "#2a3f5f"
          },
          "geo": {
           "bgcolor": "white",
           "lakecolor": "white",
           "landcolor": "#E5ECF6",
           "showlakes": true,
           "showland": true,
           "subunitcolor": "white"
          },
          "hoverlabel": {
           "align": "left"
          },
          "hovermode": "closest",
          "mapbox": {
           "style": "light"
          },
          "paper_bgcolor": "white",
          "plot_bgcolor": "#E5ECF6",
          "polar": {
           "angularaxis": {
            "gridcolor": "white",
            "linecolor": "white",
            "ticks": ""
           },
           "bgcolor": "#E5ECF6",
           "radialaxis": {
            "gridcolor": "white",
            "linecolor": "white",
            "ticks": ""
           }
          },
          "scene": {
           "xaxis": {
            "backgroundcolor": "#E5ECF6",
            "gridcolor": "white",
            "gridwidth": 2,
            "linecolor": "white",
            "showbackground": true,
            "ticks": "",
            "zerolinecolor": "white"
           },
           "yaxis": {
            "backgroundcolor": "#E5ECF6",
            "gridcolor": "white",
            "gridwidth": 2,
            "linecolor": "white",
            "showbackground": true,
            "ticks": "",
            "zerolinecolor": "white"
           },
           "zaxis": {
            "backgroundcolor": "#E5ECF6",
            "gridcolor": "white",
            "gridwidth": 2,
            "linecolor": "white",
            "showbackground": true,
            "ticks": "",
            "zerolinecolor": "white"
           }
          },
          "shapedefaults": {
           "line": {
            "color": "#2a3f5f"
           }
          },
          "ternary": {
           "aaxis": {
            "gridcolor": "white",
            "linecolor": "white",
            "ticks": ""
           },
           "baxis": {
            "gridcolor": "white",
            "linecolor": "white",
            "ticks": ""
           },
           "bgcolor": "#E5ECF6",
           "caxis": {
            "gridcolor": "white",
            "linecolor": "white",
            "ticks": ""
           }
          },
          "title": {
           "x": 0.05
          },
          "xaxis": {
           "automargin": true,
           "gridcolor": "white",
           "linecolor": "white",
           "ticks": "",
           "title": {
            "standoff": 15
           },
           "zerolinecolor": "white",
           "zerolinewidth": 2
          },
          "yaxis": {
           "automargin": true,
           "gridcolor": "white",
           "linecolor": "white",
           "ticks": "",
           "title": {
            "standoff": 15
           },
           "zerolinecolor": "white",
           "zerolinewidth": 2
          }
         }
        },
        "title": {
         "text": "Activation Patching Per Head (All Pos)"
        },
        "width": 1200,
        "xaxis": {
         "anchor": "y",
         "constrain": "domain",
         "domain": [
          0,
          0.18400000000000002
         ],
         "scaleanchor": "y",
         "title": {
          "text": "Head"
         }
        },
        "xaxis2": {
         "anchor": "y2",
         "domain": [
          0.20400000000000001,
          0.388
         ],
         "matches": "x",
         "title": {
          "text": "Head"
         }
        },
        "xaxis3": {
         "anchor": "y3",
         "domain": [
          0.40800000000000003,
          0.5920000000000001
         ],
         "matches": "x",
         "title": {
          "text": "Head"
         }
        },
        "xaxis4": {
         "anchor": "y4",
         "domain": [
          0.6120000000000001,
          0.7960000000000002
         ],
         "matches": "x",
         "title": {
          "text": "Head"
         }
        },
        "xaxis5": {
         "anchor": "y5",
         "domain": [
          0.8160000000000001,
          1
         ],
         "matches": "x",
         "title": {
          "text": "Head"
         }
        },
        "yaxis": {
         "anchor": "x",
         "autorange": "reversed",
         "constrain": "domain",
         "domain": [
          0,
          1
         ],
         "title": {
          "text": "Layer"
         }
        },
        "yaxis2": {
         "anchor": "x2",
         "domain": [
          0,
          1
         ],
         "matches": "y",
         "showticklabels": false
        },
        "yaxis3": {
         "anchor": "x3",
         "domain": [
          0,
          1
         ],
         "matches": "y",
         "showticklabels": false
        },
        "yaxis4": {
         "anchor": "x4",
         "domain": [
          0,
          1
         ],
         "matches": "y",
         "showticklabels": false
        },
        "yaxis5": {
         "anchor": "x5",
         "domain": [
          0,
          1
         ],
         "matches": "y",
         "showticklabels": false
        }
       }
      }
     },
     "metadata": {},
     "output_type": "display_data"
    }
   ],
   "source": [
    "act_patch_attn_head_all_pos_every = patching.get_act_patch_attn_head_all_pos_every(\n",
    "    model, corrupted_tokens, clean_cache, ioi_metric\n",
    ")\n",
    "\n",
    "imshow(\n",
    "    act_patch_attn_head_all_pos_every,\n",
    "    facet_col=0,\n",
    "    facet_labels=['Output', 'Query', 'Key', 'Value', 'Pattern'],\n",
    "    title='Activation Patching Per Head (All Pos)',\n",
    "    labels={'x': 'Head', 'y': 'Layer'},\n",
    "    width=1200,\n",
    ")"
   ]
  },
  {
   "cell_type": "code",
   "execution_count": 131,
   "id": "73484991",
   "metadata": {},
   "outputs": [
    {
     "data": {
      "text/html": [
       "<h2>Top 4 Logit Attribution Heads (from value-patching)</h2>"
      ],
      "text/plain": [
       "<IPython.core.display.HTML object>"
      ]
     },
     "metadata": {},
     "output_type": "display_data"
    },
    {
     "data": {
      "text/html": [
       "<div id=\"circuits-vis-10f2a1d3-160a\" style=\"margin: 15px 0;\"/>\n",
       "    <script crossorigin type=\"module\">\n",
       "    import { render, AttentionPatterns } from \"https://unpkg.com/circuitsvis@1.43.3/dist/cdn/esm.js\";\n",
       "    render(\n",
       "      \"circuits-vis-10f2a1d3-160a\",\n",
       "      AttentionPatterns,\n",
       "      {\"tokens\": [\"<|endoftext|>\", \"Once\", \" Mark\", \" &\", \" Cherry\", \" met\", \" at\", \" le\", \" ball\", \"!\", \" \", \" Cherry\", \" asked\", \" a\", \" dance\", \" from\"], \"attention\": [[[1.0, 0.0, 0.0, 0.0, 0.0, 0.0, 0.0, 0.0, 0.0, 0.0, 0.0, 0.0, 0.0, 0.0, 0.0, 0.0], [0.9913595914840698, 0.008640367537736893, 0.0, 0.0, 0.0, 0.0, 0.0, 0.0, 0.0, 0.0, 0.0, 0.0, 0.0, 0.0, 0.0, 0.0], [0.9649220108985901, 0.024820484220981598, 0.010257426649332047, 0.0, 0.0, 0.0, 0.0, 0.0, 0.0, 0.0, 0.0, 0.0, 0.0, 0.0, 0.0, 0.0], [0.8721195459365845, 0.025545531883835793, 0.09639745205640793, 0.005937486886978149, 0.0, 0.0, 0.0, 0.0, 0.0, 0.0, 0.0, 0.0, 0.0, 0.0, 0.0, 0.0], [0.9125453233718872, 0.07237525284290314, 0.008419746533036232, 0.004320476204156876, 0.002339181024581194, 0.0, 0.0, 0.0, 0.0, 0.0, 0.0, 0.0, 0.0, 0.0, 0.0, 0.0], [0.771210253238678, 0.11263684928417206, 0.025896184146404266, 0.01166142150759697, 0.021712854504585266, 0.056882377713918686, 0.0, 0.0, 0.0, 0.0, 0.0, 0.0, 0.0, 0.0, 0.0, 0.0], [0.7826252579689026, 0.06945838034152985, 0.018511537462472916, 0.0064052073284983635, 0.011244119144976139, 0.05678557604551315, 0.054969947785139084, 0.0, 0.0, 0.0, 0.0, 0.0, 0.0, 0.0, 0.0, 0.0], [0.9561540484428406, 0.004481221549212933, 0.0011992795625701547, 0.0007302692392840981, 0.0017135507659986615, 0.01160736009478569, 0.02165163867175579, 0.0024625954683870077, 0.0, 0.0, 0.0, 0.0, 0.0, 0.0, 0.0, 0.0], [0.7853855490684509, 0.035519376397132874, 0.008372996002435684, 0.004156663082540035, 0.002302829409018159, 0.03464987128973007, 0.08228817582130432, 0.014472084119915962, 0.03285248577594757, 0.0, 0.0, 0.0, 0.0, 0.0, 0.0, 0.0], [0.6452090740203857, 0.03328756242990494, 0.03403386101126671, 0.007702305447310209, 0.01764531619846821, 0.053513914346694946, 0.03755829483270645, 0.011267601512372494, 0.021164335310459137, 0.13861775398254395, 0.0, 0.0, 0.0, 0.0, 0.0, 0.0], [0.9456096291542053, 0.003132358891889453, 0.002452984219416976, 0.0012976694852113724, 0.0011013704352080822, 0.006849384400993586, 0.00444721058011055, 0.00028607016429305077, 0.0018410241464152932, 0.02813262678682804, 0.004849674645811319, 0.0, 0.0, 0.0, 0.0, 0.0], [0.8054438829421997, 0.0032225821632891893, 0.0010694453958421946, 0.0019243264105170965, 0.0015444449381902814, 0.00699416920542717, 0.0077623422257602215, 0.0016750518698245287, 0.00447121262550354, 0.10793902724981308, 0.03420199826359749, 0.0237515140324831, 0.0, 0.0, 0.0, 0.0], [0.5324333310127258, 0.015647292137145996, 0.005610689986497164, 0.0021062823943793774, 0.004653899930417538, 0.004936933983117342, 0.011103929951786995, 0.003745990339666605, 0.0031543949153274298, 0.17936041951179504, 0.05040817707777023, 0.15026462078094482, 0.03657405823469162, 0.0, 0.0, 0.0], [0.5711501836776733, 0.012524955905973911, 0.002932528266683221, 0.0010892024729400873, 0.0016668220050632954, 0.010467106476426125, 0.010480454191565514, 0.003348046448081732, 0.005364329554140568, 0.17011961340904236, 0.04162194952368736, 0.0589185431599617, 0.09519443660974503, 0.015121806412935257, 0.0, 0.0], [0.6884615421295166, 0.004705014172941446, 0.00259802071377635, 0.0016213441267609596, 0.0011632726527750492, 0.004688303917646408, 0.009020902216434479, 0.0019921865314245224, 0.003597773378714919, 0.09933283179998398, 0.025068460032343864, 0.027489017695188522, 0.06806676834821701, 0.04130754619836807, 0.020886972546577454, 0.0], [0.2724674642086029, 0.011760512366890907, 0.03243911638855934, 0.007542381528764963, 0.008886709809303284, 0.00590523611754179, 0.005517897661775351, 0.006925484165549278, 0.003117387881502509, 0.1102704331278801, 0.01731504127383232, 0.3014119565486908, 0.15808117389678955, 0.039880722761154175, 0.011907010339200497, 0.006571508012712002]], [[1.0, 0.0, 0.0, 0.0, 0.0, 0.0, 0.0, 0.0, 0.0, 0.0, 0.0, 0.0, 0.0, 0.0, 0.0, 0.0], [0.997316837310791, 0.0026831275317817926, 0.0, 0.0, 0.0, 0.0, 0.0, 0.0, 0.0, 0.0, 0.0, 0.0, 0.0, 0.0, 0.0, 0.0], [0.9778212308883667, 0.007180722896009684, 0.014998083934187889, 0.0, 0.0, 0.0, 0.0, 0.0, 0.0, 0.0, 0.0, 0.0, 0.0, 0.0, 0.0, 0.0], [0.12746089696884155, 0.023913491517305374, 0.7905994653701782, 0.058026205748319626, 0.0, 0.0, 0.0, 0.0, 0.0, 0.0, 0.0, 0.0, 0.0, 0.0, 0.0, 0.0], [0.643569827079773, 0.006105923093855381, 0.08974616229534149, 0.24446456134319305, 0.016113515943288803, 0.0, 0.0, 0.0, 0.0, 0.0, 0.0, 0.0, 0.0, 0.0, 0.0, 0.0], [0.9492919445037842, 0.0021770263556391, 0.02399730682373047, 0.008935099467635155, 0.009278230369091034, 0.006320387125015259, 0.0, 0.0, 0.0, 0.0, 0.0, 0.0, 0.0, 0.0, 0.0, 0.0], [0.8914907574653625, 0.007759012281894684, 0.028148449957370758, 0.013194689527153969, 0.020277947187423706, 0.012956623919308186, 0.026172488927841187, 0.0, 0.0, 0.0, 0.0, 0.0, 0.0, 0.0, 0.0, 0.0], [0.9481775760650635, 0.0029009347781538963, 0.005332316271960735, 0.003559853183105588, 0.0032071485184133053, 0.0034129461273550987, 0.005576401017606258, 0.02783283032476902, 0.0, 0.0, 0.0, 0.0, 0.0, 0.0, 0.0, 0.0], [0.8737267255783081, 0.005668530240654945, 0.010315647348761559, 0.026929527521133423, 0.0005577676929533482, 0.007346678525209427, 0.009551173076033592, 0.037131503224372864, 0.028772462159395218, 0.0, 0.0, 0.0, 0.0, 0.0, 0.0, 0.0], [0.5859063267707825, 0.05265863612294197, 0.0637548491358757, 0.03136772662401199, 0.00728283915668726, 0.04271576553583145, 0.0712614506483078, 0.03293643519282341, 0.006189246661961079, 0.10592677444219589, 0.0, 0.0, 0.0, 0.0, 0.0, 0.0], [0.7989980578422546, 0.028013106435537338, 0.0236017145216465, 0.006969806272536516, 0.0022874893620610237, 0.0071444339118897915, 0.015093512833118439, 0.009781661443412304, 0.013295818120241165, 0.03660060837864876, 0.05821385234594345, 0.0, 0.0, 0.0, 0.0, 0.0], [0.7297652959823608, 0.012121027335524559, 0.01316401269286871, 0.06424611806869507, 0.009618020616471767, 0.02568577229976654, 0.04203811287879944, 0.00653022900223732, 0.009755278937518597, 0.03945769742131233, 0.009482999332249165, 0.03813544660806656, 0.0, 0.0, 0.0, 0.0], [0.695704460144043, 0.003980637993663549, 0.03963885456323624, 0.0032721715979278088, 0.014055043458938599, 0.004893657751381397, 0.018008537590503693, 0.04201198369264603, 0.007874071598052979, 0.009388572536408901, 0.0042229644022881985, 0.14782783389091492, 0.009121198207139969, 0.0, 0.0, 0.0], [0.9102542400360107, 0.0013713850639760494, 0.004973800387233496, 0.0008578142151236534, 0.005152094177901745, 0.0012072490062564611, 0.004127307794988155, 0.009814566001296043, 0.0072567397728562355, 0.004547792952507734, 0.0005113842198625207, 0.03276201710104942, 0.0035015626344829798, 0.013662036508321762, 0.0, 0.0], [0.8703553676605225, 0.0007045168895274401, 0.004492373205721378, 0.004055346362292767, 0.0012899658177047968, 0.004344569519162178, 0.009791933931410313, 0.003514559008181095, 0.008576234802603722, 0.015175431966781616, 0.0007229533512145281, 0.008534006774425507, 0.010132072493433952, 0.015694864094257355, 0.042615801095962524, 0.0], [0.4417939782142639, 0.0012176490854471922, 0.09154611825942993, 0.026267021894454956, 0.09481070935726166, 0.0018204681109637022, 0.0024472444783896208, 0.05070538818836212, 0.008321709930896759, 0.008922019973397255, 0.000833772006444633, 0.2342900037765503, 0.01254800520837307, 0.00955209881067276, 0.0068597011268138885, 0.00806412287056446]], [[1.0, 0.0, 0.0, 0.0, 0.0, 0.0, 0.0, 0.0, 0.0, 0.0, 0.0, 0.0, 0.0, 0.0, 0.0, 0.0], [0.989270806312561, 0.010729197412729263, 0.0, 0.0, 0.0, 0.0, 0.0, 0.0, 0.0, 0.0, 0.0, 0.0, 0.0, 0.0, 0.0, 0.0], [0.9634908437728882, 0.008203652687370777, 0.0283054206520319, 0.0, 0.0, 0.0, 0.0, 0.0, 0.0, 0.0, 0.0, 0.0, 0.0, 0.0, 0.0, 0.0], [0.8335645794868469, 0.01431997399777174, 0.10058927536010742, 0.05152614787220955, 0.0, 0.0, 0.0, 0.0, 0.0, 0.0, 0.0, 0.0, 0.0, 0.0, 0.0, 0.0], [0.8605072498321533, 0.0170888788998127, 0.03612670674920082, 0.030746202915906906, 0.05553096532821655, 0.0, 0.0, 0.0, 0.0, 0.0, 0.0, 0.0, 0.0, 0.0, 0.0, 0.0], [0.8296922445297241, 0.02145533263683319, 0.041163332760334015, 0.015990525484085083, 0.02519313618540764, 0.06650546193122864, 0.0, 0.0, 0.0, 0.0, 0.0, 0.0, 0.0, 0.0, 0.0, 0.0], [0.6815279126167297, 0.027118835598230362, 0.04364499822258949, 0.01924017257988453, 0.026295185089111328, 0.04915754497051239, 0.1530153751373291, 0.0, 0.0, 0.0, 0.0, 0.0, 0.0, 0.0, 0.0, 0.0], [0.9384744763374329, 0.0032636416144669056, 0.0037790134083479643, 0.003032383508980274, 0.007095207925885916, 0.006151992827653885, 0.02567191608250141, 0.012531415559351444, 0.0, 0.0, 0.0, 0.0, 0.0, 0.0, 0.0, 0.0], [0.7815086841583252, 0.01610719971358776, 0.009784694761037827, 0.011775330640375614, 0.008323720656335354, 0.020619740709662437, 0.053457796573638916, 0.019864067435264587, 0.07855876535177231, 0.0, 0.0, 0.0, 0.0, 0.0, 0.0, 0.0], [0.6043993234634399, 0.04236343502998352, 0.04327913373708725, 0.023392245173454285, 0.02890186384320259, 0.04517797753214836, 0.03288206458091736, 0.01358768343925476, 0.017205266281962395, 0.14881110191345215, 0.0, 0.0, 0.0, 0.0, 0.0, 0.0], [0.8430927991867065, 0.016663162037730217, 0.010825537145137787, 0.002176262903958559, 0.009387608617544174, 0.011429849080741405, 0.008098582737147808, 0.0029428331181406975, 0.00617070822045207, 0.03150084614753723, 0.05771167576313019, 0.0, 0.0, 0.0, 0.0, 0.0], [0.7675940990447998, 0.005928104743361473, 0.00801144726574421, 0.02120015025138855, 0.012695308774709702, 0.04212750494480133, 0.031320977956056595, 0.004638641141355038, 0.008402070961892605, 0.04360922425985336, 0.010186265222728252, 0.04428622126579285, 0.0, 0.0, 0.0, 0.0], [0.6138580441474915, 0.01258857548236847, 0.02789260447025299, 0.02341926097869873, 0.020536312833428383, 0.01692548766732216, 0.026655443012714386, 0.013035178184509277, 0.011408866383135319, 0.05426567792892456, 0.016846610233187675, 0.12233866751194, 0.040229279547929764, 0.0, 0.0, 0.0], [0.7040252685546875, 0.006708079017698765, 0.01294492743909359, 0.006397459656000137, 0.013640901073813438, 0.010729536414146423, 0.01965184509754181, 0.010998799465596676, 0.023799486458301544, 0.04735158383846283, 0.007409950252622366, 0.04463750123977661, 0.027865994721651077, 0.06383870542049408, 0.0, 0.0], [0.7450473308563232, 0.004302364774048328, 0.005133482161909342, 0.006003727205097675, 0.005026743747293949, 0.012623392045497894, 0.02789926901459694, 0.004286798648536205, 0.010889740660786629, 0.03504549339413643, 0.006283032242208719, 0.017860708758234978, 0.021710680797696114, 0.032549142837524414, 0.06533810496330261, 0.0], [0.5044696927070618, 0.007169271819293499, 0.05121537670493126, 0.02862381748855114, 0.05171256884932518, 0.01675689034163952, 0.030806224793195724, 0.014992767944931984, 0.008174904622137547, 0.036930374801158905, 0.004992899019271135, 0.13655072450637817, 0.026716623455286026, 0.022328482940793037, 0.015582619234919548, 0.04297679662704468]], [[1.0, 0.0, 0.0, 0.0, 0.0, 0.0, 0.0, 0.0, 0.0, 0.0, 0.0, 0.0, 0.0, 0.0, 0.0, 0.0], [0.983017086982727, 0.01698288880288601, 0.0, 0.0, 0.0, 0.0, 0.0, 0.0, 0.0, 0.0, 0.0, 0.0, 0.0, 0.0, 0.0, 0.0], [0.9675865173339844, 0.016726089641451836, 0.015687420964241028, 0.0, 0.0, 0.0, 0.0, 0.0, 0.0, 0.0, 0.0, 0.0, 0.0, 0.0, 0.0, 0.0], [0.8836908340454102, 0.01272645778954029, 0.07189100980758667, 0.03169170767068863, 0.0, 0.0, 0.0, 0.0, 0.0, 0.0, 0.0, 0.0, 0.0, 0.0, 0.0, 0.0], [0.8957005739212036, 0.038461752235889435, 0.015521309338510036, 0.021910199895501137, 0.02840612642467022, 0.0, 0.0, 0.0, 0.0, 0.0, 0.0, 0.0, 0.0, 0.0, 0.0, 0.0], [0.6995059847831726, 0.07948656380176544, 0.05248589813709259, 0.03902623802423477, 0.05492345988750458, 0.07457183301448822, 0.0, 0.0, 0.0, 0.0, 0.0, 0.0, 0.0, 0.0, 0.0, 0.0], [0.6868411898612976, 0.08077479898929596, 0.022376539185643196, 0.013139483518898487, 0.032033368945121765, 0.10838709771633148, 0.05644752085208893, 0.0, 0.0, 0.0, 0.0, 0.0, 0.0, 0.0, 0.0, 0.0], [0.9361999034881592, 0.0036640006583184004, 0.002769316779449582, 0.002862717490643263, 0.010921215638518333, 0.02489936724305153, 0.011170600540935993, 0.007512845564633608, 0.0, 0.0, 0.0, 0.0, 0.0, 0.0, 0.0, 0.0], [0.7432803511619568, 0.03595738112926483, 0.009907321073114872, 0.01284097507596016, 0.014787808060646057, 0.030221562832593918, 0.058443959802389145, 0.04060957580804825, 0.05395107716321945, 0.0, 0.0, 0.0, 0.0, 0.0, 0.0, 0.0], [0.5290894508361816, 0.03219785913825035, 0.03342742472887039, 0.00937562994658947, 0.03469707816839218, 0.07555550336837769, 0.13267947733402252, 0.01798412576317787, 0.07585038244724274, 0.059143126010894775, 0.0, 0.0, 0.0, 0.0, 0.0, 0.0], [0.8672203421592712, 0.00523457070812583, 0.007164746522903442, 0.004412711597979069, 0.009017414413392544, 0.013935479335486889, 0.00889541395008564, 0.005158004350960255, 0.032239995896816254, 0.032966673374176025, 0.013754639774560928, 0.0, 0.0, 0.0, 0.0, 0.0], [0.8650652170181274, 0.0033839051611721516, 0.0031429885420948267, 0.008998199366033077, 0.005604716949164867, 0.013460243120789528, 0.009047037921845913, 0.004981519654393196, 0.012431721203029156, 0.032302454113960266, 0.01680954173207283, 0.02477247640490532, 0.0, 0.0, 0.0, 0.0], [0.608270525932312, 0.021279746666550636, 0.018592126667499542, 0.00801699236035347, 0.012858428061008453, 0.010339229367673397, 0.009923072531819344, 0.010305524803698063, 0.014840103685855865, 0.033667292445898056, 0.013634933158755302, 0.11113353073596954, 0.1271384358406067, 0.0, 0.0, 0.0], [0.6571208238601685, 0.010904001072049141, 0.006132223643362522, 0.004831976722925901, 0.0058128200471401215, 0.011255547404289246, 0.009058346971869469, 0.005316426046192646, 0.014872942119836807, 0.05175058916211128, 0.0069695934653282166, 0.0412815660238266, 0.13818444311618805, 0.03650873899459839, 0.0, 0.0], [0.7538766860961914, 0.002924242988228798, 0.0027088746428489685, 0.0024240135680884123, 0.004317368846386671, 0.010060759261250496, 0.009415597654879093, 0.0030536220874637365, 0.00808609277009964, 0.022284097969532013, 0.005461009219288826, 0.018941041082143784, 0.07693083584308624, 0.03912745416164398, 0.04038829728960991, 0.0], [0.3399461507797241, 0.006459896452724934, 0.02622605860233307, 0.005949920509010553, 0.02006455510854721, 0.014502436853945255, 0.006720311939716339, 0.005968722514808178, 0.011246910318732262, 0.03304099291563034, 0.004219869617372751, 0.15018871426582336, 0.30983537435531616, 0.03306564316153526, 0.02398146688938141, 0.008583035320043564]]]}\n",
       "    )\n",
       "    </script>"
      ],
      "text/plain": [
       "<circuitsvis.utils.render.RenderedHTML at 0x320d45250>"
      ]
     },
     "metadata": {},
     "output_type": "display_data"
    }
   ],
   "source": [
    "def topk_of_Nd_tensor(tensor, k):\n",
    "    i = torch.topk(tensor.flatten(), k).indices\n",
    "    return np.array(np.unravel_index(utils.to_numpy(i), tensor.shape)).T.tolist()\n",
    "\n",
    "\n",
    "# get heads with largest value patching\n",
    "# from plot above, these are the 4 heads in layers 7 and 8\n",
    "k = 4\n",
    "top_heads = topk_of_Nd_tensor(act_patch_attn_head_all_pos_every[3], k=k)\n",
    "\n",
    "# get all their attention patterns\n",
    "attn_patterns_for_important_heads = torch.stack([\n",
    "    clean_cache['pattern', layer][:, head].mean(0)\n",
    "        for layer, head in top_heads\n",
    "])\n",
    "\n",
    "# display results\n",
    "display(HTML(f'<h2>Top {k} Logit Attribution Heads (from value-patching)</h2>'))\n",
    "display(cv.attention.attention_patterns(\n",
    "    attention = attn_patterns_for_important_heads,\n",
    "    tokens = model.to_str_tokens(tokens[0]),\n",
    "))"
   ]
  },
  {
   "cell_type": "markdown",
   "id": "1f16c642",
   "metadata": {},
   "source": [
    "# Sources\n",
    "\n",
    "1. [Ground truth - Arena::Activation Patching](https://arena-chapter1-transformer-interp.streamlit.app/[1.4.1]_Indirect_Object_Identification#keeping-track-of-your-guesses-predictions)\n",
    "2. [Locating and Editing Factual Associations in GPT, by Meng, K, et. al.](https://arxiv.org/pdf/2202.05262)\n",
    "3. [A Mathematical Framework for Transformer Circuits, by Chris Olah, Neel Nanda, et. al.](https://transformer-circuits.pub/2021/framework/index.html)\n",
    "4. [Neel Nanda's walkthrough of Mathematica Framework](https://www.youtube.com/watch?v=KV5gbOmHbjU)"
   ]
  }
 ],
 "metadata": {
  "kernelspec": {
   "display_name": ".venv",
   "language": "python",
   "name": "python3"
  },
  "language_info": {
   "codemirror_mode": {
    "name": "ipython",
    "version": 3
   },
   "file_extension": ".py",
   "mimetype": "text/x-python",
   "name": "python",
   "nbconvert_exporter": "python",
   "pygments_lexer": "ipython3",
   "version": "3.12.2"
  }
 },
 "nbformat": 4,
 "nbformat_minor": 5
}
